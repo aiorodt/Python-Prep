{
 "cells": [
  {
   "attachments": {},
   "cell_type": "markdown",
   "metadata": {},
   "source": [
    "Este es un archivo de prueba, sin actividades =) .\n",
    "\n",
    "A partir del próximo módulo: M03_variablesydatos vas a tener actividades para realizar."
   ]
  },
  {
   "cell_type": "code",
   "execution_count": null,
   "metadata": {},
   "outputs": [
    {
     "name": "stdout",
     "output_type": "stream",
     "text": [
      "Hola Mundo!\n",
      "5\n",
      "4\n",
      "3\n",
      "2\n",
      "1\n",
      "hola como estas tu amor\n",
      "3\n",
      "2\n",
      "1\n",
      "Digamos que ya sabes algo de programar en este planeta, ya sabes medio calcular tiempo y eso es importante\n",
      "6\n",
      "4\n",
      "2\n"
     ]
    }
   ],
   "source": [
    "print('Hola Mundo!')\n",
    "a = 20\n",
    "while a > 0:\n",
    "    \n",
    "    print(a)\n",
    "    a -= 1\n",
    "print(\"hola como estas tu amor\")\n",
    "b=3\n",
    "while b > 0:\n",
    "    print(b)\n",
    "    b -=1\n",
    "print(\"Digamos que ya sabes algo de programar en este planeta, ya sabes medio calcular tiempo y eso es importante\")\n",
    "c=6\n",
    "while c > 0:\n",
    "    print(c)\n",
    "    c -=2"
   ]
  }
 ],
 "metadata": {
  "kernelspec": {
   "display_name": "Python 3",
   "language": "python",
   "name": "python3"
  },
  "language_info": {
   "codemirror_mode": {
    "name": "ipython",
    "version": 3
   },
   "file_extension": ".py",
   "mimetype": "text/x-python",
   "name": "python",
   "nbconvert_exporter": "python",
   "pygments_lexer": "ipython3",
   "version": "3.13.5"
  },
  "orig_nbformat": 4
 },
 "nbformat": 4,
 "nbformat_minor": 2
}
