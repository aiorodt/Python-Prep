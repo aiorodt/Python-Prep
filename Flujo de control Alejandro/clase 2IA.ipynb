{
 "cells": [
  {
   "cell_type": "code",
   "execution_count": 12,
   "id": "52a2abbd",
   "metadata": {},
   "outputs": [
    {
     "name": "stdout",
     "output_type": "stream",
     "text": [
      "Lista vacia:[]\n",
      "numeros:[1, 2, 3, 4, 5, 6]\n",
      "los nombres de los invitados son:['mare', 'eli', 'pao', 'ale', 'daniel']\n",
      "Lista mezclada:[True, 2015, 'alejandro', 1.3, ['otra lista', 2025]]\n",
      "lista de letras:['M', 'a', 'r', 'e', 'l', 'i', 'b', 'e', 't', 'h', ' ', 't', 'e', ' ', 'q', 'u', 'i', 'e', 'r', 'o']\n"
     ]
    }
   ],
   "source": [
    "#Creaciones de lista\n",
    "\n",
    "#lista vacia\n",
    "lista_vacia=[]\n",
    "print(f\"Lista vacia:{lista_vacia}\")\n",
    "\n",
    "#Lista numero entero\n",
    "numero=[1,2,3,4,5,6]\n",
    "print(f\"numeros:{numero}\")\n",
    "\n",
    "#lista de cadena de texto (nombres)\n",
    "nombres=[\"mare\",\"eli\", \"pao\", \"ale\",\"daniel\"]\n",
    "print(f\"los nombres de los invitados son:{nombres}\")\n",
    "\n",
    "# Lista que mezcla diferentes tipos de datos: \n",
    "# Lista dentro de otra\n",
    "mezcla=[True,2015,\"alejandro\",1.3,[\"otra lista\",2025]]\n",
    "print(f\"Lista mezclada:{mezcla}\")\n",
    "\n",
    "#Creación de lista a partir de un iterable (ej. una cadena)\n",
    "letras=list(\"Marelibeth te quiero\")\n",
    "print(f\"lista de letras:{letras}\")\n"
   ]
  },
  {
   "cell_type": "code",
   "execution_count": 20,
   "id": "8b8f5f5b",
   "metadata": {},
   "outputs": [
    {
     "name": "stdout",
     "output_type": "stream",
     "text": [
      "primera fruta:manzana\n",
      "la tercera fruta es:limon\n",
      "la ultima fruta es:melocoton\n",
      "La penultima fruta es:mango\n",
      "Datos complejo:uva\n"
     ]
    }
   ],
   "source": [
    "#Acceso indexadoa elementos (Indexación)\n",
    "#0 indica el primer elemento, -1 al ultimo \n",
    "frutas=[\"manzana\",\"uva\",\"limon\",\"cereza\",\"mango\",\"melocoton\"]\n",
    "\n",
    "#Acceder al primer elemento\n",
    "print(f\"primera fruta:{frutas[0]}\")\n",
    "\n",
    "#Acceder al tercer elemento \n",
    "print(f\"la tercera fruta es:{frutas[2]}\")\n",
    "\n",
    "#Acceder al ultimo elemento usando (-1)\n",
    "print(f\"la ultima fruta es:{frutas[-1]}\")\n",
    "\n",
    "#Accederal penultimo elemento usado (-2)\n",
    "print(f\"La penultima fruta es:{frutas[-2]}\")\n",
    "\n",
    "#Datos complejo\n",
    "datos_complejos=[\"mango\",10,[30,50,\"uva\"],\"25\"]\n",
    "print(f\"Datos complejo:{datos_complejos[2][-1]}\")"
   ]
  }
 ],
 "metadata": {
  "kernelspec": {
   "display_name": "Python 3",
   "language": "python",
   "name": "python3"
  },
  "language_info": {
   "codemirror_mode": {
    "name": "ipython",
    "version": 3
   },
   "file_extension": ".py",
   "mimetype": "text/x-python",
   "name": "python",
   "nbconvert_exporter": "python",
   "pygments_lexer": "ipython3",
   "version": "3.13.5"
  }
 },
 "nbformat": 4,
 "nbformat_minor": 5
}
