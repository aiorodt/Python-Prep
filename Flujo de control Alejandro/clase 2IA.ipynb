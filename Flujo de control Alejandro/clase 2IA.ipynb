{
 "cells": [
  {
   "cell_type": "code",
   "execution_count": 16,
   "id": "52a2abbd",
   "metadata": {},
   "outputs": [
    {
     "name": "stdout",
     "output_type": "stream",
     "text": [
      "Lista vacia:[]\n",
      "numeros:[1, 2, 3, 4, 5, 6]\n",
      "los nombres de los invitados son:['mare', 'eli', 'pao', 'ale', 'daniel']\n",
      "Lista mezclada:[True, 2015, 'alejandro', 1.3, ['otra lista', 2025]]\n",
      "lista de letras:['M', 'a', 'r', 'e', 'l', 'i', 'b', 'e', 't', 'h', ' ', 't', 'e', ' ', 'q', 'u', 'i', 'e', 'r', 'o']\n"
     ]
    }
   ],
   "source": [
    "#Creaciones de lista\n",
    "\n",
    "#lista vacia\n",
    "lista_vacia=[]\n",
    "print(f\"Lista vacia:{lista_vacia}\")\n",
    "\n",
    "#Lista numero entero\n",
    "numero=[1,2,3,4,5,6]\n",
    "print(f\"numeros:{numero}\")\n",
    "\n",
    "#lista de cadena de texto (nombres)\n",
    "nombres=[\"mare\",\"eli\", \"pao\", \"ale\",\"daniel\"]\n",
    "print(f\"los nombres de los invitados son:{nombres}\")\n",
    "\n",
    "# Lista que mezcla diferentes tipos de datos: \n",
    "# Lista dentro de otra\n",
    "mezcla=[True,2015,\"alejandro\",1.3,[\"otra lista\",2025]]\n",
    "print(f\"Lista mezclada:{mezcla}\")\n",
    "\n",
    "#Creación de lista a partir de un iterable (ej. una cadena)\n",
    "letras=list(\"Marelibeth te quiero\")\n",
    "print(f\"lista de letras:{letras}\")\n"
   ]
  },
  {
   "cell_type": "code",
   "execution_count": 17,
   "id": "8b8f5f5b",
   "metadata": {},
   "outputs": [
    {
     "name": "stdout",
     "output_type": "stream",
     "text": [
      "primera fruta:manzana\n",
      "la tercera fruta es:limon\n",
      "la ultima fruta es:melocoton\n",
      "La penultima fruta es:mango\n",
      "Datos complejo:uva\n"
     ]
    }
   ],
   "source": [
    "#Acceso indexadoa elementos (Indexación)\n",
    "#0 indica el primer elemento, -1 al ultimo \n",
    "frutas=[\"manzana\",\"uva\",\"limon\",\"cereza\",\"mango\",\"melocoton\"]\n",
    "\n",
    "#Acceder al primer elemento\n",
    "print(f\"primera fruta:{frutas[0]}\")\n",
    "\n",
    "#Acceder al tercer elemento \n",
    "print(f\"la tercera fruta es:{frutas[2]}\")\n",
    "\n",
    "#Acceder al ultimo elemento usando (-1)\n",
    "print(f\"la ultima fruta es:{frutas[-1]}\")\n",
    "\n",
    "#Accederal penultimo elemento usado (-2)\n",
    "print(f\"La penultima fruta es:{frutas[-2]}\")\n",
    "\n",
    "#Datos complejo\n",
    "datos_complejos=[\"mango\",10,[30,50,\"uva\"],\"25\"]\n",
    "print(f\"Datos complejo:{datos_complejos[2][-1]}\")"
   ]
  },
  {
   "cell_type": "code",
   "execution_count": 18,
   "id": "aa67f263",
   "metadata": {},
   "outputs": [
    {
     "name": "stdout",
     "output_type": "stream",
     "text": [
      "primeros tres datos:[10, 20, 30, 40]\n",
      "los tres primetos datos:[10, 20, 30, 40]\n",
      "Resultado de datos desde el indice 4 hasta el ultimo:[50, 60, 70, 80, 90, 100, 110, 120]\n",
      "rango intermedio 2 a 6:[30, 40, 50, 60, 70]\n",
      "Copia[10, 20, 30, 40, 50, 60, 70, 80, 90, 100, 110, 120]\n",
      "lista de numeros 2 en 2 :[10, 30, 50, 70, 90, 110]\n",
      "lista de numeros 4 en 4 :[10, 50, 90]\n",
      "lista invertida:[120, 110, 100, 90, 80, 70, 60, 50, 40, 30, 20, 10]\n",
      "los ultimos tres numeros : [100, 110, 120]\n",
      "todos los numeros menos los tres ultimos : [10, 20, 30, 40, 50, 60, 70, 80, 90]\n"
     ]
    }
   ],
   "source": [
    "#Slicing (Rebanado de Listas) #sintaxis [inicio:fin:paso]\n",
    "\n",
    "numeros_grandes=[10,20,30,40,50,60,70,80,90,100,110,120]\n",
    "# Obtener los primeros 3 elementos \n",
    "print(f\"primeros tres datos:{numeros_grandes[0:4]}\")\n",
    "print(f\"los tres primetos datos:{numeros_grandes[:4]}\")# simplificación\n",
    "\n",
    "# Obtener desde el índice 4 (el elemento 50) hasta el final\n",
    "print(f\"Resultado de datos desde el indice 4 hasta el ultimo:{numeros_grandes[4:]}\")\n",
    "\n",
    "# Obtener un rango intermedio (del índice 2 al 6, sin incluir el 7\n",
    "print(f\"rango intermedio 2 a 6:{numeros_grandes[2:7]}\")\n",
    "\n",
    "# Copiar una lista completa (una forma común de hacer una copia superficial)\n",
    "copia_numeros_grandes=numeros_grandes[:] #sintaxis [:]\n",
    "print(f\"Copia{numeros_grandes}\")\n",
    "\n",
    "# Obtener elementos saltando de 2 en 2 (todos los elementos en posiciones pares)\n",
    "print(f\"lista de numeros 2 en 2 :{numeros_grandes[::2]}\")\n",
    "print(f\"lista de numeros 4 en 4 :{numeros_grandes[::4]}\")\n",
    "\n",
    "# Invertir una lista (un paso negativo de -1)\n",
    "print(f\"lista invertida:{numeros_grandes[::-1]}\")\n",
    "\n",
    "# Slicing con índices negativos\n",
    "print(f\"los ultimos tres numeros : {numeros_grandes[-3:]}\")\n",
    "print(f\"todos los numeros menos los tres ultimos : {numeros_grandes[:-3]}\")\n",
    "\n"
   ]
  },
  {
   "cell_type": "code",
   "execution_count": 19,
   "id": "fb2bb2ba",
   "metadata": {},
   "outputs": [
    {
     "name": "stdout",
     "output_type": "stream",
     "text": [
      "El primer color de la lista es: azul\n",
      "El ultimo color de la lista es:rosado\n",
      "El color ubicado en el tercer lugar de la lista es:rojo\n",
      "los primeros numeros 5 numeros de la lista son: [1, 2, 3, 4, 5]\n",
      "Los tres ultimos numero de la lista son: [8, 9, 10]\n",
      "lista de numero pares:[2, 4, 6, 8, 10]\n",
      "la lista invertida es:[10, 9, 8, 7, 6, 5, 4, 3, 2, 1]\n",
      "Lista de frutas originales: ['banana', 'melon', 'uva', 'fresa']\n",
      "Lista de frutas copias:['banana', 'pera', 'uva', 'fresa']\n",
      "frutas originales:['durazno', 'melon', 'uva', 'fresa']\n",
      "frutas referenica:['durazno', 'melon', 'uva', 'fresa']\n"
     ]
    }
   ],
   "source": [
    "#ejercicios Listas, Indexación y Slicing\n",
    "#Ejercicio 1: Explorando Mi Primera Lista\n",
    "mis_colores=[\"azul\",\"amarillo\",\"rojo\",\"negro\",\"rosado\"]\n",
    "print(f\"El primer color de la lista es: {mis_colores[0]}\")\n",
    "print(f\"El ultimo color de la lista es:{mis_colores[-1]}\")\n",
    "print(f\"El color ubicado en el tercer lugar de la lista es:{mis_colores[2]}\")\n",
    "\n",
    "#Ejercicio 2: Rebanando Números \n",
    "numeros_del_1_al_10=[1,2,3,4,5,6,7,8,9,10]\n",
    "print(f\"los primeros numeros 5 numeros de la lista son: {numeros_del_1_al_10[0:5]}\")\n",
    "print(f\"Los tres ultimos numero de la lista son: {numeros_del_1_al_10[-3:]}\")\n",
    "print(f\"lista de numero pares:{numeros_del_1_al_10[1:10:2]}\")\n",
    "#modificacion y creacion de lista invertida\n",
    "lista_invertida_numeros_del_1_al_10=numeros_del_1_al_10[::-1] # se crea lista invertida\n",
    "print(f\"la lista invertida es:{lista_invertida_numeros_del_1_al_10}\")\n",
    "\n",
    "#Copiando y Modificando\n",
    "frutas_originales=[\"banana\",\"melon\",\"uva\",\"fresa\"]\n",
    "frutas_copia=frutas_originales[:]\n",
    "frutas_copia[1]=\"pera\"\n",
    "print(f\"Lista de frutas originales: {frutas_originales}\")\n",
    "print(f\"Lista de frutas copias:{frutas_copia}\")\n",
    "frutas_referencia=frutas_originales\n",
    "frutas_referencia[0]=\"durazno\"\n",
    "print(f\"frutas originales:{frutas_originales}\")\n",
    "print(f\"frutas referenica:{frutas_referencia}\")\n",
    "#Estos sucede porque frutas referencia depende de la variable frustas originales\n",
    "# es decir se debe moficar la variable frutas originales para observar un cambio\n",
    "#en la varible fruta de referencia "
   ]
  },
  {
   "cell_type": "code",
   "execution_count": 20,
   "id": "683ab430",
   "metadata": {},
   "outputs": [
    {
     "name": "stdout",
     "output_type": "stream",
     "text": [
      "Lista de tarea original es: ['comprar pan', 'estudiar python', 'hacer ejercicio']\n",
      "tarea modificada elemento [0]:['comprar leche', 'estudiar python', 'hacer ejercicio']\n",
      "Tareas nueva asignada a la lista: ['comprar leche', 'estudiar python', 'hacer ejercicio', 'visitar a maria']\n",
      "Nueva lista de tareas: ['comprar leche', 'leer libro', 'estudiar python', 'hacer ejercicio', 'visitar a maria']\n",
      "Tarea nueva se elimino una de ella :['comprar leche', 'leer libro', 'estudiar python', 'visitar a maria']\n",
      "Tareas completadas: estudiar python\n",
      "Tareas restante:['comprar leche', 'leer libro', 'visitar a maria']\n",
      "Lista de tareas despues de la eliminación: ['leer libro', 'visitar a maria']\n",
      "Numeros de tareas pendientes: 2\n",
      "Limpiar lista de tarea:[]\n"
     ]
    }
   ],
   "source": [
    "#continuando con la clase #2\n",
    "#Modificación de Listas (Mutabilidad)\n",
    "#Significa que puedes cambiar sus elementos, añadir nuevos o eliminar existentes después de que la lista\n",
    "\n",
    "Tarea=[\"comprar pan\",\"estudiar python\",\"hacer ejercicio\"]\n",
    "print(f\"Lista de tarea original es: {Tarea}\")\n",
    "\n",
    "# Cambiar un elemento por su índice\n",
    "Tarea[0]=\"comprar leche\"\n",
    "print(f\"tarea modificada elemento [0]:{Tarea}\")\n",
    "\n",
    "# Añadir un elemento al final de la lista con .append()\n",
    "Tarea.append(\"visitar a maria\") \n",
    "print(f\"Tareas nueva asignada a la lista: {Tarea}\")\n",
    "\n",
    "# Insertar un elemento en una posición específica con .insert()\n",
    "# El primer argumento es el índice, el segundo es el elemento\n",
    "Tarea.insert(1,\"leer libro\")\n",
    "print(f\"Nueva lista de tareas: {Tarea}\")\n",
    "\n",
    "# Eliminar un elemento por su valor con .remove()\n",
    "# Elimina la primera ocurrencia del valor especificado. Si el valor no existe, da un error.\n",
    "Tarea.remove(\"hacer ejercicio\")\n",
    "print(f\"Tarea nueva se elimino una de ella :{Tarea}\")\n",
    "\n",
    "# Eliminar un elemento por su índice y obtenerlo con .pop()\n",
    "# Si no se especifica un índice, elimina y devuelve el último elemento\n",
    "Tarea_completa=Tarea.pop(2)\n",
    "print(f\"Tareas completadas: {Tarea_completa}\")\n",
    "print(f\"Tareas restante:{Tarea}\") #esta lista de tarea despues de aplicar la función pop\n",
    "\n",
    "# Eliminar un elemento por su índice con del\n",
    "# 'del' es una sentencia, no un método. No devuelve el elemento eliminado.\n",
    "del Tarea[0]\n",
    "print(f\"Lista de tareas despues de la eliminación: {Tarea}\")\n",
    "\n",
    "# Obtener la longitud de la lista con len()\n",
    "# La función len() es una función incorporada de Python, no un método de lista\n",
    "print(f\"Numeros de tareas pendientes: {len(Tarea)}\")\n",
    "\n",
    "# Limpiar todos los elementos de la lista\n",
    "Tarea.clear()\n",
    "print(f\"Limpiar lista de tarea:{Tarea}\")"
   ]
  },
  {
   "cell_type": "code",
   "execution_count": 21,
   "id": "a2170866",
   "metadata": {},
   "outputs": [
    {
     "name": "stdout",
     "output_type": "stream",
     "text": [
      "El numero 2 apararece repetido:3 veces\n",
      "La letra c esta en el indice:2\n",
      "Orden de la lista de nuemero:[0, 1, 2, 3, 4, 5, 6, 7, 8, 9, 10]\n",
      "orden descentente de lista de numero:[10, 9, 8, 7, 6, 5, 4, 3, 2, 1, 0]\n",
      "lista en orden:[0, 2, 5, 6, 7, 8, 9]\n",
      "lista original:[0, 2, 6, 5, 8, 7, 9]\n",
      "invierte el color de la lista:['rojo', 'azul', 'amarillo']\n",
      "lista compuesta:[23, 55, True, False]\n",
      "Total de elementos en el transporte:['mango', 'pera', 'leon', 'perro']\n"
     ]
    }
   ],
   "source": [
    "#Metodos utiles en lista\n",
    "\n",
    "#comando .count()   cantida de veces que aparece un elemento\n",
    "numero_repetidos=[1,2,2,3,4,2,5]\n",
    "print(f\"El numero 2 apararece repetido:{numero_repetidos.count(2)} veces\")\n",
    "\n",
    "# .index() indice o posicion de un elemento\n",
    "letras=[\"a\",\"b\",\"c\",\"d\"]\n",
    "print(f\"La letra c esta en el indice:{letras.index(\"c\")}\")\n",
    "\n",
    "#.sort() Ordena los elementos de forma ascente\n",
    "#reverse=True Ordena los elementos de forma descentente, funicona con numeros\n",
    "numeros_desordenado=[2,0,9,5,7,8,10,3,6,1,4]\n",
    "numeros_desordenado.sort()\n",
    "print(f\"Orden de la lista de nuemero:{numeros_desordenado}\")\n",
    "numeros_desordenado.sort(reverse=True)\n",
    "print(f\"orden descentente de lista de numero:{numeros_desordenado}\")\n",
    "\n",
    "#sorted lista ordenada sin moficar la original\n",
    "otra_lista=[0,2,6,5,8,7,9]\n",
    "print(f\"lista en orden:{sorted(otra_lista)}\")\n",
    "print(f\"lista original:{otra_lista}\")\n",
    "\n",
    "#.reverse(): Invierte el orden de los elementos en la lista en su lugar\n",
    "color=[\"amarillo\",\"azul\",\"rojo\"]\n",
    "color.reverse()\n",
    "print(f\"invierte el color de la lista:{color}\")\n",
    "\n",
    "#.extend(otra_lista): Añade todos los elementos de otra_lista\n",
    "numero=[23,55]\n",
    "verdad_falso=[True,False]\n",
    "numero.extend(verdad_falso)\n",
    "print(f\"lista compuesta:{numero}\")\n",
    "\n",
    "#list1 + list2: Concatena dos listas, creando una nueva lista que contiene los\n",
    "#elementos de ambas. Las listas originales no se modifican\n",
    "lista_1=[\"mango\",\"pera\"]\n",
    "animales=[\"leon\",\"perro\"]\n",
    "Total=lista_1+animales\n",
    "print(f\"Total de elementos en el transporte:{Total}\")\n"
   ]
  },
  {
   "cell_type": "code",
   "execution_count": 22,
   "id": "f25154c5",
   "metadata": {},
   "outputs": [
    {
     "name": "stdout",
     "output_type": "stream",
     "text": [
      "La fruta mango aparece 3 veces en la lista\n",
      "La primera aparicion de mango esta en el indice 0\n",
      "puntuaicones de forma ascente [45, 58, 65, 67, 69, 69, 70, 75, 78, 85, 100]\n",
      "puntuaciones de forma descendente [100, 85, 78, 75, 70, 69, 69, 67, 65, 58, 45]\n",
      "noombres desordenador ['pedro', 'miguel', 'alejandro', 'marelibeth', 'ana', 'ingrid']\n",
      "nombres ordenados ['alejandro', 'ana', 'ingrid', 'marelibeth', 'miguel', 'pedro']\n",
      "nombres ordenados despues de invertir ['pedro', 'miguel', 'marelibeth', 'ingrid', 'ana', 'alejandro']\n",
      "productos electronicos ['celular', 'tv', 'nintendo 3ds', 'computadora', 'nintendo 2ds', 'nintendo ds lite', 'calculadora', 'nevera', 'cocina', 'ventilador', 'lavadora', 'secadora', 'microonda', 'licuadora']\n",
      "productos del hogar ('nevera', 'cocina', 'ventilador', 'lavadora', 'secadora', 'microonda', 'licuadora')\n",
      "inventario completo ['celular', 'tv', 'nintendo 3ds', 'computadora', 'nintendo 2ds', 'nintendo ds lite', 'calculadora', 'nevera', 'cocina', 'ventilador', 'lavadora', 'secadora', 'microonda', 'licuadora', 'camisa', 'polos', 'franelas', 'pantalones', 'bermudas', 'interiores']\n",
      "productos electronicos ['celular', 'tv', 'nintendo 3ds', 'computadora', 'nintendo 2ds', 'nintendo ds lite', 'calculadora', 'nevera', 'cocina', 'ventilador', 'lavadora', 'secadora', 'microonda', 'licuadora']\n",
      "productos ropas ['camisa', 'polos', 'franelas', 'pantalones', 'bermudas', 'interiores']\n"
     ]
    }
   ],
   "source": [
    "#Ejercicio 1: Análisis de Frecuencia y Posición \n",
    "lista_de_frutas=[\"mango\",\"piña\",\"melons\",\"mango\",\"fresa\",\"mango\",\"piña\",\"kiwi\"]\n",
    "print(f\"La fruta mango aparece {lista_de_frutas.count(\"mango\")} veces en la lista\")\n",
    "print(f\"La primera aparicion de mango esta en el indice {lista_de_frutas.index(\"mango\")}\")\n",
    "#cuando coloco una fruta que no aparece en la lista ocurre un error ValueError: 'mpatilla' is not in list\n",
    "\n",
    "#Ejercicio 2: Ordenando y Reorganizando Listas\n",
    "puntuaciones=[75,85,45,69,100,58,65,78,70,67,69]\n",
    "puntuaciones.sort()\n",
    "print(f\"puntuaicones de forma ascente {puntuaciones}\")\n",
    "puntuaciones.sort(reverse=True)\n",
    "print(f\"puntuaciones de forma descendente {puntuaciones}\")\n",
    "\n",
    "nombres_desordenados=[\"pedro\",\"miguel\",\"alejandro\",\"marelibeth\",\"ana\",\"ingrid\"]\n",
    "print(f\"noombres desordenador {nombres_desordenados}\")\n",
    "nombres_ordenados=sorted(nombres_desordenados)\n",
    "print(f\"nombres ordenados {(nombres_ordenados)}\")\n",
    "nombres_ordenados.reverse()\n",
    "print(f\"nombres ordenados despues de invertir {nombres_ordenados}\")\n",
    "\n",
    "#Ejercicio 3: Combinando Listas de Diferentes Formas\n",
    "\n",
    "productos_electronicos=[\"celular\",\"tv\",\"nintendo 3ds\",\"computadora\",\"nintendo 2ds\",\"nintendo ds lite\",\"calculadora\"]\n",
    "productos_hogar=(\"nevera\",\"cocina\",\"ventilador\",\"lavadora\",\"secadora\",\"microonda\",\"licuadora\")\n",
    "productos_electronicos.extend(productos_hogar)\n",
    "print(f\"productos electronicos {productos_electronicos}\")\n",
    "print(f\"productos del hogar {productos_hogar}\")\n",
    "productos_ropas=[\"camisa\",\"polos\",\"franelas\",\"pantalones\",\"bermudas\",\"interiores\"]\n",
    "\n",
    "inventaro_completo= productos_electronicos + productos_ropas\n",
    "print(f\"inventario completo {inventaro_completo}\")\n",
    "print(f\"productos electronicos {productos_electronicos}\")\n",
    "print(f\"productos ropas {productos_ropas}\")"
   ]
  },
  {
   "cell_type": "code",
   "execution_count": 23,
   "id": "37b09542",
   "metadata": {},
   "outputs": [
    {
     "name": "stdout",
     "output_type": "stream",
     "text": [
      "eres mayor de edad puedes ingresar a todas las operaciones del sistema\n",
      "programa finalizado\n",
      "Hace fresco, no enciendas el aire aconodiconado\n",
      "considera abrir una ventana\n",
      "hola invitado\n",
      "Excelente tienes una A\n",
      "preocupacion disminuye su velocidad\n",
      "tienes tarjeta\n",
      "tiene suficientemente saldo para comprar\n",
      "no es cliente VIP\n"
     ]
    }
   ],
   "source": [
    "#Estrutura de control\n",
    "#Las sentencias condicionales son el cerebro de tus programas. Permiten que tu\n",
    "#código tome decisiones y ejecute diferentes bloques de instrucciones basándose en\n",
    "#si una o más condiciones son True o False\n",
    "\n",
    "# La sentencia if Ejecuta un bloque de código solo si la condición especificada es True.\n",
    "\n",
    "edad=20\n",
    "if  edad>=18:\n",
    "    print(\"eres mayor de edad puedes ingresar a todas las operaciones del sistema\")\n",
    "print(\"programa finalizado\")# se realizado porque esta fuera if\n",
    "\n",
    "#La sentencia if-else la sentencia if-else te permite definir dos caminos mutuamente excluyentes\n",
    "#Ejecuta un bloque de código si la condición if es True, y ejecuta un bloque de código\n",
    "#diferente si la condición if es Fals\n",
    "\n",
    "temperatura=15\n",
    "if temperatura > 25:\n",
    "    print(\"Hace calor enciende el aire acondicionado\")\n",
    "else:\n",
    "    print(\"Hace fresco, no enciendas el aire aconodiconado\")\n",
    "    print(\"considera abrir una ventana\")\n",
    "\n",
    "nombre= \"diego\"\n",
    "if nombre ==\"ana\":\n",
    "    print(\"hola ana\")\n",
    "else:\n",
    "    print(\"hola invitado\")\n",
    "\n",
    "#La sentencia if-elif-else\n",
    "puntuacion=93\n",
    "\n",
    "if puntuacion>=90: \n",
    "    print(\"Excelente tienes una A\")\n",
    "elif puntuacion>=80:\n",
    "    print(\"muy bien tienes una B\")\n",
    "elif puntuacion>=70:\n",
    "    print(\"bien tienes una C\")\n",
    "elif puntuacion>=60:\n",
    "    print(\"Aprobado tienes una D\")\n",
    "else:\n",
    "    print(\"tienes que mejorar estas reprobado tienes una F\")\n",
    "\n",
    "#ejemplo con múltiples criterios\n",
    "color_semaforo=\"amarillo\"\n",
    "if color_semaforo==\"verde\":\n",
    "    print(\"adelante\")\n",
    "elif color_semaforo==\"amarillo\":\n",
    "    print(\"preocupacion disminuye su velocidad\")\n",
    "elif color_semaforo==\"rojo\":\n",
    "    print(\"detengase\")\n",
    "else:\n",
    "    print(\"color del semaforo desconocido\")\n",
    "\n",
    "#Condiciones Anidadas Puedes colocar sentencias if/elif/else dentro de otras sentencias if/elif/else\n",
    "#Esto es útilpara modelar decisiones que dependen de una jerarquía o de múltiples niveles de criterios\n",
    "\n",
    "tienes_tarjeta=True\n",
    "saldo=200\n",
    "compra_minima=100\n",
    "es_cliente_vip=False\n",
    "\n",
    "if tienes_tarjeta:\n",
    "    print(\"tienes tarjeta\")\n",
    "    if saldo>=100:\n",
    "        print(\"tiene suficientemente saldo para comprar\")\n",
    "        if es_cliente_vip:\n",
    "            print(\"tienes descuento del 10%\")\n",
    "        else:\n",
    "            print(\"no es cliente VIP\")\n",
    "    else:\n",
    "        print(\"saldo insuficiente para la compra con tarjeta\")\n",
    "else:\n",
    "    print(\"el cliente no tiene tardeja\")\n",
    "    print(\"compra normal con efectivo\")\n"
   ]
  },
  {
   "cell_type": "code",
   "execution_count": 24,
   "id": "35d963ac",
   "metadata": {},
   "outputs": [
    {
     "ename": "KeyboardInterrupt",
     "evalue": "Interrupted by user",
     "output_type": "error",
     "traceback": [
      "\u001b[31m---------------------------------------------------------------------------\u001b[39m",
      "\u001b[31mKeyboardInterrupt\u001b[39m                         Traceback (most recent call last)",
      "\u001b[36mCell\u001b[39m\u001b[36m \u001b[39m\u001b[32mIn[24]\u001b[39m\u001b[32m, line 2\u001b[39m\n\u001b[32m      1\u001b[39m \u001b[38;5;66;03m#Ejercicio 1: Verificación de edad para votar\u001b[39;00m\n\u001b[32m----> \u001b[39m\u001b[32m2\u001b[39m edad=\u001b[38;5;28mint\u001b[39m(\u001b[38;5;28;43minput\u001b[39;49m\u001b[43m(\u001b[49m\u001b[33;43m\"\u001b[39;49m\u001b[33;43m¿me indica su edad por favor\u001b[39;49m\u001b[33;43m\"\u001b[39;49m\u001b[43m)\u001b[49m)\n\u001b[32m      3\u001b[39m \u001b[38;5;28;01mif\u001b[39;00m edad>=\u001b[32m18\u001b[39m:\n\u001b[32m      4\u001b[39m     \u001b[38;5;28mprint\u001b[39m(\u001b[33m\"\u001b[39m\u001b[33meres apto para votar\u001b[39m\u001b[33m\"\u001b[39m)\n",
      "\u001b[36mFile \u001b[39m\u001b[32m~\\AppData\\Local\\Packages\\PythonSoftwareFoundation.Python.3.13_qbz5n2kfra8p0\\LocalCache\\local-packages\\Python313\\site-packages\\ipykernel\\kernelbase.py:1282\u001b[39m, in \u001b[36mKernel.raw_input\u001b[39m\u001b[34m(self, prompt)\u001b[39m\n\u001b[32m   1280\u001b[39m     msg = \u001b[33m\"\u001b[39m\u001b[33mraw_input was called, but this frontend does not support input requests.\u001b[39m\u001b[33m\"\u001b[39m\n\u001b[32m   1281\u001b[39m     \u001b[38;5;28;01mraise\u001b[39;00m StdinNotImplementedError(msg)\n\u001b[32m-> \u001b[39m\u001b[32m1282\u001b[39m \u001b[38;5;28;01mreturn\u001b[39;00m \u001b[38;5;28;43mself\u001b[39;49m\u001b[43m.\u001b[49m\u001b[43m_input_request\u001b[49m\u001b[43m(\u001b[49m\n\u001b[32m   1283\u001b[39m \u001b[43m    \u001b[49m\u001b[38;5;28;43mstr\u001b[39;49m\u001b[43m(\u001b[49m\u001b[43mprompt\u001b[49m\u001b[43m)\u001b[49m\u001b[43m,\u001b[49m\n\u001b[32m   1284\u001b[39m \u001b[43m    \u001b[49m\u001b[38;5;28;43mself\u001b[39;49m\u001b[43m.\u001b[49m\u001b[43m_parent_ident\u001b[49m\u001b[43m[\u001b[49m\u001b[33;43m\"\u001b[39;49m\u001b[33;43mshell\u001b[39;49m\u001b[33;43m\"\u001b[39;49m\u001b[43m]\u001b[49m\u001b[43m,\u001b[49m\n\u001b[32m   1285\u001b[39m \u001b[43m    \u001b[49m\u001b[38;5;28;43mself\u001b[39;49m\u001b[43m.\u001b[49m\u001b[43mget_parent\u001b[49m\u001b[43m(\u001b[49m\u001b[33;43m\"\u001b[39;49m\u001b[33;43mshell\u001b[39;49m\u001b[33;43m\"\u001b[39;49m\u001b[43m)\u001b[49m\u001b[43m,\u001b[49m\n\u001b[32m   1286\u001b[39m \u001b[43m    \u001b[49m\u001b[43mpassword\u001b[49m\u001b[43m=\u001b[49m\u001b[38;5;28;43;01mFalse\u001b[39;49;00m\u001b[43m,\u001b[49m\n\u001b[32m   1287\u001b[39m \u001b[43m\u001b[49m\u001b[43m)\u001b[49m\n",
      "\u001b[36mFile \u001b[39m\u001b[32m~\\AppData\\Local\\Packages\\PythonSoftwareFoundation.Python.3.13_qbz5n2kfra8p0\\LocalCache\\local-packages\\Python313\\site-packages\\ipykernel\\kernelbase.py:1325\u001b[39m, in \u001b[36mKernel._input_request\u001b[39m\u001b[34m(self, prompt, ident, parent, password)\u001b[39m\n\u001b[32m   1322\u001b[39m \u001b[38;5;28;01mexcept\u001b[39;00m \u001b[38;5;167;01mKeyboardInterrupt\u001b[39;00m:\n\u001b[32m   1323\u001b[39m     \u001b[38;5;66;03m# re-raise KeyboardInterrupt, to truncate traceback\u001b[39;00m\n\u001b[32m   1324\u001b[39m     msg = \u001b[33m\"\u001b[39m\u001b[33mInterrupted by user\u001b[39m\u001b[33m\"\u001b[39m\n\u001b[32m-> \u001b[39m\u001b[32m1325\u001b[39m     \u001b[38;5;28;01mraise\u001b[39;00m \u001b[38;5;167;01mKeyboardInterrupt\u001b[39;00m(msg) \u001b[38;5;28;01mfrom\u001b[39;00m\u001b[38;5;250m \u001b[39m\u001b[38;5;28;01mNone\u001b[39;00m\n\u001b[32m   1326\u001b[39m \u001b[38;5;28;01mexcept\u001b[39;00m \u001b[38;5;167;01mException\u001b[39;00m:\n\u001b[32m   1327\u001b[39m     \u001b[38;5;28mself\u001b[39m.log.warning(\u001b[33m\"\u001b[39m\u001b[33mInvalid Message:\u001b[39m\u001b[33m\"\u001b[39m, exc_info=\u001b[38;5;28;01mTrue\u001b[39;00m)\n",
      "\u001b[31mKeyboardInterrupt\u001b[39m: Interrupted by user"
     ]
    }
   ],
   "source": [
    "#Ejercicio 1: Verificación de edad para votar\n",
    "edad=int(input(\"¿me indica su edad por favor\"))\n",
    "if edad>=18:\n",
    "    print(\"eres apto para votar\")\n",
    "else:\n",
    "    print(\"no eres apto para votar\")\n",
    "\n",
    "\n"
   ]
  },
  {
   "cell_type": "code",
   "execution_count": null,
   "id": "a2e7cc40",
   "metadata": {},
   "outputs": [
    {
     "name": "stdout",
     "output_type": "stream",
     "text": [
      "Calificacion: F\n"
     ]
    }
   ],
   "source": [
    "#Ejercicio 2: Clasificador de calificaciones academicas \n",
    "calificacion_numerica=int(input(\"Ingrese su calificación\")) \n",
    "if calificacion_numerica>=90 and calificacion_numerica<=100:\n",
    "    print(\"Calificacion: A\")\n",
    "elif calificacion_numerica>=80 and calificacion_numerica<90:\n",
    "    print(\"Calificación: B\")\n",
    "elif calificacion_numerica>=70 and calificacion_numerica<80:\n",
    "    print(\"Calificacion: C\")\n",
    "elif calificacion_numerica>=60 and calificacion_numerica<70:\n",
    "    print(\"Calificacion: D\")\n",
    "elif calificacion_numerica>=0 and calificacion_numerica<60:\n",
    "    print(\"Calificacion: F\")\n",
    "else:\n",
    "    print(\"Calificación invalida. Debe estar entre 0 y 100\")\n"
   ]
  },
  {
   "cell_type": "code",
   "execution_count": null,
   "id": "3cd74256",
   "metadata": {},
   "outputs": [
    {
     "name": "stdout",
     "output_type": "stream",
     "text": [
      "El numero es cero\n"
     ]
    }
   ],
   "source": [
    "#Ejercicio 3: Detector de Tipo de Número\n",
    "ingrese=float(input(\"Ingrese un numero entero\"))\n",
    "if ingrese>0:\n",
    "    print(\"El numero positivo\")\n",
    "elif ingrese<0:\n",
    "    print(\"El numero negativo\") \n",
    "else:\n",
    "    print(\"El numero es cero\")"
   ]
  },
  {
   "cell_type": "code",
   "execution_count": null,
   "id": "ea62f58a",
   "metadata": {},
   "outputs": [
    {
     "name": "stdout",
     "output_type": "stream",
     "text": [
      "Acceso limitado concedido (UsuarioEstándar).\n"
     ]
    }
   ],
   "source": [
    "#Ejercicio 4: Acceso a Sistema con Múltiples Requisitos\n",
    "nombre_de_usuario=str(input(\"ingrese su nombre de usuario\")).lower() #puede ser mayuscula o miniscula\n",
    "ingrese_contraseña=input(\"ingrese su contraseña (texto)\") #tiene que ser exacta por seguridad\n",
    "administrador=str(input(\"es administrado (responder True/false)\")).lower()\n",
    "if nombre_de_usuario==\"ale\" and ingrese_contraseña==\"mare.1986\":\n",
    "    if administrador==\"true\":\n",
    "        print(\"Acceso total concedido (Administrador)\")\n",
    "    elif not administrador==\"true\":\n",
    "        print(\"Acceso limitado concedido (UsuarioEstándar).\")\n",
    "else:\n",
    "    print(\"Acceso denegado. Credenciales inválidas.\")\n",
    "\n",
    "    \n"
   ]
  },
  {
   "cell_type": "code",
   "execution_count": null,
   "id": "fae9cb10",
   "metadata": {},
   "outputs": [
    {
     "name": "stdout",
     "output_type": "stream",
     "text": [
      "No puedes comprar alcohol todavia\n"
     ]
    }
   ],
   "source": [
    "#Problema 1: Verificador de Edad para Compra de Alcohol\n",
    "edad=int(input(\"¿su edad por favor\"))\n",
    "if edad<18:\n",
    "    print(\"No puedes comprar alcohol todavia\")\n",
    "else:\n",
    "    print(\"puedes comprar alcohol\")"
   ]
  },
  {
   "cell_type": "code",
   "execution_count": null,
   "id": "ff4eb199",
   "metadata": {},
   "outputs": [
    {
     "name": "stdout",
     "output_type": "stream",
     "text": [
      "el agua esta en estado gaseoso (vapor)\n"
     ]
    }
   ],
   "source": [
    "#problema 2: Estado del Agua por Temperatura\n",
    "\n",
    "#1 Pide al usuario que ingrese la **temperatura** en grados Celsius (puede ser un número decimal).\n",
    "temperatura=float(input(\"indique la temperatura en grados Celcius\"))\n",
    "\n",
    "#2 Si la temperatura es **menor o igual a 0\n",
    "if temperatura<=0:\n",
    "    print(\"el agua esta en estado solido\")\n",
    "    #Si la temperatura es **mayor que 0 Y menor que 100\n",
    "elif temperatura>=0 and temperatura<100:\n",
    "    print(\"el agua esta en estado liquido\")\n",
    "    #Si la temperatura es **100 o más\n",
    "else:\n",
    "    print(\"el agua esta en estado gaseoso (vapor)\")\n"
   ]
  },
  {
   "cell_type": "code",
   "execution_count": null,
   "id": "2e07f658",
   "metadata": {},
   "outputs": [
    {
     "name": "stdout",
     "output_type": "stream",
     "text": [
      "¡Felicidades! Eres elegible para un descuento\n"
     ]
    }
   ],
   "source": [
    "#Problema 3: Elegibilidad para Descuento en Tienda\n",
    "#1.  Pide al usuario el **monto total de su compra\n",
    "compra=float(input(\"monto total de la compra\"))\n",
    "#2. Pregunta al usuario si es **miembro VIP\n",
    "miembre_vip=str(input(\"¿es miembro vip si o no\")).lower()\n",
    "#3. Pregunta al usuario si tiene un **cupón de descuento\n",
    "cupon_de_descuento=str(input(\"¿tiene cumpon de descuento si o no\")).lower()\n",
    "#4. Un cliente es elegible para el descuento si\n",
    "\n",
    "if (compra>=100 and miembre_vip==\"si\") or (compra>=50 and cupon_de_descuento==\"si\"):\n",
    "    print(\"¡Felicidades! Eres elegible para un descuento\")\n",
    "else:\n",
    "    print(\"Lo sentimos, no eres elegible para un descuento en este momento.\")"
   ]
  },
  {
   "cell_type": "code",
   "execution_count": null,
   "id": "dce9e31a",
   "metadata": {},
   "outputs": [
    {
     "name": "stdout",
     "output_type": "stream",
     "text": [
      " -1 es negativo e impar\n"
     ]
    }
   ],
   "source": [
    "# Problema 4: Clasificación Completa de Números\n",
    "#Escribe un programa que clasifique un número entero como positivo/negativo/cero Y\n",
    "#también si es par/impar (solo si no es cero).\n",
    "\n",
    "# 1. Pide al usuario que ingrese un **número entero**.\n",
    "numero=int(input(\"¿Ingrese un numero entero\"))\n",
    "2# Usa una estructura `if-elif-else` para determinar si es positivo, negativo o cero\n",
    "if numero>0:\n",
    "        if numero%2!=0:\n",
    "            print(f\" {numero} es positivo e impar\")\n",
    "        elif numero%2==0:\n",
    "              print(f\"{numero} es positivo y es par\")\n",
    "elif numero<0 and numero%2!=0:\n",
    "      print(f\" {numero} es negativo e impar\")\n",
    "elif numero<0 and numero%2==0:\n",
    "    print(f\" {numero} es negativo e par\")\n",
    "else:\n",
    "      print(f\"{numero} \")"
   ]
  },
  {
   "cell_type": "code",
   "execution_count": null,
   "id": "650a38c2",
   "metadata": {},
   "outputs": [
    {
     "name": "stdout",
     "output_type": "stream",
     "text": [
      "el numero es cero\n"
     ]
    }
   ],
   "source": [
    "# forma 2# Problema 4: Clasificación Completa de Números\n",
    "#Escribe un programa que clasifique un número entero como positivo/negativo/cero Y\n",
    "#también si es par/impar (solo si no es cero).\n",
    "\n",
    "# 1. Pide al usuario que ingrese un **número entero**.\n",
    "numero=int(input(\"¿Ingrese un numero entero\"))\n",
    "2# Usa una estructura `if-elif-else` para determinar si es positivo, negativo o cero\n",
    "if numero>0:\n",
    "    if numero%2!=0:\n",
    "        print(f\"el numero {numero} es positivo y es impar\")\n",
    "    else:\n",
    "        print(f\"el numero {numero} es positivo y es par\")\n",
    "if numero<0:\n",
    "    if numero%2==0:\n",
    "        print(f\"el numero {numero} es negativo y es par\")\n",
    "    elif numero%2!=0:\n",
    "        print(f\"el numero {numero} es negativo y es impar\")\n",
    "elif numero==0:\n",
    "    print(f\"el numero es cero\")\n",
    "\n",
    "        \n"
   ]
  },
  {
   "cell_type": "code",
   "execution_count": null,
   "id": "fb0f6fd6",
   "metadata": {},
   "outputs": [
    {
     "name": "stdout",
     "output_type": "stream",
     "text": [
      "el numero 3 es positivo y es impar\n"
     ]
    }
   ],
   "source": [
    "# forma 2# Problema 4: Clasificación Completa de Números\n",
    "#Escribe un programa que clasifique un número entero como positivo/negativo/cero Y\n",
    "#también si es par/impar (solo si no es cero).\n",
    "\n",
    "# 1. Pide al usuario que ingrese un **número entero**.\n",
    "numero=int(input(\"¿Ingrese un numero entero\"))\n",
    "2# Usa una estructura `if-elif-else` para determinar si es positivo, negativo o cero\n",
    "if numero>0:\n",
    "    if numero%2!=0:\n",
    "        print(f\"el numero {numero} es positivo y es impar\")\n",
    "    else:\n",
    "        print(f\"el numero {numero} es positivo y es par\")\n",
    "elif numero<0:\n",
    "    if numero%2==0:\n",
    "        print(f\"el numero {numero} es negativo y es par\")\n",
    "    elif numero%2!=0:\n",
    "        print(f\"el numero {numero} es negativo y es impar\")\n",
    "else:\n",
    "    print(\"el numero es cero\")\n",
    "  "
   ]
  },
  {
   "cell_type": "code",
   "execution_count": null,
   "id": "a31e195b",
   "metadata": {},
   "outputs": [
    {
     "name": "stdout",
     "output_type": "stream",
     "text": [
      "dia habil\n"
     ]
    }
   ],
   "source": [
    "#Verificador de Día Hábil** NO ES MUY CORRECTO\n",
    "dia_de_la_semana=str(input(\"introduce un dia de la semana\")).lower()\n",
    "if (dia_de_la_semana==\"lunes\" or dia_de_la_semana==\"martes\" or dia_de_la_semana==\"miercoles\" or dia_de_la_semana==\"jueves\" or dia_de_la_semana==\"viernes\") :\n",
    "    print(\"dia habil\")\n",
    "elif dia_de_la_semana == \"sabado\" or dia_de_la_semana ==\"domingo\":\n",
    "    print(\"fin de semana\")\n"
   ]
  },
  {
   "cell_type": "code",
   "execution_count": null,
   "id": "4d9ca741",
   "metadata": {},
   "outputs": [
    {
     "name": "stdout",
     "output_type": "stream",
     "text": [
      "Fin de semana\n"
     ]
    }
   ],
   "source": [
    "##Verificador de Día Hábil** version mejorada\n",
    "dia_de_la_semana=str(input(\"introduce un dia de la semana\")).lower()\n",
    "dia_habiles=[\"lunes\",\"martes\",\"miercoles\",\"jueves\",\"viernes\"]\n",
    "fin_de_semana=[\"sabado\",\"domingo\"]\n",
    "if dia_de_la_semana in dia_habiles:\n",
    "    print(\"Dia habil\")\n",
    "elif dia_de_la_semana in fin_de_semana:\n",
    "    print(\"Fin de semana\")\n",
    "else:\n",
    "    print(\"introduccir nuevamente el dia de la semana. error de escritura\")"
   ]
  },
  {
   "cell_type": "code",
   "execution_count": null,
   "id": "8e0e65fd",
   "metadata": {},
   "outputs": [
    {
     "name": "stdout",
     "output_type": "stream",
     "text": [
      "Menú de Gestión de Inventario\n",
      "1. Ver inventario actual\n",
      "2. Añadir un producto\n",
      "3. Eliminar un producto\n",
      "4. Consultar stock de un producto\n",
      "5. Ordenar inventario (alfabéticamente)\n",
      "6. Salir \n",
      "Hay 2, unidades de pan en stock\n"
     ]
    }
   ],
   "source": [
    "# 1. Inventario Inicial\n",
    "inventario=[\"leche\",\"huevos\",\"pan\",\"pan\",\"leche\",\"pera\",\"manzana\",\"harina\",\"manzana\",\"lima\"]\n",
    " #------------------------------------------------------------------------------------------\n",
    "\n",
    "# 2.Menú Principal\n",
    "print(\"Menú de Gestión de Inventario\")\n",
    "print(\"1. Ver inventario actual\")\n",
    "print(\"2. Añadir un producto\")\n",
    "print(\"3. Eliminar un producto\")\n",
    "print(\"4. Consultar stock de un producto\")\n",
    "print(\"5. Ordenar inventario (alfabéticamente)\")\n",
    "print(\"6. Salir \")\n",
    "#------------------------------------------------\n",
    "\n",
    "# 3.SELECCION DE OPCION\n",
    "\n",
    "\n",
    "opcion=int(input(\"ingrese el número de la opción que desea realizar\"))\n",
    "\n",
    "# iMPLEMENTACION DE OPCIONES\n",
    "    #OPCION 1 VER INVENTARIO\n",
    "\n",
    "if opcion==1 :\n",
    "    \n",
    "    if inventario==[]:\n",
    "        print(\"El inventario esta vacio\")\n",
    "    else:\n",
    "        print(\"Inventario actual\")\n",
    "        for producto in inventario:    #creacion de variable producto\n",
    "            print(f\" - {producto}\")\n",
    "    # OPCION 2 AÑADIR PRODUCTO\n",
    "elif opcion==2:\n",
    "    nombre_producto=input(\"nombre del producto añadir\").lower()\n",
    "    inventario.append(nombre_producto)\n",
    "    print(f\"producto {inventario} añadido\")\n",
    "    # OPCION 3 ELIMINAR UN PRODUCTO\n",
    "elif opcion==3:\n",
    "    nombre_pruducto_eliminar=input(\"producto a eliminar\").lower()\n",
    "    if nombre_pruducto_eliminar in inventario:\n",
    "        inventario.remove(nombre_pruducto_eliminar)\n",
    "        print(f\"producto {nombre_pruducto_eliminar} eliminado\")\n",
    "    else:\n",
    "        print(\"producto no encontrado\")\n",
    "    # OPCION 4 CONSULTA EL STOCK DE UN PRODUCTO\n",
    "elif opcion==4:\n",
    "    producto_a_consultar=input(\"Nombre del producto a consultar\").lower()\n",
    "    if producto_a_consultar in inventario:\n",
    "        print(f\"Hay {inventario.count(producto_a_consultar)}, unidades de {producto_a_consultar} en stock\")\n",
    "    else:\n",
    "        print(\"PRODUCTO NO ENCONTRADO. Ingrese nuevamete el nombre del producto a consultar\")\n",
    "    # OPCION 5 ORDENA INVENTARIO ALFABETICAMENTE\n",
    "\n",
    "elif opcion==5:\n",
    "    inventario.sort()\n",
    "    print(f\"Inventario ordenado alfabericamente {inventario}\")\n",
    "elif opcion==6:\n",
    "    print (\"Gracias por usar el sistema de inventario. ¡Hasta pronto! \")\n",
    "else:\n",
    "    print(\"Opción inválida. Por favor, ingrese un número del 1 al 6\")\n",
    "\n"
   ]
  },
  {
   "cell_type": "code",
   "execution_count": null,
   "id": "1fd76910",
   "metadata": {},
   "outputs": [
    {
     "name": "stdout",
     "output_type": "stream",
     "text": [
      "MIS FRUTAS FAVORITA\n",
      " - Me gusta comer manzaja\n",
      " - Me gusta comer kiwi\n",
      " - Me gusta comer limon\n",
      " - Me gusta comer piña\n",
      " - Me gusta comer patilla\n",
      "\n",
      "Descomponiendo la Palabra\n",
      " - Letra:p\n",
      " - Letra:y\n",
      " - Letra:t\n",
      " - Letra:h\n",
      " - Letra:o\n",
      " - Letra:n\n",
      "\n",
      "Numeros desde 0 al 5 (range(6))\n",
      "0\n",
      "1\n",
      "2\n",
      "3\n",
      "4\n",
      "5\n",
      "\n",
      "Números del 3 añ 8 (range(3,9))\n",
      "3\n",
      "4\n",
      "5\n",
      "6\n",
      "7\n",
      "8\n",
      "\n",
      " Numeros pares de 0 a 10 (range(0,11,2))\n",
      "0\n",
      "2\n",
      "4\n",
      "6\n",
      "8\n",
      "10\n"
     ]
    }
   ],
   "source": [
    "# Estructuras de Control de Flujo: Repitiendo Tareas (Bucles for y while)\n",
    "\n",
    "# Bucle for: Iterando sobre Secuencias\n",
    "## Iterar sobre una lista: el uso más común\n",
    "\n",
    "frutas=[\"manzaja\", \"kiwi\",\"limon\",\"piña\",\"patilla\"]\n",
    "print(\"MIS FRUTAS FAVORITA\")\n",
    "for fruta in frutas:\n",
    "    print(f\" - Me gusta comer {fruta}\")\n",
    "\n",
    "## Iterar sobre una cadena de texto (cada carácter es un elemento)\n",
    "palabra=\"python\"\n",
    "print(\"\\nDescomponiendo la Palabra\") #\\ (alt+92) \\n coloca \n",
    "for letra in palabra:\n",
    "    print(f\" - Letra:{letra}\")\n",
    "\n",
    "## Iterar con la función range(): Generando secuencias numéricas\n",
    "# range(fin): Genera números enteros desde 0 hasta fin-1.\n",
    "print(\"\\nNumeros desde 0 al 5 (range(6))\")\n",
    "for i in range(6):\n",
    "    print(i)\n",
    "\n",
    "## range(inicio, fin): Genera números desde inicio hasta fin-1.\n",
    "print(\"\\nNúmeros del 3 añ 8 (range(3,9))\")\n",
    "for i in range(3,9):\n",
    "    print(i)\n",
    "\n"
   ]
  },
  {
   "cell_type": "code",
   "execution_count": 27,
   "id": "bba17d7d",
   "metadata": {},
   "outputs": [
    {
     "name": "stdout",
     "output_type": "stream",
     "text": [
      "\n",
      " Numeros pares de 0 a 10 (range(0,11,2))\n",
      "0\n",
      "2\n",
      "4\n",
      "6\n",
      "8\n",
      "10\n",
      "\n",
      "Nombres con indice\n",
      "El nombre del indice 0 es Alejandro\n",
      "El nombre del indice 1 es Mareliberth\n",
      "El nombre del indice 2 es oliver\n",
      "\n",
      "Contador con While\n",
      "0\n",
      "1\n",
      "2\n",
      "3\n",
      "4\n",
      "fin del conteo\n",
      "contraseña incorrecta intente de nuevo\n",
      "Contraseña correcta.acceso permitido\n"
     ]
    }
   ],
   "source": [
    "## range(inicio, fin, paso): Genera números desde inicio hasta fin-1, saltando 'paso)\n",
    "print(\"\\n Numeros pares de 0 a 10 (range(0,11,2))\")\n",
    "for i in range(0,11,2):\n",
    "    print(i)\n",
    "\n",
    "## Iterar sobre una lista con índice (usando enumerate)\n",
    "# enumerate() es útil cuando necesitas tanto el elemento como su índice\n",
    "nombres=[\"Alejandro\",\"Mareliberth\",\"oliver\"]\n",
    "print(\"\\nNombres con indice\")\n",
    "for indice,nombres in enumerate(nombres):\n",
    "    print(f\"El nombre del indice {indice} es {nombres}\")\n",
    "\n",
    "#b) Bucle while: Repitiendo mientras una Condición es Verdadera\n",
    "\n",
    "contador=0\n",
    "print(\"\\nContador con While\")\n",
    "while contador<5:\n",
    "    print(contador)\n",
    "    contador+=1\n",
    "print(\"fin del conteo\")\n",
    "\n",
    "#Ejemplo práctico: Validación de entrada hasta que sea correcta\n",
    "contraseña_correcta= \"mare1986\"\n",
    "contraseña_ingresada=\"\" #iniciamos con un valor de contraseña incorrecto\n",
    "\n",
    "while contraseña_correcta !=contraseña_ingresada:\n",
    "    contraseña_ingresada=input(\"ingrese contraseña\")\n",
    "    if contraseña_ingresada!=contraseña_correcta:\n",
    "        print(\"contraseña incorrecta intente de nuevo\")\n",
    "print(\"Contraseña correcta.acceso permitido\")\n",
    "\n"
   ]
  },
  {
   "cell_type": "code",
   "execution_count": null,
   "id": "478ebc41",
   "metadata": {},
   "outputs": [],
   "source": [
    "## Otro ejemplo: Sumar números hasta que el usuario ingrese 0\n",
    "suma_total=0\n",
    "numero=-1 #valor inicial para entrar al bucle\n",
    "while numero !=0:\n",
    "    numero=int(input(\"Ingrese un número para sumar (0 para terminar): \"))\n",
    "    suma_total +=numero\n",
    "    print(f\"La suma total es:{suma_total}\")"
   ]
  }
 ],
 "metadata": {
  "kernelspec": {
   "display_name": "Python 3",
   "language": "python",
   "name": "python3"
  },
  "language_info": {
   "codemirror_mode": {
    "name": "ipython",
    "version": 3
   },
   "file_extension": ".py",
   "mimetype": "text/x-python",
   "name": "python",
   "nbconvert_exporter": "python",
   "pygments_lexer": "ipython3",
   "version": "3.13.5"
  }
 },
 "nbformat": 4,
 "nbformat_minor": 5
}
