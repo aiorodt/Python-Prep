{
 "cells": [
  {
   "cell_type": "code",
   "execution_count": 12,
   "id": "52a2abbd",
   "metadata": {},
   "outputs": [
    {
     "name": "stdout",
     "output_type": "stream",
     "text": [
      "Lista vacia:[]\n",
      "numeros:[1, 2, 3, 4, 5, 6]\n",
      "los nombres de los invitados son:['mare', 'eli', 'pao', 'ale', 'daniel']\n",
      "Lista mezclada:[True, 2015, 'alejandro', 1.3, ['otra lista', 2025]]\n",
      "lista de letras:['M', 'a', 'r', 'e', 'l', 'i', 'b', 'e', 't', 'h', ' ', 't', 'e', ' ', 'q', 'u', 'i', 'e', 'r', 'o']\n"
     ]
    }
   ],
   "source": [
    "#Creaciones de lista\n",
    "\n",
    "#lista vacia\n",
    "lista_vacia=[]\n",
    "print(f\"Lista vacia:{lista_vacia}\")\n",
    "\n",
    "#Lista numero entero\n",
    "numero=[1,2,3,4,5,6]\n",
    "print(f\"numeros:{numero}\")\n",
    "\n",
    "#lista de cadena de texto (nombres)\n",
    "nombres=[\"mare\",\"eli\", \"pao\", \"ale\",\"daniel\"]\n",
    "print(f\"los nombres de los invitados son:{nombres}\")\n",
    "\n",
    "# Lista que mezcla diferentes tipos de datos: \n",
    "# Lista dentro de otra\n",
    "mezcla=[True,2015,\"alejandro\",1.3,[\"otra lista\",2025]]\n",
    "print(f\"Lista mezclada:{mezcla}\")\n",
    "\n",
    "#Creación de lista a partir de un iterable (ej. una cadena)\n",
    "letras=list(\"Marelibeth te quiero\")\n",
    "print(f\"lista de letras:{letras}\")\n"
   ]
  },
  {
   "cell_type": "code",
   "execution_count": 20,
   "id": "8b8f5f5b",
   "metadata": {},
   "outputs": [
    {
     "name": "stdout",
     "output_type": "stream",
     "text": [
      "primera fruta:manzana\n",
      "la tercera fruta es:limon\n",
      "la ultima fruta es:melocoton\n",
      "La penultima fruta es:mango\n",
      "Datos complejo:uva\n"
     ]
    }
   ],
   "source": [
    "#Acceso indexadoa elementos (Indexación)\n",
    "#0 indica el primer elemento, -1 al ultimo \n",
    "frutas=[\"manzana\",\"uva\",\"limon\",\"cereza\",\"mango\",\"melocoton\"]\n",
    "\n",
    "#Acceder al primer elemento\n",
    "print(f\"primera fruta:{frutas[0]}\")\n",
    "\n",
    "#Acceder al tercer elemento \n",
    "print(f\"la tercera fruta es:{frutas[2]}\")\n",
    "\n",
    "#Acceder al ultimo elemento usando (-1)\n",
    "print(f\"la ultima fruta es:{frutas[-1]}\")\n",
    "\n",
    "#Accederal penultimo elemento usado (-2)\n",
    "print(f\"La penultima fruta es:{frutas[-2]}\")\n",
    "\n",
    "#Datos complejo\n",
    "datos_complejos=[\"mango\",10,[30,50,\"uva\"],\"25\"]\n",
    "print(f\"Datos complejo:{datos_complejos[2][-1]}\")"
   ]
  },
  {
   "cell_type": "code",
   "execution_count": 11,
   "id": "aa67f263",
   "metadata": {},
   "outputs": [
    {
     "name": "stdout",
     "output_type": "stream",
     "text": [
      "primeros tres datos:[10, 20, 30, 40]\n",
      "los tres primetos datos:[10, 20, 30, 40]\n",
      "Resultado de datos desde el indice 4 hasta el ultimo:[50, 60, 70, 80, 90, 100, 110, 120]\n",
      "rango intermedio 2 a 6:[30, 40, 50, 60, 70]\n",
      "Copia[10, 20, 30, 40, 50, 60, 70, 80, 90, 100, 110, 120]\n",
      "lista de numeros 2 en 2 :[10, 30, 50, 70, 90, 110]\n",
      "lista de numeros 4 en 4 :[10, 50, 90]\n",
      "lista invertida:[120, 110, 100, 90, 80, 70, 60, 50, 40, 30, 20, 10]\n",
      "los ultimos tres numeros : [100, 110, 120]\n",
      "todos los numeros menos los tres ultimos : [10, 20, 30, 40, 50, 60, 70, 80, 90]\n"
     ]
    }
   ],
   "source": [
    "#Slicing (Rebanado de Listas) #sintaxis [inicio:fin:paso]\n",
    "\n",
    "numeros_grandes=[10,20,30,40,50,60,70,80,90,100,110,120]\n",
    "# Obtener los primeros 3 elementos \n",
    "print(f\"primeros tres datos:{numeros_grandes[0:4]}\")\n",
    "print(f\"los tres primetos datos:{numeros_grandes[:4]}\")# simplificación\n",
    "\n",
    "# Obtener desde el índice 4 (el elemento 50) hasta el final\n",
    "print(f\"Resultado de datos desde el indice 4 hasta el ultimo:{numeros_grandes[4:]}\")\n",
    "\n",
    "# Obtener un rango intermedio (del índice 2 al 6, sin incluir el 7\n",
    "print(f\"rango intermedio 2 a 6:{numeros_grandes[2:7]}\")\n",
    "\n",
    "# Copiar una lista completa (una forma común de hacer una copia superficial)\n",
    "copia_numeros_grandes=numeros_grandes[:] #sintaxis [:]\n",
    "print(f\"Copia{numeros_grandes}\")\n",
    "\n",
    "# Obtener elementos saltando de 2 en 2 (todos los elementos en posiciones pares)\n",
    "print(f\"lista de numeros 2 en 2 :{numeros_grandes[::2]}\")\n",
    "print(f\"lista de numeros 4 en 4 :{numeros_grandes[::4]}\")\n",
    "\n",
    "# Invertir una lista (un paso negativo de -1)\n",
    "print(f\"lista invertida:{numeros_grandes[::-1]}\")\n",
    "\n",
    "# Slicing con índices negativos\n",
    "print(f\"los ultimos tres numeros : {numeros_grandes[-3:]}\")\n",
    "print(f\"todos los numeros menos los tres ultimos : {numeros_grandes[:-3]}\")\n",
    "\n"
   ]
  },
  {
   "cell_type": "code",
   "execution_count": null,
   "id": "fb2bb2ba",
   "metadata": {},
   "outputs": [
    {
     "name": "stdout",
     "output_type": "stream",
     "text": [
      "El primer color de la lista es: azul\n",
      "El ultimo color de la lista es:rosado\n",
      "El color ubicado en el tercer lugar de la lista es:rojo\n",
      "los primeros numeros 5 numeros de la lista son: [1, 2, 3, 4, 5]\n",
      "Los tres ultimos numero de la lista son: [8, 9, 10]\n",
      "lista de numero pares:[2, 4, 6, 8, 10]\n",
      "la lista invertida es:[10, 9, 8, 7, 6, 5, 4, 3, 2, 1]\n",
      "Lista de frutas originales: ['banana', 'melon', 'uva', 'fresa']\n",
      "Lista de frutas copias:['banana', 'pera', 'uva', 'fresa']\n",
      "frutas originales:['durazno', 'melon', 'uva', 'fresa']\n",
      "frutas referenica:['durazno', 'melon', 'uva', 'fresa']\n"
     ]
    }
   ],
   "source": [
    "#ejercicios Listas, Indexación y Slicing\n",
    "#Ejercicio 1: Explorando Mi Primera Lista\n",
    "mis_colores=[\"azul\",\"amarillo\",\"rojo\",\"negro\",\"rosado\"]\n",
    "print(f\"El primer color de la lista es: {mis_colores[0]}\")\n",
    "print(f\"El ultimo color de la lista es:{mis_colores[-1]}\")\n",
    "print(f\"El color ubicado en el tercer lugar de la lista es:{mis_colores[2]}\")\n",
    "\n",
    "#Ejercicio 2: Rebanando Números \n",
    "numeros_del_1_al_10=[1,2,3,4,5,6,7,8,9,10]\n",
    "print(f\"los primeros numeros 5 numeros de la lista son: {numeros_del_1_al_10[0:5]}\")\n",
    "print(f\"Los tres ultimos numero de la lista son: {numeros_del_1_al_10[-3:]}\")\n",
    "print(f\"lista de numero pares:{numeros_del_1_al_10[1:10:2]}\")\n",
    "#modificacion y creacion de lista invertida\n",
    "lista_invertida_numeros_del_1_al_10=numeros_del_1_al_10[::-1] # se crea lista invertida\n",
    "print(f\"la lista invertida es:{lista_invertida_numeros_del_1_al_10}\")\n",
    "\n",
    "#Copiando y Modificando\n",
    "frutas_originales=[\"banana\",\"melon\",\"uva\",\"fresa\"]\n",
    "frutas_copia=frutas_originales[:]\n",
    "frutas_copia[1]=\"pera\"\n",
    "print(f\"Lista de frutas originales: {frutas_originales}\")\n",
    "print(f\"Lista de frutas copias:{frutas_copia}\")\n",
    "frutas_referencia=frutas_originales\n",
    "frutas_referencia[0]=\"durazno\"\n",
    "print(f\"frutas originales:{frutas_originales}\")\n",
    "print(f\"frutas referenica:{frutas_referencia}\")\n",
    "#Estos sucede porque frutas referencia depende de la variable frustas originales\n",
    "# es decir se debe moficar la variable frutas originales para observar un cambio\n",
    "#en la varible fruta de referencia "
   ]
  },
  {
   "cell_type": "code",
   "execution_count": 41,
   "id": "683ab430",
   "metadata": {},
   "outputs": [
    {
     "name": "stdout",
     "output_type": "stream",
     "text": [
      "Lista de tarea original es: ['comprar pan', 'estudiar python', 'hacer ejercicio']\n",
      "tarea modificada elemento [0]:['comprar leche', 'estudiar python', 'hacer ejercicio']\n",
      "Tareas nueva asignada a la lista: ['comprar leche', 'estudiar python', 'hacer ejercicio', 'visitar a maria']\n",
      "Nueva lista de tareas: ['comprar leche', 'leer libro', 'estudiar python', 'hacer ejercicio', 'visitar a maria']\n",
      "Tarea nueva se elimino una de ella :['comprar leche', 'leer libro', 'estudiar python', 'visitar a maria']\n",
      "Tareas completadas: estudiar python\n",
      "Tareas restante:['comprar leche', 'leer libro', 'visitar a maria']\n",
      "Lista de tareas despues de la eliminación: ['leer libro', 'visitar a maria']\n",
      "Numeros de tareas pendientes: 2\n",
      "Limpiar lista de tarea:[]\n"
     ]
    }
   ],
   "source": [
    "#continuando con la clase #2\n",
    "#Modificación de Listas (Mutabilidad)\n",
    "#Significa que puedes cambiar sus elementos, añadir nuevos o eliminar existentes después de que la lista\n",
    "\n",
    "Tarea=[\"comprar pan\",\"estudiar python\",\"hacer ejercicio\"]\n",
    "print(f\"Lista de tarea original es: {Tarea}\")\n",
    "\n",
    "# Cambiar un elemento por su índice\n",
    "Tarea[0]=\"comprar leche\"\n",
    "print(f\"tarea modificada elemento [0]:{Tarea}\")\n",
    "\n",
    "# Añadir un elemento al final de la lista con .append()\n",
    "Tarea.append(\"visitar a maria\") \n",
    "print(f\"Tareas nueva asignada a la lista: {Tarea}\")\n",
    "\n",
    "# Insertar un elemento en una posición específica con .insert()\n",
    "# El primer argumento es el índice, el segundo es el elemento\n",
    "Tarea.insert(1,\"leer libro\")\n",
    "print(f\"Nueva lista de tareas: {Tarea}\")\n",
    "\n",
    "# Eliminar un elemento por su valor con .remove()\n",
    "# Elimina la primera ocurrencia del valor especificado. Si el valor no existe, da un error.\n",
    "Tarea.remove(\"hacer ejercicio\")\n",
    "print(f\"Tarea nueva se elimino una de ella :{Tarea}\")\n",
    "\n",
    "# Eliminar un elemento por su índice y obtenerlo con .pop()\n",
    "# Si no se especifica un índice, elimina y devuelve el último elemento\n",
    "Tarea_completa=Tarea.pop(2)\n",
    "print(f\"Tareas completadas: {Tarea_completa}\")\n",
    "print(f\"Tareas restante:{Tarea}\") #esta lista de tarea despues de aplicar la función pop\n",
    "\n",
    "# Eliminar un elemento por su índice con del\n",
    "# 'del' es una sentencia, no un método. No devuelve el elemento eliminado.\n",
    "del Tarea[0]\n",
    "print(f\"Lista de tareas despues de la eliminación: {Tarea}\")\n",
    "\n",
    "# Obtener la longitud de la lista con len()\n",
    "# La función len() es una función incorporada de Python, no un método de lista\n",
    "print(f\"Numeros de tareas pendientes: {len(Tarea)}\")\n",
    "\n",
    "# Limpiar todos los elementos de la lista\n",
    "Tarea.clear()\n",
    "print(f\"Limpiar lista de tarea:{Tarea}\")"
   ]
  },
  {
   "cell_type": "code",
   "execution_count": 12,
   "id": "a2170866",
   "metadata": {},
   "outputs": [
    {
     "name": "stdout",
     "output_type": "stream",
     "text": [
      "El numero 2 apararece repetido:3 veces\n",
      "La letra c esta en el indice:2\n",
      "Orden de la lista de nuemero:[0, 1, 2, 3, 4, 5, 6, 7, 8, 9, 10]\n",
      "orden descentente de lista de numero:[10, 9, 8, 7, 6, 5, 4, 3, 2, 1, 0]\n",
      "lista en orden:[0, 2, 5, 6, 7, 8, 9]\n",
      "lista original:[0, 2, 6, 5, 8, 7, 9]\n",
      "invierte el color de la lista:['rojo', 'azul', 'amarillo']\n",
      "lista compuesta:[23, 55, True, False]\n",
      "Total de elementos en el transporte:['mango', 'pera', 'leon', 'perro']\n"
     ]
    }
   ],
   "source": [
    "#Metodos utiles en lista\n",
    "\n",
    "#comando .count()   cantida de veces que aparece un elemento\n",
    "numero_repetidos=[1,2,2,3,4,2,5]\n",
    "print(f\"El numero 2 apararece repetido:{numero_repetidos.count(2)} veces\")\n",
    "\n",
    "# .index() indice o posicion de un elemento\n",
    "letras=[\"a\",\"b\",\"c\",\"d\"]\n",
    "print(f\"La letra c esta en el indice:{letras.index(\"c\")}\")\n",
    "\n",
    "#.sort() Ordena los elementos de forma ascente\n",
    "#reverse=True Ordena los elementos de forma descentente, funicona con numeros\n",
    "numeros_desordenado=[2,0,9,5,7,8,10,3,6,1,4]\n",
    "numeros_desordenado.sort()\n",
    "print(f\"Orden de la lista de nuemero:{numeros_desordenado}\")\n",
    "numeros_desordenado.sort(reverse=True)\n",
    "print(f\"orden descentente de lista de numero:{numeros_desordenado}\")\n",
    "\n",
    "#sorted lista ordenada sin moficar la original\n",
    "otra_lista=[0,2,6,5,8,7,9]\n",
    "print(f\"lista en orden:{sorted(otra_lista)}\")\n",
    "print(f\"lista original:{otra_lista}\")\n",
    "\n",
    "#.reverse(): Invierte el orden de los elementos en la lista en su lugar\n",
    "color=[\"amarillo\",\"azul\",\"rojo\"]\n",
    "color.reverse()\n",
    "print(f\"invierte el color de la lista:{color}\")\n",
    "\n",
    "#.extend(otra_lista): Añade todos los elementos de otra_lista\n",
    "numero=[23,55]\n",
    "verdad_falso=[True,False]\n",
    "numero.extend(verdad_falso)\n",
    "print(f\"lista compuesta:{numero}\")\n",
    "\n",
    "#list1 + list2: Concatena dos listas, creando una nueva lista que contiene los\n",
    "#elementos de ambas. Las listas originales no se modifican\n",
    "lista_1=[\"mango\",\"pera\"]\n",
    "animales=[\"leon\",\"perro\"]\n",
    "Total=lista_1+animales\n",
    "print(f\"Total de elementos en el transporte:{Total}\")\n"
   ]
  },
  {
   "cell_type": "code",
   "execution_count": 30,
   "id": "f25154c5",
   "metadata": {},
   "outputs": [
    {
     "name": "stdout",
     "output_type": "stream",
     "text": [
      "La fruta mango aparece 3 veces en la lista\n",
      "La primera aparicion de mango esta en el indice 0\n",
      "puntuaicones de forma ascente [45, 58, 65, 67, 69, 69, 70, 75, 78, 85, 100]\n",
      "puntuaciones de forma descendente [100, 85, 78, 75, 70, 69, 69, 67, 65, 58, 45]\n",
      "noombres desordenador ['pedro', 'miguel', 'alejandro', 'marelibeth', 'ana', 'ingrid']\n",
      "nombres ordenados ['alejandro', 'ana', 'ingrid', 'marelibeth', 'miguel', 'pedro']\n",
      "nombres ordenados despues de invertir ['pedro', 'miguel', 'marelibeth', 'ingrid', 'ana', 'alejandro']\n",
      "productos electronicos ['celular', 'tv', 'nintendo 3ds', 'computadora', 'nintendo 2ds', 'nintendo ds lite', 'calculadora', 'nevera', 'cocina', 'ventilador', 'lavadora', 'secadora', 'microonda', 'licuadora']\n",
      "productos del hogar ('nevera', 'cocina', 'ventilador', 'lavadora', 'secadora', 'microonda', 'licuadora')\n",
      "inventario completo ['celular', 'tv', 'nintendo 3ds', 'computadora', 'nintendo 2ds', 'nintendo ds lite', 'calculadora', 'nevera', 'cocina', 'ventilador', 'lavadora', 'secadora', 'microonda', 'licuadora', 'camisa', 'polos', 'franelas', 'pantalones', 'bermudas', 'interiores']\n",
      "productos electronicos ['celular', 'tv', 'nintendo 3ds', 'computadora', 'nintendo 2ds', 'nintendo ds lite', 'calculadora', 'nevera', 'cocina', 'ventilador', 'lavadora', 'secadora', 'microonda', 'licuadora']\n",
      "productos ropas ['camisa', 'polos', 'franelas', 'pantalones', 'bermudas', 'interiores']\n"
     ]
    }
   ],
   "source": [
    "#Ejercicio 1: Análisis de Frecuencia y Posición \n",
    "lista_de_frutas=[\"mango\",\"piña\",\"melons\",\"mango\",\"fresa\",\"mango\",\"piña\",\"kiwi\"]\n",
    "print(f\"La fruta mango aparece {lista_de_frutas.count(\"mango\")} veces en la lista\")\n",
    "print(f\"La primera aparicion de mango esta en el indice {lista_de_frutas.index(\"mango\")}\")\n",
    "#cuando coloco una fruta que no aparece en la lista ocurre un error ValueError: 'mpatilla' is not in list\n",
    "\n",
    "#Ejercicio 2: Ordenando y Reorganizando Listas\n",
    "puntuaciones=[75,85,45,69,100,58,65,78,70,67,69]\n",
    "puntuaciones.sort()\n",
    "print(f\"puntuaicones de forma ascente {puntuaciones}\")\n",
    "puntuaciones.sort(reverse=True)\n",
    "print(f\"puntuaciones de forma descendente {puntuaciones}\")\n",
    "\n",
    "nombres_desordenados=[\"pedro\",\"miguel\",\"alejandro\",\"marelibeth\",\"ana\",\"ingrid\"]\n",
    "print(f\"noombres desordenador {nombres_desordenados}\")\n",
    "nombres_ordenados=sorted(nombres_desordenados)\n",
    "print(f\"nombres ordenados {(nombres_ordenados)}\")\n",
    "nombres_ordenados.reverse()\n",
    "print(f\"nombres ordenados despues de invertir {nombres_ordenados}\")\n",
    "\n",
    "#Ejercicio 3: Combinando Listas de Diferentes Formas\n",
    "\n",
    "productos_electronicos=[\"celular\",\"tv\",\"nintendo 3ds\",\"computadora\",\"nintendo 2ds\",\"nintendo ds lite\",\"calculadora\"]\n",
    "productos_hogar=(\"nevera\",\"cocina\",\"ventilador\",\"lavadora\",\"secadora\",\"microonda\",\"licuadora\")\n",
    "productos_electronicos.extend(productos_hogar)\n",
    "print(f\"productos electronicos {productos_electronicos}\")\n",
    "print(f\"productos del hogar {productos_hogar}\")\n",
    "productos_ropas=[\"camisa\",\"polos\",\"franelas\",\"pantalones\",\"bermudas\",\"interiores\"]\n",
    "\n",
    "inventaro_completo= productos_electronicos + productos_ropas\n",
    "print(f\"inventario completo {inventaro_completo}\")\n",
    "print(f\"productos electronicos {productos_electronicos}\")\n",
    "print(f\"productos ropas {productos_ropas}\")"
   ]
  }
 ],
 "metadata": {
  "kernelspec": {
   "display_name": "Python 3",
   "language": "python",
   "name": "python3"
  },
  "language_info": {
   "codemirror_mode": {
    "name": "ipython",
    "version": 3
   },
   "file_extension": ".py",
   "mimetype": "text/x-python",
   "name": "python",
   "nbconvert_exporter": "python",
   "pygments_lexer": "ipython3",
   "version": "3.13.5"
  }
 },
 "nbformat": 4,
 "nbformat_minor": 5
}
