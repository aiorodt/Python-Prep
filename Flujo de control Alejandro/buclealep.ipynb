{
 "cells": [
  {
   "cell_type": "code",
   "execution_count": 2,
   "id": "6094282c",
   "metadata": {},
   "outputs": [
    {
     "name": "stdout",
     "output_type": "stream",
     "text": [
      "1\n"
     ]
    }
   ],
   "source": [
    "suma=0\n",
    "suma=suma+1 #1\n",
    "print(suma)"
   ]
  },
  {
   "cell_type": "code",
   "execution_count": 3,
   "id": "f8916771",
   "metadata": {},
   "outputs": [
    {
     "name": "stdout",
     "output_type": "stream",
     "text": [
      "3\n"
     ]
    }
   ],
   "source": [
    "suma=0\n",
    "suma=suma+1\n",
    "suma=suma+2 #3\n",
    "print(suma)"
   ]
  },
  {
   "cell_type": "code",
   "execution_count": null,
   "id": "2375ad0a",
   "metadata": {},
   "outputs": [
    {
     "name": "stdout",
     "output_type": "stream",
     "text": [
      "1\n",
      "2\n",
      "3\n",
      "4\n",
      "5\n",
      "6\n",
      "7\n"
     ]
    }
   ],
   "source": [
    "#bucle for\n",
    "numero=[0,1,2,3,4,5,6]\n",
    "for num in numero:\n",
    "    suma=num+1\n",
    "    print(suma)\n",
    "#sintaxis for <elemento> in <elementos a iterar>:\n",
    "\n",
    "#<Tu código>"
   ]
  },
  {
   "cell_type": "code",
   "execution_count": null,
   "id": "7486f1fe",
   "metadata": {},
   "outputs": [
    {
     "name": "stdout",
     "output_type": "stream",
     "text": [
      "1\n",
      "2\n",
      "3\n",
      "4\n"
     ]
    }
   ],
   "source": [
    "for i in range(0,4): # funcion Range es un intervalo donde el ultimo valor no se toma\n",
    "    #en este caso el número 4\n",
    "    suma = i+1\n",
    "    print(suma)"
   ]
  },
  {
   "cell_type": "code",
   "execution_count": 6,
   "id": "0fdfd736",
   "metadata": {},
   "outputs": [
    {
     "name": "stdout",
     "output_type": "stream",
     "text": [
      "Variable de interación:   0 Resultado= 2\n",
      "Variable de interación:   1 Resultado= 3\n",
      "Variable de interación:   2 Resultado= 4\n",
      "Variable de interación:   3 Resultado= 5\n"
     ]
    }
   ],
   "source": [
    "#vamos a colocar un print para ver que variable estamos trabajando\n",
    "for i in range(0,4):\n",
    "    suma=i+2\n",
    "    print(\"Variable de interación:  \",i,\"Resultado=\", suma)"
   ]
  },
  {
   "cell_type": "code",
   "execution_count": null,
   "id": "728d9890",
   "metadata": {},
   "outputs": [
    {
     "name": "stdout",
     "output_type": "stream",
     "text": [
      "num 1\n",
      "num 2\n",
      "num 3\n",
      "num 4\n",
      "num 5\n",
      "num 6\n"
     ]
    }
   ],
   "source": [
    "#While Repite condiciones siempre y cuando se verdadera\n",
    "num=1\n",
    "while num < 7:\n",
    "    print(\"num\",num)\n",
    "    num=num+1\n",
    "#sintaxis \n",
    "#while expresion_booleana:    \n",
    "            # bloque de código a ejecutar mientras la expresión sea verdader\n",
    "    "
   ]
  },
  {
   "cell_type": "code",
   "execution_count": 1,
   "id": "77dc708b",
   "metadata": {},
   "outputs": [
    {
     "name": "stdout",
     "output_type": "stream",
     "text": [
      "0\n"
     ]
    }
   ],
   "source": [
    "# Función Break finalizar un bucle\n",
    "\n",
    "for i in range(9):\n",
    "    print(i)\n",
    "    break"
   ]
  },
  {
   "cell_type": "code",
   "execution_count": 2,
   "id": "07ff67e3",
   "metadata": {},
   "outputs": [
    {
     "name": "stdout",
     "output_type": "stream",
     "text": [
      "M\n",
      "a\n",
      "r\n",
      "e\n",
      "l\n",
      "i\n",
      "b\n",
      "e\n",
      " Se encontro letra t \n"
     ]
    }
   ],
   "source": [
    "cadena=\"Marelibeth\"\n",
    "for letra in cadena:\n",
    "    if letra==\"t\":\n",
    "        print(\" Se encontro letra t \")\n",
    "        break\n",
    "    print(letra)\n",
    "          \n"
   ]
  },
  {
   "cell_type": "code",
   "execution_count": 13,
   "id": "5631f559",
   "metadata": {},
   "outputs": [
    {
     "name": "stdout",
     "output_type": "stream",
     "text": [
      "8\n",
      "6\n",
      "4\n",
      "2\n",
      "0\n",
      "-2\n",
      "-4\n",
      "fin de bucle\n"
     ]
    }
   ],
   "source": [
    "x=10\n",
    "while True:\n",
    "    x-=2\n",
    "    print(x)\n",
    "    if x==-4:\n",
    "        break\n",
    "print(\"fin de bucle\") # debe ir sin espaciamiento "
   ]
  },
  {
   "cell_type": "code",
   "execution_count": 14,
   "id": "7cda4478",
   "metadata": {},
   "outputs": [
    {
     "name": "stdout",
     "output_type": "stream",
     "text": [
      "A\n",
      "e\n",
      "j\n",
      "a\n",
      "n\n",
      "d\n",
      "r\n",
      "o\n"
     ]
    }
   ],
   "source": [
    "#use de continue salta parte del la iteración\n",
    "cadena= \"Alejandro\"\n",
    "for letra in cadena:\n",
    "    if letra== \"l\":\n",
    "        continue\n",
    "    print(letra)\n"
   ]
  }
 ],
 "metadata": {
  "kernelspec": {
   "display_name": "Python 3",
   "language": "python",
   "name": "python3"
  },
  "language_info": {
   "codemirror_mode": {
    "name": "ipython",
    "version": 3
   },
   "file_extension": ".py",
   "mimetype": "text/x-python",
   "name": "python",
   "nbconvert_exporter": "python",
   "pygments_lexer": "ipython3",
   "version": "3.13.5"
  }
 },
 "nbformat": 4,
 "nbformat_minor": 5
}
