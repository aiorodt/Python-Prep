{
 "cells": [
  {
   "cell_type": "code",
   "execution_count": 1,
   "id": "14fff4d0",
   "metadata": {},
   "outputs": [
    {
     "name": "stdout",
     "output_type": "stream",
     "text": [
      "¡Hola mundo!\n",
      "hola mundo\n",
      "¡Adios Python! Nos vemos pronto\n",
      "38\n",
      "3.1416\n",
      "mi edad es: 38 años\n",
      "<class 'int'>\n",
      "<class 'float'>\n",
      "<class 'str'>\n",
      "<class 'bool'>\n",
      "38 <class 'int'>\n",
      "38.5 <class 'float'>\n",
      "yo tengo: 40 año\n",
      "Tengo40años\n"
     ]
    }
   ],
   "source": [
    "print(\"¡Hola mundo!\")\n",
    "saludo=\"hola mundo\" #variable\n",
    "print(saludo)\n",
    "saludo=\"¡Adios Python! Nos vemos pronto\" #variable\n",
    "print(saludo)\n",
    "edad=38\n",
    "print(edad)\n",
    "Numero_decinales=3.1416\n",
    "print(Numero_decinales)\n",
    "# Puedes incluso \n",
    "print(\"mi edad es:\",edad,\"años\") #combinación texto y variable\n",
    "\n",
    "#variable numero entero int\n",
    "valor_entero= -5\n",
    "print(type(valor_entero))\n",
    "\n",
    "#variable flotante float representa \n",
    "# el conjunto de los número reales\n",
    "valor_decimal= 0.52\n",
    "print(type(valor_decimal))\n",
    "\n",
    "#variable cadena de texto str son \n",
    "# secuencia de (texto, número,simbolo)\n",
    "texto=\"esto es una cadena\"\n",
    "print(type(texto))\n",
    "\n",
    "#variablñe booleano bool Son el tipo de dato más simple,\n",
    "#  representando solo dos valores true y false \n",
    "es_mayor_de_edad= True\n",
    "print(type(es_mayor_de_edad))\n",
    "\n",
    "#convertir variables ejemplo str a int o float\n",
    "\n",
    "num_str=\"38\"\n",
    "num_int=int(num_str) #tranformacion str a int, no traforma decimales\n",
    "num_str_decimal=\"38.5\"\n",
    "num_float=float(num_str_decimal) #tranformacion str a float\n",
    "print(num_int,type(num_int))\n",
    "print(num_float,type(num_float))\n",
    "\n",
    "#convertir numero en texto\n",
    "edad=40\n",
    "mensaje_edad=(\"Tengo\" + str(edad) +\"años\")\n",
    "print(\"yo tengo:\", edad,\"año\")\n",
    "print(mensaje_edad)\n",
    "\n",
    "#que hace Typer permite entende que tipo de codigo es"
   ]
  },
  {
   "cell_type": "code",
   "execution_count": null,
   "id": "6093a9d9",
   "metadata": {},
   "outputs": [
    {
     "name": "stdout",
     "output_type": "stream",
     "text": [
      "resulttado de la operacion: 6\n",
      "resultado de la resta: -2\n",
      "resultado de la operacion 0.8888888888888888\n"
     ]
    }
   ],
   "source": [
    "#operaciones\n",
    "suma=5+1\n",
    "print(\"resulttado de la operacion:\" ,suma)\n",
    "resta=5-7\n",
    "print(\"resultado de la resta:\",resta)\n",
    "division=8/9\n",
    "print(\"resultado de la operacion\",division)\n",
    "\n"
   ]
  },
  {
   "cell_type": "code",
   "execution_count": 5,
   "id": "29a51098",
   "metadata": {},
   "outputs": [
    {
     "name": "stdout",
     "output_type": "stream",
     "text": [
      "total a pagar sin impuesto es: 2000 total a pagar con impuesto es: 2360.0\n"
     ]
    }
   ],
   "source": [
    "#ejercicio de impuesto\n",
    "precio_unitario=500 #dolares\n",
    "cantidad_comprada=4 #unidades\n",
    "impuesto=0.18 #equivale al 18%\n",
    "#precio sin impuesto\n",
    "total_sin_impuesto=precio_unitario*cantidad_comprada\n",
    "total_con_impuesto=total_sin_impuesto*(1+impuesto)\n",
    "print(\"total a pagar sin impuesto es:\",total_sin_impuesto,\"total a pagar con impuesto es:\",total_con_impuesto)"
   ]
  },
  {
   "cell_type": "code",
   "execution_count": 17,
   "id": "a450006b",
   "metadata": {},
   "outputs": [
    {
     "name": "stdout",
     "output_type": "stream",
     "text": [
      "¿5 es igual a 5? True\n",
      "7 es mayor que 12 False\n",
      "rocio es igual a alejandro False\n",
      "¿llueve a una temperatura de 50? False\n"
     ]
    }
   ],
   "source": [
    "#Operadores de comparacion\n",
    "es_igual=(5==5)\n",
    "print(\"¿5 es igual a 5?\", es_igual)\n",
    "es_mayor= 7>12\n",
    "print(\"7 es mayor que 12\", es_mayor)\n",
    "\n",
    "#comparacion funciona con texto\n",
    "nombre1=\"rocio\"\n",
    "nombre2=\"alejandro\"\n",
    "print(\"rocio es igual a alejandro\",nombre1==nombre2)\n",
    "\n",
    "#ejemplo de la Temperatura\n",
    "temperatura =50\n",
    "lueve= True\n",
    "print(\"¿llueve a una temperatura de 50?\" ,(temperatura<30)==lueve)"
   ]
  },
  {
   "cell_type": "code",
   "execution_count": 21,
   "id": "5f54ab14",
   "metadata": {},
   "outputs": [
    {
     "name": "stdout",
     "output_type": "stream",
     "text": [
      "True\n",
      "True\n",
      "el usuario esta conectatao? True\n",
      "¿puede realizar la compra True\n"
     ]
    }
   ],
   "source": [
    "#operadores logicos\n",
    "\n",
    "#ejemplo and ambas son verdades\n",
    "edad=20\n",
    "tiene_licencia=True\n",
    "puede_conducir=(edad>18) and tiene_licencia\n",
    "print(puede_conducir)\n",
    "\n",
    "#ejmeplo de or una condicion debe ser verda\n",
    "es_estudiante= False\n",
    "tiene_descuesto_especial=True\n",
    "aplica_descuento=es_estudiante or tiene_descuesto_especial\n",
    "print(aplica_descuento)\n",
    "\n",
    "#Invierte el valor del booleano not\n",
    "esta_conectado=False\n",
    "print(\"el usuario esta conectatao?\", not esta_conectado)\n",
    "\n",
    "#ejercicio combinado\n",
    "saldo=150\n",
    "compra=100\n",
    "es_vip=True\n",
    "puede_comprar=saldo>compra or es_vip \n",
    "print(\"¿puede realizar la compra\",puede_comprar)\n"
   ]
  },
  {
   "cell_type": "code",
   "execution_count": 23,
   "id": "0cbffb0c",
   "metadata": {},
   "outputs": [
    {
     "name": "stdout",
     "output_type": "stream",
     "text": [
      "el nombre del usuario es Alejandro Moronta ¡bienvenido!\n"
     ]
    }
   ],
   "source": [
    "#informacion del usuario input\n",
    "#todo lo que reciba sera un cadena de texto str\n",
    "\n",
    "#pedir el nombre del usuario \n",
    "# y almacenarla como variable de texto\n",
    "nombre_del_usuario=input(\"por favor, introduce tu nombre\")\n",
    "print(\"el nombre del usuario es\",nombre_del_usuario,\"¡bienvenido!\")"
   ]
  },
  {
   "cell_type": "code",
   "execution_count": null,
   "id": "01a4e337",
   "metadata": {},
   "outputs": [
    {
     "name": "stdout",
     "output_type": "stream",
     "text": [
      "el numero de ceular del señor Alejandro Moronta es 4127377433\n"
     ]
    }
   ],
   "source": [
    "#pedir un numero al usuario (sera texto es decir str)\n",
    "num_str_decimaltu_numero_de_cel=input(\"por favor indique su numero de cel\")\n",
    "numero_de_celular=int(num_str_decimaltu_numero_de_cel)\n",
    "print(\"el numero de celular del señor\",nombre_del_usuario,\"es\", numero_de_celular)\n"
   ]
  },
  {
   "cell_type": "code",
   "execution_count": null,
   "id": "c23b2543",
   "metadata": {},
   "outputs": [
    {
     "name": "stdout",
     "output_type": "stream",
     "text": [
      "suma de a+b el resultado es 8.0\n",
      "multiplico a*b y el resultado es 15.0\n",
      "resto a-b y el resultado es 2.0\n",
      "divido a/b y el resultado es 1.6666666666666667\n"
     ]
    }
   ],
   "source": [
    "#ejercicio uno Calculadora Simple Mejorada:\n",
    "a=float(input(\"dime un mumero \"))\n",
    "b=float(input(\"dame otro numero\"))\n",
    "print(\"suma de a+b el resultado es\", a+b)\n",
    "print(\"multiplico a*b y el resultado es\",a*b)\n",
    "print(\"resto a-b y el resultado es\",a-b)\n",
    "print(\"divido a/b y el resultado es\",a/b)"
   ]
  },
  {
   "cell_type": "code",
   "execution_count": 31,
   "id": "e01778ea",
   "metadata": {},
   "outputs": [
    {
     "name": "stdout",
     "output_type": "stream",
     "text": [
      "¡Hola alejandro Tienes 39 años y espero que disfrutes tu tiempo en turmero\n"
     ]
    }
   ],
   "source": [
    "#ejercicio 2 Mensaje Personalizado y Edades:\n",
    "datos_del_usuario=input(\"indique su nombre por favor\")\n",
    "edad_usuario=input(\"indique su edad por favor\")\n",
    "ciudad_favorita=input(\"indique su ciudad favorita\")\n",
    "print(\"¡Hola\", datos_del_usuario, \"Tienes\", edad_usuario, \"años\", \"y espero que disfrutes tu tiempo en\",ciudad_favorita)\n"
   ]
  },
  {
   "cell_type": "code",
   "execution_count": 3,
   "id": "4dafcade",
   "metadata": {},
   "outputs": [
    {
     "name": "stdout",
     "output_type": "stream",
     "text": [
      "¿los precios son iguales? False\n",
      "¿el chocolate es mas caro que la cocacola? False\n"
     ]
    }
   ],
   "source": [
    "#ejercicio 3 Comparación de Productos\n",
    "precio_de_cocacola=float(input(\"¿Cual es el precio del coca cola?\"))\n",
    "precio_del_chocolate=float(input(\"¿que precio tiene el chocolate?\"))\n",
    "iguales_en_precio=True\n",
    "chocolate_mas_caro=True\n",
    "precio_mas_caro=(precio_del_chocolate>precio_de_cocacola) and chocolate_mas_caro\n",
    "precios_iguales= (precio_de_cocacola==precio_del_chocolate) and iguales_en_precio\n",
    "print(\"¿los precios son iguales?\",precios_iguales)\n",
    "print(\"¿el chocolate es mas caro que la cocacola?\",precio_mas_caro)\n"
   ]
  },
  {
   "cell_type": "code",
   "execution_count": 37,
   "id": "c3c2d47e",
   "metadata": {},
   "outputs": [
    {
     "name": "stdout",
     "output_type": "stream",
     "text": [
      "acceso concedido True\n"
     ]
    }
   ],
   "source": [
    "#problema 4 Verificación de acesso \n",
    "contraseña=input(\"ingrese su contraseña...Solo texto\")\n",
    "pin=int(input(\"ingese su pin...solo digitos\"))\n",
    "contraseña_correcta=\"alejandro\"\n",
    "pin_correcto=19131724\n",
    "\n",
    "print(\"acceso concedido\",(contraseña_correcta==contraseña) and (pin==pin_correcto))\n",
    "\n",
    "\n",
    "\n"
   ]
  },
  {
   "cell_type": "code",
   "execution_count": 2,
   "id": "0ea31184",
   "metadata": {},
   "outputs": [
    {
     "name": "stdout",
     "output_type": "stream",
     "text": [
      "Mi indice de masa corporal es 26.729927495071667\n"
     ]
    }
   ],
   "source": [
    "#Ejercicio 1: Calculadora de IMC (Índice de Masa Corporal)\n",
    "peso=float(input(\"cual es tu peso\")) #Kg\n",
    "altura=float(input(\"cual es tu altura\")) #m\n",
    "IMC=peso/(altura**2)\n",
    "print(\"Mi indice de masa corporal es\",IMC)"
   ]
  },
  {
   "cell_type": "code",
   "execution_count": 54,
   "id": "bc18632e",
   "metadata": {},
   "outputs": [
    {
     "name": "stdout",
     "output_type": "stream",
     "text": [
      "Lo siente Acceso denegado\n"
     ]
    }
   ],
   "source": [
    "#Ejercicio 2: Decisión de Acceso a un Evento\n",
    "edad=int(input(\"¿me indica su edad por favor\"))\n",
    "ticket_vip_srt=input(\"¿Tiene ticket VIP responda (True/False):\").lower()\n",
    "ticket_vip=  (ticket_vip_srt==\"true\")\n",
    "\n",
    "lista_de_invitado_srt=input(\"¿esta usted en la lista de invitado responda (True/False):\").lower()\n",
    "lista_de_invitado=lista_de_invitado_srt==\"true\"\n",
    "if edad>=18 and ticket_vip:\n",
    "    print(\"Bienvenido al evento acceso permitido\")\n",
    "elif lista_de_invitado:\n",
    "    print(\"Bienvenido al evento acceso permitido\")\n",
    "else:\n",
    "    print(\"Lo siente Acceso denegado\")"
   ]
  },
  {
   "cell_type": "code",
   "execution_count": 57,
   "id": "95cd37e3",
   "metadata": {},
   "outputs": [
    {
     "name": "stdout",
     "output_type": "stream",
     "text": [
      "la Luz esta encendida\n"
     ]
    }
   ],
   "source": [
    "#Ejercicio 3: Estado de la Luz Inteligente\n",
    "interructor_srt=input(\"encendido (True)o apagadp (False)\").lower()\n",
    "interructor_encendido=interructor_srt==\"true\"\n",
    "\n",
    "es_de_srt=input(\"¿dia (True) o noche (False)\").lower()\n",
    "es_de_noche=(es_de_srt)==\"false\"\n",
    "\n",
    "#la luz esta encendida si es de noche y interructor encendido\n",
    "if (interructor_encendido and es_de_noche):\n",
    "    print(\"la Luz esta encendida\")\n",
    "else:\n",
    "    print(\"la Luz esta apagada\")"
   ]
  }
 ],
 "metadata": {
  "kernelspec": {
   "display_name": "Python 3",
   "language": "python",
   "name": "python3"
  },
  "language_info": {
   "codemirror_mode": {
    "name": "ipython",
    "version": 3
   },
   "file_extension": ".py",
   "mimetype": "text/x-python",
   "name": "python",
   "nbconvert_exporter": "python",
   "pygments_lexer": "ipython3",
   "version": "3.13.5"
  }
 },
 "nbformat": 4,
 "nbformat_minor": 5
}
