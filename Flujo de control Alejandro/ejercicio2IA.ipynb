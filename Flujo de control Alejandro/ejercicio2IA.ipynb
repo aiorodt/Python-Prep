{
 "cells": [
  {
   "cell_type": "code",
   "execution_count": 1,
   "id": "5c0dcc48",
   "metadata": {},
   "outputs": [
    {
     "name": "stdout",
     "output_type": "stream",
     "text": [
      "suma pares es: 12\n"
     ]
    }
   ],
   "source": [
    "#Problema 1: Suma de Elementos Pares en una Lista\n",
    "lista=[1,2,3,4,5,6,7]\n",
    "suma_pares=0\n",
    "for n in lista:\n",
    "    if n%2==0:\n",
    "        suma_pares +=n\n",
    "print(\"suma pares es:\",suma_pares)"
   ]
  },
  {
   "cell_type": "code",
   "execution_count": null,
   "metadata": {},
   "outputs": [
    {
     "name": "stdout",
     "output_type": "stream",
     "text": [
      "el nombre es maria\n"
     ]
    }
   ],
   "source": [
    "#Problema 2: Filtrado de Nombres por Inicial\n",
    "lista_nombre=[\"maria\",\"paola\",\"obdulis\",\"alejandra\",\"gipsay\",\"elizabeth\"]\n",
    "letra=input(\"ingrese una letra\").lower()\n",
    "for nombre in lista_nombre:\n",
    "    if nombre[0].lower()==letra:\n",
    "        print(f\"el nombre es {nombre}\")"
   ]
  },
  {
   "cell_type": "code",
   "execution_count": null,
   "id": "718548ec",
   "metadata": {},
   "outputs": [
    {
     "name": "stdout",
     "output_type": "stream",
     "text": [
      "Prin Incorrecto  . le queda 2 intentos\n",
      "Prin Incorrecto  . le queda 1 intentos\n",
      "PIN incorrecto. No le quedan más intentos.\n",
      "cuenta bloqueada\n"
     ]
    }
   ],
   "source": [
    "##Problema 3: Validación de PIN con Intentos Limitados\n",
    "#variables pin\n",
    "pin_correcto=19131724\n",
    "pin_ingresado=0\n",
    "pin_aceptado=False\n",
    "\n",
    "#variables intenos\n",
    "intento_maximo=3\n",
    "intento_restantes=0\n",
    "intento_realizados=0\n",
    "while not pin_aceptado and intento_maximo>intento_realizados:\n",
    "    pin_ingresado=int(input(\"ingrese numero pin\"))\n",
    "    intento_realizados +=1\n",
    "    if pin_ingresado==pin_correcto:\n",
    "        print(\"Acceso concedido\")\n",
    "        pin_aceptado=True\n",
    "        break\n",
    "    else:\n",
    "        if intento_maximo>intento_realizados:\n",
    "            intento_restantes  = intento_maximo - intento_realizados\n",
    "            print(f\"Pin Incorrecto  . le queda {intento_restantes} intentos\")\n",
    "        else:\n",
    "            print(\"PIN incorrecto. No le quedan más intentos.\")\n",
    "if not pin_aceptado:\n",
    "    print(\"cuenta bloqueada\")\n",
    "        \n",
    "\n",
    "\n"
   ]
  },
  {
   "cell_type": "code",
   "execution_count": 86,
   "id": "06d43fdd",
   "metadata": {},
   "outputs": [
    {
     "name": "stdout",
     "output_type": "stream",
     "text": [
      "el numero total de vocales es 3\n"
     ]
    }
   ],
   "source": [
    "#Problema 4: Conteo de Vocales en una Cadena\n",
    "in_frase= input(\"INGRESE UNA FRASE \")\n",
    "contador_vocales=0\n",
    "lista_vocales=\"aeiouAEIOU\"\n",
    "for caracter in in_frase:\n",
    "    if caracter in lista_vocales:\n",
    "        contador_vocales +=1\n",
    "print(f\"el numero total de vocales es {contador_vocales}\")\n",
    "  "
   ]
  },
  {
   "cell_type": "code",
   "execution_count": 135,
   "id": "09b1d5d2",
   "metadata": {},
   "outputs": [
    {
     "name": "stdout",
     "output_type": "stream",
     "text": [
      "Lista original con duplicados: [0, 1, 1, 2, 5, 4, 8, 5, 5, 6, 98, 7, 45, 8]\n",
      "Lista con elementos únicos: [8, 1, 0, 2, 5, 4, 6, 98, 7, 45]\n"
     ]
    }
   ],
   "source": [
    "#Problema 5: Eliminación de Duplicados de una Lista\n",
    "# 1. Define una lista con elementos duplicados.\n",
    "numeros_con_duplicados = [0, 1, 1, 2, 5, 4, 8, 5, 5, 6, 98, 7, 45, 8]\n",
    "print(f\"Lista original con duplicados: {numeros_con_duplicados}\")\n",
    "# 2. Crea una lista vacía para almacenar los elementos únicos.\n",
    "lista_unica = [8,1]\n",
    "for elemento in numeros_con_duplicados:\n",
    "    # 4. Dentro del bucle, usa una condición if para verificar si el elemento actual\n",
    "    # NO está ya en 'lista_unica'.\n",
    "    # El operador 'not in' es perfecto para esto.\n",
    "    if elemento not in lista_unica:\n",
    "        # 5. Si el elemento no está en 'lista_unica', significa que es la primera vez que lo encontramos,\n",
    "        # así que lo añadimos a 'lista_unica'.\n",
    "        lista_unica.append(elemento)\n",
    "# 6. Al final, imprime la lista_unica con los elementos sin duplicados.\n",
    "print(f\"Lista con elementos únicos: {lista_unica}\")\n",
    "\n",
    "       \n",
    "   \n",
    "        \n"
   ]
  },
  {
   "cell_type": "code",
   "execution_count": null,
   "id": "6f22a916",
   "metadata": {},
   "outputs": [
    {
     "name": "stdout",
     "output_type": "stream",
     "text": [
      "numeros positivos [1, 2, 3, 5]y numeros [-4, -8, -10]\n"
     ]
    }
   ],
   "source": [
    "#Clasificar Números en Positivos y No Positivos\n",
    "\n",
    "#Lista de numero enteros\n",
    "numero_enteros=[1,2,3,-4,5,-8,-10]\n",
    "#Contenedores de datos\n",
    "numero_positivos=[]\n",
    "numeros_negativos=[]\n",
    "\n",
    "#variable a recorrer numero\n",
    "#bucle for\n",
    "for numero in numero_enteros:\n",
    "    if numero>0:\n",
    "        numero_positivos.append(numero)\n",
    "    else:\n",
    "        numeros_negativos.append(numero)\n",
    "print(f\"numeros positivos {numero_positivos} y numeros {numeros_negativos}\")"
   ]
  },
  {
   "cell_type": "code",
   "execution_count": 7,
   "id": "fd298c2d",
   "metadata": {},
   "outputs": [
    {
     "name": "stdout",
     "output_type": "stream",
     "text": [
      "las palabras largas son ['alejandro', 'marelibeth', 'paola', 'akuma', 'elinina', 'leonardo'] y las palabras corta son ['mare', 'ela', 'ryo', 'pati']\n"
     ]
    }
   ],
   "source": [
    "#Filtrar Palabras por Longitud\n",
    "# Define una lista_de_palabras\n",
    "lista_palabras=[\"mare\",\"alejandro\",\"ela\",\"marelibeth\",\"paola\",\"ryo\",\"akuma\",\"elinina\",\"pati\",\"leonardo\"]\n",
    "longitud=4\n",
    "palabras_cortas=[]\n",
    "palabras_largas=[]\n",
    "for palabras in lista_palabras:\n",
    "    if len(palabras)>longitud:\n",
    "        palabras_largas.append(palabras)\n",
    "    else:\n",
    "        palabras_cortas.append(palabras)\n",
    "print(f\"las palabras largas son {palabras_largas} y las palabras corta son {palabras_cortas}\")"
   ]
  },
  {
   "cell_type": "code",
   "execution_count": 14,
   "id": "4b47f16d",
   "metadata": {},
   "outputs": [
    {
     "name": "stdout",
     "output_type": "stream",
     "text": [
      "5 x 1 = 5\n",
      "5 x 2 = 10\n",
      "5 x 3 = 15\n",
      "5 x 4 = 20\n",
      "5 x 5 = 25\n",
      "5 x 6 = 30\n",
      "5 x 7 = 35\n",
      "5 x 8 = 40\n",
      "5 x 9 = 45\n",
      "5 x 10 = 50\n"
     ]
    }
   ],
   "source": [
    "#Problema 6: Generador de Tablas de Multiplicar\n",
    "# solicitar un numero \n",
    "numero_ingresado=int(input(\"Ingrese un numero entero\"))\n",
    "\n",
    "for multiplicador in range(1,11):\n",
    "    resultado=numero_ingresado*multiplicador\n",
    "    print(f\"{numero_ingresado} x {multiplicador} = {resultado}\") \n",
    "    "
   ]
  },
  {
   "cell_type": "code",
   "execution_count": 3,
   "id": "0f6f5b1b",
   "metadata": {},
   "outputs": [
    {
     "name": "stdout",
     "output_type": "stream",
     "text": [
      "5.0\n",
      "5.0\n",
      "4.0\n",
      "4.0\n",
      "5.2\n",
      "8337.666666666666\n",
      "7484.428571428572\n"
     ]
    }
   ],
   "source": [
    "#Problema 7: Calculadora de Promedio de Notas\n",
    "#1. Inicializa una lista vacía notas.\n",
    "lista_de_notas_vacia=[]\n",
    "suma_notas=0\n",
    "\n",
    "while True:\n",
    "    usuario_notas=int(input(\"Ingrese notas, solo numeros\"))\n",
    "    if usuario_notas!=-1:\n",
    "        lista_de_notas_vacia.append(usuario_notas)\n",
    "        suma_notas +=usuario_notas\n",
    "        promedio=(suma_notas)/len(lista_de_notas_vacia)\n",
    "        print(promedio)\n",
    "    else:\n",
    "        break\n",
    " "
   ]
  },
  {
   "cell_type": "code",
   "execution_count": null,
   "id": "9a6775f3",
   "metadata": {},
   "outputs": [],
   "source": []
  }
 ],
 "metadata": {
  "kernelspec": {
   "display_name": "Python 3",
   "language": "python",
   "name": "python3"
  },
  "language_info": {
   "codemirror_mode": {
    "name": "ipython",
    "version": 3
   },
   "file_extension": ".py",
   "mimetype": "text/x-python",
   "name": "python",
   "nbconvert_exporter": "python",
   "pygments_lexer": "ipython3",
   "version": "3.13.5"
  }
 },
 "nbformat": 4,
 "nbformat_minor": 5
}
