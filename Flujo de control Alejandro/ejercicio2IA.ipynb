{
 "cells": [
  {
   "cell_type": "code",
   "execution_count": 1,
   "id": "5c0dcc48",
   "metadata": {},
   "outputs": [
    {
     "name": "stdout",
     "output_type": "stream",
     "text": [
      "suma pares es: 12\n"
     ]
    }
   ],
   "source": [
    "#Problema 1: Suma de Elementos Pares en una Lista\n",
    "lista=[1,2,3,4,5,6,7]\n",
    "suma_pares=0\n",
    "for n in lista:\n",
    "    if n%2==0:\n",
    "        suma_pares +=n\n",
    "print(\"suma pares es:\",suma_pares)"
   ]
  },
  {
   "cell_type": "code",
   "execution_count": null,
   "metadata": {},
   "outputs": [
    {
     "name": "stdout",
     "output_type": "stream",
     "text": [
      "el nombre es maria\n"
     ]
    }
   ],
   "source": [
    "#Problema 2: Filtrado de Nombres por Inicial\n",
    "lista_nombre=[\"maria\",\"paola\",\"obdulis\",\"alejandra\",\"gipsay\",\"elizabeth\"]\n",
    "letra=input(\"ingrese una letra\").lower()\n",
    "for nombre in lista_nombre:\n",
    "    if nombre[0].lower()==letra:\n",
    "        print(f\"el nombre es {nombre}\")"
   ]
  },
  {
   "cell_type": "code",
   "execution_count": null,
   "id": "718548ec",
   "metadata": {},
   "outputs": [
    {
     "name": "stdout",
     "output_type": "stream",
     "text": [
      "Prin Incorrecto  . le queda 2 intentos\n",
      "Prin Incorrecto  . le queda 1 intentos\n",
      "PIN incorrecto. No le quedan más intentos.\n",
      "cuenta bloqueada\n"
     ]
    }
   ],
   "source": [
    "##Problema 3: Validación de PIN con Intentos Limitados\n",
    "#variables pin\n",
    "pin_correcto=19131724\n",
    "pin_ingresado=0\n",
    "pin_aceptado=False\n",
    "\n",
    "#variables intenos\n",
    "intento_maximo=3\n",
    "intento_restantes=0\n",
    "intento_realizados=0\n",
    "while not pin_aceptado and intento_maximo>intento_realizados:\n",
    "    pin_ingresado=int(input(\"ingrese numero pin\"))\n",
    "    intento_realizados +=1\n",
    "    if pin_ingresado==pin_correcto:\n",
    "        print(\"Acceso concedido\")\n",
    "        pin_aceptado=True\n",
    "        break\n",
    "    else:\n",
    "        if intento_maximo>intento_realizados:\n",
    "            intento_restantes  = intento_maximo - intento_realizados\n",
    "            print(f\"Pin Incorrecto  . le queda {intento_restantes} intentos\")\n",
    "        else:\n",
    "            print(\"PIN incorrecto. No le quedan más intentos.\")\n",
    "if not pin_aceptado:\n",
    "    print(\"cuenta bloqueada\")\n",
    "        \n",
    "\n",
    "\n"
   ]
  },
  {
   "cell_type": "code",
   "execution_count": 86,
   "id": "06d43fdd",
   "metadata": {},
   "outputs": [
    {
     "name": "stdout",
     "output_type": "stream",
     "text": [
      "el numero total de vocales es 3\n"
     ]
    }
   ],
   "source": [
    "#Problema 4: Conteo de Vocales en una Cadena\n",
    "in_frase= input(\"INGRESE UNA FRASE \")\n",
    "contador_vocales=0\n",
    "lista_vocales=\"aeiouAEIOU\"\n",
    "for caracter in in_frase:\n",
    "    if caracter in lista_vocales:\n",
    "        contador_vocales +=1\n",
    "print(f\"el numero total de vocales es {contador_vocales}\")\n",
    "  "
   ]
  },
  {
   "cell_type": "code",
   "execution_count": 135,
   "id": "09b1d5d2",
   "metadata": {},
   "outputs": [
    {
     "name": "stdout",
     "output_type": "stream",
     "text": [
      "Lista original con duplicados: [0, 1, 1, 2, 5, 4, 8, 5, 5, 6, 98, 7, 45, 8]\n",
      "Lista con elementos únicos: [8, 1, 0, 2, 5, 4, 6, 98, 7, 45]\n"
     ]
    }
   ],
   "source": [
    "#Problema 5: Eliminación de Duplicados de una Lista\n",
    "# 1. Define una lista con elementos duplicados.\n",
    "numeros_con_duplicados = [0, 1, 1, 2, 5, 4, 8, 5, 5, 6, 98, 7, 45, 8]\n",
    "print(f\"Lista original con duplicados: {numeros_con_duplicados}\")\n",
    "# 2. Crea una lista vacía para almacenar los elementos únicos.\n",
    "lista_unica = [8,1]\n",
    "for elemento in numeros_con_duplicados:\n",
    "    # 4. Dentro del bucle, usa una condición if para verificar si el elemento actual\n",
    "    # NO está ya en 'lista_unica'.\n",
    "    # El operador 'not in' es perfecto para esto.\n",
    "    if elemento not in lista_unica:\n",
    "        # 5. Si el elemento no está en 'lista_unica', significa que es la primera vez que lo encontramos,\n",
    "        # así que lo añadimos a 'lista_unica'.\n",
    "        lista_unica.append(elemento)\n",
    "# 6. Al final, imprime la lista_unica con los elementos sin duplicados.\n",
    "print(f\"Lista con elementos únicos: {lista_unica}\")\n",
    "\n",
    "       \n",
    "   \n",
    "        \n"
   ]
  }
 ],
 "metadata": {
  "kernelspec": {
   "display_name": "Python 3",
   "language": "python",
   "name": "python3"
  },
  "language_info": {
   "codemirror_mode": {
    "name": "ipython",
    "version": 3
   },
   "file_extension": ".py",
   "mimetype": "text/x-python",
   "name": "python",
   "nbconvert_exporter": "python",
   "pygments_lexer": "ipython3",
   "version": "3.13.5"
  }
 },
 "nbformat": 4,
 "nbformat_minor": 5
}
