{
 "cells": [
  {
   "cell_type": "code",
   "execution_count": 1,
   "id": "5c0dcc48",
   "metadata": {},
   "outputs": [
    {
     "name": "stdout",
     "output_type": "stream",
     "text": [
      "suma pares es: 12\n"
     ]
    }
   ],
   "source": [
    "#Problema 1: Suma de Elementos Pares en una Lista\n",
    "lista=[1,2,3,4,5,6,7]\n",
    "suma_pares=0\n",
    "for n in lista:\n",
    "    if n%2==0:\n",
    "        suma_pares +=n\n",
    "print(\"suma pares es:\",suma_pares)"
   ]
  },
  {
   "cell_type": "code",
   "execution_count": null,
   "metadata": {},
   "outputs": [
    {
     "name": "stdout",
     "output_type": "stream",
     "text": [
      "el nombre es maria\n"
     ]
    }
   ],
   "source": [
    "#Problema 2: Filtrado de Nombres por Inicial\n",
    "lista_nombre=[\"maria\",\"paola\",\"obdulis\",\"alejandra\",\"gipsay\",\"elizabeth\"]\n",
    "letra=input(\"ingrese una letra\").lower()\n",
    "for nombre in lista_nombre:\n",
    "    if nombre[0].lower()==letra:\n",
    "        print(f\"el nombre es {nombre}\")"
   ]
  },
  {
   "cell_type": "code",
   "execution_count": null,
   "id": "718548ec",
   "metadata": {},
   "outputs": [
    {
     "name": "stdout",
     "output_type": "stream",
     "text": [
      "Prin Incorrecto  . le queda 2 intentos\n",
      "Prin Incorrecto  . le queda 1 intentos\n",
      "PIN incorrecto. No le quedan más intentos.\n",
      "cuenta bloqueada\n"
     ]
    }
   ],
   "source": [
    "##Problema 3: Validación de PIN con Intentos Limitados\n",
    "#variables pin\n",
    "pin_correcto=19131724\n",
    "pin_ingresado=0\n",
    "pin_aceptado=False\n",
    "\n",
    "#variables intenos\n",
    "intento_maximo=3\n",
    "intento_restantes=0\n",
    "intento_realizados=0\n",
    "while not pin_aceptado and intento_maximo>intento_realizados:\n",
    "    pin_ingresado=int(input(\"ingrese numero pin\"))\n",
    "    intento_realizados +=1\n",
    "    if pin_ingresado==pin_correcto:\n",
    "        print(\"Acceso concedido\")\n",
    "        pin_aceptado=True\n",
    "        break\n",
    "    else:\n",
    "        if intento_maximo>intento_realizados:\n",
    "            intento_restantes  = intento_maximo - intento_realizados\n",
    "            print(f\"Pin Incorrecto  . le queda {intento_restantes} intentos\")\n",
    "        else:\n",
    "            print(\"PIN incorrecto. No le quedan más intentos.\")\n",
    "if not pin_aceptado:\n",
    "    print(\"cuenta bloqueada\")\n",
    "        \n",
    "\n",
    "\n"
   ]
  },
  {
   "cell_type": "code",
   "execution_count": 86,
   "id": "06d43fdd",
   "metadata": {},
   "outputs": [
    {
     "name": "stdout",
     "output_type": "stream",
     "text": [
      "el numero total de vocales es 3\n"
     ]
    }
   ],
   "source": [
    "#Problema 4: Conteo de Vocales en una Cadena\n",
    "in_frase= input(\"INGRESE UNA FRASE \")\n",
    "contador_vocales=0\n",
    "lista_vocales=\"aeiouAEIOU\"\n",
    "for caracter in in_frase:\n",
    "    if caracter in lista_vocales:\n",
    "        contador_vocales +=1\n",
    "print(f\"el numero total de vocales es {contador_vocales}\")\n",
    "  "
   ]
  },
  {
   "cell_type": "code",
   "execution_count": 135,
   "id": "09b1d5d2",
   "metadata": {},
   "outputs": [
    {
     "name": "stdout",
     "output_type": "stream",
     "text": [
      "Lista original con duplicados: [0, 1, 1, 2, 5, 4, 8, 5, 5, 6, 98, 7, 45, 8]\n",
      "Lista con elementos únicos: [8, 1, 0, 2, 5, 4, 6, 98, 7, 45]\n"
     ]
    }
   ],
   "source": [
    "#Problema 5: Eliminación de Duplicados de una Lista\n",
    "# 1. Define una lista con elementos duplicados.\n",
    "numeros_con_duplicados = [0, 1, 1, 2, 5, 4, 8, 5, 5, 6, 98, 7, 45, 8]\n",
    "print(f\"Lista original con duplicados: {numeros_con_duplicados}\")\n",
    "# 2. Crea una lista vacía para almacenar los elementos únicos.\n",
    "lista_unica = [8,1]\n",
    "for elemento in numeros_con_duplicados:\n",
    "    # 4. Dentro del bucle, usa una condición if para verificar si el elemento actual\n",
    "    # NO está ya en 'lista_unica'.\n",
    "    # El operador 'not in' es perfecto para esto.\n",
    "    if elemento not in lista_unica:\n",
    "        # 5. Si el elemento no está en 'lista_unica', significa que es la primera vez que lo encontramos,\n",
    "        # así que lo añadimos a 'lista_unica'.\n",
    "        lista_unica.append(elemento)\n",
    "# 6. Al final, imprime la lista_unica con los elementos sin duplicados.\n",
    "print(f\"Lista con elementos únicos: {lista_unica}\")\n",
    "\n",
    "       \n",
    "   \n",
    "        \n"
   ]
  },
  {
   "cell_type": "code",
   "execution_count": null,
   "id": "6f22a916",
   "metadata": {},
   "outputs": [
    {
     "name": "stdout",
     "output_type": "stream",
     "text": [
      "numeros positivos [1, 2, 3, 5]y numeros [-4, -8, -10]\n"
     ]
    }
   ],
   "source": [
    "#Clasificar Números en Positivos y No Positivos\n",
    "\n",
    "#Lista de numero enteros\n",
    "numero_enteros=[1,2,3,-4,5,-8,-10]\n",
    "#Contenedores de datos\n",
    "numero_positivos=[]\n",
    "numeros_negativos=[]\n",
    "\n",
    "#variable a recorrer numero\n",
    "#bucle for\n",
    "for numero in numero_enteros:\n",
    "    if numero>0:\n",
    "        numero_positivos.append(numero)\n",
    "    else:\n",
    "        numeros_negativos.append(numero)\n",
    "print(f\"numeros positivos {numero_positivos} y numeros {numeros_negativos}\")"
   ]
  },
  {
   "cell_type": "code",
   "execution_count": 7,
   "id": "fd298c2d",
   "metadata": {},
   "outputs": [
    {
     "name": "stdout",
     "output_type": "stream",
     "text": [
      "las palabras largas son ['alejandro', 'marelibeth', 'paola', 'akuma', 'elinina', 'leonardo'] y las palabras corta son ['mare', 'ela', 'ryo', 'pati']\n"
     ]
    }
   ],
   "source": [
    "#Filtrar Palabras por Longitud\n",
    "# Define una lista_de_palabras\n",
    "lista_palabras=[\"mare\",\"alejandro\",\"ela\",\"marelibeth\",\"paola\",\"ryo\",\"akuma\",\"elinina\",\"pati\",\"leonardo\"]\n",
    "longitud=4\n",
    "palabras_cortas=[]\n",
    "palabras_largas=[]\n",
    "for palabras in lista_palabras:\n",
    "    if len(palabras)>longitud:\n",
    "        palabras_largas.append(palabras)\n",
    "    else:\n",
    "        palabras_cortas.append(palabras)\n",
    "print(f\"las palabras largas son {palabras_largas} y las palabras corta son {palabras_cortas}\")"
   ]
  },
  {
   "cell_type": "code",
   "execution_count": 14,
   "id": "4b47f16d",
   "metadata": {},
   "outputs": [
    {
     "name": "stdout",
     "output_type": "stream",
     "text": [
      "5 x 1 = 5\n",
      "5 x 2 = 10\n",
      "5 x 3 = 15\n",
      "5 x 4 = 20\n",
      "5 x 5 = 25\n",
      "5 x 6 = 30\n",
      "5 x 7 = 35\n",
      "5 x 8 = 40\n",
      "5 x 9 = 45\n",
      "5 x 10 = 50\n"
     ]
    }
   ],
   "source": [
    "#Problema 6: Generador de Tablas de Multiplicar\n",
    "# solicitar un numero \n",
    "numero_ingresado=int(input(\"Ingrese un numero entero\"))\n",
    "\n",
    "for multiplicador in range(1,11):\n",
    "    resultado=numero_ingresado*multiplicador\n",
    "    print(f\"{numero_ingresado} x {multiplicador} = {resultado}\") \n",
    "    "
   ]
  },
  {
   "cell_type": "code",
   "execution_count": 17,
   "id": "0f6f5b1b",
   "metadata": {},
   "outputs": [
    {
     "name": "stdout",
     "output_type": "stream",
     "text": [
      "\n",
      "El programa calcula el promedio cuando ingrese nota =-1\n",
      "El promedio de notas es 3.00 puntos\n",
      "cantidad de datos para calcular el promerio 7 datos\n"
     ]
    }
   ],
   "source": [
    "#Problema 7: Calculadora de Promedio de Notas\n",
    "#1. Inicializa una lista vacía notas.\n",
    "lista_de_notas_vacia=[]\n",
    "suma_notas=0\n",
    "print(\"\\nEl programa calcula el promedio cuando ingrese nota =-1\")\n",
    "while True:\n",
    "    usuario_notas=int(input(\"Ingrese notas, solo numeros\"))\n",
    "    if usuario_notas!=-1:\n",
    "        lista_de_notas_vacia.append(usuario_notas)\n",
    "        suma_notas +=usuario_notas\n",
    "        promedio=(suma_notas)/len(lista_de_notas_vacia)\n",
    "    else:\n",
    "        break\n",
    "#condicion de impreseion\n",
    "if len(lista_de_notas_vacia)>0:\n",
    "    #imprimir\n",
    "    print(f\"El promedio de notas es {promedio:.2f} puntos\") # :.2f cantidad de decimales\n",
    "    print(f\"cantidad de datos para calcular el promerio {len(lista_de_notas_vacia)} datos\")\n",
    "else:\n",
    "    print(\"No se ingresaron notas para calcular el promedio.\")\n"
   ]
  },
  {
   "cell_type": "code",
   "execution_count": null,
   "id": "54868937",
   "metadata": {},
   "outputs": [
    {
     "name": "stdout",
     "output_type": "stream",
     "text": [
      "la palabra ingresada invertida es oel\n",
      "La palabra ingresada es:leo esta palabra invertida es: oel\n",
      "La palabra/frase ingresada invertida es: oel\n",
      "Invertida con bucle: oel\n"
     ]
    }
   ],
   "source": [
    "#Problema 8: Inversión de Cadena de Texto\n",
    "texto_in_usuario=[input(\"ingrese texto usuario\")]\n",
    "texto_invertido=[]\n",
    "for palabra in texto_in_usuario:\n",
    "    texto_invertido=palabra[::-1]\n",
    "print(f\"la palabra ingresada invertida es {texto_invertido}\")\n",
    "\n",
    "# Problema 8: Inversión de Cadena de Texto otra forma\n",
    "\n",
    "# 1. Pide al usuario una palabra o frase.\n",
    "# La entrada del usuario se almacena directamente como una cadena de texto.\n",
    "texto_ingresado = input(\"Ingrese una palabra o frase para invertir: \")\n",
    "\n",
    "# 2. Invierte la cadena de texto usando slicing.\n",
    "# El slicing [::-1] es la forma más concisa y eficiente de invertir una cadena en Python.\n",
    "texto_invertido = texto_ingresado[::-1]\n",
    "\n",
    "# 3. Imprime la cadena invertida.\n",
    "print(f\"La palabra ingresada es:{texto_ingresado} esta palabra invertida es: {texto_invertido}\")\n",
    "\n"
   ]
  },
  {
   "cell_type": "code",
   "execution_count": 19,
   "id": "74c104b7",
   "metadata": {},
   "outputs": [
    {
     "name": "stdout",
     "output_type": "stream",
     "text": [
      "¡Bienvenido al Juego de Adivinar el Número!\n",
      "Estoy pensando en un número entre 1 y 100. ¡Intenta adivinarlo!\n",
      "Demasiado bajo.Intenta de nuevo.\n",
      "Demasiado bajo.Intenta de nuevo.\n",
      "Demasiado bajo.Intenta de nuevo.\n",
      "Demasiado alto.Intenta de nuevo.\n",
      "Demasiado alto.Intenta de nuevo.\n",
      "Demasiado alto.Intenta de nuevo.\n",
      "Demasiado bajo.Intenta de nuevo.\n",
      "Demasiado bajo.Intenta de nuevo.\n",
      "correcto\n",
      "felicitacion el numero de intento realizado es 9\n"
     ]
    }
   ],
   "source": [
    "#Problema 9: Juego de Adivinar el Número\n",
    "print(\"¡Bienvenido al Juego de Adivinar el Número!\")\n",
    "print(\"Estoy pensando en un número entre 1 y 100. ¡Intenta adivinarlo!\")\n",
    "import random  #se debe importar la variable aleatoria randon para crear los numeros\n",
    "numero_secreto=random.randint(1,100)\n",
    "intentos=0\n",
    "while  intentos>=0 and True:\n",
    "    adivinado=int(input(\"Ingrese un numero de1 al 100\"))\n",
    "    intentos +=1\n",
    "    intentos_total= intentos\n",
    "    if adivinado>numero_secreto:\n",
    "        print(\"Demasiado alto.Intenta de nuevo.\")   \n",
    "    elif adivinado<numero_secreto:\n",
    "        print(\"Demasiado bajo.Intenta de nuevo.\")\n",
    "    else:\n",
    "        print(\"correcto\")\n",
    "        print(f\"felicitacion el numero de intento realizado es {intentos_total}\")\n",
    "        break\n",
    "\n",
    "\n",
    "    "
   ]
  },
  {
   "cell_type": "code",
   "execution_count": null,
   "id": "ebe9276f",
   "metadata": {},
   "outputs": [
    {
     "name": "stdout",
     "output_type": "stream",
     "text": [
      "_____________________________________\n",
      " Bienvenido al gestionador de Tareas \n",
      "_____________________________________\n",
      "----------Menu de Opciones-----------\n",
      "--------- 1. Añadir Tarea------------\n",
      "--------- 2. Ver Tarea-------------- \n",
      "---3. Marcar tarea como completada---\n",
      "------------ 4. SALIR----------------\n",
      "---------Sistema de Añadir Tarea----------\n",
      "TAREA leo añadida. Total de tarea 1\n",
      "_____________________________________\n",
      " Bienvenido al gestionador de Tareas \n",
      "_____________________________________\n",
      "----------Menu de Opciones-----------\n",
      "--------- 1. Añadir Tarea------------\n",
      "--------- 2. Ver Tarea-------------- \n",
      "---3. Marcar tarea como completada---\n",
      "------------ 4. SALIR----------------\n",
      "---------Sistema de Añadir Tarea----------\n",
      "TAREA pan añadida. Total de tarea 2\n",
      "_____________________________________\n",
      " Bienvenido al gestionador de Tareas \n",
      "_____________________________________\n",
      "----------Menu de Opciones-----------\n",
      "--------- 1. Añadir Tarea------------\n",
      "--------- 2. Ver Tarea-------------- \n",
      "---3. Marcar tarea como completada---\n",
      "------------ 4. SALIR----------------\n",
      "---------Sistema de Añadir Tarea----------\n"
     ]
    }
   ],
   "source": [
    "#Problema 10: Lista de Tareas Pendientes Interactiva\n",
    "lista_de_tarea=[]\n",
    "tarea_añadidas=0\n",
    "while True:\n",
    "        print(\"_____________________________________\")\n",
    "        print(\" Bienvenido al gestionador de Tareas \")\n",
    "        print(\"_____________________________________\")\n",
    "        print(\"----------Menu de Opciones-----------\")\n",
    "        print(\"--------- 1. Añadir Tarea------------\")\n",
    "        print(\"--------- 2. Ver Tarea-------------- \")\n",
    "        print(\"---3. Marcar tarea como completada---\") #(eliminar por índice)\n",
    "        print(\"------------ 4. SALIR----------------\")\n",
    "        opcion=int(input(\"ELIGA UNA OPCION\"))\n",
    "        if opcion==1:\n",
    "                print(\"---------Sistema de Añadir Tarea----------\")\n",
    "                añadir_tarea=input(\"INGRESE TAREA\").lower()\n",
    "                lista_de_tarea.append(añadir_tarea)\n",
    "                print(f\"TAREA {añadir_tarea} añadida. Total de tarea {len(lista_de_tarea)}\")\n",
    "        elif lista_de_tarea =='':\n",
    "                print(f\"Lista vacia{lista_de_tarea}\")\n",
    "        "
   ]
  }
 ],
 "metadata": {
  "kernelspec": {
   "display_name": "Python 3",
   "language": "python",
   "name": "python3"
  },
  "language_info": {
   "codemirror_mode": {
    "name": "ipython",
    "version": 3
   },
   "file_extension": ".py",
   "mimetype": "text/x-python",
   "name": "python",
   "nbconvert_exporter": "python",
   "pygments_lexer": "ipython3",
   "version": "3.13.5"
  }
 },
 "nbformat": 4,
 "nbformat_minor": 5
}
