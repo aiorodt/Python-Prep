{
 "cells": [
  {
   "cell_type": "code",
   "execution_count": 1,
   "id": "6f5e1589",
   "metadata": {},
   "outputs": [],
   "source": [
    "a=10\n",
    "b=-5"
   ]
  },
  {
   "cell_type": "code",
   "execution_count": 2,
   "id": "41990b54",
   "metadata": {},
   "outputs": [
    {
     "name": "stdout",
     "output_type": "stream",
     "text": [
      " a es mayor que b\n"
     ]
    }
   ],
   "source": [
    "if a < b: # primera condicion afirmativa\n",
    "    print(\" a es menor que b \") \n",
    "elif a > b: # para agregar una segunda condicion\n",
    "    print(\" a es mayor que b\")\n",
    "else: # si no se cumple ninguna\n",
    "    print(\" a y b son iguales \")"
   ]
  },
  {
   "cell_type": "code",
   "execution_count": 4,
   "id": "54513e1d",
   "metadata": {},
   "outputs": [
    {
     "name": "stdout",
     "output_type": "stream",
     "text": [
      " x es mayor que tres \n"
     ]
    }
   ],
   "source": [
    "x= 34\n",
    "if x <= 3:\n",
    "    print(\" x es menor igual que tres\")\n",
    "elif x > 3:\n",
    "    print(\" x es mayor que tres \")\n",
    "else: \n",
    "    print(\"x que no es mayor que tres \")"
   ]
  },
  {
   "cell_type": "code",
   "execution_count": 5,
   "id": "8e952c6f",
   "metadata": {},
   "outputs": [
    {
     "name": "stdout",
     "output_type": "stream",
     "text": [
      " Soy Menor \n"
     ]
    }
   ],
   "source": [
    "nun=5\n",
    "if nun > 10:\n",
    "    print(\" Soy Mayor \")\n",
    "elif nun < 10:\n",
    "    print(\" Soy Menor \")\n",
    "else:\n",
    "    print(\" Soy Igual \")"
   ]
  },
  {
   "cell_type": "code",
   "execution_count": 11,
   "id": "4c2bdb47",
   "metadata": {},
   "outputs": [
    {
     "name": "stdout",
     "output_type": "stream",
     "text": [
      "sino se cumple ninguna no le regalo a nadie\n"
     ]
    }
   ],
   "source": [
    "Leo = 5 \n",
    "mare =15\n",
    "john = 1\n",
    "if Leo < john:\n",
    "    print(\"le doy un regalo a leo\")\n",
    "elif mare < john:\n",
    "    print(\"le doy un regalo a mare\")\n",
    "elif Leo>mare>john:\n",
    "    print(\"le regalo a leo\")\n",
    "else:\n",
    "    print(\"sino se cumple ninguna no le regalo a nadie\")\n",
    "\n",
    "\n",
    "\n"
   ]
  },
  {
   "cell_type": "code",
   "execution_count": 12,
   "id": "b64e275c",
   "metadata": {},
   "outputs": [
    {
     "name": "stdout",
     "output_type": "stream",
     "text": [
      " no comprar \n"
     ]
    }
   ],
   "source": [
    "leche=20 #dolares\n",
    "if leche <=19:\n",
    "    print(\" comprar \")\n",
    "else:\n",
    "    print(\" no comprar \")"
   ]
  }
 ],
 "metadata": {
  "kernelspec": {
   "display_name": "Python 3",
   "language": "python",
   "name": "python3"
  },
  "language_info": {
   "codemirror_mode": {
    "name": "ipython",
    "version": 3
   },
   "file_extension": ".py",
   "mimetype": "text/x-python",
   "name": "python",
   "nbconvert_exporter": "python",
   "pygments_lexer": "ipython3",
   "version": "3.13.5"
  }
 },
 "nbformat": 4,
 "nbformat_minor": 5
}
