{
 "cells": [
  {
   "cell_type": "code",
   "execution_count": null,
   "id": "920f8ef0",
   "metadata": {},
   "outputs": [
    {
     "name": "stdout",
     "output_type": "stream",
     "text": [
      "la letra no se encuentraFalse\n"
     ]
    }
   ],
   "source": [
    "#Problema 2: Filtrado de Nombres por Inicia\n",
    "lista_de_nombre=[\"alejandro\",\"marelibet\",\"paola\",\"sofia\",\"ingrid\",\"diego\",\"andrez\"]\n",
    "usuario_ingreso=input(\"Ingrese una inicial\")\n",
    "for letra_inicial in lista_de_nombre:\n",
    "    if letra_inicial[0]==usuario_ingreso:\n",
    "        print(f\"el nombre es {letra_inicial}\")\n",
    "\n",
    "    \n",
    "        "
   ]
  },
  {
   "cell_type": "code",
   "execution_count": 2,
   "id": "994b369b",
   "metadata": {},
   "outputs": [
    {
     "name": "stdout",
     "output_type": "stream",
     "text": [
      "La suma de los números pares es: 160\n"
     ]
    }
   ],
   "source": [
    "# Problema 1: Suma de Elementos Pares en una Lista\n",
    "\n",
    "# 1. Define una lista de números enteros.\n",
    "numeros = [2, -10, 25, -30, 45, 80, -42, 50, 10, 100]\n",
    "\n",
    "# 2. Inicializa una variable para acumular la suma de los números pares.\n",
    "suma_pares = 0\n",
    "\n",
    "# 3. Usa un bucle for para recorrer cada número en la lista.\n",
    "for numero in numeros:\n",
    "    # 4. Dentro del bucle, usa una condición if para verificar si el número actual es par.\n",
    "    # Un número es par si el residuo de su división por 2 es 0.\n",
    "    if numero % 2 == 0:\n",
    "        # 5. Si el número es par, súmalo a suma_pares.\n",
    "        suma_pares += numero\n",
    "\n",
    "# 6. Al final, imprime la suma total de los números pares.\n",
    "print(f\"La suma de los números pares es: {suma_pares}\")"
   ]
  },
  {
   "cell_type": "code",
   "execution_count": null,
   "id": "e3ffac15",
   "metadata": {},
   "outputs": [],
   "source": [
    "a"
   ]
  },
  {
   "cell_type": "code",
   "execution_count": 13,
   "id": "1d7bffb7",
   "metadata": {},
   "outputs": [
    {
     "name": "stdout",
     "output_type": "stream",
     "text": [
      "italiano\n"
     ]
    }
   ],
   "source": [
    "#2: Filtrado de Nombres por Inicial\n",
    "nombres=[\"alejandro\",\"paola\",\"pedro\",\"miguel\",\"italiano\"]\n",
    "escribe=input(\"escribe una letra\")\n",
    "for  letra in nombres:\n",
    "   if letra[0]==escribe:\n",
    "      print(letra)"
   ]
  },
  {
   "cell_type": "code",
   "execution_count": 6,
   "id": "e1b85343",
   "metadata": {},
   "outputs": [
    {
     "name": "stdout",
     "output_type": "stream",
     "text": [
      "Acceso concedido\n"
     ]
    }
   ],
   "source": [
    "#Validación de PIN con Intentos Limitados\n",
    "\n",
    "pin_corecto=1986\n",
    "intento_maximo=5\n",
    "intento_realizado=0\n",
    "while intento_realizado<intento_maximo:\n",
    "\n",
    "    if pin_corecto==int(input(\"ingre pin\")):\n",
    "        print(\"Acceso concedido\")\n",
    "        break\n",
    "    else:\n",
    "        intento_realizado+=1\n",
    "        intento_restante=intento_maximo-intento_realizado\n",
    "        print(f\"PIN incorrecto, le quedan {intento_restante} intentos\")\n",
    "        if intento_realizado==intento_maximo:\n",
    "            print(\"cuenta bloqueada\")\n",
    "            \n",
    "        "
   ]
  },
  {
   "cell_type": "code",
   "execution_count": 16,
   "id": "4608e5ac",
   "metadata": {},
   "outputs": [
    {
     "name": "stdout",
     "output_type": "stream",
     "text": [
      "El número total de vocales en la frase es: 1\n"
     ]
    }
   ],
   "source": [
    "#4: Conteo de Vocales en una Cadena\n",
    "frase_ingresada=input(\"ingresa frase\")\n",
    "contador_vocales = 0\n",
    "vocales_permitida=\"aeiouAEIOU\"\n",
    "for caracter in frase_ingresada:\n",
    "    if caracter in vocales_permitida:\n",
    "        contador_vocales+=1\n",
    "print(f\"El número total de vocales en la frase es: {contador_vocales}\")"
   ]
  },
  {
   "cell_type": "code",
   "execution_count": 9,
   "id": "b289cfc4",
   "metadata": {},
   "outputs": [
    {
     "name": "stdout",
     "output_type": "stream",
     "text": [
      "[1, 2, 5, 6, 7, 8, 9]\n"
     ]
    }
   ],
   "source": [
    "#5 Eliminación de Duplicados de una Lista\n",
    "duplicado=[1,1,2,5,7,8,1,1,1,2,5,6,9,8,6]\n",
    "lista_vacia=[]\n",
    "for n in duplicado:\n",
    "    if not n in lista_vacia:\n",
    "        lista_vacia.append(n)\n",
    "        lista_vacia.sort()\n",
    "print(lista_vacia)"
   ]
  },
  {
   "cell_type": "code",
   "execution_count": 13,
   "id": "45571fa5",
   "metadata": {},
   "outputs": [
    {
     "name": "stdout",
     "output_type": "stream",
     "text": [
      "El numero 100 X 1 = 100\n",
      "El numero 100 X 2 = 200\n",
      "El numero 100 X 3 = 300\n",
      "El numero 100 X 4 = 400\n",
      "El numero 100 X 5 = 500\n",
      "El numero 100 X 6 = 600\n",
      "El numero 100 X 7 = 700\n",
      "El numero 100 X 8 = 800\n",
      "El numero 100 X 9 = 900\n",
      "El numero 100 X 10 = 1000\n"
     ]
    }
   ],
   "source": [
    "#6: Generador de Tablas de Multiplica\n",
    "numero=int(input(\"Ingrese un numero de 1 al 10\"))\n",
    "for x in range(1,11):\n",
    "    print(f\"El numero {numero} X {x} = {x*numero}\")"
   ]
  },
  {
   "cell_type": "code",
   "execution_count": 5,
   "id": "bcad79c0",
   "metadata": {},
   "outputs": [
    {
     "name": "stdout",
     "output_type": "stream",
     "text": [
      "El promedio de notas es 4.5\n"
     ]
    }
   ],
   "source": [
    "#Calculadora de Promedio de Notas\n",
    "lista_de_notas=[]\n",
    "suma_de_notas=0\n",
    "while True:\n",
    "    nota=int(input(\"Ingrese un numero/para salir escriba -1\"))\n",
    "    if  nota!=-1 :\n",
    "        lista_de_notas.append(nota)\n",
    "        \n",
    "        suma_de_notas+=nota\n",
    "    \n",
    "    else:\n",
    "        print(f\"El promedio de notas es {suma_de_notas/len(lista_de_notas)}\")\n",
    "        break\n",
    "   \n",
    "\n"
   ]
  },
  {
   "cell_type": "code",
   "execution_count": 1,
   "id": "c29d4d7b",
   "metadata": {},
   "outputs": [
    {
     "name": "stdout",
     "output_type": "stream",
     "text": [
      "El programa calcula el promedio cuando ingrese -1.\n",
      "Ingrese las notas una por una.\n",
      "Nota 10 añadida. Notas actuales: [10]\n",
      "\n",
      "La suma total de las notas es: 10\n",
      "Cantidad de notas ingresadas: 1\n",
      "El promedio de notas es: 10.00\n"
     ]
    }
   ],
   "source": [
    "# Problema 7: Calculadora de Promedio de Notas\n",
    "\n",
    "# 1. Inicializa una lista vacía para almacenar las notas.\n",
    "lista_de_notas = []\n",
    "# 2. Inicializa una variable para acumular la suma de las notas.\n",
    "suma_de_notas = 0\n",
    "\n",
    "print(\"El programa calcula el promedio cuando ingrese -1.\")\n",
    "print(\"Ingrese las notas una por una.\")\n",
    "\n",
    "# Usa un bucle while True para pedir notas repetidamente.\n",
    "while True:\n",
    "    # Pide al usuario una nota y la convierte a entero.\n",
    "    # NOTA: Sin try-except, si el usuario ingresa texto no numérico,\n",
    "    # el programa se detendrá con un ValueError.\n",
    "    nota = int(input(\"Nota (ingrese -1 para terminar): \"))\n",
    "\n",
    "    # Si la nota ingresada es -1, el usuario quiere terminar.\n",
    "    if nota == -1:\n",
    "        # Antes de calcular el promedio, verifica si hay notas en la lista.\n",
    "        # Esto previene un ZeroDivisionError si no se ingresaron notas.\n",
    "        if len(lista_de_notas) > 0:\n",
    "            # Si hay notas, calcula y muestra el promedio.\n",
    "            promedio = suma_de_notas / len(lista_de_notas)\n",
    "            print(f\"\\nLa suma total de las notas es: {suma_de_notas}\")\n",
    "            print(f\"Cantidad de notas ingresadas: {len(lista_de_notas)}\")\n",
    "            print(f\"El promedio de notas es: {promedio:.2f}\") # Formateado a 2 decimales\n",
    "        else:\n",
    "            # Si la lista está vacía, no se puede calcular promedio.\n",
    "            print(\"\\nNo se ingresaron notas para calcular el promedio.\")\n",
    "        break # Sale del bucle while, terminando el programa.\n",
    "    else:\n",
    "        # Si la nota no es -1, la añade a la lista y a la suma.\n",
    "        lista_de_notas.append(nota)\n",
    "        suma_de_notas += nota\n",
    "        print(f\"Nota {nota} añadida. Notas actuales: {lista_de_notas}\") # Mensaje de confirmación\n",
    "\n"
   ]
  },
  {
   "cell_type": "code",
   "execution_count": 16,
   "id": "faa53639",
   "metadata": {},
   "outputs": [
    {
     "name": "stdout",
     "output_type": "stream",
     "text": [
      "oel\n"
     ]
    }
   ],
   "source": [
    "#8: Inversión de Cadena de Texto\n",
    "cadena=input(\"Ingrese una cadena de Texo\")\n",
    "new_cadena=cadena[::-1]\n",
    "print(new_cadena)\n",
    "\n"
   ]
  },
  {
   "cell_type": "code",
   "execution_count": null,
   "id": "089fcc27",
   "metadata": {},
   "outputs": [
    {
     "name": "stdout",
     "output_type": "stream",
     "text": [
      "Denasiado bajo\n",
      "adivina el numero secreto 1 y 10\n",
      "Demasiado alto\n",
      "adivina el numero secreto 1 y 10\n",
      "Denasiado bajo\n",
      "adivina el numero secreto 1 y 10\n",
      "Denasiado bajo\n",
      "adivina el numero secreto 1 y 10\n",
      "Denasiado bajo\n",
      "adivina el numero secreto 1 y 10\n",
      "Denasiado bajo\n",
      "adivina el numero secreto 1 y 10\n",
      "Denasiado bajo\n",
      "adivina el numero secreto 1 y 10\n",
      "Denasiado bajo\n",
      "adivina el numero secreto 1 y 10\n",
      "Denasiado bajo\n",
      "adivina el numero secreto 1 y 10\n"
     ]
    }
   ],
   "source": [
    "numero_secreto=5\n",
    "numero_ingresado=\"\"\n",
    "while numero_secreto!= numero_ingresado:\n",
    "    numero_ingresado = int(input(\"introduce un numero del 1 al 10\"))\n",
    "    if numero_ingresado<numero_secreto:\n",
    "        print (\"Denasiado bajo\")\n",
    "        print (\"adivina el numero secreto 1 y 10\")\n",
    "    elif numero_ingresado>numero_secreto:\n",
    "        print (\"Demasiado alto\")\n",
    "        print (\"adivina el numero secreto 1 y 10\")\n",
    "print(\"¡Felicidades! Adivinaste el número\")\n",
    "\n",
    "#esta malo\n"
   ]
  },
  {
   "cell_type": "code",
   "execution_count": 18,
   "id": "72ecd647",
   "metadata": {},
   "outputs": [
    {
     "name": "stdout",
     "output_type": "stream",
     "text": [
      "¡Bienvenido al Juego de Adivinar el Número!\n",
      "Estoy pensando en un número aleatorio entre 1 y 10. ¡Intenta adivinarlo!\n",
      "Demasiado alto. Intenta de nuevo.\n",
      "Demasiado alto. Intenta de nuevo.\n",
      "¡Felicidades! Adivinaste el número 5 en 3 intentos.\n"
     ]
    }
   ],
   "source": [
    "# Problema 9: Juego de Adivinar el Número\n",
    "\n",
    "import random # Importamos el módulo random para generar números aleatorios\n",
    "\n",
    "# 1. Genera un número secreto aleatorio entre 1 y 10.\n",
    "# Esto asegura que el juego sea diferente cada vez que se ejecuta.\n",
    "numero_secreto = random.randint(1, 10)\n",
    "\n",
    "# 2. Inicializa la suposición del usuario con un valor que no sea el número secreto.\n",
    "# Esto asegura que el bucle 'while' se ejecute al menos una vez.\n",
    "# Usamos un valor fuera del rango (ej. 0) o un valor que sabemos que no es el secreto.\n",
    "suposicion_usuario = 0\n",
    "\n",
    "# Inicializa el contador de intentos en 0.\n",
    "intentos = 0\n",
    "\n",
    "print(\"¡Bienvenido al Juego de Adivinar el Número!\")\n",
    "print(\"Estoy pensando en un número aleatorio entre 1 y 10. ¡Intenta adivinarlo!\")\n",
    "\n",
    "# 3. Usa un bucle while para que el juego continúe hasta que el usuario adivine.\n",
    "# El bucle seguirá mientras la suposición del usuario sea diferente al número secreto.\n",
    "while suposicion_usuario != numero_secreto:\n",
    "    # Incrementa el contador de intentos al inicio de cada intento.\n",
    "    intentos += 1\n",
    "    \n",
    "    # 4. Pide al usuario que ingrese su intento y conviértelo a entero.\n",
    "    # NOTA: Si el usuario ingresa texto no numérico, el programa dará un ValueError aquí.\n",
    "    # Si esto te causa problemas, podemos ver cómo manejar ese tipo de error en el futuro.\n",
    "    suposicion_usuario = int(input(\"Introduce tu número: \"))\n",
    "    \n",
    "    # 5. Usa if-elif-else para dar pistas: \"Demasiado alto\" o \"Demasiado bajo\".\n",
    "    if suposicion_usuario < numero_secreto:\n",
    "        print(\"Demasiado bajo. Intenta de nuevo.\")\n",
    "    elif suposicion_usuario > numero_secreto:\n",
    "        print(\"Demasiado alto. Intenta de nuevo.\")\n",
    "    # Si la suposición es igual al número secreto, el bucle terminará y el mensaje final se imprimirá.\n",
    "\n",
    "# 6. Cuando adivine, imprime un mensaje de felicitación y cuántos intentos le tomó.\n",
    "# Este print se ejecuta solo cuando el bucle termina porque la condición 'suposicion_usuario != numero_secreto' se hizo False.\n",
    "print(f\"¡Felicidades! Adivinaste el número {numero_secreto} en {intentos} intentos.\")\n"
   ]
  },
  {
   "cell_type": "code",
   "execution_count": null,
   "id": "2841367c",
   "metadata": {},
   "outputs": [
    {
     "name": "stdout",
     "output_type": "stream",
     "text": [
      "sistema de gestio de tarea\n",
      " 1. Añadir Tarea \n",
      " 2. Ver tarea \n",
      " 3. Marcar Tarea completa (eliminar por indice)\n",
      " 4. Salir\n",
      "La tarea numero 1.bañarme\n",
      "La tarea numero 2.cocinar\n",
      "La tarea numero 3.estudiar\n",
      "La tarea numero 4.salir\n",
      "La tarea numero 5.bañar el perro\n",
      "La tarea numero 6.salir con esposa\n",
      "La tarea numero 1.bañarme\n",
      "La tarea numero 2.cocinar\n",
      "La tarea numero 3.estudiar\n",
      "La tarea numero 4.salir\n",
      "La tarea numero 5.bañar el perro\n",
      "La tarea numero 6.salir con esposa\n",
      "La tarea numero 7.ñeo\n"
     ]
    }
   ],
   "source": [
    "# 10: Lista de Tareas Pendientes Interactiva\n",
    "tareas_pendientes=[\"bañarme\",\"cocinar\",\"estudiar\",\"salir\",\"bañar el perro\",\"salir con esposa\"]\n",
    "\n",
    "print(\"sistema de gestio de tarea\")\n",
    "print(\" 1. Añadir Tarea \")\n",
    "print(\" 2. Ver tarea \")\n",
    "print(\" 3. Marcar Tarea completa (eliminar por indice)\")\n",
    "print(\" 4. Salir\")\n",
    "\n",
    "while True:\n",
    "    opcion=int(input(\"ingrese numero del 1 al 4 segun la operacion a arealiza\"))\n",
    "    if opcion==1: #añadir tarea\n",
    "        tarea_new=input(\"ingresar tarea\").lower()\n",
    "        tareas_pendientes.append((tarea_new))\n",
    "    elif opcion==2: #ver tarea\n",
    "        if not tareas_pendientes:\n",
    "            print(\"No Tienes Tareas pendiente\")       \n",
    "        for n, n_tareas_pendientes in enumerate(tareas_pendientes):\n",
    "                print(f\"La tarea numero {n+1}.{n_tareas_pendientes}\")"
   ]
  }
 ],
 "metadata": {
  "kernelspec": {
   "display_name": "Python 3",
   "language": "python",
   "name": "python3"
  },
  "language_info": {
   "codemirror_mode": {
    "name": "ipython",
    "version": 3
   },
   "file_extension": ".py",
   "mimetype": "text/x-python",
   "name": "python",
   "nbconvert_exporter": "python",
   "pygments_lexer": "ipython3",
   "version": "3.13.5"
  }
 },
 "nbformat": 4,
 "nbformat_minor": 5
}
