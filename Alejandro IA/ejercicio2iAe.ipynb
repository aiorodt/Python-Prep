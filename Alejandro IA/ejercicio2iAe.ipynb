{
 "cells": [
  {
   "cell_type": "code",
   "execution_count": null,
   "id": "920f8ef0",
   "metadata": {},
   "outputs": [
    {
     "name": "stdout",
     "output_type": "stream",
     "text": [
      "la letra no se encuentraFalse\n"
     ]
    }
   ],
   "source": [
    "#Problema 2: Filtrado de Nombres por Inicia\n",
    "lista_de_nombre=[\"alejandro\",\"marelibet\",\"paola\",\"sofia\",\"ingrid\",\"diego\",\"andrez\"]\n",
    "usuario_ingreso=input(\"Ingrese una inicial\")\n",
    "for letra_inicial in lista_de_nombre:\n",
    "    if letra_inicial[0]==usuario_ingreso:\n",
    "        print(f\"el nombre es {letra_inicial}\")\n",
    "\n",
    "    \n",
    "        "
   ]
  },
  {
   "cell_type": "code",
   "execution_count": 2,
   "id": "994b369b",
   "metadata": {},
   "outputs": [
    {
     "name": "stdout",
     "output_type": "stream",
     "text": [
      "La suma de los números pares es: 160\n"
     ]
    }
   ],
   "source": [
    "# Problema 1: Suma de Elementos Pares en una Lista\n",
    "\n",
    "# 1. Define una lista de números enteros.\n",
    "numeros = [2, -10, 25, -30, 45, 80, -42, 50, 10, 100]\n",
    "\n",
    "# 2. Inicializa una variable para acumular la suma de los números pares.\n",
    "suma_pares = 0\n",
    "\n",
    "# 3. Usa un bucle for para recorrer cada número en la lista.\n",
    "for numero in numeros:\n",
    "    # 4. Dentro del bucle, usa una condición if para verificar si el número actual es par.\n",
    "    # Un número es par si el residuo de su división por 2 es 0.\n",
    "    if numero % 2 == 0:\n",
    "        # 5. Si el número es par, súmalo a suma_pares.\n",
    "        suma_pares += numero\n",
    "\n",
    "# 6. Al final, imprime la suma total de los números pares.\n",
    "print(f\"La suma de los números pares es: {suma_pares}\")"
   ]
  },
  {
   "cell_type": "code",
   "execution_count": null,
   "id": "e3ffac15",
   "metadata": {},
   "outputs": [],
   "source": [
    "a"
   ]
  },
  {
   "cell_type": "code",
   "execution_count": 13,
   "id": "1d7bffb7",
   "metadata": {},
   "outputs": [
    {
     "name": "stdout",
     "output_type": "stream",
     "text": [
      "italiano\n"
     ]
    }
   ],
   "source": [
    "#2: Filtrado de Nombres por Inicial\n",
    "nombres=[\"alejandro\",\"paola\",\"pedro\",\"miguel\",\"italiano\"]\n",
    "escribe=input(\"escribe una letra\")\n",
    "for  letra in nombres:\n",
    "   if letra[0]==escribe:\n",
    "      print(letra)"
   ]
  },
  {
   "cell_type": "code",
   "execution_count": 6,
   "id": "e1b85343",
   "metadata": {},
   "outputs": [
    {
     "name": "stdout",
     "output_type": "stream",
     "text": [
      "Acceso concedido\n"
     ]
    }
   ],
   "source": [
    "#Validación de PIN con Intentos Limitados\n",
    "\n",
    "pin_corecto=1986\n",
    "intento_maximo=5\n",
    "intento_realizado=0\n",
    "while intento_realizado<intento_maximo:\n",
    "\n",
    "    if pin_corecto==int(input(\"ingre pin\")):\n",
    "        print(\"Acceso concedido\")\n",
    "        break\n",
    "    else:\n",
    "        intento_realizado+=1\n",
    "        intento_restante=intento_maximo-intento_realizado\n",
    "        print(f\"PIN incorrecto, le quedan {intento_restante} intentos\")\n",
    "        if intento_realizado==intento_maximo:\n",
    "            print(\"cuenta bloqueada\")\n",
    "            \n",
    "        "
   ]
  },
  {
   "cell_type": "code",
   "execution_count": null,
   "id": "4608e5ac",
   "metadata": {},
   "outputs": [],
   "source": []
  }
 ],
 "metadata": {
  "kernelspec": {
   "display_name": "Python 3",
   "language": "python",
   "name": "python3"
  },
  "language_info": {
   "codemirror_mode": {
    "name": "ipython",
    "version": 3
   },
   "file_extension": ".py",
   "mimetype": "text/x-python",
   "name": "python",
   "nbconvert_exporter": "python",
   "pygments_lexer": "ipython3",
   "version": "3.13.5"
  }
 },
 "nbformat": 4,
 "nbformat_minor": 5
}
