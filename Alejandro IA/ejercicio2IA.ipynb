{
 "cells": [
  {
   "cell_type": "code",
   "execution_count": 2,
   "id": "5c0dcc48",
   "metadata": {},
   "outputs": [
    {
     "name": "stdout",
     "output_type": "stream",
     "text": [
      "suma pares es: 12\n"
     ]
    }
   ],
   "source": [
    "#Problema 1: Suma de Elementos Pares en una Lista\n",
    "lista=[1,2,3,4,5,6,7]\n",
    "suma_pares=0\n",
    "for n in lista:\n",
    "    if n%2==0:\n",
    "        suma_pares +=n\n",
    "print(\"suma pares es:\",suma_pares)"
   ]
  },
  {
   "cell_type": "code",
   "execution_count": null,
   "metadata": {},
   "outputs": [],
   "source": [
    "#Problema 2: Filtrado de Nombres por Inicial\n",
    "lista_nombre=[\"maria\",\"paola\",\"obdulis\",\"alejandra\",\"gipsay\",\"elizabeth\"]\n",
    "letra=input(\"ingrese una letra\").lower()\n",
    "for nombre in lista_nombre:\n",
    "    if nombre[0].lower()==letra:\n",
    "        print(f\"el nombre es {nombre}\")"
   ]
  },
  {
   "cell_type": "code",
   "execution_count": null,
   "id": "718548ec",
   "metadata": {},
   "outputs": [
    {
     "name": "stdout",
     "output_type": "stream",
     "text": [
      "Prin Incorrecto  . le queda 2 intentos\n",
      "Prin Incorrecto  . le queda 1 intentos\n",
      "PIN incorrecto. No le quedan más intentos.\n",
      "cuenta bloqueada\n"
     ]
    }
   ],
   "source": [
    "##Problema 3: Validación de PIN con Intentos Limitados\n",
    "#variables pin\n",
    "pin_correcto=19131724\n",
    "pin_ingresado=0\n",
    "pin_aceptado=False\n",
    "\n",
    "#variables intenos\n",
    "intento_maximo=3\n",
    "intento_restantes=0\n",
    "intento_realizados=0\n",
    "while not pin_aceptado and intento_maximo>intento_realizados:\n",
    "    pin_ingresado=int(input(\"ingrese numero pin\"))\n",
    "    intento_realizados +=1\n",
    "    if pin_ingresado==pin_correcto:\n",
    "        print(\"Acceso concedido\")\n",
    "        pin_aceptado=True\n",
    "        break\n",
    "    else:\n",
    "        if intento_maximo>intento_realizados:\n",
    "            intento_restantes  = intento_maximo - intento_realizados\n",
    "            print(f\"Pin Incorrecto  . le queda {intento_restantes} intentos\")\n",
    "        else:\n",
    "            print(\"PIN incorrecto. No le quedan más intentos.\")\n",
    "if not pin_aceptado:\n",
    "    print(\"cuenta bloqueada\")\n",
    "        \n",
    "\n",
    "\n"
   ]
  },
  {
   "cell_type": "code",
   "execution_count": null,
   "id": "06d43fdd",
   "metadata": {},
   "outputs": [
    {
     "name": "stdout",
     "output_type": "stream",
     "text": [
      "el numero total de vocales es 3\n"
     ]
    }
   ],
   "source": [
    "#Problema 4: Conteo de Vocales en una Cadena\n",
    "in_frase= input(\"INGRESE UNA FRASE \")\n",
    "contador_vocales=0\n",
    "lista_vocales=\"aeiouAEIOU\"\n",
    "for caracter in in_frase:\n",
    "    if caracter in lista_vocales:\n",
    "        contador_vocales +=1\n",
    "print(f\"el numero total de vocales es {contador_vocales}\")\n",
    "  "
   ]
  },
  {
   "cell_type": "code",
   "execution_count": null,
   "id": "09b1d5d2",
   "metadata": {},
   "outputs": [
    {
     "name": "stdout",
     "output_type": "stream",
     "text": [
      "Lista original con duplicados: [0, 1, 1, 2, 5, 4, 8, 5, 5, 6, 98, 7, 45, 8]\n",
      "Lista con elementos únicos: [8, 1, 0, 2, 5, 4, 6, 98, 7, 45]\n"
     ]
    }
   ],
   "source": [
    "#Problema 5: Eliminación de Duplicados de una Lista\n",
    "# 1. Define una lista con elementos duplicados.\n",
    "numeros_con_duplicados = [0, 1, 1, 2, 5, 4, 8, 5, 5, 6, 98, 7, 45, 8]\n",
    "print(f\"Lista original con duplicados: {numeros_con_duplicados}\")\n",
    "# 2. Crea una lista vacía para almacenar los elementos únicos.\n",
    "lista_unica = [8,1]\n",
    "for elemento in numeros_con_duplicados:\n",
    "    # 4. Dentro del bucle, usa una condición if para verificar si el elemento actual\n",
    "    # NO está ya en 'lista_unica'.\n",
    "    # El operador 'not in' es perfecto para esto.\n",
    "    if elemento not in lista_unica:\n",
    "        # 5. Si el elemento no está en 'lista_unica', significa que es la primera vez que lo encontramos,\n",
    "        # así que lo añadimos a 'lista_unica'.\n",
    "        lista_unica.append(elemento)\n",
    "# 6. Al final, imprime la lista_unica con los elementos sin duplicados.\n",
    "print(f\"Lista con elementos únicos: {lista_unica}\")\n",
    "\n",
    "       \n",
    "   \n",
    "        \n"
   ]
  },
  {
   "cell_type": "code",
   "execution_count": null,
   "id": "6f22a916",
   "metadata": {},
   "outputs": [
    {
     "name": "stdout",
     "output_type": "stream",
     "text": [
      "numeros positivos [1, 2, 3, 5]y numeros [-4, -8, -10]\n"
     ]
    }
   ],
   "source": [
    "#Clasificar Números en Positivos y No Positivos\n",
    "\n",
    "#Lista de numero enteros\n",
    "numero_enteros=[1,2,3,-4,5,-8,-10]\n",
    "#Contenedores de datos\n",
    "numero_positivos=[]\n",
    "numeros_negativos=[]\n",
    "\n",
    "#variable a recorrer numero\n",
    "#bucle for\n",
    "for numero in numero_enteros:\n",
    "    if numero>0:\n",
    "        numero_positivos.append(numero)\n",
    "    else:\n",
    "        numeros_negativos.append(numero)\n",
    "print(f\"numeros positivos {numero_positivos} y numeros {numeros_negativos}\")"
   ]
  },
  {
   "cell_type": "code",
   "execution_count": null,
   "id": "fd298c2d",
   "metadata": {},
   "outputs": [
    {
     "name": "stdout",
     "output_type": "stream",
     "text": [
      "las palabras largas son ['alejandro', 'marelibeth', 'paola', 'akuma', 'elinina', 'leonardo'] y las palabras corta son ['mare', 'ela', 'ryo', 'pati']\n"
     ]
    }
   ],
   "source": [
    "#Filtrar Palabras por Longitud\n",
    "# Define una lista_de_palabras\n",
    "lista_palabras=[\"mare\",\"alejandro\",\"ela\",\"marelibeth\",\"paola\",\"ryo\",\"akuma\",\"elinina\",\"pati\",\"leonardo\"]\n",
    "longitud=4\n",
    "palabras_cortas=[]\n",
    "palabras_largas=[]\n",
    "for palabras in lista_palabras:\n",
    "    if len(palabras)>longitud:\n",
    "        palabras_largas.append(palabras)\n",
    "    else:\n",
    "        palabras_cortas.append(palabras)\n",
    "print(f\"las palabras largas son {palabras_largas} y las palabras corta son {palabras_cortas}\")"
   ]
  },
  {
   "cell_type": "code",
   "execution_count": null,
   "id": "4b47f16d",
   "metadata": {},
   "outputs": [
    {
     "name": "stdout",
     "output_type": "stream",
     "text": [
      "5 x 1 = 5\n",
      "5 x 2 = 10\n",
      "5 x 3 = 15\n",
      "5 x 4 = 20\n",
      "5 x 5 = 25\n",
      "5 x 6 = 30\n",
      "5 x 7 = 35\n",
      "5 x 8 = 40\n",
      "5 x 9 = 45\n",
      "5 x 10 = 50\n"
     ]
    }
   ],
   "source": [
    "#Problema 6: Generador de Tablas de Multiplicar\n",
    "# solicitar un numero \n",
    "numero_ingresado=int(input(\"Ingrese un numero entero\"))\n",
    "\n",
    "for multiplicador in range(1,11):\n",
    "    resultado=numero_ingresado*multiplicador\n",
    "    print(f\"{numero_ingresado} x {multiplicador} = {resultado}\") \n",
    "    "
   ]
  },
  {
   "cell_type": "code",
   "execution_count": null,
   "id": "0f6f5b1b",
   "metadata": {},
   "outputs": [
    {
     "name": "stdout",
     "output_type": "stream",
     "text": [
      "\n",
      "El programa calcula el promedio cuando ingrese nota =-1\n",
      "El promedio de notas es 3.00 puntos\n",
      "cantidad de datos para calcular el promerio 7 datos\n"
     ]
    }
   ],
   "source": [
    "#Problema 7: Calculadora de Promedio de Notas\n",
    "#1. Inicializa una lista vacía notas.\n",
    "lista_de_notas_vacia=[]\n",
    "suma_notas=0\n",
    "print(\"\\nEl programa calcula el promedio cuando ingrese nota =-1\")\n",
    "while True:\n",
    "    usuario_notas=int(input(\"Ingrese notas, solo numeros\"))\n",
    "    if usuario_notas!=-1:\n",
    "        lista_de_notas_vacia.append(usuario_notas)\n",
    "        suma_notas +=usuario_notas\n",
    "        promedio=(suma_notas)/len(lista_de_notas_vacia)\n",
    "    else:\n",
    "        break\n",
    "#condicion de impreseion\n",
    "if len(lista_de_notas_vacia)>0:\n",
    "    #imprimir\n",
    "    print(f\"El promedio de notas es {promedio:.2f} puntos\") # :.2f cantidad de decimales\n",
    "    print(f\"cantidad de datos para calcular el promerio {len(lista_de_notas_vacia)} datos\")\n",
    "else:\n",
    "    print(\"No se ingresaron notas para calcular el promedio.\")\n"
   ]
  },
  {
   "cell_type": "code",
   "execution_count": null,
   "id": "54868937",
   "metadata": {},
   "outputs": [
    {
     "name": "stdout",
     "output_type": "stream",
     "text": [
      "la palabra ingresada invertida es oel\n",
      "La palabra ingresada es:leo esta palabra invertida es: oel\n",
      "La palabra/frase ingresada invertida es: oel\n",
      "Invertida con bucle: oel\n"
     ]
    }
   ],
   "source": [
    "#Problema 8: Inversión de Cadena de Texto\n",
    "texto_in_usuario=[input(\"ingrese texto usuario\")]\n",
    "texto_invertido=[]\n",
    "for palabra in texto_in_usuario:\n",
    "    texto_invertido=palabra[::-1]\n",
    "print(f\"la palabra ingresada invertida es {texto_invertido}\")\n",
    "\n",
    "# Problema 8: Inversión de Cadena de Texto otra forma\n",
    "\n",
    "# 1. Pide al usuario una palabra o frase.\n",
    "# La entrada del usuario se almacena directamente como una cadena de texto.\n",
    "texto_ingresado = input(\"Ingrese una palabra o frase para invertir: \")\n",
    "\n",
    "# 2. Invierte la cadena de texto usando slicing.\n",
    "# El slicing [::-1] es la forma más concisa y eficiente de invertir una cadena en Python.\n",
    "texto_invertido = texto_ingresado[::-1]\n",
    "\n",
    "# 3. Imprime la cadena invertida.\n",
    "print(f\"La palabra ingresada es:{texto_ingresado} esta palabra invertida es: {texto_invertido}\")\n",
    "\n"
   ]
  },
  {
   "cell_type": "code",
   "execution_count": null,
   "id": "74c104b7",
   "metadata": {},
   "outputs": [
    {
     "name": "stdout",
     "output_type": "stream",
     "text": [
      "¡Bienvenido al Juego de Adivinar el Número!\n",
      "Estoy pensando en un número entre 1 y 100. ¡Intenta adivinarlo!\n",
      "Demasiado bajo.Intenta de nuevo.\n",
      "Demasiado bajo.Intenta de nuevo.\n",
      "Demasiado bajo.Intenta de nuevo.\n",
      "Demasiado alto.Intenta de nuevo.\n",
      "Demasiado alto.Intenta de nuevo.\n",
      "Demasiado alto.Intenta de nuevo.\n",
      "Demasiado bajo.Intenta de nuevo.\n",
      "Demasiado bajo.Intenta de nuevo.\n",
      "correcto\n",
      "felicitacion el numero de intento realizado es 9\n"
     ]
    }
   ],
   "source": [
    "#Problema 9: Juego de Adivinar el Número\n",
    "print(\"¡Bienvenido al Juego de Adivinar el Número!\")\n",
    "print(\"Estoy pensando en un número entre 1 y 100. ¡Intenta adivinarlo!\")\n",
    "import random  #se debe importar la variable aleatoria randon para crear los numeros\n",
    "numero_secreto=random.randint(1,100)\n",
    "intentos=0\n",
    "while  intentos>=0 and True:\n",
    "    adivinado=int(input(\"Ingrese un numero de1 al 100\"))\n",
    "    intentos +=1\n",
    "    intentos_total= intentos\n",
    "    if adivinado>numero_secreto:\n",
    "        print(\"Demasiado alto.Intenta de nuevo.\")   \n",
    "    elif adivinado<numero_secreto:\n",
    "        print(\"Demasiado bajo.Intenta de nuevo.\")\n",
    "    else:\n",
    "        print(\"correcto\")\n",
    "        print(f\"felicitacion el numero de intento realizado es {intentos_total}\")\n",
    "        break\n",
    "\n",
    "\n",
    "    "
   ]
  },
  {
   "cell_type": "code",
   "execution_count": null,
   "id": "d649e4b6",
   "metadata": {},
   "outputs": [],
   "source": []
  },
  {
   "cell_type": "code",
   "execution_count": null,
   "id": "ebe9276f",
   "metadata": {},
   "outputs": [
    {
     "name": "stdout",
     "output_type": "stream",
     "text": [
      "\n",
      "_____________________________________\n",
      "  Bienvenido al Gestionador de Tareas  \n",
      "_____________________________________\n",
      "----------- Menú de Opciones --------\n",
      "--------- 1. Añadir Tarea-----------\n",
      "--------- 2. Ver Tareas-------------\n",
      "---3. Marcar tarea como completada---\n",
      "------------ 4. Salir---------------\n",
      "------------------------------------\n",
      "\n",
      "--------- Sus Tareas Pendientes ----------\n",
      "No tiene tareas pendientes en este momento.\n",
      "\n",
      "_____________________________________\n",
      "  Bienvenido al Gestionador de Tareas  \n",
      "_____________________________________\n",
      "----------- Menú de Opciones --------\n",
      "--------- 1. Añadir Tarea-----------\n",
      "--------- 2. Ver Tareas-------------\n",
      "---3. Marcar tarea como completada---\n",
      "------------ 4. Salir---------------\n",
      "------------------------------------\n",
      "\n",
      "--------- Sistema de Añadir Tarea ----------\n",
      "Tarea 'Maria' añadida. Total de tareas: 1.\n",
      "\n",
      "_____________________________________\n",
      "  Bienvenido al Gestionador de Tareas  \n",
      "_____________________________________\n",
      "----------- Menú de Opciones --------\n",
      "--------- 1. Añadir Tarea-----------\n",
      "--------- 2. Ver Tareas-------------\n",
      "---3. Marcar tarea como completada---\n",
      "------------ 4. Salir---------------\n",
      "------------------------------------\n",
      "\n",
      "--------- Sistema de Añadir Tarea ----------\n",
      "Tarea 'Pedro' añadida. Total de tareas: 2.\n",
      "\n",
      "_____________________________________\n",
      "  Bienvenido al Gestionador de Tareas  \n",
      "_____________________________________\n",
      "----------- Menú de Opciones --------\n",
      "--------- 1. Añadir Tarea-----------\n",
      "--------- 2. Ver Tareas-------------\n",
      "---3. Marcar tarea como completada---\n",
      "------------ 4. Salir---------------\n",
      "------------------------------------\n",
      "\n",
      "--------- Sus Tareas Pendientes ----------\n",
      "Lista de Tareas:\n",
      "1. Maria\n",
      "2. Pedro\n",
      "\n",
      "_____________________________________\n",
      "  Bienvenido al Gestionador de Tareas  \n",
      "_____________________________________\n",
      "----------- Menú de Opciones --------\n",
      "--------- 1. Añadir Tarea-----------\n",
      "--------- 2. Ver Tareas-------------\n",
      "---3. Marcar tarea como completada---\n",
      "------------ 4. Salir---------------\n",
      "------------------------------------\n",
      "\n",
      "--------- Sus Tareas Pendientes ----------\n",
      "Lista de Tareas:\n",
      "1. Maria\n",
      "2. Pedro\n",
      "\n",
      "_____________________________________\n",
      "  Bienvenido al Gestionador de Tareas  \n",
      "_____________________________________\n",
      "----------- Menú de Opciones --------\n",
      "--------- 1. Añadir Tarea-----------\n",
      "--------- 2. Ver Tareas-------------\n",
      "---3. Marcar tarea como completada---\n",
      "------------ 4. Salir---------------\n",
      "------------------------------------\n",
      "\n",
      "--------- Sus Tareas Pendientes ----------\n",
      "Lista de Tareas:\n",
      "1. Maria\n",
      "2. Pedro\n",
      "\n",
      "_____________________________________\n",
      "  Bienvenido al Gestionador de Tareas  \n",
      "_____________________________________\n",
      "----------- Menú de Opciones --------\n",
      "--------- 1. Añadir Tarea-----------\n",
      "--------- 2. Ver Tareas-------------\n",
      "---3. Marcar tarea como completada---\n",
      "------------ 4. Salir---------------\n",
      "------------------------------------\n",
      "\n",
      "--------- Sus Tareas Pendientes ----------\n",
      "Lista de Tareas:\n",
      "1. Maria\n",
      "2. Pedro\n",
      "\n",
      "_____________________________________\n",
      "  Bienvenido al Gestionador de Tareas  \n",
      "_____________________________________\n",
      "----------- Menú de Opciones --------\n",
      "--------- 1. Añadir Tarea-----------\n",
      "--------- 2. Ver Tareas-------------\n",
      "---3. Marcar tarea como completada---\n",
      "------------ 4. Salir---------------\n",
      "------------------------------------\n",
      "\n",
      "--------- Marcar Tarea Completada ----------\n",
      "Tareas actuales:\n",
      "1. Maria\n",
      "2. Pedro\n"
     ]
    }
   ],
   "source": [
    "# Problema 10: Lista de Tareas Pendientes Interactiva\n",
    "\n",
    "# 1. Inicializa una lista vacía para almacenar las tareas pendientes.\n",
    "tareas_pendientes = []\n",
    "\n",
    "# Usa un bucle while True (un bucle infinito) para mostrar un menú de opciones\n",
    "# y permitir al usuario elegir acciones repetidamente hasta que decida salir.\n",
    "while True:\n",
    "    # El menú se imprime en cada iteración para que el usuario siempre vea las opciones disponibles.\n",
    "    print(\"\\n_____________________________________\")\n",
    "    print(\"  Bienvenido al Gestionador de Tareas  \")\n",
    "    print(\"_____________________________________\")\n",
    "    print(\"----------- Menú de Opciones --------\")\n",
    "    print(\"--------- 1. Añadir Tarea-----------\")\n",
    "    print(\"--------- 2. Ver Tareas-------------\")\n",
    "    print(\"---3. Marcar tarea como completada---\") # (eliminar por índice)\n",
    "    print(\"------------ 4. Salir---------------\")\n",
    "    print(\"------------------------------------\")\n",
    "\n",
    "    # 3. Pide al usuario que elija una opción.\n",
    "    # Nota: Sin 'try-except', si el usuario ingresa algo que no es un número,\n",
    "    # el programa se detendrá con un error (ValueError).\n",
    "    opcion = int(input(\"Elija una opción: \"))\n",
    "\n",
    "    # 4. Usa if-elif-else para ejecutar la acción correspondiente:\n",
    "\n",
    "    # Opción 1: Añadir Tarea\n",
    "    if opcion == 1:\n",
    "        print(\"\\n--------- Sistema de Añadir Tarea ----------\")\n",
    "        nueva_tarea = input(\"Ingrese la tarea a añadir: \").lower().strip() # .strip() elimina espacios en blanco al inicio/final.\n",
    "\n",
    "        # Verifica si la tarea no está vacía antes de añadirla.\n",
    "        if nueva_tarea: # Una cadena vacía se evalúa como False en un contexto booleano.\n",
    "            tareas_pendientes.append(nueva_tarea)\n",
    "            print(f\"Tarea '{nueva_tarea.capitalize()}' añadida. Total de tareas: {len(tareas_pendientes)}.\")\n",
    "        else:\n",
    "            print(\"No se puede añadir una tarea vacía.\")\n",
    "\n",
    "    # Opción 2: Ver Tareas\n",
    "    elif opcion == 2:\n",
    "        print(\"\\n--------- Sus Tareas Pendientes ----------\")\n",
    "        # Verifica si la lista de tareas está vacía.\n",
    "        if not tareas_pendientes: # Esta es la forma correcta y concisa de comprobar si una lista está vacía.\n",
    "            print(\"No tiene tareas pendientes en este momento.\")\n",
    "        else:\n",
    "            # Imprime todas las tareas con su índice (empezando desde 1 para el usuario).\n",
    "            print(\"Lista de Tareas:\")\n",
    "            for indice, tarea in enumerate(tareas_pendientes):\n",
    "                print(f\"{indice + 1}. {tarea.capitalize()}\") # .capitalize() mejora la presentación de la tarea.\n",
    "\n",
    "    # Opción 3: Marcar tarea como completada (eliminar por índice)\n",
    "    elif opcion == 3:\n",
    "        print(\"\\n--------- Marcar Tarea Completada ----------\")\n",
    "        if not tareas_pendientes:\n",
    "            print(\"No hay tareas para marcar como completadas en este momento.\")\n",
    "            continue # Vuelve al menú principal.\n",
    "\n",
    "        # Primero, muestra las tareas actuales con sus números para que el usuario pueda elegir.\n",
    "        print(\"Tareas actuales:\")\n",
    "        for indice, tarea in enumerate(tareas_pendientes):\n",
    "            print(f\"{indice + 1}. {tarea.capitalize()}\")\n",
    "\n",
    "        # Nota: Sin 'try-except', si el usuario ingresa algo que no es un número,\n",
    "        # o un número fuera de rango, el programa se detendrá con un error (ValueError o IndexError).\n",
    "        numero_tarea_a_eliminar = int(input(\"Ingrese el NÚMERO de la tarea a marcar como completada: \"))\n",
    "        indice_a_eliminar = numero_tarea_a_eliminar - 1\n",
    "\n",
    "        # Asegúrate de que el índice ingresado sea válido.\n",
    "        if 0 <= indice_a_eliminar < len(tareas_pendientes):\n",
    "            # .pop() elimina el elemento en el índice dado y lo devuelve.\n",
    "            tarea_eliminada = tareas_pendientes.pop(indice_a_eliminar)\n",
    "            print(f\"Tarea '{tarea_eliminada.capitalize()}' marcada como completada y eliminada.\")\n",
    "        else:\n",
    "            print(\"¡Error! Número de tarea inválido. Por favor, ingrese un número existente en la lista.\")\n",
    "\n",
    "\n",
    "    # Opción 4: Salir del programa\n",
    "    elif opcion == 4:\n",
    "        print(\"\\nGracias por usar el Gestionador de Tareas. ¡Hasta pronto!\")\n",
    "        break # Usa 'break' para terminar el bucle 'while True' y finalizar el programa.\n",
    "\n",
    "    # Maneja entradas numéricas que no corresponden a ninguna opción válida (ej. 5, 0, -2).\n",
    "    else:\n",
    "        print(\"\\nOpción inválida. Por favor, ingrese un número del 1 al 4.\")\n",
    "\n",
    "\n",
    "                \n",
    "                "
   ]
  }
 ],
 "metadata": {
  "kernelspec": {
   "display_name": "Python 3",
   "language": "python",
   "name": "python3"
  },
  "language_info": {
   "codemirror_mode": {
    "name": "ipython",
    "version": 3
   },
   "file_extension": ".py",
   "mimetype": "text/x-python",
   "name": "python",
   "nbconvert_exporter": "python",
   "pygments_lexer": "ipython3",
   "version": "3.13.5"
  }
 },
 "nbformat": 4,
 "nbformat_minor": 5
}
