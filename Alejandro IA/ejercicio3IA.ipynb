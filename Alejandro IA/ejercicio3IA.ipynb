{
 "cells": [
  {
   "cell_type": "code",
   "execution_count": 55,
   "id": "ecd514c3",
   "metadata": {},
   "outputs": [
    {
     "name": "stdout",
     "output_type": "stream",
     "text": [
      "\n",
      "Informacion del producto\n",
      "\n",
      "Titulo de la pelicula: Dragon ball\n",
      "\n",
      "Director: jose angel martinez\n",
      "\n",
      "Año de lanzamiento: 1986\n",
      "\n",
      "-----GENERO------\n",
      " -anime\n",
      " -infantil\n",
      "\n",
      "Duracion 50 minutos\n"
     ]
    }
   ],
   "source": [
    "#Problema 1: Perfil de Película\n",
    "#creacion de Dicionario\n",
    "pelicula={\n",
    "    \"titulo\":\"Dragon ball\",\n",
    "    \"director\": \"jose angel martinez\",\n",
    "    \"año de lanzamiento\": 1986,\n",
    "    \"genero\": (\"anime\",\"infantil\"),\n",
    "    \"duracion\":50}\n",
    "# Extraccion de informacion con variable inof y descrip\n",
    "print(f\"\\nInformacion del producto\") \n",
    "print(f\"\\nTitulo de la pelicula: {pelicula[\"titulo\"]}\") \n",
    "print(f\"\\nDirector: {pelicula[\"director\"]}\")\n",
    "print(f\"\\nAño de lanzamiento: {pelicula[\"año de lanzamiento\"]}\")\n",
    "print(f\"\\n-----GENERO------\")\n",
    "#HAY QUE INTERAR \n",
    "for genero in pelicula[\"genero\"]:\n",
    "    print(f\" -{genero}\")\n",
    "print(f\"\\nDuracion {pelicula[\"duracion\"]} minutos\")\n",
    "\n",
    "\n",
    "\n",
    " #for inof, desprip in pelicula.items():"
   ]
  }
 ],
 "metadata": {
  "kernelspec": {
   "display_name": "Python 3",
   "language": "python",
   "name": "python3"
  },
  "language_info": {
   "codemirror_mode": {
    "name": "ipython",
    "version": 3
   },
   "file_extension": ".py",
   "mimetype": "text/x-python",
   "name": "python",
   "nbconvert_exporter": "python",
   "pygments_lexer": "ipython3",
   "version": "3.13.5"
  }
 },
 "nbformat": 4,
 "nbformat_minor": 5
}
