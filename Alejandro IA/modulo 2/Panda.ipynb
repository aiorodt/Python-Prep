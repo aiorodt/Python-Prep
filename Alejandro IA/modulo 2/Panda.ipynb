{
 "cells": [
  {
   "cell_type": "code",
   "execution_count": 31,
   "id": "e01e9f29",
   "metadata": {},
   "outputs": [
    {
     "name": "stdout",
     "output_type": "stream",
     "text": [
      "0    10\n",
      "1    11\n",
      "2    12\n",
      "3    13\n",
      "4    14\n",
      "5    15\n",
      "dtype: int64\n"
     ]
    }
   ],
   "source": [
    "import pandas as pd\n",
    "#1. ¡Tu primera Serie! \n",
    "numero=[10,11,12,13,14,15]\n",
    "mis_numeros=pd.Series(numero)\n",
    "print(mis_numeros)"
   ]
  },
  {
   "cell_type": "code",
   "execution_count": 32,
   "id": "0942b113",
   "metadata": {},
   "outputs": [
    {
     "name": "stdout",
     "output_type": "stream",
     "text": [
      "FRUTAS\n",
      "Manzana     5\n",
      "Naranja    10\n",
      "Pera        8\n",
      "dtype: int64\n",
      "\n"
     ]
    }
   ],
   "source": [
    "import pandas as pd\n",
    "#2. ¡Con etiquetas!\n",
    "serie_frutas={\"Manzana\":5,\n",
    "        \"Naranja\":10,\n",
    "        \"Pera\":8\n",
    "}\n",
    "frutas=pd.Series(serie_frutas)\n",
    "print(f\"FRUTAS\\n{frutas}\\n\")"
   ]
  },
  {
   "cell_type": "code",
   "execution_count": 33,
   "id": "48992ca8",
   "metadata": {},
   "outputs": [
    {
     "name": "stdout",
     "output_type": "stream",
     "text": [
      "CAPITALES\n",
      "Italia               Roma\n",
      "Venezuela         Caracas\n",
      "Argentina    Buenos Aires\n",
      "Francia             Paris\n",
      "Peru                 Lima\n",
      "dtype: object\n",
      "\n"
     ]
    }
   ],
   "source": [
    "import pandas as pd\n",
    "#3. ¡Desde un diccionario!\n",
    "Serie_capitales={\n",
    "    \"Italia\":\"Roma\",\n",
    "    \"Venezuela\":\"Caracas\",\n",
    "    \"Argentina\":\"Buenos Aires\",\n",
    "    \"Francia\":\"Paris\",\n",
    "    \"Peru\":\"Lima\"\n",
    "}\n",
    "capitales=pd.Series(Serie_capitales)\n",
    "print(f\"CAPITALES\\n{capitales}\\n\")"
   ]
  },
  {
   "cell_type": "code",
   "execution_count": 34,
   "metadata": {},
   "outputs": [
    {
     "name": "stdout",
     "output_type": "stream",
     "text": [
      "El primer Valor es: 10\n"
     ]
    }
   ],
   "source": [
    "#4. ¡Selección fácil!\n",
    "#Seleccion por posición\n",
    "seleccion_primero_valor=mis_numeros[0]\n",
    "print(f\"El primer Valor es: {seleccion_primero_valor}\")"
   ]
  },
  {
   "cell_type": "code",
   "execution_count": 35,
   "id": "ecaf923d",
   "metadata": {},
   "outputs": [
    {
     "name": "stdout",
     "output_type": "stream",
     "text": [
      "La cantidad de Manzana es : 5\n"
     ]
    }
   ],
   "source": [
    "#5. ¡Por nombre!\n",
    "seleccion_por_nombre=frutas[\"Manzana\"]\n",
    "print(f\"La cantidad de Manzana es : {seleccion_por_nombre}\")\n"
   ]
  },
  {
   "cell_type": "code",
   "execution_count": 36,
   "id": "d5cf8185",
   "metadata": {},
   "outputs": [
    {
     "name": "stdout",
     "output_type": "stream",
     "text": [
      "INVENTARIO DE FRUTAS SELECCIONADA\n",
      "Naranja    10\n",
      "Pera        8\n",
      "dtype: int64\n",
      "\n"
     ]
    }
   ],
   "source": [
    "#6 ¡Varios a la vez! \n",
    "import pandas as pd\n",
    "seleccion_varios=frutas[[\"Naranja\",\"Pera\"]]\n",
    "print(f\"INVENTARIO DE FRUTAS SELECCIONADA\\n{seleccion_varios}\\n\")"
   ]
  },
  {
   "cell_type": "code",
   "execution_count": 45,
   "id": "bff001e6",
   "metadata": {},
   "outputs": [
    {
     "name": "stdout",
     "output_type": "stream",
     "text": [
      "Datos de Personas\n",
      "  personas  edad\n",
      "0     juan    30\n",
      "1      ana    25\n",
      "2    pedro    35\n",
      "\n"
     ]
    }
   ],
   "source": [
    "# Sección 2: Creando y Manipulando DataFrames 📊\n",
    "#7. ¡DataFrame de personas! \n",
    "datos_de_personas={\n",
    "    \"personas\":[\"juan\",\"ana\",\"pedro\"],\n",
    "    \"edad\":[30,25,35]\n",
    "}\n",
    "df_personas=pd.DataFrame(datos_de_personas)\n",
    "print(f\"Datos de Personas\\n{df_personas}\\n\")"
   ]
  },
  {
   "cell_type": "code",
   "execution_count": 38,
   "id": "69ff2e2c",
   "metadata": {},
   "outputs": [
    {
     "name": "stdout",
     "output_type": "stream",
     "text": [
      "muestra la forma de df_personas en filas y columnna (3, 2)\n",
      "La forma de df_personas es (filas, columnas): (5, 3)\n",
      "------------------------------\n",
      "El DataFrame 'df_personas' tiene 5 filas.\n",
      "El DataFrame 'df_personas' tiene 3 columnas.\n"
     ]
    }
   ],
   "source": [
    "#8. ¡Míralo bien! .shape\n",
    "print(f\"muestra la forma de df_personas en filas y columnna {df_personas.shape}\")\n",
    "\n",
    "# Importamos la librería pandas\n",
    "import pandas as pd\n",
    "\n",
    "# Creamos un DataFrame de ejemplo\n",
    "datos = {\n",
    "    'Nombre': ['Ana', 'Juan', 'Pedro', 'María', 'Luis'],\n",
    "    'Edad': [25, 30, 35, 28, 42],\n",
    "    'Ciudad': ['Madrid', 'Barcelona', 'Valencia', 'Sevilla', 'Bilbao']\n",
    "}\n",
    "df_personas2 = pd.DataFrame(datos)\n",
    "\n",
    "# --- MÉTODOS PARA MOSTRAR LA FORMA DEL DATAFRAME ---\n",
    "\n",
    "# Opción 1: Muestra la forma como una tupla (filas, columnas)\n",
    "# El código original funciona, solo corregimos el error de escritura.\n",
    "print(f\"La forma de df_personas es (filas, columnas): {df_personas2.shape}\")\n",
    "\n",
    "# Opción 2: Un método más común y claro para mostrar las filas y columnas por separado\n",
    "# El atributo .shape devuelve una tupla, por lo que podemos desempaquetarla.\n",
    "num_filas, num_columnas = df_personas2.shape\n",
    "\n",
    "print(\"-\" * 30)\n",
    "print(f\"El DataFrame 'df_personas' tiene {num_filas} filas.\")\n",
    "print(f\"El DataFrame 'df_personas' tiene {num_columnas} columnas.\")\n",
    "\n",
    "\n"
   ]
  },
  {
   "cell_type": "code",
   "execution_count": 41,
   "id": "ac8c3e43",
   "metadata": {},
   "outputs": [
    {
     "name": "stdout",
     "output_type": "stream",
     "text": [
      "NOMBRE DE LA COLUMNA 1 personas\n",
      "NOMBRE DE LA COLUMNA 2 edad\n"
     ]
    }
   ],
   "source": [
    "import pandas as pd\n",
    "#9. ¡Nombres de columnas! .columns\n",
    "columna_1,columna_2=df_personas.columns\n",
    "print(f\"NOMBRE DE LA COLUMNA 1 {columna_1}\")\n",
    "print(f\"NOMBRE DE LA COLUMNA 2 {columna_2}\")\n",
    "\n",
    "\n"
   ]
  },
  {
   "cell_type": "code",
   "execution_count": 44,
   "id": "123efedb",
   "metadata": {},
   "outputs": [
    {
     "name": "stdout",
     "output_type": "stream",
     "text": [
      "La columna\n",
      "   personas\n",
      "0     juan\n",
      "1      ana\n",
      "2    pedro\n",
      "\n"
     ]
    }
   ],
   "source": [
    "#10. ¡Una sola columna!\n",
    "#Selecciono la columna nombre\n",
    "columna_nombre=df_personas[[\"personas\"]]\n",
    "print(f\"La columna\\n {columna_nombre}\\n\")"
   ]
  },
  {
   "cell_type": "code",
   "execution_count": 47,
   "id": "d0fc9826",
   "metadata": {},
   "outputs": [
    {
     "name": "stdout",
     "output_type": "stream",
     "text": [
      "  personas  edad\n",
      "0     juan    30\n",
      "1      ana    25\n",
      "2    pedro    35\n"
     ]
    }
   ],
   "source": [
    "#11. ¡Seleccionando dos! \n",
    "columna_nombres_columna_edad=df_personas[[\"personas\",\"edad\"]]\n",
    "print(columna_nombres_columna_edad)\n"
   ]
  },
  {
   "cell_type": "code",
   "execution_count": 49,
   "id": "963cc367",
   "metadata": {},
   "outputs": [
    {
     "name": "stdout",
     "output_type": "stream",
     "text": [
      "Actualizacion de datos personas\n",
      "  personas  edad     ciudad\n",
      "0     juan    30     Madrid\n",
      "1      ana    25  Barcelona\n",
      "2    pedro    35   Valencia\n",
      "\n"
     ]
    }
   ],
   "source": [
    "#12. ¡Agrega un dato nuevo! \n",
    "df_personas[\"ciudad\"]=[\"Madrid\",\"Barcelona\",\"Valencia\"]\n",
    "print(f\"Actualizacion de datos personas\\n{df_personas}\\n\")"
   ]
  },
  {
   "cell_type": "code",
   "execution_count": null,
   "id": "5ba1a5e0",
   "metadata": {},
   "outputs": [
    {
     "name": "stdout",
     "output_type": "stream",
     "text": [
      "contenido del DataFrame\n",
      "     Producto  Precio  Cantidad\n",
      "0       leche    2.00         1\n",
      "1      tomate    0.10        10\n",
      "2         pan    1.20         1\n",
      "3  harina_pan    0.99         6\n",
      "4     galleta    1.50         1\n",
      "5       pizza    1.30         4\n",
      "6       sushi   14.00         2\n",
      "\n",
      "---VISTA TABLA---\n"
     ]
    },
    {
     "data": {
      "text/html": [
       "<div>\n",
       "<style scoped>\n",
       "    .dataframe tbody tr th:only-of-type {\n",
       "        vertical-align: middle;\n",
       "    }\n",
       "\n",
       "    .dataframe tbody tr th {\n",
       "        vertical-align: top;\n",
       "    }\n",
       "\n",
       "    .dataframe thead th {\n",
       "        text-align: right;\n",
       "    }\n",
       "</style>\n",
       "<table border=\"1\" class=\"dataframe\">\n",
       "  <thead>\n",
       "    <tr style=\"text-align: right;\">\n",
       "      <th></th>\n",
       "      <th>Producto</th>\n",
       "      <th>Precio</th>\n",
       "      <th>Cantidad</th>\n",
       "    </tr>\n",
       "  </thead>\n",
       "  <tbody>\n",
       "    <tr>\n",
       "      <th>0</th>\n",
       "      <td>leche</td>\n",
       "      <td>2.00</td>\n",
       "      <td>1</td>\n",
       "    </tr>\n",
       "    <tr>\n",
       "      <th>1</th>\n",
       "      <td>tomate</td>\n",
       "      <td>0.10</td>\n",
       "      <td>10</td>\n",
       "    </tr>\n",
       "    <tr>\n",
       "      <th>2</th>\n",
       "      <td>pan</td>\n",
       "      <td>1.20</td>\n",
       "      <td>1</td>\n",
       "    </tr>\n",
       "    <tr>\n",
       "      <th>3</th>\n",
       "      <td>harina_pan</td>\n",
       "      <td>0.99</td>\n",
       "      <td>6</td>\n",
       "    </tr>\n",
       "    <tr>\n",
       "      <th>4</th>\n",
       "      <td>galleta</td>\n",
       "      <td>1.50</td>\n",
       "      <td>1</td>\n",
       "    </tr>\n",
       "    <tr>\n",
       "      <th>5</th>\n",
       "      <td>pizza</td>\n",
       "      <td>1.30</td>\n",
       "      <td>4</td>\n",
       "    </tr>\n",
       "    <tr>\n",
       "      <th>6</th>\n",
       "      <td>sushi</td>\n",
       "      <td>14.00</td>\n",
       "      <td>2</td>\n",
       "    </tr>\n",
       "  </tbody>\n",
       "</table>\n",
       "</div>"
      ],
      "text/plain": [
       "     Producto  Precio  Cantidad\n",
       "0       leche    2.00         1\n",
       "1      tomate    0.10        10\n",
       "2         pan    1.20         1\n",
       "3  harina_pan    0.99         6\n",
       "4     galleta    1.50         1\n",
       "5       pizza    1.30         4\n",
       "6       sushi   14.00         2"
      ]
     },
     "metadata": {},
     "output_type": "display_data"
    }
   ],
   "source": [
    "#13. ¡Cargando el archivo! \n",
    "import pandas as pd\n",
    "from IPython.display import display #para visualizan en tabla \n",
    "df_ventas = pd.read_csv(\"VENTAS.csv\")\n",
    "print(f\"contenido del DataFrame\")\n",
    "print(df_ventas)\n",
    "\n",
    "print(\"\\n---VISTA TABLA---\")\n",
    "display(df_ventas)"
   ]
  },
  {
   "cell_type": "code",
   "execution_count": null,
   "id": "86d15dd4",
   "metadata": {},
   "outputs": [
    {
     "name": "stdout",
     "output_type": "stream",
     "text": [
      "\n",
      "---- MUESTRA DE CINCO DATOS ----\n"
     ]
    },
    {
     "data": {
      "text/html": [
       "<div>\n",
       "<style scoped>\n",
       "    .dataframe tbody tr th:only-of-type {\n",
       "        vertical-align: middle;\n",
       "    }\n",
       "\n",
       "    .dataframe tbody tr th {\n",
       "        vertical-align: top;\n",
       "    }\n",
       "\n",
       "    .dataframe thead th {\n",
       "        text-align: right;\n",
       "    }\n",
       "</style>\n",
       "<table border=\"1\" class=\"dataframe\">\n",
       "  <thead>\n",
       "    <tr style=\"text-align: right;\">\n",
       "      <th></th>\n",
       "      <th>Producto</th>\n",
       "      <th>Precio</th>\n",
       "      <th>Cantidad</th>\n",
       "    </tr>\n",
       "  </thead>\n",
       "  <tbody>\n",
       "    <tr>\n",
       "      <th>0</th>\n",
       "      <td>leche</td>\n",
       "      <td>2.00</td>\n",
       "      <td>1</td>\n",
       "    </tr>\n",
       "    <tr>\n",
       "      <th>1</th>\n",
       "      <td>tomate</td>\n",
       "      <td>0.10</td>\n",
       "      <td>10</td>\n",
       "    </tr>\n",
       "    <tr>\n",
       "      <th>2</th>\n",
       "      <td>pan</td>\n",
       "      <td>1.20</td>\n",
       "      <td>1</td>\n",
       "    </tr>\n",
       "    <tr>\n",
       "      <th>3</th>\n",
       "      <td>harina_pan</td>\n",
       "      <td>0.99</td>\n",
       "      <td>6</td>\n",
       "    </tr>\n",
       "    <tr>\n",
       "      <th>4</th>\n",
       "      <td>galleta</td>\n",
       "      <td>1.50</td>\n",
       "      <td>1</td>\n",
       "    </tr>\n",
       "  </tbody>\n",
       "</table>\n",
       "</div>"
      ],
      "text/plain": [
       "     Producto  Precio  Cantidad\n",
       "0       leche    2.00         1\n",
       "1      tomate    0.10        10\n",
       "2         pan    1.20         1\n",
       "3  harina_pan    0.99         6\n",
       "4     galleta    1.50         1"
      ]
     },
     "metadata": {},
     "output_type": "display_data"
    }
   ],
   "source": [
    "#14. ¡Un primer vistazo! .head\n",
    "import pandas as pd\n",
    "from IPython.display import display\n",
    "muestra_5_datos_ventas=df_ventas.head()\n",
    "print(\"\\n---- MUESTRA DE CINCO DATOS ----\")\n",
    "display(muestra_5_datos_ventas)"
   ]
  },
  {
   "cell_type": "code",
   "execution_count": 20,
   "id": "962dd38e",
   "metadata": {},
   "outputs": [
    {
     "name": "stdout",
     "output_type": "stream",
     "text": [
      "\n",
      "--ULTIMA 3 FILAS--\n"
     ]
    },
    {
     "data": {
      "text/html": [
       "<div>\n",
       "<style scoped>\n",
       "    .dataframe tbody tr th:only-of-type {\n",
       "        vertical-align: middle;\n",
       "    }\n",
       "\n",
       "    .dataframe tbody tr th {\n",
       "        vertical-align: top;\n",
       "    }\n",
       "\n",
       "    .dataframe thead th {\n",
       "        text-align: right;\n",
       "    }\n",
       "</style>\n",
       "<table border=\"1\" class=\"dataframe\">\n",
       "  <thead>\n",
       "    <tr style=\"text-align: right;\">\n",
       "      <th></th>\n",
       "      <th>Producto</th>\n",
       "      <th>Precio</th>\n",
       "      <th>Cantidad</th>\n",
       "    </tr>\n",
       "  </thead>\n",
       "  <tbody>\n",
       "    <tr>\n",
       "      <th>4</th>\n",
       "      <td>galleta</td>\n",
       "      <td>1.5</td>\n",
       "      <td>1</td>\n",
       "    </tr>\n",
       "    <tr>\n",
       "      <th>5</th>\n",
       "      <td>pizza</td>\n",
       "      <td>1.3</td>\n",
       "      <td>4</td>\n",
       "    </tr>\n",
       "    <tr>\n",
       "      <th>6</th>\n",
       "      <td>sushi</td>\n",
       "      <td>14.0</td>\n",
       "      <td>2</td>\n",
       "    </tr>\n",
       "  </tbody>\n",
       "</table>\n",
       "</div>"
      ],
      "text/plain": [
       "  Producto  Precio  Cantidad\n",
       "4  galleta     1.5         1\n",
       "5    pizza     1.3         4\n",
       "6    sushi    14.0         2"
      ]
     },
     "metadata": {},
     "output_type": "display_data"
    }
   ],
   "source": [
    "# 15. ¡Una mirada al final! .tail\n",
    "import pandas as pd\n",
    "from IPython.display import display\n",
    "ultimas_3_filas=df_ventas.tail(3)\n",
    "print(\"\\n--ULTIMA 3 FILAS--\")\n",
    "display(ultimas_3_filas)"
   ]
  },
  {
   "cell_type": "code",
   "execution_count": 28,
   "id": "efab49d9",
   "metadata": {},
   "outputs": [
    {
     "name": "stdout",
     "output_type": "stream",
     "text": [
      "<class 'pandas.core.frame.DataFrame'>\n",
      "RangeIndex: 7 entries, 0 to 6\n",
      "Data columns (total 3 columns):\n",
      " #   Column    Non-Null Count  Dtype  \n",
      "---  ------    --------------  -----  \n",
      " 0   Producto  7 non-null      object \n",
      " 1   Precio    7 non-null      float64\n",
      " 2   Cantidad  7 non-null      int64  \n",
      "dtypes: float64(1), int64(1), object(1)\n",
      "memory usage: 300.0+ bytes\n"
     ]
    }
   ],
   "source": [
    "#16. ¡Resumen rápido! .info\n",
    "import pandas as pd\n",
    "\n",
    "resumen_ventas=df_ventas.info()\n",
    "\n"
   ]
  },
  {
   "cell_type": "code",
   "execution_count": 35,
   "id": "8816181e",
   "metadata": {},
   "outputs": [
    {
     "name": "stdout",
     "output_type": "stream",
     "text": [
      "Estadistica de DateFrame\n",
      "          Precio   Cantidad\n",
      "count   7.000000   7.000000\n",
      "mean    3.012857   3.571429\n",
      "std     4.879019   3.408672\n",
      "min     0.100000   1.000000\n",
      "25%     1.095000   1.000000\n",
      "50%     1.300000   2.000000\n",
      "75%     1.750000   5.000000\n",
      "max    14.000000  10.000000\n",
      "\n",
      "El precio promedio de los productos lo podemos observar en la media que es de aproximadamente de 3.012857\n"
     ]
    }
   ],
   "source": [
    "# 17. ¡Estadísticas mágicas!.describe()\n",
    "estadistica_ventas=df_ventas.describe()\n",
    "print(f\"Estadistica de DateFrame\\n{estadistica_ventas}\\n\")\n",
    "print(\"El precio promedio de los productos lo podemos observar en la media que es de aproximadamente de 3.012857\") "
   ]
  },
  {
   "cell_type": "code",
   "execution_count": null,
   "id": "0cdbc862",
   "metadata": {},
   "outputs": [
    {
     "name": "stdout",
     "output_type": "stream",
     "text": [
      "Tipo de la variable producto es object\n"
     ]
    }
   ],
   "source": [
    "#18. ¡Más detalles! .dtype\n",
    "import pandas as pd\n",
    "df_ventas = pd.read_csv(\"VENTAS.csv\")\n",
    "tipo_de_datos_columna_producto=df_ventas[\"Producto\"].dtype\n",
    "print(f\"Tipo de la variable producto es {tipo_de_datos_columna_producto}\")\n"
   ]
  },
  {
   "cell_type": "code",
   "execution_count": 40,
   "id": "91157b5a",
   "metadata": {},
   "outputs": [
    {
     "name": "stdout",
     "output_type": "stream",
     "text": [
      "Datos Estadistico de la Columna precio \n",
      "count     7.000000\n",
      "mean      3.012857\n",
      "std       4.879019\n",
      "min       0.100000\n",
      "25%       1.095000\n",
      "50%       1.300000\n",
      "75%       1.750000\n",
      "max      14.000000\n",
      "Name: Precio, dtype: float64\n",
      "\n"
     ]
    }
   ],
   "source": [
    "# 19. ¡Combinando!\n",
    "import pandas as pd\n",
    "df_ventas = pd.read_csv(\"VENTAS.csv\")\n",
    "estadistica_precio=df_ventas[\"Precio\"].describe()\n",
    "print(f\"Datos Estadistico de la Columna precio \\n{estadistica_precio}\\n\")"
   ]
  },
  {
   "cell_type": "code",
   "execution_count": 41,
   "metadata": {},
   "outputs": [
    {
     "name": "stdout",
     "output_type": "stream",
     "text": [
      "<class 'pandas.core.series.Series'>\n",
      "RangeIndex: 7 entries, 0 to 6\n",
      "Series name: Cantidad\n",
      "Non-Null Count  Dtype\n",
      "--------------  -----\n",
      "7 non-null      int64\n",
      "dtypes: int64(1)\n",
      "memory usage: 188.0 bytes\n"
     ]
    }
   ],
   "source": [
    "#20 ¡Desafío final!\n",
    "info_conlumna_cantida=df_ventas[\"Cantidad\"].info()"
   ]
  },
  {
   "cell_type": "code",
   "execution_count": 42,
   "id": "eb147ec0",
   "metadata": {},
   "outputs": [
    {
     "name": "stdout",
     "output_type": "stream",
     "text": [
      "Información de la columna 'Cantidad':\n",
      "<class 'pandas.core.series.Series'>\n",
      "RangeIndex: 7 entries, 0 to 6\n",
      "Series name: Cantidad\n",
      "Non-Null Count  Dtype\n",
      "--------------  -----\n",
      "7 non-null      int64\n",
      "dtypes: int64(1)\n",
      "memory usage: 188.0 bytes\n"
     ]
    }
   ],
   "source": [
    "# ejemplo \n",
    "import pandas as pd\n",
    "from io import StringIO\n",
    "\n",
    "# --- Configuración para simular la carga del archivo CSV ---\n",
    "# El código es completamente autónomo y no necesita el archivo VENTAS.csv.\n",
    "csv_data = \"\"\"Producto,Precio,Cantidad\n",
    "leche,2,1\n",
    "tomate,0.1,10\n",
    "pan,1.2,1\n",
    "harina_pan,0.99,6\n",
    "galleta,1.5,1\n",
    "pizza,1.3,4\n",
    "sushi,14,2\n",
    "\"\"\"\n",
    "df_ventas = pd.read_csv(StringIO(csv_data))\n",
    "# -------------------------------------------------------------\n",
    "\n",
    "# 1. Seleccionar la columna 'Cantidad'\n",
    "# Esto crea una Serie de pandas.\n",
    "columna_cantidad = df_ventas[\"Cantidad\"]\n",
    "\n",
    "# 2. Usar el método .info() directamente en la columna\n",
    "# Este método imprime el resumen de la Serie, incluyendo si hay valores nulos.\n",
    "# Nota: No se asigna a una variable porque el método no retorna nada.\n",
    "print(\"Información de la columna 'Cantidad':\")\n",
    "columna_cantidad.info()\n"
   ]
  }
 ],
 "metadata": {
  "kernelspec": {
   "display_name": "Python 3",
   "language": "python",
   "name": "python3"
  },
  "language_info": {
   "codemirror_mode": {
    "name": "ipython",
    "version": 3
   },
   "file_extension": ".py",
   "mimetype": "text/x-python",
   "name": "python",
   "nbconvert_exporter": "python",
   "pygments_lexer": "ipython3",
   "version": "3.13.6"
  }
 },
 "nbformat": 4,
 "nbformat_minor": 5
}
