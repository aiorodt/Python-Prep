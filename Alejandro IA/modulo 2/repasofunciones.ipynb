{
 "cells": [
  {
   "cell_type": "code",
   "execution_count": 5,
   "id": "4a1c2c9c",
   "metadata": {},
   "outputs": [
    {
     "name": "stdout",
     "output_type": "stream",
     "text": [
      "hola mare\n",
      "hola cachapa\n"
     ]
    }
   ],
   "source": [
    "#funcion saludar\n",
    "def saludar(nombre):\n",
    "    print(f\"hola {nombre}\")\n",
    "  \n",
    "saludar(\"mare\")\n",
    "saludar(\"cachapa\")"
   ]
  },
  {
   "cell_type": "code",
   "execution_count": null,
   "id": "481dc987",
   "metadata": {},
   "outputs": [
    {
     "data": {
      "text/plain": [
       "19"
      ]
     },
     "execution_count": 10,
     "metadata": {},
     "output_type": "execute_result"
    }
   ],
   "source": [
    "#funcion devolucion de valores\n",
    "def funcion(a,b):\n",
    "    resultado=a-b\n",
    "    return resultado\n",
    "funcion (25,6)\n"
   ]
  },
  {
   "cell_type": "code",
   "execution_count": 11,
   "id": "9cce5a4f",
   "metadata": {},
   "outputs": [
    {
     "name": "stdout",
     "output_type": "stream",
     "text": [
      "enviar correo alejandro@gmail.com\n",
      "Asusto te quiero mare\n",
      "Cuerpo wepaaaaaaaaaaaa \n",
      "--------------------\n"
     ]
    }
   ],
   "source": [
    "def enviar_correo(destinatio,asunto=\"sin asuntos\", cuerpo=\"\"):\n",
    "    print(f\"enviar correo {destinatio}\")\n",
    "    print(f\"Asusto {asunto}\")\n",
    "    print(f\"Cuerpo {cuerpo}\")\n",
    "    print(f\"-\"*20)\n",
    "\n",
    "enviar_correo(\"alejandro@gmail.com\",\"te quiero mare\",\"wepaaaaaaaaaaaa \")\n"
   ]
  },
  {
   "cell_type": "code",
   "execution_count": 22,
   "id": "20680a49",
   "metadata": {},
   "outputs": [
    {
     "name": "stdout",
     "output_type": "stream",
     "text": [
      "['pera']\n",
      "['pera', 'mon']\n",
      "['perro']\n",
      "['luis jose']\n"
     ]
    }
   ],
   "source": [
    "#Importante: Cuidado con los Parámetros por Defecto Mutables \n",
    "def agregar_item(item, lista=[]): # ¡CUIDADO! lista es un parámetro por defecto mutable\n",
    "    lista.append(item)\n",
    "    return lista\n",
    "print(agregar_item(\"pera\")) #agregue un elemento a la lista vacia\n",
    "print(agregar_item(\"mon\")) #error esto es error porque se desea es hacer listas nuevas\n",
    "print(agregar_item(\"perro\",lista=[])) #debe ir asi para agregar nuevo elemento en una lista\n",
    "print(agregar_item(\"luis jose\",lista=[]))\n",
    "\n",
    "\n"
   ]
  },
  {
   "cell_type": "code",
   "execution_count": null,
   "id": "01699f8c",
   "metadata": {},
   "outputs": [
    {
     "name": "stdout",
     "output_type": "stream",
     "text": [
      "['bellota']\n",
      "['calamar']\n"
     ]
    }
   ],
   "source": [
    "#Estructura correcta de esta función de lo Parámetros por Defecto Mutables\n",
    "def agregar_item(item,lista=None):\n",
    "    if lista is None:\n",
    "        lista=[] # se va crear una lista vacia\n",
    "        lista.append(item)\n",
    "        return lista\n",
    "print(agregar_item(\"bellota\"))\n",
    "print(agregar_item(\"calamar\"))"
   ]
  },
  {
   "cell_type": "code",
   "execution_count": 29,
   "id": "51aaf0f7",
   "metadata": {},
   "outputs": [
    {
     "name": "stdout",
     "output_type": "stream",
     "text": [
      "0\n",
      "588.56\n"
     ]
    }
   ],
   "source": [
    "#. 3 Argumentos de Longitud Variable (*args y **kwargs)\n",
    "#args empaquedo y desempaquetado tupla\n",
    "def calculo_de_promedio(*notas):\n",
    "    if not notas:\n",
    "        return 0\n",
    "    return sum(notas)/len(notas)\n",
    "    \n",
    "print(calculo_de_promedio())\n",
    "print(f\"{calculo_de_promedio(15,10,6,20,150,3330.333):.2f}\")"
   ]
  },
  {
   "cell_type": "code",
   "execution_count": 38,
   "id": "c3e78dca",
   "metadata": {},
   "outputs": [
    {
     "name": "stdout",
     "output_type": "stream",
     "text": [
      "Evento FIN DE AÑO en la fecha 17\n",
      "('paola', 'luis', 'tornado')\n",
      "- paola\n",
      "- luis\n",
      "- tornado\n"
     ]
    }
   ],
   "source": [
    "def registro_evento(tipo_de_evento,*participantes,fecha=\"hoy\"):\n",
    "    print(f\"Evento {tipo_de_evento} en la fecha {fecha}\")\n",
    "    if participantes:\n",
    "        print(participantes)\n",
    "        for p in participantes:\n",
    "            print(f\"- {p}\")\n",
    "    else:\n",
    "        print(\"sin participantes\")\n",
    "        print(\"-\"*40)\n",
    "registro_evento(\"FIN DE AÑO\",\"paola\",\"luis\",\"tornado\", fecha=17)"
   ]
  }
 ],
 "metadata": {
  "kernelspec": {
   "display_name": "Python 3",
   "language": "python",
   "name": "python3"
  },
  "language_info": {
   "codemirror_mode": {
    "name": "ipython",
    "version": 3
   },
   "file_extension": ".py",
   "mimetype": "text/x-python",
   "name": "python",
   "nbconvert_exporter": "python",
   "pygments_lexer": "ipython3",
   "version": "3.13.5"
  }
 },
 "nbformat": 4,
 "nbformat_minor": 5
}
