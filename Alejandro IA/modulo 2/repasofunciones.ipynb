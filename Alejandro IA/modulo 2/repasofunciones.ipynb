{
 "cells": [
  {
   "cell_type": "code",
   "execution_count": 1,
   "id": "4a1c2c9c",
   "metadata": {},
   "outputs": [
    {
     "name": "stdout",
     "output_type": "stream",
     "text": [
      "hola mare\n",
      "hola cachapa\n"
     ]
    }
   ],
   "source": [
    "#funcion saludar\n",
    "def saludar(nombre):\n",
    "    print(f\"hola {nombre}\")\n",
    "  \n",
    "saludar(\"mare\")\n",
    "saludar(\"cachapa\")"
   ]
  },
  {
   "cell_type": "code",
   "execution_count": 1,
   "id": "481dc987",
   "metadata": {},
   "outputs": [
    {
     "data": {
      "text/plain": [
       "19"
      ]
     },
     "execution_count": 1,
     "metadata": {},
     "output_type": "execute_result"
    }
   ],
   "source": [
    "#funcion devolucion de valores\n",
    "def funcion(a,b):\n",
    "    resultado=a-b\n",
    "    return resultado\n",
    "funcion (25,6)\n"
   ]
  },
  {
   "cell_type": "code",
   "execution_count": 11,
   "id": "9cce5a4f",
   "metadata": {},
   "outputs": [
    {
     "name": "stdout",
     "output_type": "stream",
     "text": [
      "enviar correo alejandro@gmail.com\n",
      "Asusto te quiero mare\n",
      "Cuerpo wepaaaaaaaaaaaa \n",
      "--------------------\n"
     ]
    }
   ],
   "source": [
    "def enviar_correo(destinatio,asunto=\"sin asuntos\", cuerpo=\"\"):\n",
    "    print(f\"enviar correo {destinatio}\")\n",
    "    print(f\"Asusto {asunto}\")\n",
    "    print(f\"Cuerpo {cuerpo}\")\n",
    "    print(f\"-\"*20)\n",
    "\n",
    "enviar_correo(\"alejandro@gmail.com\",\"te quiero mare\",\"wepaaaaaaaaaaaa \")\n"
   ]
  },
  {
   "cell_type": "code",
   "execution_count": 22,
   "id": "20680a49",
   "metadata": {},
   "outputs": [
    {
     "name": "stdout",
     "output_type": "stream",
     "text": [
      "['pera']\n",
      "['pera', 'mon']\n",
      "['perro']\n",
      "['luis jose']\n"
     ]
    }
   ],
   "source": [
    "#Importante: Cuidado con los Parámetros por Defecto Mutables \n",
    "def agregar_item(item, lista=[]): # ¡CUIDADO! lista es un parámetro por defecto mutable\n",
    "    lista.append(item)\n",
    "    return lista\n",
    "print(agregar_item(\"pera\")) #agregue un elemento a la lista vacia\n",
    "print(agregar_item(\"mon\")) #error esto es error porque se desea es hacer listas nuevas\n",
    "print(agregar_item(\"perro\",lista=[])) #debe ir asi para agregar nuevo elemento en una lista\n",
    "print(agregar_item(\"luis jose\",lista=[]))\n",
    "\n",
    "\n"
   ]
  },
  {
   "cell_type": "code",
   "execution_count": 34,
   "id": "01699f8c",
   "metadata": {},
   "outputs": [
    {
     "name": "stdout",
     "output_type": "stream",
     "text": [
      "['bellota']\n",
      "[2]\n"
     ]
    }
   ],
   "source": [
    "#Estructura correcta de esta función de lo Parámetros por Defecto Mutables\n",
    "def agregar_item(item,lista=None):\n",
    "    if lista is None:\n",
    "        lista=[] # se va crear una lista vacia\n",
    "        lista.append(item)\n",
    "        return lista\n",
    "print(agregar_item(\"bellota\"))\n",
    "print(agregar_item(2))"
   ]
  },
  {
   "cell_type": "code",
   "execution_count": 29,
   "id": "51aaf0f7",
   "metadata": {},
   "outputs": [
    {
     "name": "stdout",
     "output_type": "stream",
     "text": [
      "0\n",
      "588.56\n"
     ]
    }
   ],
   "source": [
    "#. 3 Argumentos de Longitud Variable (*args y **kwargs)\n",
    "#args empaquedo y desempaquetado tupla\n",
    "def calculo_de_promedio(*notas):\n",
    "    if not notas:\n",
    "        return 0\n",
    "    return sum(notas)/len(notas)\n",
    "    \n",
    "print(calculo_de_promedio())\n",
    "print(f\"{calculo_de_promedio(15,10,6,20,150,3330.333):.2f}\")"
   ]
  },
  {
   "cell_type": "code",
   "execution_count": 2,
   "id": "c3e78dca",
   "metadata": {},
   "outputs": [
    {
     "name": "stdout",
     "output_type": "stream",
     "text": [
      "Evento FIN DE AÑO en la fecha 17\n",
      "('paola', 'luis', 'tornado')\n",
      "- paola\n",
      "- luis\n",
      "- tornado\n"
     ]
    }
   ],
   "source": [
    "#3 Argumentos de Longitud Variable (*args )\n",
    "\n",
    "def registro_evento(tipo_de_evento,*participantes,fecha=\"hoy\"):\n",
    "    print(f\"Evento {tipo_de_evento} en la fecha {fecha}\")\n",
    "    if participantes:\n",
    "        print(participantes)\n",
    "        for p in participantes:\n",
    "            print(f\"- {p}\")\n",
    "    else:\n",
    "        print(\"sin participantes\")\n",
    "        print(\"-\"*40)\n",
    "registro_evento(\"FIN DE AÑO\",\"paola\",\"luis\",\"tornado\", fecha=17)"
   ]
  },
  {
   "cell_type": "code",
   "execution_count": 3,
   "id": "e3c85173",
   "metadata": {},
   "outputs": [
    {
     "name": "stdout",
     "output_type": "stream",
     "text": [
      "--- configuracion de impresora ---\n",
      "Notaleo 30\n",
      "------------------------------------\n",
      "Sofia 50\n",
      "------------------------------------\n",
      "Cartucho vacio\n",
      "------------------------------------\n"
     ]
    }
   ],
   "source": [
    "#**kwargs (Argumentos de Palabra Clave Variables)  #guarda la info en un diccionario \n",
    "#empaca y desesmpaca diccioario\n",
    "def configuracion_impresa(**opciones):\n",
    "    print(\"--- configuracion de impresora ---\")\n",
    "    if not opciones:\n",
    "        print(\"---- No se proporcionan opciones ----\")\n",
    "    for clave,valor in opciones.items():\n",
    "        print(f\"{clave.capitalize()} {valor}\")\n",
    "        print(\"------------------------------------\")\n",
    "        \n",
    "configuracion_impresa(notaleo=30,sofia=50, cartucho=\"vacio\")\n",
    "\n"
   ]
  },
  {
   "cell_type": "code",
   "execution_count": 10,
   "id": "40fc9583",
   "metadata": {},
   "outputs": [
    {
     "name": "stdout",
     "output_type": "stream",
     "text": [
      "Procesando el numero de perido N-101\n",
      "('gaseosa', 'pasta', 'tomate', 'pañales')\n",
      "- gaseosa\n",
      "Detalles Adicionales\n",
      "Arroz su valor es rissoto\n",
      "Mortaldela su valor es tapara\n",
      "Queso su valor es azul\n",
      "==============================\n",
      "- pasta\n",
      "Detalles Adicionales\n",
      "Arroz su valor es rissoto\n",
      "Mortaldela su valor es tapara\n",
      "Queso su valor es azul\n",
      "==============================\n",
      "- tomate\n",
      "Detalles Adicionales\n",
      "Arroz su valor es rissoto\n",
      "Mortaldela su valor es tapara\n",
      "Queso su valor es azul\n",
      "==============================\n",
      "- pañales\n",
      "Detalles Adicionales\n",
      "Arroz su valor es rissoto\n",
      "Mortaldela su valor es tapara\n",
      "Queso su valor es azul\n",
      "==============================\n"
     ]
    }
   ],
   "source": [
    "#Ejemplo combinando *args y **kwargs\n",
    "def procesar_pedido(numero_de_pedidos,*items,**detalles_extra):\n",
    "    print(f\"Procesando el numero de perido {numero_de_pedidos}\")\n",
    "    print(items)\n",
    "    for item in items: # Extrayendo Items de la tupla\n",
    "        print(f\"- {item}\")\n",
    "        if detalles_extra:\n",
    "            print(\"Detalles Adicionales\")\n",
    "            for clave, valor in detalles_extra.items():\n",
    "                print(f\"{clave.capitalize()} su valor es {valor}\")\n",
    "        print(\"=\"*30)\n",
    "\n",
    "procesar_pedido(\"N-101\",\"gaseosa\",\"pasta\",\"tomate\",\"pañales\",arroz=\"rissoto\",mortaldela=\"tapara\",queso=\"azul\")"
   ]
  },
  {
   "cell_type": "code",
   "execution_count": 18,
   "id": "8754e41e",
   "metadata": {},
   "outputs": [
    {
     "name": "stdout",
     "output_type": "stream",
     "text": [
      "Obligatorio Alejandro Marelibeth\n",
      "necesarios defecto 0\n",
      "Args ()\n",
      "kwardg {}\n",
      "----------------------------------------\n",
      "Obligatorio v x\n",
      "necesarios tres opiniciones = 3\n",
      "Args ('ppa6', 5, 4, 7)\n",
      "kwardg {'leo': 25, 'pati': 30}\n",
      "----------------------------------------\n"
     ]
    }
   ],
   "source": [
    "#Orden de los Parámetros (Una Regla Estricta): \n",
    "\n",
    "def funcion_compleja(obligatorio1,obligatorio2,por_defecto_str=\"defecto\", por_defecto_nur=0,*args_posicionla,\n",
    "                     **kwargd_clave_valor):\n",
    "    print(f\"Obligatorio {obligatorio1} {obligatorio2}\")\n",
    "    print(f\"necesarios {por_defecto_str} {por_defecto_nur}\")\n",
    "    print(f\"Args {args_posicionla}\") #tupla\n",
    "    print(f\"kwardg {kwargd_clave_valor}\")#diccionario\n",
    "    print(\"-\"*40)\n",
    "funcion_compleja(\"Alejandro\",\"Marelibeth\")\n",
    "funcion_compleja(\"v\",\"x\",\"tres opiniciones =\",3,\"ppa6\",5,4,7,leo=25,pati=30)\n"
   ]
  },
  {
   "cell_type": "code",
   "execution_count": null,
   "id": "908e6547",
   "metadata": {},
   "outputs": [
    {
     "name": "stdout",
     "output_type": "stream",
     "text": [
      "hola desde el ambito loca\n"
     ]
    }
   ],
   "source": [
    "#4. Ámbito de Variables (Scope - Regla LEGB)\n",
    "#variable local son usadas y destruida por payton\n",
    "def mi_funcion_local():\n",
    "    mensaje=\"hola desde el ambito loca\"\n",
    "    print(mensaje)\n",
    "mi_funcion_local()\n",
    "print(mensaje)\n",
    " #la varibale mensaje no existe fuera de la funcion ya que estas son locales"
   ]
  },
  {
   "cell_type": "code",
   "execution_count": 31,
   "id": "6548c2ef",
   "metadata": {},
   "outputs": [
    {
     "name": "stdout",
     "output_type": "stream",
     "text": [
      "conteo actual 1\n"
     ]
    },
    {
     "data": {
      "text/plain": [
       "1"
      ]
     },
     "execution_count": 31,
     "metadata": {},
     "output_type": "execute_result"
    }
   ],
   "source": [
    "# E (Enclosing - Encerrado/Anidado) funcion dentro de otra \"compuesta\"\n",
    "#la varible definida es la exterior\n",
    "# se puede entrar desde la funcion interior\n",
    "#la varibale interna tiene recuerdo aunque la externa su ejecucion termine\n",
    "#palabra cla nonlocal (Eclosing sin hacerla local)\n",
    "def contador_creador():\n",
    "    conteo=0 # esta en el ambito Eclosing para incrmentar\n",
    "    def incremetar(): #la otra funcion interna\n",
    "        nonlocal conteo #modifica la funcio Eclosing es decir la externa\n",
    "        conteo+=1\n",
    "        print(f\"conteo actual {conteo}\")\n",
    "        return conteo\n",
    "    return incremetar\n",
    "mi_contador=contador_creador() #mi contador es la funcion incremetarmi_contador()\n",
    "mi_contador()\n",
    "\n"
   ]
  },
  {
   "cell_type": "code",
   "execution_count": 32,
   "id": "1a63ca01",
   "metadata": {},
   "outputs": [
    {
     "name": "stdout",
     "output_type": "stream",
     "text": [
      "conteo actual 1\n",
      "conteo actual 2\n",
      "conteo actual 3\n"
     ]
    },
    {
     "data": {
      "text/plain": [
       "3"
      ]
     },
     "execution_count": 32,
     "metadata": {},
     "output_type": "execute_result"
    }
   ],
   "source": [
    "# E (Enclosing - Encerrado/Anidado) funcion dentro de otra \"compuesta\"\n",
    "#la varible definida es la exterior\n",
    "# se puede entrar desde la funcion interior\n",
    "#la varibale interna tiene recuerdo aunque la externa su ejecucion termine\n",
    "#palabra cla nonlocal (Eclosing sin hacerla local)\n",
    "def contador_creador():\n",
    "    conteo=0 # esta en el ambito Eclosing para incrmentar\n",
    "    def incremetar(): #la otra funcion interna\n",
    "        nonlocal conteo #modifica la funcio Eclosing es decir la externa\n",
    "        conteo+=1\n",
    "        print(f\"conteo actual {conteo}\")\n",
    "        return conteo\n",
    "    return incremetar\n",
    "mi_contador=contador_creador() #mi contador es la funcion incremetar\n",
    "mi_contador()\n",
    "mi_contador()\n",
    "mi_contador()"
   ]
  },
  {
   "cell_type": "code",
   "execution_count": 33,
   "id": "d0cc4564",
   "metadata": {},
   "outputs": [
    {
     "name": "stdout",
     "output_type": "stream",
     "text": [
      "inicio del juegos (intetos 3) \n",
      "total de partidas jugadas 1\n"
     ]
    }
   ],
   "source": [
    "#G Global\n",
    "#Se puede acceder desde cualquier punto\n",
    "#palabra clave global de lo contrario la funcion creara una varible fuera de la funcion\n",
    "MAX_INTENTO=3\n",
    "partidas_jugadas=0\n",
    "def jugar():\n",
    "    global partidas_jugadas\n",
    "    print(f\"inicio del juegos (intetos {MAX_INTENTO}) \")\n",
    "    partidas_jugadas+=1\n",
    "jugar()\n",
    "print(f\"total de partidas jugadas {partidas_jugadas}\")\n",
    "\n"
   ]
  },
  {
   "cell_type": "code",
   "execution_count": null,
   "id": "7ec2b4d4",
   "metadata": {},
   "outputs": [],
   "source": [
    "#B (Built-in - Integrado): Nombres predefinidos en Python que están siempre\n",
    "#disponibles (ej. print(), len(), str(), True, False, None, list(), dict())."
   ]
  },
  {
   "cell_type": "code",
   "execution_count": 4,
   "id": "7643c8c3",
   "metadata": {},
   "outputs": [
    {
     "name": "stdout",
     "output_type": "stream",
     "text": [
      "el resultado la multiplicación es 20\n"
     ]
    }
   ],
   "source": [
    "#Funcion retorno simple\n",
    "def multiplicar_numero (a,b):\n",
    "    multiplicar=a*b\n",
    "    return multiplicar\n",
    "resultado=multiplicar_numero(5,4)\n",
    "print(f\"el resultado la multiplicación es {resultado}\")"
   ]
  },
  {
   "cell_type": "code",
   "execution_count": 6,
   "id": "8e41823d",
   "metadata": {},
   "outputs": [
    {
     "name": "stdout",
     "output_type": "stream",
     "text": [
      "Holaaaaaaaaaa Gemini!, he aprendido mucho de ti, de mi parte alejandro esto agradecido eres muy divertido\n"
     ]
    }
   ],
   "source": [
    "#2. Función sin Retorno Explícito (Solo Impresión\n",
    "def saludar_personalizado(nombre,mensaje):\n",
    "    print(f\"Holaaaaaaaaaa {nombre}!, {mensaje}\")\n",
    "saludar_personalizado(\"Gemini\", \"he aprendido mucho de ti, de mi parte alejandro esto agradecido eres muy divertido\")"
   ]
  },
  {
   "cell_type": "code",
   "execution_count": null,
   "id": "84f388c1",
   "metadata": {},
   "outputs": [
    {
     "name": "stdout",
     "output_type": "stream",
     "text": [
      "El numero 10, es par\n"
     ]
    }
   ],
   "source": [
    "#3. Función con Lógica Condicional:\n",
    "def es_par_o_impar(numero):\n",
    "    if numero%2==0:\n",
    "        print(f\"El numero {numero} es par\")\n",
    "    else:\n",
    "        print(f\"el numero {numero} es impar\")\n",
    "es_par_o_impar(10)"
   ]
  },
  {
   "cell_type": "code",
   "execution_count": 25,
   "id": "b53b7d7a",
   "metadata": {},
   "outputs": [
    {
     "name": "stdout",
     "output_type": "stream",
     "text": [
      "el numero 5 impar\n",
      "el numero 100 par\n"
     ]
    }
   ],
   "source": [
    "##3. Función con Lógica Condicional: #logica correcta\n",
    "def es_par_o_impar(numero):\n",
    "    if numero%2==0:\n",
    "        return \"par\"\n",
    "    else:\n",
    "        return \"impar\"\n",
    "numero_5=es_par_o_impar(5)\n",
    "print(f\"el numero 5 {numero_5}\")\n",
    "numero_100=es_par_o_impar(100)\n",
    "print(f\"el numero 100 {numero_100}\")\n",
    "\n",
    "   \n",
    "   "
   ]
  },
  {
   "cell_type": "code",
   "execution_count": null,
   "id": "8c0028dd",
   "metadata": {},
   "outputs": [
    {
     "name": "stdout",
     "output_type": "stream",
     "text": [
      "paola , info\n"
     ]
    }
   ],
   "source": [
    "#parámetros por Defecto (Default Parameters) (3 ejercicios)\n",
    "#Función con un Parámetro por Defecto\n",
    "\n",
    "def enviar_notificacione(mensaje, tipo= \"info\"):\n",
    "    print(f\"{mensaje} , {tipo}\")\n",
    "enviar_notificacione(\"paola\"\n",
    "                      )"
   ]
  },
  {
   "cell_type": "code",
   "execution_count": 20,
   "id": "088b1980",
   "metadata": {},
   "outputs": [
    {
     "name": "stdout",
     "output_type": "stream",
     "text": [
      "producto: auto Cantidad 1 tipo de envio normal\n"
     ]
    }
   ],
   "source": [
    "#2 Función con Múltiples Parámetros por Defecto:\n",
    "def configurar_pedido(producto, cantidad=1 , envio_urgente=False):\n",
    "    if envio_urgente==True:\n",
    "        print(f\"producto: {producto} Cantidad {cantidad} tipo de envio urgente\")\n",
    "    else:\n",
    "        print(f\"producto: {producto} Cantidad {cantidad} tipo de envio normal\")\n",
    "configurar_pedido(\"auto\",1,False)\n"
   ]
  },
  {
   "cell_type": "code",
   "execution_count": null,
   "id": "057c66df",
   "metadata": {},
   "outputs": [
    {
     "ename": "TypeError",
     "evalue": "añadir_lista() missing 1 required positional argument: 'elemento'",
     "output_type": "error",
     "traceback": [
      "\u001b[31m---------------------------------------------------------------------------\u001b[39m",
      "\u001b[31mTypeError\u001b[39m                                 Traceback (most recent call last)",
      "\u001b[36mCell\u001b[39m\u001b[36m \u001b[39m\u001b[32mIn[36]\u001b[39m\u001b[32m, line 7\u001b[39m\n\u001b[32m      5\u001b[39m    lista_items.append(elemento)\n\u001b[32m      6\u001b[39m    \u001b[38;5;28;01mreturn\u001b[39;00m lista_items\n\u001b[32m----> \u001b[39m\u001b[32m7\u001b[39m \u001b[38;5;28mprint\u001b[39m(\u001b[33mf\u001b[39m\u001b[33m\"\u001b[39m\u001b[33mañadir\u001b[39m\u001b[38;5;132;01m{\u001b[39;00m\u001b[43mañadir_lista\u001b[49m\u001b[43m(\u001b[49m\u001b[43m)\u001b[49m\u001b[38;5;132;01m}\u001b[39;00m\u001b[33m\"\u001b[39m)\n",
      "\u001b[31mTypeError\u001b[39m: añadir_lista() missing 1 required positional argument: 'elemento'"
     ]
    }
   ],
   "source": [
    "#3. ¡Cuidado con los Parámetros Mutables por Defecto! (Corrección):\n",
    "def añadir_lista(elemento, lista_items=None):\n",
    "   if lista_items is None:\n",
    "      lista_items=[]\n",
    "   lista_items.append(elemento)\n",
    "   return lista_items  #gñapskafkañpasdpgs\n",
    "print(f\"añadir{añadir_lista()}\")\n",
    "\n",
    "\n"
   ]
  },
  {
   "cell_type": "code",
   "execution_count": 3,
   "id": "cdf773f1",
   "metadata": {},
   "outputs": [
    {
     "name": "stdout",
     "output_type": "stream",
     "text": [
      "55\n"
     ]
    }
   ],
   "source": [
    "# Argumentos de Longitud Variable ( *args y **kwargs ) \n",
    "def suma_todos(*n):\n",
    "    print(sum(n))\n",
    "suma_todos(1,2,3,4,5,6,7,8,9,10)"
   ]
  },
  {
   "cell_type": "code",
   "execution_count": 6,
   "id": "27931206",
   "metadata": {},
   "outputs": [
    {
     "name": "stdout",
     "output_type": "stream",
     "text": [
      "tu nombre ale y detalles personales {'edad': 25, 'pais': 'venezuela', 'lenguaje': 'español'}\n"
     ]
    }
   ],
   "source": [
    "#Uso de **kwargs\n",
    "def crear_perfil(nombre,**destalles_personales):\n",
    "    print(f\"tu nombre {nombre} y detalles personales {destalles_personales}\")\n",
    "crear_perfil(\"ale\",edad=25,pais=\"venezuela\",lenguaje=\"español\")"
   ]
  },
  {
   "cell_type": "code",
   "execution_count": null,
   "id": "b04185ae",
   "metadata": {},
   "outputs": [
    {
     "name": "stdout",
     "output_type": "stream",
     "text": [
      "Nombre del ciente Alejandro, producto ('mani', 'pescado', 'arroz', 'leche') datos adicionales {'direccion': 'calle ricaurte cruce con sucre', 'estado': 'aragua'}\n"
     ]
    }
   ],
   "source": [
    "#Combinación de Posicionales, *args y **kwargs :\n",
    "def generar_resumen_compras(nombre_cliente,*lista_de_pedidos,**datos_adicionales_de_envio):\n",
    "    print(f\"Nombre del ciente {nombre_cliente}, producto {lista_de_pedidos} datos adicionales {datos_adicionales_de_envio}\")\n",
    "generar_resumen_compras(\"Alejandro\",\"mani\",\"pescado\",\"arroz\",\"leche\",direccion=\"calle ricaurte cruce con sucre\",estado=\"aragua\")"
   ]
  },
  {
   "cell_type": "code",
   "execution_count": 23,
   "id": "797eb969",
   "metadata": {},
   "outputs": [
    {
     "name": "stdout",
     "output_type": "stream",
     "text": [
      "28\n",
      "nombre ,ale \n",
      "edad ,5 \n"
     ]
    }
   ],
   "source": [
    "#Desempaquetado con * y ** :\n",
    "def suma_a_todos(*numero,**crear_perfil1):\n",
    "    if numero:\n",
    "        sumar=sum(numero)\n",
    "        print(sumar)\n",
    "    else:\n",
    "        print(\"no hay numero para sumar\")\n",
    "    for nombre,edad in crear_perfil1.items():\n",
    "        \n",
    "        print(f\"{nombre} ,{ edad} \")\n",
    "   \n",
    "        \n",
    "suma_a_todos(1,2,5,10,10,nombre=\"ale\",edad= 5)\n",
    "\n",
    "        "
   ]
  },
  {
   "cell_type": "code",
   "execution_count": 25,
   "id": "eabf2401",
   "metadata": {},
   "outputs": [
    {
     "name": "stdout",
     "output_type": "stream",
     "text": [
      "\n",
      " desempaquetado\n",
      "nombre ale\n",
      "edad 15\n",
      "pais londrez\n",
      "profesion Cazador\n"
     ]
    }
   ],
   "source": [
    "#ejemplo de desempaquetar\n",
    "# Definimos una función que toma argumentos explícitos.\n",
    "def mostrar_inf(nombres, edad, pais, profesioón=\"desconocido\"):\n",
    "    print(f\"\\n desempaquetado\")\n",
    "    print(f\"nombre {nombres}\")\n",
    "    print(f\"edad {edad}\")\n",
    "    print(f\"pais {pais}\")\n",
    "    print(f\"profesion {profesioón}\")\n",
    "mostrar_inf(\"ale\",15,\"londrez\", \"Cazador\")"
   ]
  },
  {
   "cell_type": "code",
   "execution_count": 2,
   "id": "59b5cc4a",
   "metadata": {},
   "outputs": [
    {
     "name": "stdout",
     "output_type": "stream",
     "text": [
      "--- EJEMPLO DE EMPAQUETADO ---\n",
      "argumentos posicionesla es tuplas: ('alejandro', 39, 'casado')\n",
      "argumentos de claves diccionario: {'sexo': 'masculino', 'profesion': 'docente', 'estatura': 1.73}\n",
      "\n",
      "El primer nombre es alejandro\n",
      "\n",
      " la profesión es docente\n",
      "---------------------------------\n"
     ]
    }
   ],
   "source": [
    "#print(\"--- EJEMPLO DE EMPAQUETADO ---\")\n",
    "print(\"--- EJEMPLO DE EMPAQUETADO ---\")\n",
    "def argumentos_info_flexible(*argumentos_posicionales,**argumentos_de_claves):\n",
    "    #argumento posicionales guardan tuplas *args\n",
    "    #argumentos_de_claves guardas dicionarios * kwargs\n",
    "    print(f\"argumentos posicionesla es tuplas: {argumentos_posicionales}\")\n",
    "    print(f\"argumentos de claves diccionario: {argumentos_de_claves}\")\n",
    "#ahora si usemos datos en las funciones\n",
    "    print(f\"\\nEl primer nombre es {argumentos_posicionales[0]}\")\n",
    "    print(f\"\\n la profesión es {argumentos_de_claves[\"profesion\"]}\")\n",
    "# Llamada a la función con múltiples argumentos.\n",
    "# La función los \"empaqueta\" automáticamente.\n",
    "argumentos_info_flexible(\"alejandro\",39,\"casado\",sexo=\"masculino\",profesion=\"docente\",estatura=1.73)\n",
    "print(\"---------------------------------\")"
   ]
  },
  {
   "cell_type": "code",
   "execution_count": 12,
   "id": "6f4e2392",
   "metadata": {},
   "outputs": [
    {
     "name": "stdout",
     "output_type": "stream",
     "text": [
      "\n",
      "--- EJEMPLO DE DESEMPAQUETADO ---\n",
      "\n",
      " Desempaquetando una lista con *:\n",
      "\n",
      " Mostrar Perfil\n",
      " Nombre alejandra\n",
      " Edad 35\n",
      " Pais alemania\n",
      "\n",
      " Mostrar Perfil\n",
      " Nombre elena\n",
      " Edad 30\n",
      " Pais turmero\n",
      "----------------------------------------------------------------------------------\n"
     ]
    }
   ],
   "source": [
    "#print(\"\\n--- EJEMPLO DE DESEMPAQUETADO ---\")\n",
    "print(\"\\n--- EJEMPLO DE DESEMPAQUETADO ---\")\n",
    "# Esta es una función \"normal\" que toma argumentos específicos y separados\n",
    "def mostrar_perfil(nombre, edad, pais):\n",
    "    #Esta función recibe 3 argumentos posicionales obligatorios.\n",
    "    print(f\"\\n Mostrar Perfil\")\n",
    "    print(f\" Nombre {nombre}\")\n",
    "    print(f\" Edad {edad}\")\n",
    "    print(f\" Pais {pais}\")\n",
    "# Imagina que tenemos los datos en una lista, pero no queremos\n",
    "# pasarlos como una lista, sino como 3 argumentos separados.\n",
    "datos_personas=[\"alejandra\",35,\"alemania\"]\n",
    "# ¡Aquí es donde ocurre la magia del desempaquetado con *!\n",
    "# El '*' 'rompe' la lista 'datos_persona' y la pasa como si hubiéramos\n",
    "# escrito: mostrar_perfil(\"alejandra\", 35, \"alemania\")\n",
    "print(f\"\\n Desempaquetando una lista con *:\")\n",
    "mostrar_perfil(*datos_personas)\n",
    "mostrar_perfil(\"elena\",30,\"turmero\")\n",
    "print(\"----------------------------------------------------------------------------------\")\n",
    "\n",
    "    "
   ]
  },
  {
   "cell_type": "code",
   "execution_count": 15,
   "id": "93126633",
   "metadata": {},
   "outputs": [
    {
     "name": "stdout",
     "output_type": "stream",
     "text": [
      "\n",
      "Desempaquetando lista y diccionario\n",
      "Mostrando perfil completo\n",
      "Nombre: paola \n",
      "Edad: 35\n",
      "Pais: venezuela\n",
      "Profesion: psicologa\n"
     ]
    }
   ],
   "source": [
    "# Ahora, un ejemplo con desempaquetado de un diccionario con **.\n",
    "# Esta función tiene un argumento de palabra clave.\n",
    "def mostrar_perfil_con_profesion(nombre,edad,pais,profesion):\n",
    "    #Función que recibe argumentos posicionales y de palabra clave.\n",
    "    print(f\"Mostrando perfil completo\")\n",
    "    print(f\"Nombre: {nombre} \")\n",
    "    print(f\"Edad: {edad}\")\n",
    "    print(f\"Pais: {pais}\")\n",
    "    print(f\"Profesion: {profesion}\")\n",
    "datos_basico=[\"paola\",35,\"venezuela\"]\n",
    "datos_extras={\"profesion\":\"psicologa\"}\n",
    "# Combinamos el desempaquetado de la lista con el del diccionario.\n",
    "# *datos_basicos -> se convierte en 3 argumentos posicionales.\n",
    "# **datos_extra -> se convierte en 1 argumento de palabra clave.\n",
    "print(f\"\\nDesempaquetando lista y diccionario\")\n",
    "mostrar_perfil_con_profesion(*datos_basico,**datos_extras)\n"
   ]
  },
  {
   "cell_type": "code",
   "execution_count": null,
   "id": "f5d5b40a",
   "metadata": {},
   "outputs": [
    {
     "name": "stdout",
     "output_type": "stream",
     "text": [
      "\n",
      "----Demostración desempaquetado de una lista con *----\n",
      "-----Perfil del Usuario -----\n",
      "Nombre: alejandro\n",
      "Apellido: moronta\n",
      "Edad: 39\n",
      "Ciudad: Caracas\n",
      "------------------------------------------\n",
      "\n",
      " --- Demostracion de desempaquetado de un diccionario con **----\n",
      "-----Perfil del Usuario -----\n",
      "Nombre: marelibeth\n",
      "Apellido: alfonzo\n",
      "Edad: 43\n",
      "Ciudad: Caracas\n",
      "------------------------------------------\n",
      "\n",
      "---Demostración de combinacion de desempaquetado---\n",
      "-----Perfil del Usuario -----\n",
      "Nombre: Alejando\n",
      "Apellido: Moronta\n",
      "Edad: 37\n",
      "Ciudad: valencia\n",
      "------------------------------------------\n"
     ]
    }
   ],
   "source": [
    "#otro repaso\n",
    "# --- PASO 1: La función que vamos a usar ---\n",
    "# Primero, definimos una función normal que espera argumentos separados.\n",
    "# Es importante que el nombre de los parámetros coincida con las claves del diccionario\n",
    "# que usaremos más adelante.\n",
    "def crear_usuario(nombre,apellido,edad,ciudad):\n",
    "    #Función que crea un perfil de usuario con 4 argumentos separados.\n",
    "    print(\"-----Perfil del Usuario -----\")\n",
    "    print(f\"Nombre: {nombre}\")\n",
    "    print(f\"Apellido: {apellido}\")\n",
    "    print(f\"Edad: {edad}\")\n",
    "    print(f\"Ciudad: {ciudad}\")\n",
    "    print(\"------------------------------------------\")\n",
    "# --- PASO 2: Desempaquetado de una lista/tupla con * ---\n",
    "# Imagina que tienes los datos en una lista, pero la función necesita\n",
    "# 4 argumentos por separado.\n",
    "print(\"\\n----Demostración desempaquetado de una lista con *----\")\n",
    "datos_posicionales=[\"alejandro\",\"moronta\",39,\"Caracas\"]\n",
    "# Aquí, el operador * \"desempaqueta\" la lista 'datos_posicionales'.\n",
    "# Es equivalente a llamar a la función de esta manera:\n",
    "#crea el usurario\n",
    "crear_usuario(*datos_posicionales)\n",
    "\n",
    "# --- PASO 3: Desempaquetado de un diccionario con ** ---\n",
    "print(\"\\n --- Demostracion de desempaquetado de un diccionario con **----\")\n",
    "\n",
    "datos_diccionario={\n",
    "    \"nombre\":\"marelibeth\",\n",
    "    \"apellido\":\"alfonzo\",\n",
    "    \"edad\":43,\n",
    "    \"ciudad\":\"Caracas\"\n",
    "}\n",
    "# Aquí, el operador ** \"desempaqueta\" el diccionario.\n",
    "# Asocia cada clave (ej. \"nombre\") con el parámetro correspondiente de la función.\n",
    "# Es equivalente a llamar a la función de esta manera:\n",
    "# crear_usuario\n",
    "crear_usuario(**datos_diccionario)\n",
    "\n",
    "# --- PASO 4: Combinación de desempaquetado y argumentos fijos ---\n",
    "# Puedes combinar argumentos fijos con desempaquetado.\n",
    "# Esto es útil cuando solo algunos datos están en una colección.\n",
    "print(\"\\n---Demostración de combinacion de desempaquetado---\")\n",
    "nombre_completo=[\"Alejando\",\"Moronta\"]\n",
    "# ...y el resto de la información en un diccionario.\n",
    "datos_restantes={\n",
    "    \"edad\":37,\n",
    "    \"ciudad\":\"valencia\"\n",
    "\n",
    "}\n",
    "# En la llamada, desempaquetamos la lista con * y el diccionario con **\n",
    "crear_usuario(*nombre_completo,**datos_restantes)\n",
    "# --- Resumen ---\n",
    "# * Desempaquetado de listas/tuplas: Usas `*` en la LLAMADA de la función\n",
    "#   para que sus elementos se conviertan en argumentos posicionales.\n",
    "# ** Desempaquetado de diccionarios: Usas `**` en la LLAMADA de la función\n",
    "#    para que sus claves y valores se conviertan en argumentos de palabra clave.\n",
    "# Esta técnica evita que tengas que pasar cada argumento manualmente,\n",
    "# haciendo tu código más flexible y limpio.\n",
    "\n"
   ]
  },
  {
   "cell_type": "code",
   "execution_count": 22,
   "id": "bd2492f9",
   "metadata": {},
   "outputs": [
    {
     "name": "stdout",
     "output_type": "stream",
     "text": [
      "Hola de Saludar\n",
      "Hola, alejandro Espero que tengas un hermoso día\n",
      "Hola, paola Espero que tengas un hermoso día\n",
      "Hola, alejandra Espero que tengas un hermoso día\n"
     ]
    }
   ],
   "source": [
    "#uso de bloque for \n",
    "\n",
    "nombres=[\"alejandro\",\"paola\",\"alejandra\"]\n",
    "print(\"Hola de Saludar\")\n",
    "for nombre in nombres:\n",
    "    print(f\"Hola, {nombre} Espero que tengas un hermoso día\")"
   ]
  },
  {
   "cell_type": "code",
   "execution_count": 26,
   "id": "edc9440c",
   "metadata": {},
   "outputs": [
    {
     "name": "stdout",
     "output_type": "stream",
     "text": [
      "¡La suma mágica comienza! 🪄\n",
      "\n",
      " El Resultado es 6\n"
     ]
    }
   ],
   "source": [
    "#2. Desempaquetado de Argumentos (* y **): ¡El Mago de los Argumentos! ✨\n",
    "def sumar_tres_numeros(a,b,c):\n",
    "    print(\"¡La suma mágica comienza! 🪄\")\n",
    "    return a+b+c\n",
    "numero_a_sumar=[1,2,3]\n",
    "resultado=sumar_tres_numeros(*numero_a_sumar)\n",
    "print(f\"\\n El Resultado es {resultado}\")\n"
   ]
  },
  {
   "cell_type": "code",
   "execution_count": 11,
   "id": "98e597df",
   "metadata": {},
   "outputs": [
    {
     "name": "stdout",
     "output_type": "stream",
     "text": [
      "el mensaje es hola mensaje local\n"
     ]
    }
   ],
   "source": [
    "#PUNTO 4: Ámbito de Variables (Scope - Regla LEGB) (8 ejercicios, 2 por cada ámbito)\n",
    "#. Ejercicio 4.1.1: Variable Local Simple\n",
    "def monstrar_mensaje_local():\n",
    "    mesanje=\"hola mensaje local\"\n",
    "    \n",
    "    print(f\"el mensaje es {mesanje}\")\n",
    "monstrar_mensaje_local()\n",
    "\n"
   ]
  },
  {
   "cell_type": "code",
   "execution_count": 12,
   "id": "a4488d98",
   "metadata": {},
   "outputs": [
    {
     "name": "stdout",
     "output_type": "stream",
     "text": [
      "✅ Dentro de la función, la variable dice: 'Hola, mensaje local'\n",
      "---\n",
      "Intentando acceder a la variable 'mensaje' fuera de la función...\n",
      "❌ ¡Error capturado! name 'mensaje' is not defined\n",
      "Esto confirma que la variable 'mensaje' es local y no se puede acceder desde afuera.\n"
     ]
    }
   ],
   "source": [
    "# PUNTO 4: Ámbito de Variables (Scope - Regla LEGB)\n",
    "# Ejercicio 4.1.1: Variable Local Simple\n",
    "# Objetivo: Demostrar que una variable local solo es accesible dentro de su función.\n",
    "\n",
    "def mostrar_mensaje_local():\n",
    "    # 'mensaje' es una variable local.\n",
    "    # Solo existe dentro del ámbito de esta función.\n",
    "    mensaje = \"Hola, mensaje local\"\n",
    "    \n",
    "    # Dentro de la función, 'mensaje' es completamente accesible.\n",
    "    print(f\"✅ Dentro de la función, la variable dice: '{mensaje}'\")\n",
    "\n",
    "# Primero, llamamos a la función para que se ejecute su contenido.\n",
    "mostrar_mensaje_local()\n",
    "\n",
    "# Ahora, intentamos acceder a la variable 'mensaje' fuera de la función.\n",
    "# Esto debería generar un error 'NameError'.\n",
    "print(\"---\")\n",
    "print(\"Intentando acceder a la variable 'mensaje' fuera de la función...\")\n",
    "try:\n",
    "    # Esta línea causa el error, ya que la variable 'mensaje' dejó de existir\n",
    "    # una vez que la función 'mostrar_mensaje_local()' terminó su ejecución.\n",
    "    print(mensaje)\n",
    "except NameError as e:\n",
    "    # Capturamos el error y mostramos un mensaje que explica el concepto.\n",
    "    print(f\"❌ ¡Error capturado! {e}\")\n",
    "    print(\"Esto confirma que la variable 'mensaje' es local y no se puede acceder desde afuera.\")\n"
   ]
  },
  {
   "cell_type": "code",
   "execution_count": null,
   "id": "be14b212",
   "metadata": {},
   "outputs": [
    {
     "name": "stdout",
     "output_type": "stream",
     "text": [
      "Conteo actual 1\n",
      "Conteo actual 2\n"
     ]
    },
    {
     "data": {
      "text/plain": [
       "2"
      ]
     },
     "execution_count": 24,
     "metadata": {},
     "output_type": "execute_result"
    }
   ],
   "source": [
    "#2. Ejercicio 4.1.2: Independencia de Variables Locales\n",
    "def contador_llamadas_local():\n",
    "    conteo=0\n",
    "    def incrementar():\n",
    "        nonlocal conteo\n",
    "        conteo +=1\n",
    "        print(f\"Conteo actual {conteo}\")\n",
    "        return conteo\n",
    "    return incrementar\n",
    "contador=contador_llamadas_local()\n",
    "contador()\n",
    "contador() #debe tener parenctesis"
   ]
  },
  {
   "cell_type": "code",
   "execution_count": 28,
   "id": "a754e352",
   "metadata": {},
   "outputs": [
    {
     "name": "stdout",
     "output_type": "stream",
     "text": [
      "funcion A mensaje desde la función A\n",
      "Funcion B mensaje desde la funcion B\n",
      " error name 'mensaje' is not defined\n",
      "Esto demuestra que las variables locales 'mensaje' de cada función son completamente independientes y no son accesibles desde fuera.\n"
     ]
    }
   ],
   "source": [
    "# Ejercicio 4.1.2: Independencia de Variables Locales\n",
    "# Objetivo: Demostrar que los datos en una función local no afectan a otra.\n",
    "\n",
    "def imprimir_mensaje_A():\n",
    "    #mensaje A solo existe dentro de la funcion\n",
    "    mensaje=\"mensaje desde la función A\"\n",
    "    print(f\"funcion A {mensaje}\")\n",
    "\n",
    "def imprimir_mensaje_B():\n",
    "    # 'mensaje' es una variable local de esta función.\n",
    "    # No tiene ninguna relación con la variable del mismo nombre en 'imprimir_mensaje_A'\n",
    "    mensaje=\"mensaje desde la funcion B\"\n",
    "    print(f\"Funcion B {mensaje}\")\n",
    "\n",
    "imprimir_mensaje_A() #debe colocar parentesis \n",
    "imprimir_mensaje_B()\n",
    "# Intentar acceder a 'mensaje' fuera de ambas funciones causaría un NameError.\n",
    "# Ambas variables 'mensaje' son independientes y han desaparecido.\n",
    "try:\n",
    "    print(mensaje)\n",
    "except NameError as e:\n",
    "    print(f\" error {e}\")\n",
    "    print(\"Esto demuestra que las variables locales 'mensaje' de cada función son completamente independientes y no son accesibles desde fuera.\")\n",
    "\n",
    "\n",
    "\n"
   ]
  },
  {
   "cell_type": "code",
   "execution_count": 40,
   "id": "f5c225dd",
   "metadata": {},
   "outputs": [
    {
     "name": "stdout",
     "output_type": "stream",
     "text": [
      "Llamando a la primera instancia del contador:\n",
      "Conteo actual: 1\n",
      "Conteo actual: 2\n",
      "\n",
      "Creando una segunda instancia del contador:\n",
      "Conteo actual 1\n",
      "Conteo actual: 3\n"
     ]
    },
    {
     "data": {
      "text/plain": [
       "3"
      ]
     },
     "execution_count": 40,
     "metadata": {},
     "output_type": "execute_result"
    }
   ],
   "source": [
    "# Demostración del Cierre (Closure)\n",
    "# Objetivo: Demostrar cómo una función puede \"recordar\" el valor de una variable\n",
    "# de su ámbito envolvente (outer scope) incluso después de que la función externa\n",
    "# haya terminado su ejecución.\n",
    "# La función externa, que crea el \"cierre\".\n",
    "def contador_de_llamada_local():\n",
    "    # 'conteo' es una variable local de esta función.\n",
    "    # Sin embargo, la función interna 'incrementar' la \"capturará\".\n",
    "    conteo=0\n",
    "      # La función interna, que es el \"cierre\".\n",
    "    def incrementar():\n",
    "        # La palabra clave 'nonlocal' indica que 'conteo' no es una nueva\n",
    "        # variable local, sino la variable 'conteo' del ámbito externo.\n",
    "        nonlocal conteo\n",
    "        conteo +=1\n",
    "        print(f\"Conteo actual: {conteo}\")\n",
    "        # La función interna retorna el valor del conteo.\n",
    "        return conteo\n",
    "    # La función externa retorna la función interna, no su resultado.\n",
    "    return incrementar\n",
    "# Creamos una instancia de nuestro contador.\n",
    "# La variable 'contador' ahora contiene la función 'incrementar',\n",
    "# que tiene \"capturado\" el valor de 'conteo'.\n",
    "contador1=contador_de_llamada_local() #colocar parentesis\n",
    "print(\"Llamando a la primera instancia del contador:\")\n",
    "contador1() \n",
    "contador1()\n",
    "# Para demostrar la independencia de los cierres, creemos una segunda instancia.\n",
    "print(\"\\nCreando una segunda instancia del contador:\")\n",
    "contador_2 = contador_llamadas_local()\n",
    "contador_2() # Conteo actual: 1\n",
    "contador1() \n",
    "    \n",
    "\n",
    "    "
   ]
  },
  {
   "cell_type": "code",
   "execution_count": null,
   "id": "bf1cc850",
   "metadata": {},
   "outputs": [
    {
     "name": "stdout",
     "output_type": "stream",
     "text": [
      "Usando los saludadores que creaste:\n",
      "Hola Dr. Alejandro\n",
      "Hola Sister. marelibeth\n"
     ]
    }
   ],
   "source": [
    "#Ejercicio 4.2.1: Acceso a Variable Enclosing\n",
    "    # Su único trabajo es recibir un prefijo y construir un \"saludador\".\n",
    "def crear_saludos(prefijo):\n",
    "    # 2. Dentro de la fábrica, construimos la función especializada.\n",
    "    # ¡Esta función tiene acceso al 'prefijo' que le pasamos a la fábrica!\n",
    "    def saludar_nombre(nombre):\n",
    "        print(f\"Hola {prefijo} {nombre}\")\n",
    "        # 3. La fábrica te entrega la nueva función lista para usar.\n",
    "    # No la ejecuta, simplemente te la devuelve como un producto terminado\n",
    "    return saludar_nombre\n",
    "# 4. Creamos nuestro primer \"saludador\" especializado para \"Dr.\".\n",
    "saludor_doctor=crear_saludos(\"Dr.\")\n",
    "# 5. Creamos un segundo \"saludador\", esta vez para \"Sra.\".\n",
    "saludar_señorita=crear_saludos(\"Sister.\")\n",
    "# 6. Usamos las funciones que la fábrica nos dio.\n",
    "# Cada una usa el prefijo que \"recordó\" al ser creada.\n",
    "print(\"Usando los saludadores que creaste:\")\n",
    "saludor_doctor(\"Alejandro\")\n",
    "saludar_señorita(\"Marelibeth\")\n"
   ]
  },
  {
   "cell_type": "code",
   "execution_count": 52,
   "id": "3acf4570",
   "metadata": {},
   "outputs": [
    {
     "name": "stdout",
     "output_type": "stream",
     "text": [
      " el total es: 11\n",
      " el total es: 16\n"
     ]
    }
   ],
   "source": [
    "#Ejercicio 4.2.2: Modificar Variable Enclosing con nonlocal\n",
    "\n",
    "def crear_sumador_acumulado(total_acumulado=0):\n",
    "       # Esta es la función externa que crea un 'sumador' especializado.\n",
    "    #total_acumulado es la variable del ámbito envolvente (enclosing scope)\n",
    "    def sumar_valor(valor):\n",
    "\n",
    "        #Esta es la función anidada.\n",
    "       # Su propósito es sumar un valor al total_acumulado.\n",
    "        # La palabra clave 'nonlocal' le dice a Python que total_acumulado\n",
    "        # no es una variable local, sino que debe buscarla en el ámbito envolvente.\n",
    "        # Esto permite que la función anidada la modifique.\n",
    "        nonlocal total_acumulado\n",
    "        # Ahora, sumamos el valor pasado como argumento a la variable\n",
    "        # total_acumulado del ámbito superior.\n",
    "        total_acumulado +=valor\n",
    "        # Devolvemos el valor acumulado actualizado.\n",
    "        return total_acumulado\n",
    "     # La función externa devuelve la función anidada, no la ejecuta\n",
    "    return sumar_valor\n",
    "# --- Uso del código ---\n",
    "\n",
    "# Creamos una instancia de nuestra \"fábrica\" de sumadores.\n",
    "# El total acumulado inicial será 0.\n",
    "   \n",
    "mi_sumador=crear_sumador_acumulado()\n",
    "resultado11=mi_sumador(11)\n",
    "\n",
    "print(f\" el total es: {resultado11}\") # Salida: Después de sumar 20, el total es: 30\n",
    "\n",
    "# El sumador sigue acumulando.\n",
    "resultado3 = mi_sumador(5)\n",
    "print(f\" el total es: {resultado3}\")  # Salida: Después de sumar 5, el total es: 35\n"
   ]
  },
  {
   "cell_type": "code",
   "execution_count": 53,
   "id": "239c72f3",
   "metadata": {},
   "outputs": [
    {
     "name": "stdout",
     "output_type": "stream",
     "text": [
      "abc123\n"
     ]
    }
   ],
   "source": [
    "#1. Ejercicio 4.3.1: Acceso a Variable Global\n",
    "CONFIG_API_KEY=\"abc123\"\n",
    "def obtener_aoi_key():\n",
    "    print(CONFIG_API_KEY)\n",
    "obtener_aoi_key()"
   ]
  },
  {
   "cell_type": "code",
   "execution_count": 65,
   "id": "e4493ca7",
   "metadata": {},
   "outputs": [
    {
     "name": "stdout",
     "output_type": "stream",
     "text": [
      "estado inicial del sistema apagado\n",
      "estado final del siste encendido\n"
     ]
    }
   ],
   "source": [
    "#Ejercicio 4.3.2: Modificar Variable Global con global\n",
    "estado_de_sistema=\"apagado\"\n",
    "def enceder_sistema():\n",
    "    global  estado_de_sistema\n",
    "    estado_de_sistema=\"encendido\"\n",
    "    \n",
    "print(f\"estado inicial del sistema {estado_de_sistema}\")\n",
    "enceder_sistema()\n",
    "print(f\"estado final del siste {estado_de_sistema}\")"
   ]
  },
  {
   "cell_type": "code",
   "execution_count": 67,
   "id": "9138becc",
   "metadata": {},
   "outputs": [
    {
     "name": "stdout",
     "output_type": "stream",
     "text": [
      "la cantindad nombre es 5\n",
      "lista ordenada ['alejandro', 'elionor', 'mare', 'nair', 'paola']\n"
     ]
    }
   ],
   "source": [
    "#Ejercicio 4.4.1: Uso de Funciones Built-in Comunes\n",
    "lista_nombre=[\"mare\",\"alejandro\",\"elionor\",\"paola\",\"nair\"]\n",
    "cantindad_nombre=len(lista_nombre)\n",
    "orden_lista=sorted(lista_nombre)\n",
    "print(f\"la cantindad nombre es {cantindad_nombre}\")\n",
    "print(f\"lista ordenada {orden_lista}\")"
   ]
  },
  {
   "cell_type": "code",
   "execution_count": 74,
   "id": "d3f39d06",
   "metadata": {},
   "outputs": [
    {
     "name": "stdout",
     "output_type": "stream",
     "text": [
      "1000\n"
     ]
    }
   ],
   "source": [
    "lit=[1,2,3,4,5,7,8,9,1,0,1000]\n",
    "maximo_valor=max(lit)\n",
    "print(maximo_valor)\n"
   ]
  }
 ],
 "metadata": {
  "kernelspec": {
   "display_name": "Python 3",
   "language": "python",
   "name": "python3"
  },
  "language_info": {
   "codemirror_mode": {
    "name": "ipython",
    "version": 3
   },
   "file_extension": ".py",
   "mimetype": "text/x-python",
   "name": "python",
   "nbconvert_exporter": "python",
   "pygments_lexer": "ipython3",
   "version": "3.13.5"
  }
 },
 "nbformat": 4,
 "nbformat_minor": 5
}
