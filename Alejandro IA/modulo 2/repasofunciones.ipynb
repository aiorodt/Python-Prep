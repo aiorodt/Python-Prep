{
 "cells": [
  {
   "cell_type": "code",
   "execution_count": 5,
   "id": "4a1c2c9c",
   "metadata": {},
   "outputs": [
    {
     "name": "stdout",
     "output_type": "stream",
     "text": [
      "hola mare\n",
      "hola cachapa\n"
     ]
    }
   ],
   "source": [
    "#funcion saludar\n",
    "def saludar(nombre):\n",
    "    print(f\"hola {nombre}\")\n",
    "  \n",
    "saludar(\"mare\")\n",
    "saludar(\"cachapa\")"
   ]
  },
  {
   "cell_type": "code",
   "execution_count": null,
   "id": "481dc987",
   "metadata": {},
   "outputs": [
    {
     "data": {
      "text/plain": [
       "19"
      ]
     },
     "execution_count": 10,
     "metadata": {},
     "output_type": "execute_result"
    }
   ],
   "source": [
    "#funcion devolucion de valores\n",
    "def funcion(a,b):\n",
    "    resultado=a-b\n",
    "    return resultado\n",
    "funcion (25,6)\n"
   ]
  },
  {
   "cell_type": "code",
   "execution_count": 11,
   "id": "9cce5a4f",
   "metadata": {},
   "outputs": [
    {
     "name": "stdout",
     "output_type": "stream",
     "text": [
      "enviar correo alejandro@gmail.com\n",
      "Asusto te quiero mare\n",
      "Cuerpo wepaaaaaaaaaaaa \n",
      "--------------------\n"
     ]
    }
   ],
   "source": [
    "def enviar_correo(destinatio,asunto=\"sin asuntos\", cuerpo=\"\"):\n",
    "    print(f\"enviar correo {destinatio}\")\n",
    "    print(f\"Asusto {asunto}\")\n",
    "    print(f\"Cuerpo {cuerpo}\")\n",
    "    print(f\"-\"*20)\n",
    "\n",
    "enviar_correo(\"alejandro@gmail.com\",\"te quiero mare\",\"wepaaaaaaaaaaaa \")\n"
   ]
  },
  {
   "cell_type": "code",
   "execution_count": 22,
   "id": "20680a49",
   "metadata": {},
   "outputs": [
    {
     "name": "stdout",
     "output_type": "stream",
     "text": [
      "['pera']\n",
      "['pera', 'mon']\n",
      "['perro']\n",
      "['luis jose']\n"
     ]
    }
   ],
   "source": [
    "#Importante: Cuidado con los Parámetros por Defecto Mutables \n",
    "def agregar_item(item, lista=[]): # ¡CUIDADO! lista es un parámetro por defecto mutable\n",
    "    lista.append(item)\n",
    "    return lista\n",
    "print(agregar_item(\"pera\")) #agregue un elemento a la lista vacia\n",
    "print(agregar_item(\"mon\")) #error esto es error porque se desea es hacer listas nuevas\n",
    "print(agregar_item(\"perro\",lista=[])) #debe ir asi para agregar nuevo elemento en una lista\n",
    "print(agregar_item(\"luis jose\",lista=[]))\n",
    "\n",
    "\n"
   ]
  },
  {
   "cell_type": "code",
   "execution_count": null,
   "id": "01699f8c",
   "metadata": {},
   "outputs": [
    {
     "name": "stdout",
     "output_type": "stream",
     "text": [
      "['bellota']\n",
      "['calamar']\n"
     ]
    }
   ],
   "source": [
    "#Estructura correcta de esta función de lo Parámetros por Defecto Mutables\n",
    "def agregar_item(item,lista=None):\n",
    "    if lista is None:\n",
    "        lista=[] # se va crear una lista vacia\n",
    "        lista.append(item)\n",
    "        return lista\n",
    "print(agregar_item(\"bellota\"))\n",
    "print(agregar_item(\"calamar\"))"
   ]
  },
  {
   "cell_type": "code",
   "execution_count": 29,
   "id": "51aaf0f7",
   "metadata": {},
   "outputs": [
    {
     "name": "stdout",
     "output_type": "stream",
     "text": [
      "0\n",
      "588.56\n"
     ]
    }
   ],
   "source": [
    "#. 3 Argumentos de Longitud Variable (*args y **kwargs)\n",
    "#args empaquedo y desempaquetado tupla\n",
    "def calculo_de_promedio(*notas):\n",
    "    if not notas:\n",
    "        return 0\n",
    "    return sum(notas)/len(notas)\n",
    "    \n",
    "print(calculo_de_promedio())\n",
    "print(f\"{calculo_de_promedio(15,10,6,20,150,3330.333):.2f}\")"
   ]
  },
  {
   "cell_type": "code",
   "execution_count": null,
   "id": "c3e78dca",
   "metadata": {},
   "outputs": [
    {
     "name": "stdout",
     "output_type": "stream",
     "text": [
      "Evento FIN DE AÑO en la fecha 17\n",
      "('paola', 'luis', 'tornado')\n",
      "- paola\n",
      "- luis\n",
      "- tornado\n"
     ]
    }
   ],
   "source": [
    "#3 Argumentos de Longitud Variable (*args )\n",
    "\n",
    "def registro_evento(tipo_de_evento,*participantes,fecha=\"hoy\"):\n",
    "    print(f\"Evento {tipo_de_evento} en la fecha {fecha}\")\n",
    "    if participantes:\n",
    "        print(participantes)\n",
    "        for p in participantes:\n",
    "            print(f\"- {p}\")\n",
    "    else:\n",
    "        print(\"sin participantes\")\n",
    "        print(\"-\"*40)\n",
    "registro_evento(\"FIN DE AÑO\",\"paola\",\"luis\",\"tornado\", fecha=17)"
   ]
  },
  {
   "cell_type": "code",
   "execution_count": 3,
   "id": "e3c85173",
   "metadata": {},
   "outputs": [
    {
     "name": "stdout",
     "output_type": "stream",
     "text": [
      "--- configuracion de impresora ---\n",
      "Notaleo 30\n",
      "------------------------------------\n",
      "Sofia 50\n",
      "------------------------------------\n",
      "Cartucho vacio\n",
      "------------------------------------\n"
     ]
    }
   ],
   "source": [
    "#**kwargs (Argumentos de Palabra Clave Variables)  #guarda la info en un diccionario \n",
    "#empaca y desesmpaca diccioario\n",
    "def configuracion_impresa(**opciones):\n",
    "    print(\"--- configuracion de impresora ---\")\n",
    "    if not opciones:\n",
    "        print(\"---- No se proporcionan opciones ----\")\n",
    "    for clave,valor in opciones.items():\n",
    "        print(f\"{clave.capitalize()} {valor}\")\n",
    "        print(\"------------------------------------\")\n",
    "        \n",
    "configuracion_impresa(notaleo=30,sofia=50, cartucho=\"vacio\")\n",
    "\n"
   ]
  },
  {
   "cell_type": "code",
   "execution_count": 10,
   "id": "40fc9583",
   "metadata": {},
   "outputs": [
    {
     "name": "stdout",
     "output_type": "stream",
     "text": [
      "Procesando el numero de perido N-101\n",
      "('gaseosa', 'pasta', 'tomate', 'pañales')\n",
      "- gaseosa\n",
      "Detalles Adicionales\n",
      "Arroz su valor es rissoto\n",
      "Mortaldela su valor es tapara\n",
      "Queso su valor es azul\n",
      "==============================\n",
      "- pasta\n",
      "Detalles Adicionales\n",
      "Arroz su valor es rissoto\n",
      "Mortaldela su valor es tapara\n",
      "Queso su valor es azul\n",
      "==============================\n",
      "- tomate\n",
      "Detalles Adicionales\n",
      "Arroz su valor es rissoto\n",
      "Mortaldela su valor es tapara\n",
      "Queso su valor es azul\n",
      "==============================\n",
      "- pañales\n",
      "Detalles Adicionales\n",
      "Arroz su valor es rissoto\n",
      "Mortaldela su valor es tapara\n",
      "Queso su valor es azul\n",
      "==============================\n"
     ]
    }
   ],
   "source": [
    "#Ejemplo combinando *args y **kwargs\n",
    "def procesar_pedido(numero_de_pedidos,*items,**detalles_extra):\n",
    "    print(f\"Procesando el numero de perido {numero_de_pedidos}\")\n",
    "    print(items)\n",
    "    for item in items: # Extrayendo Items de la tupla\n",
    "        print(f\"- {item}\")\n",
    "        if detalles_extra:\n",
    "            print(\"Detalles Adicionales\")\n",
    "            for clave, valor in detalles_extra.items():\n",
    "                print(f\"{clave.capitalize()} su valor es {valor}\")\n",
    "        print(\"=\"*30)\n",
    "\n",
    "procesar_pedido(\"N-101\",\"gaseosa\",\"pasta\",\"tomate\",\"pañales\",arroz=\"rissoto\",mortaldela=\"tapara\",queso=\"azul\")"
   ]
  },
  {
   "cell_type": "code",
   "execution_count": 18,
   "id": "8754e41e",
   "metadata": {},
   "outputs": [
    {
     "name": "stdout",
     "output_type": "stream",
     "text": [
      "Obligatorio Alejandro Marelibeth\n",
      "necesarios defecto 0\n",
      "Args ()\n",
      "kwardg {}\n",
      "----------------------------------------\n",
      "Obligatorio v x\n",
      "necesarios tres opiniciones = 3\n",
      "Args ('ppa6', 5, 4, 7)\n",
      "kwardg {'leo': 25, 'pati': 30}\n",
      "----------------------------------------\n"
     ]
    }
   ],
   "source": [
    "#Orden de los Parámetros (Una Regla Estricta): \n",
    "\n",
    "def funcion_compleja(obligatorio1,obligatorio2,por_defecto_str=\"defecto\", por_defecto_nur=0,*args_posicionla,\n",
    "                     **kwargd_clave_valor):\n",
    "    print(f\"Obligatorio {obligatorio1} {obligatorio2}\")\n",
    "    print(f\"necesarios {por_defecto_str} {por_defecto_nur}\")\n",
    "    print(f\"Args {args_posicionla}\") #tupla\n",
    "    print(f\"kwardg {kwargd_clave_valor}\")#diccionario\n",
    "    print(\"-\"*40)\n",
    "funcion_compleja(\"Alejandro\",\"Marelibeth\")\n",
    "funcion_compleja(\"v\",\"x\",\"tres opiniciones =\",3,\"ppa6\",5,4,7,leo=25,pati=30)\n"
   ]
  },
  {
   "cell_type": "code",
   "execution_count": null,
   "id": "908e6547",
   "metadata": {},
   "outputs": [
    {
     "ename": "NameError",
     "evalue": "name 'mensaje' is not defined",
     "output_type": "error",
     "traceback": [
      "\u001b[31m---------------------------------------------------------------------------\u001b[39m",
      "\u001b[31mNameError\u001b[39m                                 Traceback (most recent call last)",
      "\u001b[36mCell\u001b[39m\u001b[36m \u001b[39m\u001b[32mIn[20]\u001b[39m\u001b[32m, line 8\u001b[39m\n\u001b[32m      6\u001b[39m     \u001b[38;5;28mprint\u001b[39m(mensaje)\n\u001b[32m      7\u001b[39m mi_funcion_local\n\u001b[32m----> \u001b[39m\u001b[32m8\u001b[39m \u001b[38;5;28mprint\u001b[39m(\u001b[43mmensaje\u001b[49m)\n",
      "\u001b[31mNameError\u001b[39m: name 'mensaje' is not defined"
     ]
    }
   ],
   "source": [
    "#4. Ámbito de Variables (Scope - Regla LEGB)\n",
    "#variable local son usadas y destruida por payton\n",
    "\n",
    "def mi_funcion_local():\n",
    "    mensaje=\"hola desde el ambito loca\"\n",
    "    print(mensaje)\n",
    "mi_funcion_local\n",
    "print(mensaje) #la varibale mensaje no existe fuera de la funcion ya que estas son locales"
   ]
  },
  {
   "cell_type": "code",
   "execution_count": 4,
   "id": "6548c2ef",
   "metadata": {},
   "outputs": [
    {
     "ename": "UnboundLocalError",
     "evalue": "cannot access local variable 'conte' where it is not associated with a value",
     "output_type": "error",
     "traceback": [
      "\u001b[31m---------------------------------------------------------------------------\u001b[39m",
      "\u001b[31mUnboundLocalError\u001b[39m                         Traceback (most recent call last)",
      "\u001b[36mCell\u001b[39m\u001b[36m \u001b[39m\u001b[32mIn[4]\u001b[39m\u001b[32m, line 15\u001b[39m\n\u001b[32m     13\u001b[39m     \u001b[38;5;28;01mreturn\u001b[39;00m incremetar\n\u001b[32m     14\u001b[39m mi_contador=contador_creador() \u001b[38;5;66;03m#mi contador es la funcion incremetar\u001b[39;00m\n\u001b[32m---> \u001b[39m\u001b[32m15\u001b[39m \u001b[43mmi_contador\u001b[49m\u001b[43m(\u001b[49m\u001b[43m)\u001b[49m\n",
      "\u001b[36mCell\u001b[39m\u001b[36m \u001b[39m\u001b[32mIn[4]\u001b[39m\u001b[32m, line 10\u001b[39m, in \u001b[36mcontador_creador.<locals>.incremetar\u001b[39m\u001b[34m()\u001b[39m\n\u001b[32m      8\u001b[39m \u001b[38;5;28;01mdef\u001b[39;00m\u001b[38;5;250m \u001b[39m\u001b[34mincremetar\u001b[39m(): \u001b[38;5;66;03m#la otra funcion interna\u001b[39;00m\n\u001b[32m      9\u001b[39m     \u001b[38;5;28;01mnonlocal\u001b[39;00m conteo \u001b[38;5;66;03m#modifica la funcio Eclosing es decir la externa\u001b[39;00m\n\u001b[32m---> \u001b[39m\u001b[32m10\u001b[39m     \u001b[43mconte\u001b[49m+=\u001b[32m1\u001b[39m\n\u001b[32m     11\u001b[39m     \u001b[38;5;28mprint\u001b[39m(\u001b[33mf\u001b[39m\u001b[33m\"\u001b[39m\u001b[33mconteo altua \u001b[39m\u001b[38;5;132;01m{\u001b[39;00mconteo\u001b[38;5;132;01m}\u001b[39;00m\u001b[33m\"\u001b[39m)\n\u001b[32m     12\u001b[39m     \u001b[38;5;28;01mreturn\u001b[39;00m conteo\n",
      "\u001b[31mUnboundLocalError\u001b[39m: cannot access local variable 'conte' where it is not associated with a value"
     ]
    }
   ],
   "source": [
    "# E (Enclosing - Encerrado/Anidado) funcion dentro de otra \"compuesta\"\n",
    "#la varible definida es la exterior\n",
    "# se puede entrar desde la funcion interior\n",
    "#la varibale interna tiene recuerdo aunque la externa su ejecucion termine\n",
    "#palabra cla nonlocal (Eclosing sin hacerla local)\n",
    "def contador_creador():\n",
    "    conteo=0 # esta en el ambito Eclosing para incrmentar\n",
    "    def incremetar(): #la otra funcion interna\n",
    "        nonlocal conteo #modifica la funcio Eclosing es decir la externa\n",
    "        conte+=1\n",
    "        print(f\"conteo altua {conteo}\")\n",
    "        return conteo\n",
    "    return incremetar\n",
    "mi_contador=contador_creador() #mi contador es la funcion incremetar\n",
    "mi_contador()\n"
   ]
  },
  {
   "cell_type": "code",
   "execution_count": 12,
   "id": "1a63ca01",
   "metadata": {},
   "outputs": [
    {
     "name": "stdout",
     "output_type": "stream",
     "text": [
      "conteo actual 1\n",
      "conteo actual 2\n",
      "conteo actual 3\n"
     ]
    },
    {
     "data": {
      "text/plain": [
       "3"
      ]
     },
     "execution_count": 12,
     "metadata": {},
     "output_type": "execute_result"
    }
   ],
   "source": [
    "# E (Enclosing - Encerrado/Anidado) funcion dentro de otra \"compuesta\"\n",
    "#la varible definida es la exterior\n",
    "# se puede entrar desde la funcion interior\n",
    "#la varibale interna tiene recuerdo aunque la externa su ejecucion termine\n",
    "#palabra cla nonlocal (Eclosing sin hacerla local)\n",
    "def contador_creador():\n",
    "    conteo=0 # esta en el ambito Eclosing para incrmentar\n",
    "    def incremetar(): #la otra funcion interna\n",
    "        nonlocal conteo #modifica la funcio Eclosing es decir la externa\n",
    "        conteo+=1\n",
    "        print(f\"conteo actual {conteo}\")\n",
    "        return conteo\n",
    "    return incremetar\n",
    "mi_contador=contador_creador() #mi contador es la funcion incremetar\n",
    "mi_contador()\n",
    "mi_contador()\n",
    "mi_contador()"
   ]
  },
  {
   "cell_type": "code",
   "execution_count": null,
   "id": "d0cc4564",
   "metadata": {},
   "outputs": [
    {
     "name": "stdout",
     "output_type": "stream",
     "text": [
      "inicio del juegos (intetos 3) \n",
      "total de partidas jugadas 1\n",
      "total de partidas jugadas 1\n",
      "total de partidas jugadas 1\n",
      "total de partidas jugadas 1\n"
     ]
    }
   ],
   "source": [
    "#G Global\n",
    "#Se puede acceder desde cualquier punto\n",
    "#palabra clave global de lo contrario la funcion creara una varible fuera de la funcion\n",
    "MAX_INTENTO=3\n",
    "partidas_jugadas=0\n",
    "def jugar():\n",
    "    global partidas_jugadas\n",
    "    print(f\"inicio del juegos (intetos {MAX_INTENTO}) \")\n",
    "    partidas_jugadas+=1\n",
    "jugar()\n",
    "print(f\"total de partidas jugadas {partidas_jugadas}\")\n",
    "\n"
   ]
  },
  {
   "cell_type": "code",
   "execution_count": null,
   "id": "7ec2b4d4",
   "metadata": {},
   "outputs": [],
   "source": [
    "#B (Built-in - Integrado): Nombres predefinidos en Python que están siempre\n",
    "#disponibles (ej. print(), len(), str(), True, False, None, list(), dict())."
   ]
  }
 ],
 "metadata": {
  "kernelspec": {
   "display_name": "Python 3",
   "language": "python",
   "name": "python3"
  },
  "language_info": {
   "codemirror_mode": {
    "name": "ipython",
    "version": 3
   },
   "file_extension": ".py",
   "mimetype": "text/x-python",
   "name": "python",
   "nbconvert_exporter": "python",
   "pygments_lexer": "ipython3",
   "version": "3.13.5"
  }
 },
 "nbformat": 4,
 "nbformat_minor": 5
}
