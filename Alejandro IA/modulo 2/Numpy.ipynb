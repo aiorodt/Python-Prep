{
 "cells": [
  {
   "cell_type": "code",
   "execution_count": 1,
   "id": "b48fa2cf",
   "metadata": {},
   "outputs": [
    {
     "name": "stdout",
     "output_type": "stream",
     "text": [
      "vector:\n",
      "[1 2 3 4]\n",
      "\n",
      "int64\n"
     ]
    }
   ],
   "source": [
    "# Crear un vector 1D de enteros\n",
    "\n",
    "import numpy as np\n",
    "lista_1d=[1,2,3,4]\n",
    "vector=np.array(lista_1d)\n",
    "print(f\"vector:\\n{vector}\\n\") #sale el nombe vector y debajo los datos\n",
    "print(vector.dtype)"
   ]
  },
  {
   "cell_type": "code",
   "execution_count": 3,
   "id": "c324eda7",
   "metadata": {},
   "outputs": [
    {
     "name": "stdout",
     "output_type": "stream",
     "text": [
      "matriz:\n",
      "[[1. 2. 3.]\n",
      " [4. 5. 6.]]\n",
      "\n",
      "La forma de la matriz es:(2, 3)\n",
      "tipo de datosfloat64\n"
     ]
    }
   ],
   "source": [
    "# Crear una matriz 2D de punto flotante\n",
    "lista_2d=[[1.0,2.0,3.0],[4.0,5.0,6.0]]\n",
    "matriz=np.array(lista_2d)\n",
    "print(f\"matriz:\\n{matriz}\\n\")\n",
    "print(f\"La forma de la matriz es:{matriz.shape}\") #indica la cantidad de filas y columna de la matriz\n",
    "print(f\"tipo de datos{matriz.dtype}\") #dtype indica el tipo de datos este caso flotante\n"
   ]
  },
  {
   "cell_type": "code",
   "execution_count": 4,
   "id": "ef7f4c32",
   "metadata": {},
   "outputs": [
    {
     "name": "stdout",
     "output_type": "stream",
     "text": [
      "Array Ceros:\n",
      " [[0. 0. 0. 0.]\n",
      " [0. 0. 0. 0.]\n",
      " [0. 0. 0. 0.]]  \n",
      "\n"
     ]
    }
   ],
   "source": [
    "#Arrays de Ceros y Unos:\n",
    "# Array de ceros de 3x4\n",
    "ceros=np.zeros((3,4))\n",
    "print(f\"Array Ceros:\\n {ceros}  \\n\")"
   ]
  },
  {
   "cell_type": "code",
   "execution_count": 5,
   "id": "0bc7bf70",
   "metadata": {},
   "outputs": [
    {
     "name": "stdout",
     "output_type": "stream",
     "text": [
      "Array unos:\n",
      "[1 1 1 1 1]\n",
      "\n"
     ]
    }
   ],
   "source": [
    "# Array de unos de 5 elementos, con tipo de dato entero\n",
    "unos=np.ones(5,dtype=np.int64)\n",
    "print(f\"Array unos:\\n{unos}\\n\")"
   ]
  },
  {
   "cell_type": "code",
   "execution_count": 7,
   "id": "4ed3a54e",
   "metadata": {},
   "outputs": [
    {
     "name": "stdout",
     "output_type": "stream",
     "text": [
      "array con no.arange\n",
      "[0 2 4 6 8]\n",
      "\n"
     ]
    }
   ],
   "source": [
    "# Rangos Numéricos: Crea secuencias de números de forma automática\n",
    "rango_escalar=np.arange(0,10,2) # De 0 a 10 (excluido), paso de 2\n",
    "print(f\"array con no.arange\\n{rango_escalar}\\n\")"
   ]
  },
  {
   "cell_type": "code",
   "execution_count": null,
   "id": "b5445a9a",
   "metadata": {},
   "outputs": [
    {
     "name": "stdout",
     "output_type": "stream",
     "text": [
      "Array con np.lispace:\n",
      "[0.   0.25 0.5  0.75 1.  ]\n",
      "\n"
     ]
    }
   ],
   "source": [
    "# Números espaciados uniformemente\n",
    "# 5 puntos desde 0 hasta 1 (incluidos)\n",
    "lineal=np.linspace(0,1,5)\n",
    "print(f\"Array con np.lispace:\\n{lineal}\\n\") #ideal para sistema de coordenadas\n"
   ]
  },
  {
   "cell_type": "code",
   "execution_count": 8,
   "id": "43aa5b11",
   "metadata": {},
   "outputs": [
    {
     "name": "stdout",
     "output_type": "stream",
     "text": [
      "Matriz Aleatoria uniforme:\n",
      "[[0.15908873 0.5198544  0.2965352 ]\n",
      " [0.884016   0.66000499 0.25585667]\n",
      " [0.06959604 0.31411654 0.32427348]]\n",
      "\n"
     ]
    }
   ],
   "source": [
    "#Arrays Aleatorios: NumPy tiene un módulo random muy completo\n",
    "# Matriz 2x2 de números aleatorios entre 0 y 1 (distribución uniforme\n",
    "aleatorio=np.random.rand(3,3)\n",
    "print(f\"Matriz Aleatoria uniforme:\\n{aleatorio}\\n\")\n"
   ]
  },
  {
   "cell_type": "code",
   "execution_count": 48,
   "id": "22d49a7f",
   "metadata": {},
   "outputs": [
    {
     "name": "stdout",
     "output_type": "stream",
     "text": [
      "Enteros aleatorios\n",
      "[9 6 3]\n",
      "\n"
     ]
    }
   ],
   "source": [
    "# Enteros aleatorios en un rango (de 1 a 10, tamaño 3)\n",
    "enteros_aleatorio=np.random.randint(1,10,size=3) #busca enteros aleatorios la cantidad depende de size\n",
    "print(f\"Enteros aleatorios\\n{enteros_aleatorio}\\n\")"
   ]
  },
  {
   "cell_type": "code",
   "execution_count": 15,
   "id": "52a90b69",
   "metadata": {},
   "outputs": [
    {
     "name": "stdout",
     "output_type": "stream",
     "text": [
      "Matriz normal \n",
      "[[ 0.16286721  0.60623762 -1.8408489 ]\n",
      " [-2.54769845 -0.10471996  0.65755522]]\n",
      "\n"
     ]
    }
   ],
   "source": [
    "# Números de una distribución normal estándar\n",
    "normal=np.random.randn(2,3) #toam cualquier entero\n",
    "print(f\"Matriz normal \\n{normal}\\n\")"
   ]
  },
  {
   "cell_type": "code",
   "execution_count": 22,
   "id": "d39d814d",
   "metadata": {},
   "outputs": [
    {
     "name": "stdout",
     "output_type": "stream",
     "text": [
      "matriz original:\n",
      "[[10 20 30]\n",
      " [40 50 60]\n",
      " [70 80 90]]\n",
      "\n",
      "elemento en [1,2] = 60\n",
      "\n",
      "matriz modificada\n",
      "[[10 20 30]\n",
      " [40 50 90]\n",
      " [70 80 90]]\n",
      "\n"
     ]
    }
   ],
   "source": [
    "#Indexación Básica: Se accede a los elementos usando los índices entre\n",
    "#,corchetes, separados por comas para cada dimensión\n",
    "matriz_1=np.array([[10,20,30],[40,50,60],[70,80,90]])\n",
    "print(f\"matriz original:\\n{matriz_1}\\n\")\n",
    "# Acceder a un solo elemento (fila 1, columna 2)\n",
    "print(f\"elemento en [1,2] = {matriz_1[1,2]}\\n\")\n",
    "\n",
    "# Modificar un elemento\n",
    "matriz_1[1,2]=90\n",
    "print(f\"matriz modificada\\n{matriz_1}\\n\")"
   ]
  },
  {
   "cell_type": "code",
   "execution_count": 44,
   "id": "d72e1e27",
   "metadata": {},
   "outputs": [
    {
     "name": "stdout",
     "output_type": "stream",
     "text": [
      "sub matriz columna (0,1) \n",
      "[[10 20]\n",
      " [40 50]\n",
      " [70 80]]\n",
      "\n"
     ]
    }
   ],
   "source": [
    "#Slicing (Corte): Extrae un sub-array de un array existente. La sintaxis\n",
    "#[inicio:fin:paso] es la misma que en las listas, pero aplicada a cada dimensión\n",
    "\n",
    "# Todas las filas, pero solo la columna 0 y1\n",
    "sub_matriz=matriz_1[:,0:2]\n",
    "print(f\"sub matriz columna (0,1) \\n{sub_matriz}\\n\")\n"
   ]
  },
  {
   "cell_type": "code",
   "execution_count": 52,
   "id": "391f472a",
   "metadata": {},
   "outputs": [
    {
     "name": "stdout",
     "output_type": "stream",
     "text": [
      "sub matriz fila (0,2)\n",
      "[[10 20 30]\n",
      " [40 50 90]]\n",
      "\n",
      "seleccon ulima fila \n",
      "[70 80 90]\n"
     ]
    }
   ],
   "source": [
    "## Filas 0 y 1, pero todas las columnas\n",
    "sub_matriz_2=matriz_1[0:2,:]\n",
    "print(f\"sub matriz fila (0,2)\\n{sub_matriz_2}\\n\")\n",
    "\n",
    "# Seleccionar la última fila\n",
    "print(f\"seleccon ulima fila \\n{matriz_1[-1,:]}\")"
   ]
  },
  {
   "cell_type": "code",
   "execution_count": 4,
   "id": "5991485b",
   "metadata": {},
   "outputs": [
    {
     "name": "stdout",
     "output_type": "stream",
     "text": [
      "vector_1d \n",
      "[  1.   22.   36.    1.4 256. ]\n",
      "\n"
     ]
    }
   ],
   "source": [
    "import numpy as np\n",
    "## Crear un vector 1D de enteros\n",
    "lista_1d=[1,22,36,1.4,256]\n",
    "vector_1d=np.array(lista_1d)\n",
    "print(f\"vector_1d \\n{vector_1d}\\n\")"
   ]
  },
  {
   "cell_type": "code",
   "execution_count": 5,
   "id": "a8aac0ef",
   "metadata": {},
   "outputs": [
    {
     "name": "stdout",
     "output_type": "stream",
     "text": [
      "matriz\n",
      "[[ 1.4  52.   36.    0.26]\n",
      " [ 0.   12.3  56.    0.  ]]\n",
      "\n",
      "la forma de la matriz (2, 4)\n",
      "tipo de datos de la matriz float64\n"
     ]
    }
   ],
   "source": [
    "# Crear una matriz 2D de punto flotante\n",
    "lista_2d=[[1.4,52,36,0.26],[0,12.3,56,0]]\n",
    "matriz=np.array(lista_2d)\n",
    "print(f\"matriz\\n{matriz}\\n\")\n",
    "print(f\"la forma de la matriz {matriz.shape}\")\n",
    "print(f\"tipo de datos de la matriz {matriz.dtype}\")"
   ]
  },
  {
   "cell_type": "code",
   "execution_count": 6,
   "id": "863fd098",
   "metadata": {},
   "outputs": [
    {
     "name": "stdout",
     "output_type": "stream",
     "text": [
      "matriz ceros \n",
      "[[0. 0. 0. 0.]\n",
      " [0. 0. 0. 0.]\n",
      " [0. 0. 0. 0.]]\n",
      "\n"
     ]
    }
   ],
   "source": [
    "# Array de ceros de 3x4\n",
    "ceros=np.zeros((3,4))\n",
    "print(f\"matriz ceros \\n{ceros}\\n\")"
   ]
  },
  {
   "cell_type": "code",
   "execution_count": 7,
   "id": "2e6eb3cf",
   "metadata": {},
   "outputs": [
    {
     "name": "stdout",
     "output_type": "stream",
     "text": [
      "matriz unos\n",
      "[1 1 1 1 1]\n",
      "\n"
     ]
    }
   ],
   "source": [
    "# Array de unos de 5 elementos, con tipo de dato entero\n",
    "unos=np.ones(5,dtype=np.int64)\n",
    "print(f\"matriz unos\\n{unos}\\n\")"
   ]
  },
  {
   "cell_type": "code",
   "execution_count": 8,
   "id": "8b953700",
   "metadata": {},
   "outputs": [
    {
     "name": "stdout",
     "output_type": "stream",
     "text": [
      "array np.arange\n",
      "[ 0  2  4  6  8 10 12 14 16 18]\n",
      "\n"
     ]
    }
   ],
   "source": [
    "#Rangos Numéricos: Crea secuencias de números de forma automática.\n",
    "# Como range() de Python, pero crea un array\n",
    "rango_escalar=np.arange(0,20,2)\n",
    "print(f\"array np.arange\\n{rango_escalar}\\n\")"
   ]
  },
  {
   "cell_type": "code",
   "execution_count": 9,
   "id": "a75c7245",
   "metadata": {},
   "outputs": [
    {
     "name": "stdout",
     "output_type": "stream",
     "text": [
      "Array con np.linspace [0.   0.25 0.5  0.75 1.  ]\n"
     ]
    }
   ],
   "source": [
    "# Números espaciados uniformemente\n",
    "# 5 puntos desde 0 hasta 1 (incluidos)\n",
    "lineal=np.linspace(0,1,5)\n",
    "print(f\"Array con np.linspace {lineal}\")"
   ]
  },
  {
   "cell_type": "code",
   "execution_count": 12,
   "id": "86ba07e3",
   "metadata": {},
   "outputs": [
    {
     "name": "stdout",
     "output_type": "stream",
     "text": [
      "matriz aleatoria 0-1 \n",
      "[[0.17533641 0.03594699]\n",
      " [0.63661596 0.80908173]]\n",
      "\n"
     ]
    }
   ],
   "source": [
    "#Arrays Aleatorios:\n",
    "# Matriz 2x2 de números aleatorios entre 0 y 1 (distribución uniforme)\n",
    "aleatorio=np.random.rand(2,2)\n",
    "print(f\"matriz aleatoria 0-1 \\n{aleatorio}\\n\")"
   ]
  },
  {
   "cell_type": "code",
   "execution_count": null,
   "id": "c776b2fa",
   "metadata": {},
   "outputs": [
    {
     "name": "stdout",
     "output_type": "stream",
     "text": [
      "matriz de enteros aleatorio\n",
      " [5 5 5]\n",
      "\n"
     ]
    }
   ],
   "source": [
    "# Enteros aleatorios en un rango (de 1 a 10, tamaño 3)\n",
    "enteros_aleatorio = np.random.randint(1, 10, size=3)\n",
    "print(f\"matriz de enteros aleatorio\\n {enteros_aleatorio}\\n\")"
   ]
  },
  {
   "cell_type": "code",
   "execution_count": 22,
   "id": "57fddaaf",
   "metadata": {},
   "outputs": [
    {
     "name": "stdout",
     "output_type": "stream",
     "text": [
      "matriz distroibucion normal\n",
      "[[-0.30801632  1.2293122 ]\n",
      " [-0.83102972  1.23955049]]\n",
      "\n"
     ]
    }
   ],
   "source": [
    "# Números de una distribución normal estándar\n",
    "normal=np.random.randn(2,2)\n",
    "print(f\"matriz distroibucion normal\\n{normal}\\n\")"
   ]
  },
  {
   "cell_type": "code",
   "execution_count": 25,
   "id": "138b2ca3",
   "metadata": {},
   "outputs": [
    {
     "name": "stdout",
     "output_type": "stream",
     "text": [
      "print matriz original\n",
      "[[10 20 30]\n",
      " [40 50 60]\n",
      " [70 80 90]]\n",
      "\n"
     ]
    }
   ],
   "source": [
    "#3. Indexación y Slicing: Navegando tus Datos 🗺\n",
    "#Indexación Básica\n",
    "matriz=np.array([[10,20,30],[40,50,60],[70,80,90]])\n",
    "print(f\"print matriz original\\n{matriz}\\n\")\n"
   ]
  },
  {
   "cell_type": "code",
   "execution_count": 26,
   "id": "97703db4",
   "metadata": {},
   "outputs": [
    {
     "name": "stdout",
     "output_type": "stream",
     "text": [
      "acceso elemento fila 1 columna 2 \n",
      "60\n",
      "\n"
     ]
    }
   ],
   "source": [
    "# Acceder a un solo elemento (fila 1, columna 2)\n",
    "print(f\"acceso elemento fila 1 columna 2 \\n{matriz[1,2]}\\n\")"
   ]
  },
  {
   "cell_type": "code",
   "execution_count": 28,
   "id": "9bc5c3eb",
   "metadata": {},
   "outputs": [
    {
     "name": "stdout",
     "output_type": "stream",
     "text": [
      "elemento modificado fila uno columna 2\n",
      "[[10 20 30]\n",
      " [40 50 99]\n",
      " [70 80 90]]\n",
      "\n"
     ]
    }
   ],
   "source": [
    "# Modificar un elemento\n",
    "matriz[1,2]=99\n",
    "print(f\"elemento modificado fila uno columna 2\\n{matriz}\\n\")"
   ]
  },
  {
   "cell_type": "code",
   "execution_count": 29,
   "id": "09002531",
   "metadata": {},
   "outputs": [
    {
     "name": "stdout",
     "output_type": "stream",
     "text": [
      "sub matriz\n",
      "[[10 20]\n",
      " [40 50]\n",
      " [70 80]]\n",
      "\n"
     ]
    }
   ],
   "source": [
    "#Slicing (Corte): Extrae un sub-array de un array existente\n",
    "# [inicio:fin:paso] es la misma que en las listas, pero aplicada a cada dimensión\n",
    "# Todas las filas, pero solo la columna 0 y 1\n",
    "sub_matriz=matriz[:,0:2]\n",
    "print(f\"sub matriz\\n{sub_matriz}\\n\")"
   ]
  },
  {
   "cell_type": "code",
   "execution_count": 32,
   "id": "c90f3957",
   "metadata": {},
   "outputs": [
    {
     "name": "stdout",
     "output_type": "stream",
     "text": [
      "muuestra fila 0 y 1 y todas la columnas \n",
      " [[10 20 30]\n",
      " [40 50 99]]\n",
      "\n"
     ]
    }
   ],
   "source": [
    "# Filas 0 y 1, pero todas las columnas\n",
    "sub_matriz_2=matriz[0:2,:]\n",
    "print(f\"muuestra fila 0 y 1 y todas la columnas \\n {sub_matriz_2}\\n\")"
   ]
  },
  {
   "cell_type": "code",
   "execution_count": 34,
   "id": "3e00f623",
   "metadata": {},
   "outputs": [
    {
     "name": "stdout",
     "output_type": "stream",
     "text": [
      "ultima fila \n",
      "[70 80 90]\n",
      "\n"
     ]
    }
   ],
   "source": [
    "#selecciona la ultima fila\n",
    "sub_matriz_3=matriz[-1,:]\n",
    "print(f\"ultima fila \\n{sub_matriz_3}\\n\")"
   ]
  },
  {
   "cell_type": "code",
   "execution_count": 41,
   "id": "deec1e84",
   "metadata": {},
   "outputs": [
    {
     "name": "stdout",
     "output_type": "stream",
     "text": [
      "mayores que 50\n",
      "[99 70 80 90]\n",
      "\n"
     ]
    }
   ],
   "source": [
    "#Indexación Booleana\n",
    "#Esta es una de las características más potentes. Te\n",
    "#permite seleccionar elementos basándose en una condición lógica. Esto es\n",
    "#extremadamente útil para filtrar datos que cumplen ciertos criterios.\n",
    "# Seleccionar todos los elementos mayores a 50\n",
    "mayores_que50=matriz[matriz>50]\n",
    "print(f\"mayores que 50\\n{mayores_que50}\\n\")\n",
    "# Esto devuelve un array plano (1D) con los valores que cumplen la condición."
   ]
  },
  {
   "cell_type": "code",
   "execution_count": 43,
   "id": "fe0d2a81",
   "metadata": {},
   "outputs": [
    {
     "name": "stdout",
     "output_type": "stream",
     "text": [
      "Suma a+b\n",
      "[11 22 33]\n",
      "\n",
      "multiplicacon\n",
      "[10 40 90]\n",
      "\n"
     ]
    }
   ],
   "source": [
    "#Operaciones Vectorizadas y Matriciales: La Magia de NumPy\n",
    "#Operaciones Elemento por Elemento: Aplican la operación a cada par de\n",
    "#elementos correspondientes en los arrays. La \"magia\" es que no necesitas un for\n",
    "# loop\n",
    "a=np.array([1,2,3])\n",
    "b=np.array([10,20,30])\n",
    "print(f\"Suma a+b\\n{a+b}\\n\")\n",
    "print(f\"multiplicacon\\n{a*b}\\n\")"
   ]
  },
  {
   "cell_type": "code",
   "execution_count": 45,
   "id": "ae24ca60",
   "metadata": {},
   "outputs": [
    {
     "name": "stdout",
     "output_type": "stream",
     "text": [
      "el seno de cada elemento es\n",
      "[0.0000000e+00 1.0000000e+00 1.2246468e-16]\n",
      "\n",
      "el logaritno nepeniano \n",
      "[0. 1. 2.]\n",
      "\n"
     ]
    }
   ],
   "source": [
    "#Funciones Universales (ufuncs): NumPy incluye una vasta colección de\n",
    "#funciones matemáticas que operan sobre arrays. Estas funciones son\n",
    "#optimizadas y se aplican a cada elemento\n",
    "array_ejemplo=np.array([0,np.pi/2,np.pi])\n",
    "print(f\"el seno de cada elemento es\\n{np.sin(array_ejemplo)}\\n\") \n",
    "# np.sin es una ufunc\n",
    "\n",
    "array_log=np.array([1,np.e,np.e**2])\n",
    "print(f\"el logaritno nepeniano \\n{np.log(array_log)}\\n\")"
   ]
  },
  {
   "cell_type": "code",
   "execution_count": 48,
   "id": "b49c328c",
   "metadata": {},
   "outputs": [
    {
     "name": "stdout",
     "output_type": "stream",
     "text": [
      "suma todo los elementos de la matriz\n",
      "21\n",
      "\n",
      "Valor maximo de la matriz\n",
      "6\n",
      " valor minimo\n",
      "1\n",
      "\n",
      "Valor promedio de la matriz \n",
      "3.5\n",
      "\n"
     ]
    }
   ],
   "source": [
    "#Operaciones de Agregación (Funciones de Resumen): Permiten obtener\n",
    "#rápidamente estadísticas de tus datos. El argumento axis es clave para\n",
    "#especificar la dirección de la operación\n",
    "\n",
    "matriz_ejempo=([1,2,3],[4,5,6])\n",
    "print(f\"suma todo los elementos de la matriz\\n{np.sum(matriz_ejempo)}\\n\")\n",
    "print(f\"Valor maximo de la matriz\\n{np.max(matriz_ejempo)}\\n valor minimo\\n{np.min(matriz_ejempo)}\\n\")\n",
    "print(f\"Valor promedio de la matriz \\n{np.mean(matriz_ejempo)}\\n\")"
   ]
  },
  {
   "cell_type": "code",
   "execution_count": 49,
   "id": "a0e7c859",
   "metadata": {},
   "outputs": [
    {
     "name": "stdout",
     "output_type": "stream",
     "text": [
      "suma por columna\n",
      "[5 7 9]\n"
     ]
    }
   ],
   "source": [
    "# Suma por columna (axis=0): 'colapsa' el array verticalmente\n",
    "print(f\"suma por columna\\n{np.sum(matriz_ejempo,axis=0)}\")"
   ]
  },
  {
   "cell_type": "code",
   "execution_count": 50,
   "id": "d2153e86",
   "metadata": {},
   "outputs": [
    {
     "name": "stdout",
     "output_type": "stream",
     "text": [
      "multiplicacion de matrices por @ \n",
      "[[19 22]\n",
      " [43 50]]\n",
      "\n"
     ]
    }
   ],
   "source": [
    "#Multiplicación Matricial: Fundamental para el álgebra lineal y el machine\n",
    "#learning. Se diferencia de la multiplicación elemento por elemento.\n",
    "matriz_A=np.array([[1,2],[3,4]])\n",
    "matriz_B=np.array([[5,6],[7,8]])\n",
    "# Multiplicación matricial con el operador @\n",
    "resultados_dot=matriz_A @ matriz_B\n",
    "print(f\"multiplicacion de matrices por @ \\n{resultados_dot}\\n\")"
   ]
  },
  {
   "cell_type": "code",
   "execution_count": null,
   "id": "4d8509d2",
   "metadata": {},
   "outputs": [
    {
     "name": "stdout",
     "output_type": "stream",
     "text": [
      "vector original \n",
      "[0 1 2 3 4 5 6 7 8]\n",
      "\n",
      "matriz 3x3\n",
      " [[0 1 2]\n",
      " [3 4 5]\n",
      " [6 7 8]]\n",
      "\n",
      "matri 3x? \n",
      "[[0 1 2]\n",
      " [3 4 5]\n",
      " [6 7 8]]\n",
      "\n"
     ]
    }
   ],
   "source": [
    "#5. Reshaping y Broadcasting: Flexibilidad y Potencia 💡\n",
    "#Reshaping (Cambio de Forma)Te permite cambiar las dimensiones de un array\n",
    "#sin alterar sus datos. Esto es crucial para preparar los datos para diferentes\n",
    "#algoritmos que requieren una forma específica\n",
    "vector_2d=np.arange(9)\n",
    "print(f\"vector original \\n{vector_2d}\\n\")\n",
    "#convertir en una matriz 3x3\n",
    "matriz_3x3=vector_2d.reshape(3,3)\n",
    "print(f\"matriz 3x3\\n {matriz_3x3}\\n\")\n",
    "\n",
    "# También puedes usar -1 para que NumPy calcule la dimensión\n",
    "\n",
    "matriz_3x=vector_2d.reshape(3,-1) ) # numpy calcula que la segunda dimension es 3\n",
    "\n",
    "print(f\"matri 3x? \\n{matriz_3x}\\n\")"
   ]
  },
  {
   "cell_type": "code",
   "execution_count": null,
   "id": "e294c953",
   "metadata": {},
   "outputs": [],
   "source": [
    "#Broadcasting: El mecanismo de NumPy que permite realizar operaciones entre\n",
    "#arrays de diferentes formas y dimensiones. Las reglas de broadcasting son\n",
    "#simples: si los arrays tienen la misma forma, se operan elemento por elemento. Si\n",
    "#no, NumPy intenta \"estirar\" el array más pequeño para que coincida con el más\n",
    "#grande"
   ]
  },
  {
   "cell_type": "code",
   "execution_count": 61,
   "id": "8c76d9f3",
   "metadata": {},
   "outputs": [
    {
     "name": "stdout",
     "output_type": "stream",
     "text": [
      "restultado broadcating\n",
      "[[11 22 33]\n",
      " [14 25 36]]\n",
      "\n",
      "resultado que falla\n",
      "[4 6]\n",
      "\n"
     ]
    }
   ],
   "source": [
    "a=np.array([[1,2,3],[4,5,6]])\n",
    "b=np.array([10,20,30])\n",
    "resultado_broadcating=a+b\n",
    "print(f\"restultado broadcating\\n{resultado_broadcating}\\n\")\n",
    "\n",
    "# Ejemplo de broadcasting que falla (formas incompatibles)\n",
    "c=np.array([2,3])\n",
    "resultado_falla=a+c\n",
    "print(f\"resultado que falla\\n{resultado_falla}\\n\")"
   ]
  }
 ],
 "metadata": {
  "kernelspec": {
   "display_name": "Python 3",
   "language": "python",
   "name": "python3"
  },
  "language_info": {
   "codemirror_mode": {
    "name": "ipython",
    "version": 3
   },
   "file_extension": ".py",
   "mimetype": "text/x-python",
   "name": "python",
   "nbconvert_exporter": "python",
   "pygments_lexer": "ipython3",
   "version": "3.13.6"
  }
 },
 "nbformat": 4,
 "nbformat_minor": 5
}
