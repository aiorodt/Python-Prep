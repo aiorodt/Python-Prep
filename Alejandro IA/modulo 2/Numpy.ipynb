{
 "cells": [
  {
   "cell_type": "code",
   "execution_count": 4,
   "id": "b48fa2cf",
   "metadata": {},
   "outputs": [
    {
     "name": "stdout",
     "output_type": "stream",
     "text": [
      "vector:\n",
      "[1 2 3 4]\n",
      "\n",
      "int64\n"
     ]
    }
   ],
   "source": [
    "# Crear un vector 1D de enteros\n",
    "\n",
    "import numpy as np\n",
    "lista_1d=[1,2,3,4]\n",
    "vector=np.array(lista_1d)\n",
    "print(f\"vector:\\n{vector}\\n\") #sale el nombe vector y debajo los datos\n",
    "print(vector.dtype)"
   ]
  },
  {
   "cell_type": "code",
   "execution_count": null,
   "id": "c324eda7",
   "metadata": {},
   "outputs": [
    {
     "name": "stdout",
     "output_type": "stream",
     "text": [
      "matriz:\n",
      "[[1. 2. 3.]\n",
      " [4. 5. 6.]]\n",
      "\n",
      "La forma de la matriz es:(2, 3)\n",
      "tipo de datosfloat64\n"
     ]
    }
   ],
   "source": [
    "# Crear una matriz 2D de punto flotante\n",
    "lista_2d=[[1.0,2.0,3.0],[4.0,5.0,6.0]]\n",
    "matriz=np.array(lista_2d)\n",
    "print(f\"matriz:\\n{matriz}\\n\")\n",
    "print(f\"La forma de la matriz es:{matriz.shape}\") #indica la cantidad de filas y columna de la matriz\n",
    "print(f\"tipo de datos{matriz.dtype}\") #dtype indica el tipo de datos este caso flotante\n"
   ]
  },
  {
   "cell_type": "code",
   "execution_count": 19,
   "id": "ef7f4c32",
   "metadata": {},
   "outputs": [
    {
     "name": "stdout",
     "output_type": "stream",
     "text": [
      "Array Ceros:\n",
      " [[0. 0. 0. 0.]\n",
      " [0. 0. 0. 0.]\n",
      " [0. 0. 0. 0.]]  \n",
      "\n"
     ]
    }
   ],
   "source": [
    "#Arrays de Ceros y Unos:\n",
    "# Array de ceros de 3x4\n",
    "ceros=np.zeros((3,4))\n",
    "print(f\"Array Ceros:\\n {ceros}  \\n\")"
   ]
  },
  {
   "cell_type": "code",
   "execution_count": 26,
   "id": "0bc7bf70",
   "metadata": {},
   "outputs": [
    {
     "name": "stdout",
     "output_type": "stream",
     "text": [
      "Array unos:\n",
      "[1 1]\n",
      "\n"
     ]
    }
   ],
   "source": [
    "# Array de unos de 5 elementos, con tipo de dato entero\n",
    "unos=np.ones(2,dtype=np.int64)\n",
    "print(f\"Array unos:\\n{unos}\\n\")"
   ]
  },
  {
   "cell_type": "code",
   "execution_count": 27,
   "id": "4ed3a54e",
   "metadata": {},
   "outputs": [
    {
     "name": "stdout",
     "output_type": "stream",
     "text": [
      "array con no.arange\n",
      "[0 2 4 6 8]\n",
      "\n"
     ]
    }
   ],
   "source": [
    "# Rangos Numéricos: Crea secuencias de números de forma automática\n",
    "rango_escalar=np.arange(0,10,2) # De 0 a 10 (excluido), paso de 2\n",
    "print(f\"array con no.arange\\n{rango_escalar}\\n\")"
   ]
  },
  {
   "cell_type": "code",
   "execution_count": null,
   "id": "b5445a9a",
   "metadata": {},
   "outputs": [
    {
     "name": "stdout",
     "output_type": "stream",
     "text": [
      "Array con np.lispace:\n",
      "[0.   0.25 0.5  0.75 1.  ]\n",
      "\n"
     ]
    }
   ],
   "source": [
    "# Números espaciados uniformemente\n",
    "# 5 puntos desde 0 hasta 1 (incluidos)\n",
    "lineal=np.linspace(0,1,5)\n",
    "print(f\"Array con np.lispace:\\n{lineal}\\n\") #ideal para sistema de coordenadas\n"
   ]
  },
  {
   "cell_type": "code",
   "execution_count": null,
   "id": "43aa5b11",
   "metadata": {},
   "outputs": [
    {
     "name": "stdout",
     "output_type": "stream",
     "text": [
      "Matriz Aleatoria uniforme:\n",
      "[[0.16956849 0.96198581 0.45510686]\n",
      " [0.05642315 0.15474196 0.52619105]\n",
      " [0.07141858 0.32401643 0.49228335]]\n",
      "\n"
     ]
    }
   ],
   "source": [
    "#Arrays Aleatorios: NumPy tiene un módulo random muy completo\n",
    "# Matriz 2x2 de números aleatorios entre 0 y 1 (distribución uniforme\n",
    "aleatorio=np.random.rand(3,3)\n",
    "print(f\"Matriz Aleatoria uniforme:\\n{aleatorio}\\n\")\n"
   ]
  },
  {
   "cell_type": "code",
   "execution_count": 48,
   "id": "22d49a7f",
   "metadata": {},
   "outputs": [
    {
     "name": "stdout",
     "output_type": "stream",
     "text": [
      "Enteros aleatorios\n",
      "[9 6 3]\n",
      "\n"
     ]
    }
   ],
   "source": [
    "# Enteros aleatorios en un rango (de 1 a 10, tamaño 3)\n",
    "enteros_aleatorio=np.random.randint(1,10,size=3) #busca enteros aleatorios la cantidad depende de size\n",
    "print(f\"Enteros aleatorios\\n{enteros_aleatorio}\\n\")"
   ]
  },
  {
   "cell_type": "code",
   "execution_count": 52,
   "id": "52a90b69",
   "metadata": {},
   "outputs": [
    {
     "name": "stdout",
     "output_type": "stream",
     "text": [
      "Matriz normal \n",
      "[[-0.08566054 -1.35451151 -0.27014431]\n",
      " [ 0.88117271 -0.05018198 -0.76951657]]\n",
      "\n"
     ]
    }
   ],
   "source": [
    "# Números de una distribución normal estándar\n",
    "normal=np.random.randn(2,3) #toam cualquier entero\n",
    "print(f\"Matriz normal \\n{normal}\\n\")"
   ]
  }
 ],
 "metadata": {
  "kernelspec": {
   "display_name": "Python 3",
   "language": "python",
   "name": "python3"
  },
  "language_info": {
   "codemirror_mode": {
    "name": "ipython",
    "version": 3
   },
   "file_extension": ".py",
   "mimetype": "text/x-python",
   "name": "python",
   "nbconvert_exporter": "python",
   "pygments_lexer": "ipython3",
   "version": "3.13.5"
  }
 },
 "nbformat": 4,
 "nbformat_minor": 5
}
