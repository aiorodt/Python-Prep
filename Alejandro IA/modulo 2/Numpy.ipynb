{
 "cells": [
  {
   "cell_type": "code",
   "execution_count": 1,
   "id": "b48fa2cf",
   "metadata": {},
   "outputs": [
    {
     "name": "stdout",
     "output_type": "stream",
     "text": [
      "vector:\n",
      "[1 2 3 4]\n",
      "\n",
      "int64\n"
     ]
    }
   ],
   "source": [
    "# Crear un vector 1D de enteros\n",
    "\n",
    "import numpy as np\n",
    "lista_1d=[1,2,3,4]\n",
    "vector=np.array(lista_1d)\n",
    "print(f\"vector:\\n{vector}\\n\") #sale el nombe vector y debajo los datos\n",
    "print(vector.dtype)"
   ]
  },
  {
   "cell_type": "code",
   "execution_count": 3,
   "id": "c324eda7",
   "metadata": {},
   "outputs": [
    {
     "name": "stdout",
     "output_type": "stream",
     "text": [
      "matriz:\n",
      "[[1. 2. 3.]\n",
      " [4. 5. 6.]]\n",
      "\n",
      "La forma de la matriz es:(2, 3)\n",
      "tipo de datosfloat64\n"
     ]
    }
   ],
   "source": [
    "# Crear una matriz 2D de punto flotante\n",
    "lista_2d=[[1.0,2.0,3.0],[4.0,5.0,6.0]]\n",
    "matriz=np.array(lista_2d)\n",
    "print(f\"matriz:\\n{matriz}\\n\")\n",
    "print(f\"La forma de la matriz es:{matriz.shape}\") #indica la cantidad de filas y columna de la matriz\n",
    "print(f\"tipo de datos{matriz.dtype}\") #dtype indica el tipo de datos este caso flotante\n"
   ]
  },
  {
   "cell_type": "code",
   "execution_count": 4,
   "id": "ef7f4c32",
   "metadata": {},
   "outputs": [
    {
     "name": "stdout",
     "output_type": "stream",
     "text": [
      "Array Ceros:\n",
      " [[0. 0. 0. 0.]\n",
      " [0. 0. 0. 0.]\n",
      " [0. 0. 0. 0.]]  \n",
      "\n"
     ]
    }
   ],
   "source": [
    "#Arrays de Ceros y Unos:\n",
    "# Array de ceros de 3x4\n",
    "ceros=np.zeros((3,4))\n",
    "print(f\"Array Ceros:\\n {ceros}  \\n\")"
   ]
  },
  {
   "cell_type": "code",
   "execution_count": 5,
   "id": "0bc7bf70",
   "metadata": {},
   "outputs": [
    {
     "name": "stdout",
     "output_type": "stream",
     "text": [
      "Array unos:\n",
      "[1 1 1 1 1]\n",
      "\n"
     ]
    }
   ],
   "source": [
    "# Array de unos de 5 elementos, con tipo de dato entero\n",
    "unos=np.ones(5,dtype=np.int64)\n",
    "print(f\"Array unos:\\n{unos}\\n\")"
   ]
  },
  {
   "cell_type": "code",
   "execution_count": 7,
   "id": "4ed3a54e",
   "metadata": {},
   "outputs": [
    {
     "name": "stdout",
     "output_type": "stream",
     "text": [
      "array con no.arange\n",
      "[0 2 4 6 8]\n",
      "\n"
     ]
    }
   ],
   "source": [
    "# Rangos Numéricos: Crea secuencias de números de forma automática\n",
    "rango_escalar=np.arange(0,10,2) # De 0 a 10 (excluido), paso de 2\n",
    "print(f\"array con no.arange\\n{rango_escalar}\\n\")"
   ]
  },
  {
   "cell_type": "code",
   "execution_count": null,
   "id": "b5445a9a",
   "metadata": {},
   "outputs": [
    {
     "name": "stdout",
     "output_type": "stream",
     "text": [
      "Array con np.lispace:\n",
      "[0.   0.25 0.5  0.75 1.  ]\n",
      "\n"
     ]
    }
   ],
   "source": [
    "# Números espaciados uniformemente\n",
    "# 5 puntos desde 0 hasta 1 (incluidos)\n",
    "lineal=np.linspace(0,1,5)\n",
    "print(f\"Array con np.lispace:\\n{lineal}\\n\") #ideal para sistema de coordenadas\n"
   ]
  },
  {
   "cell_type": "code",
   "execution_count": 8,
   "id": "43aa5b11",
   "metadata": {},
   "outputs": [
    {
     "name": "stdout",
     "output_type": "stream",
     "text": [
      "Matriz Aleatoria uniforme:\n",
      "[[0.15908873 0.5198544  0.2965352 ]\n",
      " [0.884016   0.66000499 0.25585667]\n",
      " [0.06959604 0.31411654 0.32427348]]\n",
      "\n"
     ]
    }
   ],
   "source": [
    "#Arrays Aleatorios: NumPy tiene un módulo random muy completo\n",
    "# Matriz 2x2 de números aleatorios entre 0 y 1 (distribución uniforme\n",
    "aleatorio=np.random.rand(3,3)\n",
    "print(f\"Matriz Aleatoria uniforme:\\n{aleatorio}\\n\")\n"
   ]
  },
  {
   "cell_type": "code",
   "execution_count": 48,
   "id": "22d49a7f",
   "metadata": {},
   "outputs": [
    {
     "name": "stdout",
     "output_type": "stream",
     "text": [
      "Enteros aleatorios\n",
      "[9 6 3]\n",
      "\n"
     ]
    }
   ],
   "source": [
    "# Enteros aleatorios en un rango (de 1 a 10, tamaño 3)\n",
    "enteros_aleatorio=np.random.randint(1,10,size=3) #busca enteros aleatorios la cantidad depende de size\n",
    "print(f\"Enteros aleatorios\\n{enteros_aleatorio}\\n\")"
   ]
  },
  {
   "cell_type": "code",
   "execution_count": 15,
   "id": "52a90b69",
   "metadata": {},
   "outputs": [
    {
     "name": "stdout",
     "output_type": "stream",
     "text": [
      "Matriz normal \n",
      "[[ 0.16286721  0.60623762 -1.8408489 ]\n",
      " [-2.54769845 -0.10471996  0.65755522]]\n",
      "\n"
     ]
    }
   ],
   "source": [
    "# Números de una distribución normal estándar\n",
    "normal=np.random.randn(2,3) #toam cualquier entero\n",
    "print(f\"Matriz normal \\n{normal}\\n\")"
   ]
  },
  {
   "cell_type": "code",
   "execution_count": 22,
   "id": "d39d814d",
   "metadata": {},
   "outputs": [
    {
     "name": "stdout",
     "output_type": "stream",
     "text": [
      "matriz original:\n",
      "[[10 20 30]\n",
      " [40 50 60]\n",
      " [70 80 90]]\n",
      "\n",
      "elemento en [1,2] = 60\n",
      "\n",
      "matriz modificada\n",
      "[[10 20 30]\n",
      " [40 50 90]\n",
      " [70 80 90]]\n",
      "\n"
     ]
    }
   ],
   "source": [
    "#Indexación Básica: Se accede a los elementos usando los índices entre\n",
    "#,corchetes, separados por comas para cada dimensión\n",
    "matriz_1=np.array([[10,20,30],[40,50,60],[70,80,90]])\n",
    "print(f\"matriz original:\\n{matriz_1}\\n\")\n",
    "# Acceder a un solo elemento (fila 1, columna 2)\n",
    "print(f\"elemento en [1,2] = {matriz_1[1,2]}\\n\")\n",
    "\n",
    "# Modificar un elemento\n",
    "matriz_1[1,2]=90\n",
    "print(f\"matriz modificada\\n{matriz_1}\\n\")"
   ]
  },
  {
   "cell_type": "code",
   "execution_count": 44,
   "id": "d72e1e27",
   "metadata": {},
   "outputs": [
    {
     "name": "stdout",
     "output_type": "stream",
     "text": [
      "sub matriz columna (0,1) \n",
      "[[10 20]\n",
      " [40 50]\n",
      " [70 80]]\n",
      "\n"
     ]
    }
   ],
   "source": [
    "#Slicing (Corte): Extrae un sub-array de un array existente. La sintaxis\n",
    "#[inicio:fin:paso] es la misma que en las listas, pero aplicada a cada dimensión\n",
    "\n",
    "# Todas las filas, pero solo la columna 0 y1\n",
    "sub_matriz=matriz_1[:,0:2]\n",
    "print(f\"sub matriz columna (0,1) \\n{sub_matriz}\\n\")\n"
   ]
  },
  {
   "cell_type": "code",
   "execution_count": 52,
   "id": "391f472a",
   "metadata": {},
   "outputs": [
    {
     "name": "stdout",
     "output_type": "stream",
     "text": [
      "sub matriz fila (0,2)\n",
      "[[10 20 30]\n",
      " [40 50 90]]\n",
      "\n",
      "seleccon ulima fila \n",
      "[70 80 90]\n"
     ]
    }
   ],
   "source": [
    "## Filas 0 y 1, pero todas las columnas\n",
    "sub_matriz_2=matriz_1[0:2,:]\n",
    "print(f\"sub matriz fila (0,2)\\n{sub_matriz_2}\\n\")\n",
    "\n",
    "# Seleccionar la última fila\n",
    "print(f\"seleccon ulima fila \\n{matriz_1[-1,:]}\")"
   ]
  },
  {
   "cell_type": "code",
   "execution_count": 6,
   "id": "5991485b",
   "metadata": {},
   "outputs": [
    {
     "name": "stdout",
     "output_type": "stream",
     "text": [
      "vector_1d \n",
      "[  1.   22.   36.    1.4 256. ]\n",
      "\n"
     ]
    }
   ],
   "source": [
    "import numpy as np\n",
    "## Crear un vector 1D de enteros\n",
    "lista_1d=[1,22,36,1.4,256]\n",
    "vector_1d=np.array(lista_1d)\n",
    "print(f\"vector_1d \\n{vector_1d}\\n\")"
   ]
  },
  {
   "cell_type": "code",
   "execution_count": 14,
   "id": "a8aac0ef",
   "metadata": {},
   "outputs": [
    {
     "name": "stdout",
     "output_type": "stream",
     "text": [
      "matriz\n",
      "[[ 1.4  52.   36.    0.26]\n",
      " [ 0.   12.3  56.    0.  ]]\n",
      "\n",
      "la forma de la matriz (2, 4)\n",
      "tipo de datos de la matriz float64\n"
     ]
    }
   ],
   "source": [
    "# Crear una matriz 2D de punto flotante\n",
    "lista_2d=[[1.4,52,36,0.26],[0,12.3,56,0]]\n",
    "matriz=np.array(lista_2d)\n",
    "print(f\"matriz\\n{matriz}\\n\")\n",
    "print(f\"la forma de la matriz {matriz.shape}\")\n",
    "print(f\"tipo de datos de la matriz {matriz.dtype}\")"
   ]
  },
  {
   "cell_type": "code",
   "execution_count": 15,
   "id": "863fd098",
   "metadata": {},
   "outputs": [
    {
     "name": "stdout",
     "output_type": "stream",
     "text": [
      "matriz ceros \n",
      "[[0. 0. 0. 0.]\n",
      " [0. 0. 0. 0.]\n",
      " [0. 0. 0. 0.]]\n",
      "\n"
     ]
    }
   ],
   "source": [
    "# Array de ceros de 3x4\n",
    "ceros=np.zeros((3,4))\n",
    "print(f\"matriz ceros \\n{ceros}\\n\")"
   ]
  },
  {
   "cell_type": "code",
   "execution_count": 16,
   "id": "2e6eb3cf",
   "metadata": {},
   "outputs": [
    {
     "name": "stdout",
     "output_type": "stream",
     "text": [
      "matriz unos\n",
      "[1 1 1 1 1]\n",
      "\n"
     ]
    }
   ],
   "source": [
    "# Array de unos de 5 elementos, con tipo de dato entero\n",
    "unos=np.ones(5,dtype=np.int64)\n",
    "print(f\"matriz unos\\n{unos}\\n\")"
   ]
  },
  {
   "cell_type": "code",
   "execution_count": 17,
   "id": "8b953700",
   "metadata": {},
   "outputs": [
    {
     "name": "stdout",
     "output_type": "stream",
     "text": [
      "array np.arange\n",
      "[ 0  2  4  6  8 10 12 14 16 18]\n",
      "\n"
     ]
    }
   ],
   "source": [
    "#Rangos Numéricos: Crea secuencias de números de forma automática.\n",
    "# Como range() de Python, pero crea un array\n",
    "rango_escalar=np.arange(0,20,2)\n",
    "print(f\"array np.arange\\n{rango_escalar}\\n\")"
   ]
  },
  {
   "cell_type": "code",
   "execution_count": 18,
   "id": "a75c7245",
   "metadata": {},
   "outputs": [
    {
     "name": "stdout",
     "output_type": "stream",
     "text": [
      "Array con np.linspace [0.   0.25 0.5  0.75 1.  ]\n"
     ]
    }
   ],
   "source": [
    "# Números espaciados uniformemente\n",
    "# 5 puntos desde 0 hasta 1 (incluidos)\n",
    "lineal=np.linspace(0,1,5)\n",
    "print(f\"Array con np.linspace {lineal}\")"
   ]
  }
 ],
 "metadata": {
  "kernelspec": {
   "display_name": "Python 3",
   "language": "python",
   "name": "python3"
  },
  "language_info": {
   "codemirror_mode": {
    "name": "ipython",
    "version": 3
   },
   "file_extension": ".py",
   "mimetype": "text/x-python",
   "name": "python",
   "nbconvert_exporter": "python",
   "pygments_lexer": "ipython3",
   "version": "3.13.6"
  }
 },
 "nbformat": 4,
 "nbformat_minor": 5
}
