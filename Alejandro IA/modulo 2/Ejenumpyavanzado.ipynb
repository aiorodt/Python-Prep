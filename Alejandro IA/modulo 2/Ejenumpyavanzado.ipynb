{
 "cells": [
  {
   "cell_type": "code",
   "execution_count": 4,
   "id": "92801c4e",
   "metadata": {},
   "outputs": [
    {
     "name": "stdout",
     "output_type": "stream",
     "text": [
      "Array original [10 20 30 40 50 60 70 80 90]\n",
      "Elementos seleccionado [10 40 60]\n"
     ]
    }
   ],
   "source": [
    "#Indexación con arrays de enteros: \n",
    "import numpy as np\n",
    "arr=np.array([10,20,30,40,50,60,70,80,90])\n",
    "indices=np.array([0,3,5])\n",
    "seleccion=arr[indices]\n",
    "print(f\"Array original {arr}\")\n",
    "print(f\"Elementos seleccionado {seleccion}\")"
   ]
  },
  {
   "cell_type": "code",
   "execution_count": null,
   "id": "e5c51c01",
   "metadata": {},
   "outputs": [
    {
     "name": "stdout",
     "output_type": "stream",
     "text": [
      "matriz origial \n",
      "[[1 2 3]\n",
      " [4 5 6]\n",
      " [7 8 9]]\n",
      "\n",
      "sub matriz\n",
      "[3 6]\n",
      "\n"
     ]
    }
   ],
   "source": [
    "#Slicing con matrices Cuando trabajas con arrays de 2 o más dimensiones,\n",
    "#puedes usar el slicing para obtener sub-matrices o segmentos. La sintaxis\n",
    "#[inicio:fin:paso] se aplica a cada dimensión, separada por comas. El uso de : solo\n",
    "#significa \"selecciona todo en esta dimensión\"\n",
    "matriz=np.array([[1,2,3],[4,5,6],[7,8,9]])\n",
    "sub_matriz=matriz[0:2,2]\n",
    "\n",
    "print(f\"matriz origial \\n{matriz}\\n\")\n",
    "print(f\"sub matriz seleccion columnas dos y  filas 0,1 \\n{sub_matriz}\\n\")"
   ]
  },
  {
   "cell_type": "code",
   "execution_count": 11,
   "id": "31acfaeb",
   "metadata": {},
   "outputs": [
    {
     "name": "stdout",
     "output_type": "stream",
     "text": [
      "toda la fila y seleccion columna uno y dos\n",
      "[[1 2]\n",
      " [4 5]\n",
      " [7 8]]\n",
      "\n"
     ]
    }
   ],
   "source": [
    "sub_matriz2=matriz[:,0:2]\n",
    "print(F\"toda la fila y seleccion columna uno y dos\\n{sub_matriz2}\\n\")"
   ]
  },
  {
   "cell_type": "code",
   "execution_count": 13,
   "id": "9ae31d96",
   "metadata": {},
   "outputs": [
    {
     "name": "stdout",
     "output_type": "stream",
     "text": [
      "array original\n",
      "[[[ 0  1  2]\n",
      "  [ 3  4  5]\n",
      "  [ 6  7  8]]\n",
      "\n",
      " [[ 9 10 11]\n",
      "  [12 13 14]\n",
      "  [15 16 17]]\n",
      "\n",
      " [[18 19 20]\n",
      "  [21 22 23]\n",
      "  [24 25 26]]]\n",
      "\n",
      "sub_array\n",
      "[[ 9 10 11]\n",
      " [12 13 14]\n",
      " [15 16 17]]\n",
      "\n"
     ]
    }
   ],
   "source": [
    "#Elipsis (...): \n",
    "#para arrays de alta dimensión, la elipsis ... es un atajo muy útil\n",
    "#Representa tantos : como sean necesarios para que la expresión de indexación\n",
    "#sea completa.\n",
    "arr_3d=np.arange(27).reshape(3,3,3)\n",
    "sub_array=arr_3d[1,...]\n",
    "print(f\"array original\\n{arr_3d}\\n\")\n",
    "print(f\"sub_array\\n{sub_array}\\n\")"
   ]
  },
  {
   "cell_type": "code",
   "execution_count": 16,
   "id": "a6e71cb0",
   "metadata": {},
   "outputs": [
    {
     "name": "stdout",
     "output_type": "stream",
     "text": [
      "[ 0  1  2  3  4  5  6  7  8  9 10 11]\n",
      "matroiz por reshape\n",
      "[[ 0  1  2  3]\n",
      " [ 4  5  6  7]\n",
      " [ 8  9 10 11]]\n",
      "\n"
     ]
    }
   ],
   "source": [
    "#2. Manipulación de la Forma (Reshaping)\n",
    "#El reshaping es el proceso de cambiar las dimensiones de un array. Esto no modifica\n",
    "#los datos, solo cómo están organizados. (-1) para que array calcule la dimension\n",
    "arr_plano=np.arange(12)\n",
    "print(arr_plano)\n",
    "# Lo transformamos a una matriz de 3 filas y 4 columnas\n",
    "matriz_3x4=arr_plano.reshape(3,4)\n",
    "print(f\"matroiz por reshape\\n{matriz_3x4}\\n\")\n",
    "\n"
   ]
  },
  {
   "cell_type": "code",
   "execution_count": 29,
   "id": "74f90603",
   "metadata": {},
   "outputs": [
    {
     "name": "stdout",
     "output_type": "stream",
     "text": [
      "\n",
      "[[ 0  1  2]\n",
      " [ 3  4  5]\n",
      " [ 6  7  8]\n",
      " [ 9 10 11]]\n",
      "\n"
     ]
    }
   ],
   "source": [
    "# Usando -1 para que NumPy calcule una dimensión\n",
    "matriz4x3=arr_plano.reshape(4,-1)\n",
    "print(f\"\\n{matriz4x3}\\n\")"
   ]
  },
  {
   "cell_type": "code",
   "execution_count": 34,
   "id": "6734753f",
   "metadata": {},
   "outputs": [
    {
     "name": "stdout",
     "output_type": "stream",
     "text": [
      "matriz original\n",
      "[[0 1 2]\n",
      " [3 4 5]]\n",
      "\n",
      "\n",
      "[0 1 2 3 4 5]\n",
      "\n",
      "array original\n",
      " [[0 1 2]\n",
      " [3 4 5]]\n",
      "\n"
     ]
    }
   ],
   "source": [
    "#flatten() siempre devuelve una copia del array original. Cualquier\n",
    "#modificación que hagas en el array aplanado no afectará al array original\n",
    "\n",
    "matriz=np.arange(6).reshape(2,3)\n",
    "print(f\"matriz original\\n{matriz}\\n\")\n",
    "\n",
    "# Usando flatten() - Crea una copia\n",
    "copia_plana=matriz.flatten()\n",
    "print(f\"\\n{copia_plana}\\n\")\n",
    "copia_plana[0]=99\n",
    "print(f\"array original\\n {matriz}\\n\")"
   ]
  },
  {
   "cell_type": "code",
   "execution_count": 36,
   "id": "33b7dfb8",
   "metadata": {},
   "outputs": [
    {
     "name": "stdout",
     "output_type": "stream",
     "text": [
      "[0 1 2 3 4 5]\n",
      "modifica la matriz\n",
      "[[99  1  2]\n",
      " [ 3  4  5]]\n",
      "\n"
     ]
    }
   ],
   "source": [
    "# Usando ravel() - Crea una vista\n",
    "vista_plana=matriz.ravel()\n",
    "print(vista_plana)\n",
    "vista_plana[0]=99\n",
    "print(f\"modifica la matriz\\n{matriz}\\n\")\n"
   ]
  },
  {
   "cell_type": "code",
   "execution_count": 49,
   "id": "64c62400",
   "metadata": {},
   "outputs": [
    {
     "name": "stdout",
     "output_type": "stream",
     "text": [
      "[0 1 2 3 4 5 6 7 8 9]\n",
      "elementos seleccionado [0 4 7 8]\n"
     ]
    }
   ],
   "source": [
    "import numpy as np\n",
    "#1. Indexación y Slicing Avanzados 🤔\n",
    "\n",
    "#1. Selección no contigua:\n",
    "n10=np.arange(10)\n",
    "print(n10)\n",
    "n_seleccion=np.array([0,4,7,8])\n",
    "select=n10[n_seleccion]\n",
    "print(f\"elementos seleccionado {select}\")"
   ]
  },
  {
   "cell_type": "code",
   "execution_count": 51,
   "id": "809f0534",
   "metadata": {},
   "outputs": [
    {
     "name": "stdout",
     "output_type": "stream",
     "text": [
      "array original [11  6  8 19  2 14 15 10 19  3]\n",
      "numero mayores que 5 [11  6  8 19 14 15 10 19]\n"
     ]
    }
   ],
   "source": [
    "naleatorio=np.random.randint(1,20,size=10)\n",
    "selnaleatorio=naleatorio[naleatorio>5]\n",
    "print(f\"array original {naleatorio}\")\n",
    "print(f\"numero mayores que 5 {selnaleatorio}\")"
   ]
  },
  {
   "cell_type": "code",
   "execution_count": 66,
   "id": "35224f97",
   "metadata": {},
   "outputs": [
    {
     "name": "stdout",
     "output_type": "stream",
     "text": [
      "la matriz original es \n",
      "[[12  4 10  3 19]\n",
      " [10  3  4  9  6]\n",
      " [ 2  5 12 14 15]\n",
      " [10  4 17  8  8]\n",
      " [ 5  2 19  1 13]]\n",
      "\n",
      "sub matriz \n",
      "[[ 4  3]\n",
      " [ 5 14]\n",
      " [ 2  1]]\n",
      "\n"
     ]
    }
   ],
   "source": [
    "#Rebanadas en 2D: Crea una matriz de 5x5 con números aleatorios.\n",
    "matriz5x5=np.random.randint(1,20, size=[5,5])\n",
    "print(f\"la matriz original es \\n{matriz5x5}\\n\")\n",
    "\n",
    "rebanada=matriz5x5[0:5:2,1:4:2]\n",
    "print(f\"sub matriz \\n{rebanada}\\n\")"
   ]
  },
  {
   "cell_type": "code",
   "execution_count": 78,
   "id": "7e48f0ba",
   "metadata": {},
   "outputs": [
    {
     "name": "stdout",
     "output_type": "stream",
     "text": [
      "\n",
      "[[[ 0  1  2  3]\n",
      "  [ 4  5  6  7]\n",
      "  [ 8  9 10 11]\n",
      "  [12 13 14 15]]\n",
      "\n",
      " [[16 17 18 19]\n",
      "  [20 21 22 23]\n",
      "  [24 25 26 27]\n",
      "  [28 29 30 31]]\n",
      "\n",
      " [[32 33 34 35]\n",
      "  [36 37 38 39]\n",
      "  [40 41 42 43]\n",
      "  [44 45 46 47]]\n",
      "\n",
      " [[48 49 50 51]\n",
      "  [52 53 54 55]\n",
      "  [56 57 58 59]\n",
      "  [60 61 62 63]]]\n",
      "\n",
      "capa 1 es: \n",
      "26\n",
      "\n"
     ]
    }
   ],
   "source": [
    "#3. Elipsis (...): Crea un array de 4x4x4.\n",
    "elip=np.arange(64).reshape(4,4,4)\n",
    "capa1=elip[1,2,...]\n",
    "print(f\"\\n{elip}\\n\")\n",
    "print(f\"capa 1 es: \\n{capa1[2]}\\n\")"
   ]
  },
  {
   "cell_type": "code",
   "execution_count": 87,
   "id": "1b9e628d",
   "metadata": {},
   "outputs": [
    {
     "name": "stdout",
     "output_type": "stream",
     "text": [
      "N24 \n",
      "[ 0  1  2  3  4  5  6  7  8  9 10 11 12 13 14 15 16 17 18 19 20 21 22 23]\n",
      "\n",
      "nueva matriz6x4\n",
      "[[ 0  1  2  3]\n",
      " [ 4  5  6  7]\n",
      " [ 8  9 10 11]\n",
      " [12 13 14 15]\n",
      " [16 17 18 19]\n",
      " [20 21 22 23]]\n",
      "\n",
      "nueva matriz3x?\n",
      "[[ 0  1  2  3  4  5  6  7]\n",
      " [ 8  9 10 11 12 13 14 15]\n",
      " [16 17 18 19 20 21 22 23]]\n",
      "\n",
      "nueva matriz columna 4?\n",
      "[[ 0  1  2  3]\n",
      " [ 4  5  6  7]\n",
      " [ 8  9 10 11]\n",
      " [12 13 14 15]\n",
      " [16 17 18 19]\n",
      " [20 21 22 23]]\n",
      "\n"
     ]
    }
   ],
   "source": [
    "#2. Manipulación de la Forma (¡Transformando la información! 💥)\n",
    "#4. Redimensionar a 2D: Crea un array de 24 elementos\n",
    "n24=np.arange(24)\n",
    "print(f\"N24 \\n{n24}\\n\")\n",
    "matriz6x4=n24.reshape(6,4)\n",
    "print(f\"nueva matriz6x4\\n{matriz6x4}\\n\")\n",
    "#5. Calculando dimensiones: Partiendo del mismo array de 24 elementos, usa -1\n",
    "matriz3x=n24.reshape(3,-1)\n",
    "print(f\"nueva matriz3x?\\n{matriz3x}\\n\")\n",
    "\n",
    "matrizcolumna=n24.reshape(-1,4)\n",
    "print(f\"nueva matriz columna 4?\\n{matrizcolumna}\\n\")"
   ]
  },
  {
   "cell_type": "code",
   "execution_count": 93,
   "id": "15b88e8e",
   "metadata": {},
   "outputs": [
    {
     "name": "stdout",
     "output_type": "stream",
     "text": [
      "matrix original \n",
      "[[1 2 3]\n",
      " [4 5 6]\n",
      " [7 8 9]]\n",
      "\n",
      "matrix con flatten\n",
      "[5 2 3 4 5 6 7 8 9]\n",
      "\n",
      "matrix1 \n",
      " [[5 2 3]\n",
      " [4 5 6]\n",
      " [7 8 9]]\n",
      "\n"
     ]
    }
   ],
   "source": [
    "#6. flatten vs ravel: Crea una matriz de 3x3. Usa flatten() y modifica el primer\n",
    "matrix1=np.array([[1,2,3],[4,5,6],[7,8,9]])\n",
    "print(f\"matrix original \\n{matrix1}\\n\")\n",
    "elemento1=matrix1.flatten()\n",
    "elemento1[0]=5\n",
    "print(f\"matrix con flatten\\n{elemento1}\\n\")\n",
    "\n",
    "elemento2=matrix1.ravel()\n",
    "elemento2[0]=5\n",
    "print(f\"matrix1 \\n {matrix1}\\n\")"
   ]
  },
  {
   "cell_type": "code",
   "execution_count": null,
   "metadata": {},
   "outputs": [],
   "source": []
  }
 ],
 "metadata": {
  "kernelspec": {
   "display_name": "Python 3",
   "language": "python",
   "name": "python3"
  },
  "language_info": {
   "codemirror_mode": {
    "name": "ipython",
    "version": 3
   },
   "file_extension": ".py",
   "mimetype": "text/x-python",
   "name": "python",
   "nbconvert_exporter": "python",
   "pygments_lexer": "ipython3",
   "version": "3.13.6"
  }
 },
 "nbformat": 4,
 "nbformat_minor": 5
}
