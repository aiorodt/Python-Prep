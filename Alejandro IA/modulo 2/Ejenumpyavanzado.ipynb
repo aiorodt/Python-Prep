{
 "cells": [
  {
   "cell_type": "code",
   "execution_count": 4,
   "id": "92801c4e",
   "metadata": {},
   "outputs": [
    {
     "name": "stdout",
     "output_type": "stream",
     "text": [
      "Array original [10 20 30 40 50 60 70 80 90]\n",
      "Elementos seleccionado [10 40 60]\n"
     ]
    }
   ],
   "source": [
    "#Indexación con arrays de enteros: \n",
    "import numpy as np\n",
    "arr=np.array([10,20,30,40,50,60,70,80,90])\n",
    "indices=np.array([0,3,5])\n",
    "seleccion=arr[indices]\n",
    "print(f\"Array original {arr}\")\n",
    "print(f\"Elementos seleccionado {seleccion}\")"
   ]
  },
  {
   "cell_type": "code",
   "execution_count": null,
   "id": "e5c51c01",
   "metadata": {},
   "outputs": [
    {
     "name": "stdout",
     "output_type": "stream",
     "text": [
      "matriz origial \n",
      "[[1 2 3]\n",
      " [4 5 6]\n",
      " [7 8 9]]\n",
      "\n",
      "sub matriz\n",
      "[3 6]\n",
      "\n"
     ]
    }
   ],
   "source": [
    "#Slicing con matrices Cuando trabajas con arrays de 2 o más dimensiones,\n",
    "#puedes usar el slicing para obtener sub-matrices o segmentos. La sintaxis\n",
    "#[inicio:fin:paso] se aplica a cada dimensión, separada por comas. El uso de : solo\n",
    "#significa \"selecciona todo en esta dimensión\"\n",
    "matriz=np.array([[1,2,3],[4,5,6],[7,8,9]])\n",
    "sub_matriz=matriz[0:2,2]\n",
    "\n",
    "print(f\"matriz origial \\n{matriz}\\n\")\n",
    "print(f\"sub matriz seleccion columnas dos y  filas 0,1 \\n{sub_matriz}\\n\")"
   ]
  },
  {
   "cell_type": "code",
   "execution_count": 11,
   "id": "31acfaeb",
   "metadata": {},
   "outputs": [
    {
     "name": "stdout",
     "output_type": "stream",
     "text": [
      "toda la fila y seleccion columna uno y dos\n",
      "[[1 2]\n",
      " [4 5]\n",
      " [7 8]]\n",
      "\n"
     ]
    }
   ],
   "source": [
    "sub_matriz2=matriz[:,0:2]\n",
    "print(F\"toda la fila y seleccion columna uno y dos\\n{sub_matriz2}\\n\")"
   ]
  },
  {
   "cell_type": "code",
   "execution_count": 13,
   "id": "9ae31d96",
   "metadata": {},
   "outputs": [
    {
     "name": "stdout",
     "output_type": "stream",
     "text": [
      "array original\n",
      "[[[ 0  1  2]\n",
      "  [ 3  4  5]\n",
      "  [ 6  7  8]]\n",
      "\n",
      " [[ 9 10 11]\n",
      "  [12 13 14]\n",
      "  [15 16 17]]\n",
      "\n",
      " [[18 19 20]\n",
      "  [21 22 23]\n",
      "  [24 25 26]]]\n",
      "\n",
      "sub_array\n",
      "[[ 9 10 11]\n",
      " [12 13 14]\n",
      " [15 16 17]]\n",
      "\n"
     ]
    }
   ],
   "source": [
    "#Elipsis (...): \n",
    "#para arrays de alta dimensión, la elipsis ... es un atajo muy útil\n",
    "#Representa tantos : como sean necesarios para que la expresión de indexación\n",
    "#sea completa.\n",
    "arr_3d=np.arange(27).reshape(3,3,3)\n",
    "sub_array=arr_3d[1,...]\n",
    "print(f\"array original\\n{arr_3d}\\n\")\n",
    "print(f\"sub_array\\n{sub_array}\\n\")"
   ]
  },
  {
   "cell_type": "code",
   "execution_count": 16,
   "id": "a6e71cb0",
   "metadata": {},
   "outputs": [
    {
     "name": "stdout",
     "output_type": "stream",
     "text": [
      "[ 0  1  2  3  4  5  6  7  8  9 10 11]\n",
      "matroiz por reshape\n",
      "[[ 0  1  2  3]\n",
      " [ 4  5  6  7]\n",
      " [ 8  9 10 11]]\n",
      "\n"
     ]
    }
   ],
   "source": [
    "#2. Manipulación de la Forma (Reshaping)\n",
    "#El reshaping es el proceso de cambiar las dimensiones de un array. Esto no modifica\n",
    "#los datos, solo cómo están organizados. (-1) para que array calcule la dimension\n",
    "arr_plano=np.arange(12)\n",
    "print(arr_plano)\n",
    "# Lo transformamos a una matriz de 3 filas y 4 columnas\n",
    "matriz_3x4=arr_plano.reshape(3,4)\n",
    "print(f\"matroiz por reshape\\n{matriz_3x4}\\n\")\n",
    "\n"
   ]
  },
  {
   "cell_type": "code",
   "execution_count": 29,
   "id": "74f90603",
   "metadata": {},
   "outputs": [
    {
     "name": "stdout",
     "output_type": "stream",
     "text": [
      "\n",
      "[[ 0  1  2]\n",
      " [ 3  4  5]\n",
      " [ 6  7  8]\n",
      " [ 9 10 11]]\n",
      "\n"
     ]
    }
   ],
   "source": [
    "# Usando -1 para que NumPy calcule una dimensión\n",
    "matriz4x3=arr_plano.reshape(4,-1)\n",
    "print(f\"\\n{matriz4x3}\\n\")"
   ]
  },
  {
   "cell_type": "code",
   "execution_count": 34,
   "id": "6734753f",
   "metadata": {},
   "outputs": [
    {
     "name": "stdout",
     "output_type": "stream",
     "text": [
      "matriz original\n",
      "[[0 1 2]\n",
      " [3 4 5]]\n",
      "\n",
      "\n",
      "[0 1 2 3 4 5]\n",
      "\n",
      "array original\n",
      " [[0 1 2]\n",
      " [3 4 5]]\n",
      "\n"
     ]
    }
   ],
   "source": [
    "#flatten() siempre devuelve una copia del array original. Cualquier\n",
    "#modificación que hagas en el array aplanado no afectará al array original\n",
    "\n",
    "matriz=np.arange(6).reshape(2,3)\n",
    "print(f\"matriz original\\n{matriz}\\n\")\n",
    "\n",
    "# Usando flatten() - Crea una copia\n",
    "copia_plana=matriz.flatten()\n",
    "print(f\"\\n{copia_plana}\\n\")\n",
    "copia_plana[0]=99\n",
    "print(f\"array original\\n {matriz}\\n\")"
   ]
  },
  {
   "cell_type": "code",
   "execution_count": 36,
   "id": "33b7dfb8",
   "metadata": {},
   "outputs": [
    {
     "name": "stdout",
     "output_type": "stream",
     "text": [
      "[0 1 2 3 4 5]\n",
      "modifica la matriz\n",
      "[[99  1  2]\n",
      " [ 3  4  5]]\n",
      "\n"
     ]
    }
   ],
   "source": [
    "# Usando ravel() - Crea una vista\n",
    "vista_plana=matriz.ravel()\n",
    "print(vista_plana)\n",
    "vista_plana[0]=99\n",
    "print(f\"modifica la matriz\\n{matriz}\\n\")\n"
   ]
  },
  {
   "cell_type": "code",
   "execution_count": 49,
   "id": "64c62400",
   "metadata": {},
   "outputs": [
    {
     "name": "stdout",
     "output_type": "stream",
     "text": [
      "[0 1 2 3 4 5 6 7 8 9]\n",
      "elementos seleccionado [0 4 7 8]\n"
     ]
    }
   ],
   "source": [
    "import numpy as np\n",
    "#1. Indexación y Slicing Avanzados 🤔\n",
    "\n",
    "#1. Selección no contigua:\n",
    "n10=np.arange(10)\n",
    "print(n10)\n",
    "n_seleccion=np.array([0,4,7,8])\n",
    "select=n10[n_seleccion]\n",
    "print(f\"elementos seleccionado {select}\")"
   ]
  },
  {
   "cell_type": "code",
   "execution_count": 51,
   "id": "809f0534",
   "metadata": {},
   "outputs": [
    {
     "name": "stdout",
     "output_type": "stream",
     "text": [
      "array original [11  6  8 19  2 14 15 10 19  3]\n",
      "numero mayores que 5 [11  6  8 19 14 15 10 19]\n"
     ]
    }
   ],
   "source": [
    "naleatorio=np.random.randint(1,20,size=10)\n",
    "selnaleatorio=naleatorio[naleatorio>5]\n",
    "print(f\"array original {naleatorio}\")\n",
    "print(f\"numero mayores que 5 {selnaleatorio}\")"
   ]
  },
  {
   "cell_type": "code",
   "execution_count": 66,
   "id": "35224f97",
   "metadata": {},
   "outputs": [
    {
     "name": "stdout",
     "output_type": "stream",
     "text": [
      "la matriz original es \n",
      "[[12  4 10  3 19]\n",
      " [10  3  4  9  6]\n",
      " [ 2  5 12 14 15]\n",
      " [10  4 17  8  8]\n",
      " [ 5  2 19  1 13]]\n",
      "\n",
      "sub matriz \n",
      "[[ 4  3]\n",
      " [ 5 14]\n",
      " [ 2  1]]\n",
      "\n"
     ]
    }
   ],
   "source": [
    "#Rebanadas en 2D: Crea una matriz de 5x5 con números aleatorios.\n",
    "matriz5x5=np.random.randint(1,20, size=[5,5])\n",
    "print(f\"la matriz original es \\n{matriz5x5}\\n\")\n",
    "\n",
    "rebanada=matriz5x5[0:5:2,1:4:2]\n",
    "print(f\"sub matriz \\n{rebanada}\\n\")"
   ]
  },
  {
   "cell_type": "code",
   "execution_count": 78,
   "id": "7e48f0ba",
   "metadata": {},
   "outputs": [
    {
     "name": "stdout",
     "output_type": "stream",
     "text": [
      "\n",
      "[[[ 0  1  2  3]\n",
      "  [ 4  5  6  7]\n",
      "  [ 8  9 10 11]\n",
      "  [12 13 14 15]]\n",
      "\n",
      " [[16 17 18 19]\n",
      "  [20 21 22 23]\n",
      "  [24 25 26 27]\n",
      "  [28 29 30 31]]\n",
      "\n",
      " [[32 33 34 35]\n",
      "  [36 37 38 39]\n",
      "  [40 41 42 43]\n",
      "  [44 45 46 47]]\n",
      "\n",
      " [[48 49 50 51]\n",
      "  [52 53 54 55]\n",
      "  [56 57 58 59]\n",
      "  [60 61 62 63]]]\n",
      "\n",
      "capa 1 es: \n",
      "26\n",
      "\n"
     ]
    }
   ],
   "source": [
    "#3. Elipsis (...): Crea un array de 4x4x4.\n",
    "elip=np.arange(64).reshape(4,4,4)\n",
    "capa1=elip[1,2,...]\n",
    "print(f\"\\n{elip}\\n\")\n",
    "print(f\"capa 1 es: \\n{capa1[2]}\\n\")"
   ]
  },
  {
   "cell_type": "code",
   "execution_count": 87,
   "id": "1b9e628d",
   "metadata": {},
   "outputs": [
    {
     "name": "stdout",
     "output_type": "stream",
     "text": [
      "N24 \n",
      "[ 0  1  2  3  4  5  6  7  8  9 10 11 12 13 14 15 16 17 18 19 20 21 22 23]\n",
      "\n",
      "nueva matriz6x4\n",
      "[[ 0  1  2  3]\n",
      " [ 4  5  6  7]\n",
      " [ 8  9 10 11]\n",
      " [12 13 14 15]\n",
      " [16 17 18 19]\n",
      " [20 21 22 23]]\n",
      "\n",
      "nueva matriz3x?\n",
      "[[ 0  1  2  3  4  5  6  7]\n",
      " [ 8  9 10 11 12 13 14 15]\n",
      " [16 17 18 19 20 21 22 23]]\n",
      "\n",
      "nueva matriz columna 4?\n",
      "[[ 0  1  2  3]\n",
      " [ 4  5  6  7]\n",
      " [ 8  9 10 11]\n",
      " [12 13 14 15]\n",
      " [16 17 18 19]\n",
      " [20 21 22 23]]\n",
      "\n"
     ]
    }
   ],
   "source": [
    "#2. Manipulación de la Forma (¡Transformando la información! 💥)\n",
    "#4. Redimensionar a 2D: Crea un array de 24 elementos\n",
    "n24=np.arange(24)\n",
    "print(f\"N24 \\n{n24}\\n\")\n",
    "matriz6x4=n24.reshape(6,4)\n",
    "print(f\"nueva matriz6x4\\n{matriz6x4}\\n\")\n",
    "#5. Calculando dimensiones: Partiendo del mismo array de 24 elementos, usa -1\n",
    "matriz3x=n24.reshape(3,-1)\n",
    "print(f\"nueva matriz3x?\\n{matriz3x}\\n\")\n",
    "\n",
    "matrizcolumna=n24.reshape(-1,4)\n",
    "print(f\"nueva matriz columna 4?\\n{matrizcolumna}\\n\")"
   ]
  },
  {
   "cell_type": "code",
   "execution_count": 6,
   "id": "15b88e8e",
   "metadata": {},
   "outputs": [
    {
     "name": "stdout",
     "output_type": "stream",
     "text": [
      "matrix original \n",
      "[[1 2 3]\n",
      " [4 5 6]\n",
      " [7 8 9]]\n",
      "\n",
      "matrix con flatten\n",
      "[5 2 3 4 5 6 7 8 9]\n",
      "\n",
      "matrix1 \n",
      " [[5 2 3]\n",
      " [4 5 6]\n",
      " [7 8 9]]\n",
      "\n"
     ]
    }
   ],
   "source": [
    "#6. flatten vs ravel: Crea una matriz de 3x3. Usa flatten() y modifica el primer\n",
    "matrix1=np.array([[1,2,3],[4,5,6],[7,8,9]])\n",
    "print(f\"matrix original \\n{matrix1}\\n\")\n",
    "elemento1=matrix1.flatten()\n",
    "elemento1[0]=5\n",
    "print(f\"matrix con flatten\\n{elemento1}\\n\")\n",
    "\n",
    "elemento2=matrix1.ravel()\n",
    "elemento2[0]=5\n",
    "print(f\"matrix1 \\n {matrix1}\\n\")"
   ]
  },
  {
   "cell_type": "code",
   "execution_count": 14,
   "metadata": {},
   "outputs": [
    {
     "name": "stdout",
     "output_type": "stream",
     "text": [
      "Union vertical\n",
      "[[1 2]\n",
      " [3 4]\n",
      " [5 6]]\n",
      "\n",
      "union horizontal[[5]\n",
      " [6]]\n"
     ]
    }
   ],
   "source": [
    "#np.concatenate(): Es la función más versátil. Te permite unir arrays a lo largo de\n",
    "#un eje (axis) específico\n",
    "import numpy as np\n",
    "a=([[1,2],[3,4]])\n",
    "b=([[5,6]])\n",
    "# Unir verticalmente (por defecto o axis=0)\n",
    "c_vertical=np.concatenate((a,b),axis=0)\n",
    "print(f\"Union vertical\\n{c_vertical}\\n\")\n",
    "# Unir horizontalmente (axis=1), requiere que las formas coincidan en el otro eje # Hacemos la transpuesta para que la forma sea (2, 1)\n",
    "transpuesta=np.transpose(b)  #cuando tengo una dimension\n",
    "c_horizontal=np.concatenate((a,transpuesta),axis=1)\n",
    "print(f\"union horizontal{transpuesta}\")\n",
    "                    "
   ]
  },
  {
   "cell_type": "code",
   "execution_count": 23,
   "id": "692764f6",
   "metadata": {},
   "outputs": [
    {
     "name": "stdout",
     "output_type": "stream",
     "text": [
      "array original a dividir \n",
      "[[ 0  1  2  3]\n",
      " [ 4  5  6  7]\n",
      " [ 8  9 10 11]\n",
      " [12 13 14 15]]\n",
      "\n",
      "visualizacion parte 1\n",
      "[[0 1 2 3]\n",
      " [4 5 6 7]]\n",
      "\n",
      "visualizacion parte 1\n",
      "[[ 8  9 10 11]\n",
      " [12 13 14 15]]\n",
      "\n"
     ]
    }
   ],
   "source": [
    "#np.split(): Divide un array en múltiples sub-arrays iguales.\n",
    "arr=np.arange(16).reshape(4,4)\n",
    "print(f\"array original a dividir \\n{arr}\\n\")\n",
    "dividir=np.split(arr,2,axis=0)# Dividimos en 2 partes por las filas\n",
    "print(f\"visualizacion parte 1\\n{dividir[0]}\\n\")\n",
    "print(f\"visualizacion parte 1\\n{dividir[1]}\\n\")"
   ]
  },
  {
   "cell_type": "code",
   "execution_count": null,
   "id": "ee0a41a2",
   "metadata": {},
   "outputs": [
    {
     "name": "stdout",
     "output_type": "stream",
     "text": [
      "Resultado \n",
      "[[1, 2, 3], [4, 5, 6], [10, 11, 12]]\n",
      "\n"
     ]
    }
   ],
   "source": [
    "#4. Broadcasting 📡\n",
    "import numpy as np\n",
    "matriz=([[1,2,3],[4,5,6]])\n",
    "vector=([[10,11,12]])\n",
    "resultado=matriz+vector\n",
    "print(f\"Resultado \\n{resultado}\\n\")\n"
   ]
  },
  {
   "cell_type": "code",
   "execution_count": null,
   "id": "1bdebbea",
   "metadata": {},
   "outputs": [],
   "source": [
    "#3. El broadcasting es posible si para cada dimensión, las formas son iguales o\n",
    "una de ellas es 1.\n",
    "import numpy as np\n",
    "matriz = np.array([[1, 2, 3],\n",
    "[4, 5, 6]])\n",
    "vector = np.array([10, 20, 30])\n",
    "# El vector [10, 20, 30] se \"estira\" para sumarse a cada fila de la matriz\n",
    "resultado = matriz + vector\n",
    "print(f\"Matriz:\\n{matriz}\")\n",
    "print(f\"\\nVector: {vector}\")\n",
    "print(f\"\\nResultado del broadcasting:\\n{resultado}\")\n",
    "# Resultado: [[11 22 33], [14 25 36]]\n"
   ]
  },
  {
   "cell_type": "code",
   "execution_count": 28,
   "id": "fe788c8c",
   "metadata": {},
   "outputs": [
    {
     "name": "stdout",
     "output_type": "stream",
     "text": [
      "array original\n",
      "[  5  15  52  98  10  56 789  52  14  75  63  95  20]\n",
      "\n",
      "mascaca \n",
      "[False False  True  True False  True  True  True False  True  True  True\n",
      " False]\n",
      "\n"
     ]
    }
   ],
   "source": [
    "#5. Mascaramiento Booleano (Boolean Masking) 🎭\n",
    "import numpy as np\n",
    "data=np.array([5,15,52,98,10,56,789,52,14,75,63,95,20])\n",
    "mascara=data>30\n",
    "print(f\"array original\\n{data}\\n\")\n",
    "print(f\"mascaca \\n{mascara}\\n\")"
   ]
  },
  {
   "cell_type": "code",
   "execution_count": 29,
   "id": "6a7599c7",
   "metadata": {},
   "outputs": [
    {
     "name": "stdout",
     "output_type": "stream",
     "text": [
      "los valores filtrado son\n",
      " [ 52  98  56 789  52  75  63  95]\n",
      "\n"
     ]
    }
   ],
   "source": [
    "# Usamos la máscara para filtrar el array\n",
    "valores_filtrado=data[mascara]\n",
    "print(f\"los valores filtrado son\\n {valores_filtrado}\\n\")"
   ]
  },
  {
   "cell_type": "code",
   "execution_count": 30,
   "id": "3f8debc4",
   "metadata": {},
   "outputs": [
    {
     "name": "stdout",
     "output_type": "stream",
     "text": [
      "datos elegido\n",
      "[52 56 52 63]\n",
      "\n"
     ]
    }
   ],
   "source": [
    "#Filtremos por un rango! Valores entre 20 y 70\n",
    "datos_filtrado=(data>20)&(data<70)\n",
    "datos_elegidos=data[datos_filtrado]\n",
    "print(f\"datos elegido\\n{datos_elegidos}\\n\")"
   ]
  },
  {
   "cell_type": "code",
   "execution_count": 33,
   "id": "230e459d",
   "metadata": {},
   "outputs": [
    {
     "name": "stdout",
     "output_type": "stream",
     "text": [
      "La suma de la matrix es \n",
      "[[11 22 33]\n",
      " [14 25 36]\n",
      " [17 28 39]]\n",
      "\n"
     ]
    }
   ],
   "source": [
    "#. Broadcasting (¡Multiplicando la diversión! 🤩)\n",
    "#10. Suma de vector a matriz: Crea una matriz de 3x3 y un vector de 3 elementos\n",
    "matriz=np.array([[1,2,3],[4,5,6],[7,8,9]])\n",
    "vector=np.array([[10,20,30]])\n",
    "producto=matriz+vector\n",
    "print(f\"La suma de la matrix es \\n{producto}\\n\")"
   ]
  },
  {
   "cell_type": "code",
   "execution_count": 36,
   "id": "77774ace",
   "metadata": {},
   "outputs": [
    {
     "name": "stdout",
     "output_type": "stream",
     "text": [
      "elemento x 10\n",
      "[ 0 10 20 30 40]\n",
      "\n"
     ]
    }
   ],
   "source": [
    "#11. Multiplicación por un escalar: Crea un array de 5 elementos. \n",
    "elemento5=np.arange(5)*10\n",
    "print(f\"elemento x 10\\n{elemento5}\\n\")"
   ]
  },
  {
   "cell_type": "code",
   "execution_count": 42,
   "id": "9c14b1c9",
   "metadata": {},
   "outputs": [
    {
     "name": "stdout",
     "output_type": "stream",
     "text": [
      "matriz\n",
      "[[ 0  1  2  3]\n",
      " [ 4  5  6  7]\n",
      " [ 8  9 10 11]]\n",
      "\n",
      "Suma de matrix por Broadcasting \n",
      "[[ 0  1  2  3]\n",
      " [ 5  6  7  8]\n",
      " [10 11 12 13]]\n",
      "\n"
     ]
    }
   ],
   "source": [
    "#12. Broadcasting con columnas: Crea una matriz de 3x4 y otra de 3x1. \n",
    "max3x4=np.arange(12).reshape(3,4)\n",
    "max3x1=np.arange(3).reshape(3,1)\n",
    "Sumo=max3x4 + max3x1\n",
    "print(f\"matriz\\n{max3x4}\\n\")\n",
    "print(f\"Suma de matrix por Broadcasting \\n{Sumo}\\n\")\n"
   ]
  },
  {
   "cell_type": "code",
   "execution_count": 59,
   "id": "f0d9d69d",
   "metadata": {},
   "outputs": [
    {
     "name": "stdout",
     "output_type": "stream",
     "text": [
      "Filtrado mayor de 75\n",
      "[88 93]\n",
      "\n"
     ]
    }
   ],
   "source": [
    "#5. Mascaramiento Booleano (¡Filtrando la información clave! 🕵️‍♀️ )\n",
    "#13. Filtro simple: Crea un array de 20 números aleatorios entre 1 y 100\n",
    "N20=np.random.randint(1,100,size=20)\n",
    "filtradro=(N20>75)\n",
    "filtradro75=N20[filtradro]\n",
    "print(f\"Filtrado mayor de 75\\n{filtradro75}\\n\")\n",
    "\n"
   ]
  },
  {
   "cell_type": "code",
   "execution_count": 60,
   "id": "3bd2f701",
   "metadata": {},
   "outputs": [
    {
     "name": "stdout",
     "output_type": "stream",
     "text": [
      "filtrado en rango\n",
      "[50 43 54 45 39 44 47 31]\n",
      "\n"
     ]
    }
   ],
   "source": [
    "#14. Filtro de rango:\n",
    "filtrado2=(N20>30)&(N20<60)\n",
    "filtrado20_60=N20[filtrado2]\n",
    "print(f\"filtrado en rango\\n{filtrado20_60}\\n\")"
   ]
  },
  {
   "cell_type": "code",
   "execution_count": 65,
   "id": "7cd78517",
   "metadata": {},
   "outputs": [
    {
     "name": "stdout",
     "output_type": "stream",
     "text": [
      "combinacion \n",
      "[]\n",
      "\n"
     ]
    }
   ],
   "source": [
    "#15. Combinando condiciones:\n",
    "primer_filtrado= (N20%2==0) & (N20>90)\n",
    "combinacion=N20[primer_filtrado]\n",
    "print(f\"combinacion \\n{combinacion}\\n\")"
   ]
  },
  {
   "cell_type": "code",
   "execution_count": 93,
   "id": "96fd0501",
   "metadata": {},
   "outputs": [
    {
     "name": "stdout",
     "output_type": "stream",
     "text": [
      "Error en el calculo de la matriz\n",
      "valores selecionados\n",
      "[[35 35 10 20]\n",
      " [50 55 80 45]]\n",
      "\n"
     ]
    }
   ],
   "source": [
    "#Sección 2: Problemas Combinados (¡El desafío final! 🤯)\n",
    "#Análisis de datos simulados:\n",
    "n100=np.random.randint(1,200,size=100)\n",
    "mascara5=(n100%5==0) & (n100<100)\n",
    "try:\n",
    "    valores_seleccionados=n100[mascara5].reshape(2,-1)\n",
    "except ValueError:\n",
    "    print(\"Error en el calculo de la matriz\")\n",
    "print(f\"valores selecionados\\n{valores_seleccionados}\\n\")\n"
   ]
  },
  {
   "cell_type": "code",
   "execution_count": 116,
   "id": "c527a739",
   "metadata": {},
   "outputs": [
    {
     "name": "stdout",
     "output_type": "stream",
     "text": [
      "\n",
      "[[30 38  6]\n",
      " [23  6 12]\n",
      " [27  1 24]\n",
      " [29 14 22]\n",
      " [ 6  1 23]\n",
      " [27  6  3]\n",
      " [23 10 36]\n",
      " [29 25 14]\n",
      " [17 12 36]\n",
      " [16  5 21]]\n",
      "\n",
      "\n",
      "[[30 38  6]\n",
      " [23  6 12]\n",
      " [27  1 24]\n",
      " [29 14 22]\n",
      " [ 6  1 23]\n",
      " [27  6  3]\n",
      " [23 10 36]\n",
      " [29 25 14]]\n",
      "\n",
      "\n",
      "[[17 12 36]\n",
      " [16  5 21]]\n",
      "\n"
     ]
    }
   ],
   "source": [
    "#2. Preparación para Machine Learning\n",
    "matriz10x3=np.random.randint(1,40,size=[10,3])\n",
    "print(f\"\\n{matriz10x3}\\n\")\n",
    "matriz8=matriz10x3[:8]\n",
    "matriz2=matriz10x3[8:10]\n",
    "print(f\"\\n{matriz8}\\n\")\n",
    "print(f\"\\n{matriz2}\\n\")\n"
   ]
  },
  {
   "cell_type": "code",
   "execution_count": 119,
   "id": "01dcc9bc",
   "metadata": {},
   "outputs": [
    {
     "name": "stdout",
     "output_type": "stream",
     "text": [
      "\n",
      "[[30 38]\n",
      " [23  6]\n",
      " [27  1]\n",
      " [29 14]\n",
      " [ 6  1]\n",
      " [27  6]\n",
      " [23 10]\n",
      " [29 25]]\n",
      "\n",
      "\n",
      "[[ 6]\n",
      " [12]\n",
      " [24]\n",
      " [22]\n",
      " [23]\n",
      " [ 3]\n",
      " [36]\n",
      " [14]]\n",
      "\n"
     ]
    }
   ],
   "source": [
    "#Después, toma el conjunto de las 8 filas y divídelo de nuevo en dos\n",
    "#matrices, una con las primeras dos columnas y otra con la última.\n",
    "matrizc2=matriz8[:,0:2]\n",
    "matrizc3=matriz8[:,2:3]\n",
    "print(f\"\\n{matrizc2}\\n\")\n",
    "print(f\"\\n{matrizc3}\\n\")"
   ]
  },
  {
   "cell_type": "code",
   "execution_count": null,
   "id": "1222ecbe",
   "metadata": {},
   "outputs": [
    {
     "name": "stdout",
     "output_type": "stream",
     "text": [
      "Matriz50x50 Original\n",
      " [[170  64 210 ... 204  89  15]\n",
      " [ 45  21  32 ...  54  46 117]\n",
      " [109 120 218 ...  31 159  36]\n",
      " ...\n",
      " [ 87 191 103 ... 177 231 216]\n",
      " [172 249  66 ...  90 155 254]\n",
      " [  6  80  64 ...  57 161 124]]\n",
      "\n"
     ]
    }
   ],
   "source": [
    "#3. Procesamiento de píxeles: \n",
    "n50=np.random.randint(0,255,size=[50,50])\n",
    "print(f\"Matriz50x50 Original\\n {n50}\\n\")\n"
   ]
  },
  {
   "cell_type": "code",
   "execution_count": 138,
   "id": "e368fc4e",
   "metadata": {},
   "outputs": [
    {
     "name": "stdout",
     "output_type": "stream",
     "text": [
      "valores grises claros \n",
      "[220 231 209 227 234 204 226 230 202 238 207 233 215 213 215 224 212 245\n",
      " 219 246 237 233 243 224 209 230 228 218 225 208 214 229 208 245 219 221\n",
      " 225 248 238 235 244 202 217 206 211 246 237 237 215 219 234 205 214 216\n",
      " 220 233 233 244 245 223 218 244 232 225 207 218 215 234 208 246 238 223\n",
      " 218 241 241 214 220 213 238 201 219 235 202 215 212 217 236 238 222 225\n",
      " 212 223 208 219 236 239 237 223 221 223 238 225 212 245 244 241 216 233\n",
      " 235 224 240 213 242 232 207 238 221 242 244 220 227 238 244 239 222 245\n",
      " 233 248 231 215 225 225 212 246 219 207 210 205 232 224 249 228 213 242\n",
      " 219 215 209 231 231 214 236 234 239 205 242 207 209 235 229 249 219 218\n",
      " 225 236 211 229 206 214 240 207 226 244 227 214 218 223 240 205 223 235\n",
      " 216 219 224 231 239 212 244 217 249 208 215 235 237 232 217 215 224 204\n",
      " 205 205 225 217 215 210 237 235 236 249 239 208 201 206 220 232 236 204\n",
      " 219 203 244 229 241 243 209 214 220 213 225 202 239 247 249 239 207 225\n",
      " 229 215 214 242 243 226 212 219 230 218 208 234 217 237 237 206 238 222\n",
      " 230 231 239 247 243 232 208 248 226 220 232 208 230 226 234 217 230 242\n",
      " 207 201 229 249 230 214 216 246 231 206 218 216 201 225 231 229 204 243\n",
      " 209 243 204 203 225 224 236 209 222 246 202 238 238 237 221 224 224 210\n",
      " 239 225 203 246 207 239 230 218 210 233 207 227 218 203 232 208 234 232\n",
      " 221 209 229 212 244 228 246 235 223 232 230 225 230 239 213 226 224 209\n",
      " 213 240 226 217 220 217 216 249 230 230 245 220 239 225 206 242 245 247\n",
      " 226 247 226 215 249 216 236 242 239 234 218 208 224 201 241 219 246 214\n",
      " 225 204 215 220 248 234 237 234 237 249 219 225 244 238 248 201 215 242\n",
      " 234 240 204 206 221 247 247 233 202 247 242 228 204 202 203 233 226 242\n",
      " 206 210 218 218 235 208 202 239 218 222 243 217 201 232 212 237 227 216\n",
      " 245 220 215 220 220 212 226 229 242 240 218 241 232 231 217 225 203 209\n",
      " 240 206 243 217 229 203 229 216 208 228 211 213 230 242 201 241 222 205\n",
      " 215 209 229 248 246 201 227 222 217 242 224 245 238 247 205 242 206 221\n",
      " 242 237 219 245 246 241 202 231 211]\n",
      "\n"
     ]
    }
   ],
   "source": [
    "grises_claros=(n50>150) & (n50<200)\n",
    "mascara=n50[grises_claros]+50\n",
    "print(f\"valores grises claros \\n{mascara}\\n\")"
   ]
  },
  {
   "cell_type": "code",
   "execution_count": 4,
   "id": "fef48e08",
   "metadata": {},
   "outputs": [
    {
     "name": "stdout",
     "output_type": "stream",
     "text": [
      "Demostracion de np.isin\n",
      "Datos completo\n",
      "[ 1  2  3  4  5  6  7  8  9 10]\n",
      "\n",
      "valores a buscar[3 5 8]\n",
      "mascaras entontradas\n",
      "[False False  True False  True False False  True False False]\n",
      "\n",
      "Elementos encontrado \n",
      "[3 5 8]\n",
      "\n",
      "------------------------------------------------------------\n"
     ]
    }
   ],
   "source": [
    "import numpy as np\n",
    "# --- EJEMPLO 1: np.isin() ---\n",
    "print(\"Demostracion de np.isin\" )\n",
    "datos_completo=np.arange(1,11)\n",
    "print(f\"Datos completo\\n{datos_completo}\\n\")\n",
    "# lista de valores que queremos encontrar\n",
    "valores_a_buscar=np.array([3,5,8])\n",
    "print(f\"valores a buscar{valores_a_buscar}\")\n",
    "#generamos la mascara booleana y la usamos para filtrar\n",
    "mascana=np.isin(datos_completo,valores_a_buscar)\n",
    "print(f\"mascaras entontradas\\n{mascana}\\n\")\n",
    "\n",
    "elementos_encontrado=datos_completo[mascana]\n",
    "print(f\"Elementos encontrado \\n{elementos_encontrado}\\n\")\n",
    "print(\"--\" *30)"
   ]
  },
  {
   "cell_type": "code",
   "execution_count": 7,
   "id": "92398801",
   "metadata": {},
   "outputs": [
    {
     "name": "stdout",
     "output_type": "stream",
     "text": [
      "\n",
      "---Demostración de np.clip---\n",
      "temeraturas originales\n",
      "[-5 10 25 40 50]\n",
      "\n",
      "temperaturas acotadocas(0,35)\n",
      "[ 0 10 25 35 35]\n",
      "\n",
      "--------------------------------------------------------------------------------\n"
     ]
    }
   ],
   "source": [
    "# --- EJEMPLO 2: np.clip() ---\n",
    "print(f\"\\n---Demostración de np.clip---\")\n",
    "# Array con valores extremos\n",
    "temperaturas=np.array([-5,10,25,40,50])\n",
    "print(f\"temeraturas originales\\n{temperaturas}\\n\")\n",
    "# Recortamos los valores para que estén entre 0 y 35\n",
    "tempuraturas_recortadas=np.clip(temperaturas,a_min=0,a_max=35)\n",
    "print(f\"temperaturas acotadocas(0,35)\\n{tempuraturas_recortadas}\\n\")\n",
    "print(\"--\" * 40)"
   ]
  },
  {
   "cell_type": "code",
   "execution_count": 9,
   "id": "69e50c23",
   "metadata": {},
   "outputs": [
    {
     "name": "stdout",
     "output_type": "stream",
     "text": [
      "\n",
      "---Demostracion np.meshgrid()---\n",
      "Grilla de coordenada X\n",
      "[[-1.  0.  1.]\n",
      " [-1.  0.  1.]\n",
      " [-1.  0.  1.]]\n",
      "\n",
      "Grilla de coordenda Y\n",
      "[[-1. -1. -1.]\n",
      " [ 0.  0.  0.]\n",
      " [ 1.  1.  1.]]\n",
      "--------------------------------------------------------------------------------\n"
     ]
    }
   ],
   "source": [
    "# --- EJEMPLO 3: np.meshgrid()---\n",
    "print(\"\\n---Demostracion np.meshgrid()---\")\n",
    "# Creamos arrays para los ejes X e Y\n",
    "ejex=np.linspace(-1,1,3)\n",
    "ejey=np.linspace(-1,1,3)\n",
    "# Usamos meshgrid para crear una grilla de coordenadas\n",
    "X,Y=np.meshgrid(ejex,ejey)\n",
    "print(\"Grilla de coordenada X\")\n",
    "print(X)\n",
    "print(\"\\nGrilla de coordenda Y\")\n",
    "print(Y)\n",
    "print(\"--\"*40)"
   ]
  },
  {
   "cell_type": "code",
   "execution_count": 13,
   "id": "37d98f63",
   "metadata": {},
   "outputs": [
    {
     "name": "stdout",
     "output_type": "stream",
     "text": [
      "\n",
      "Demostracion np.diff\n",
      "print precio accion del precio [100 105 103 110 108]\n",
      "Tasa de Cambio [ 5 -2  7 -2]\n"
     ]
    }
   ],
   "source": [
    "# --- EJEMPLO 4: np.diff() --\n",
    "print(\"\\nDemostracion np.diff\")\n",
    "# Array que simula los precios de una acción\n",
    "precios_accion=np.array([100,105,103,110,108])\n",
    "print(f\"print precio accion del precio {precios_accion}\")\n",
    "# Calculamos la diferencia entre los precios (el cambio diario)\n",
    "cambio_diario=np.diff(precios_accion)\n",
    "print(f\"Tasa de Cambio {cambio_diario}\")"
   ]
  },
  {
   "cell_type": "code",
   "execution_count": 14,
   "id": "f392ef59",
   "metadata": {},
   "outputs": [
    {
     "name": "stdout",
     "output_type": "stream",
     "text": [
      "\n",
      "---Demostracion de np.where()\n",
      "Puntuaciones \n",
      "[85 60 92 75 45]\n",
      "\n",
      "Caliifcaciones\n",
      "['Aprobado' 'Reprobado' 'Aprobado' 'Aprobado' 'Reprobado']\n",
      "\n"
     ]
    }
   ],
   "source": [
    "# --- EJEMPLO 5: np.where() --\n",
    "print(\"\\n---Demostracion de np.where()\")\n",
    "# Array de puntuaciones de estudiantes\n",
    "puntuaciones=np.array([85,60,92,75,45])\n",
    "print(f\"Puntuaciones \\n{puntuaciones}\\n\")\n",
    "# Usamos np.where para clasificar los resultados\n",
    "clasificacion=np.where(puntuaciones>70,\"Aprobado\",\"Reprobado\")\n",
    "print(f\"Caliifcaciones\\n{clasificacion}\\n\")"
   ]
  },
  {
   "cell_type": "code",
   "execution_count": 15,
   "id": "130273d9",
   "metadata": {},
   "outputs": [
    {
     "name": "stdout",
     "output_type": "stream",
     "text": [
      "\n",
      "Demostracion de np.concatenate()\n",
      "array_1 [10, 20, 30]\n",
      "array_2 [40, 50, 60]\n"
     ]
    }
   ],
   "source": [
    "# --- EJEMPLO 6: np.concatenate()\n",
    "print(\"\\nDemostracion de np.concatenate()\")\n",
    "# Dos arrays que queremos unir\n",
    "parte_1=([10,20,30])\n",
    "parte_2=([40,50,60])\n",
    "print(f\"array_1 {parte_1}\")\n",
    "print(f\"array_2 {parte_2}\")"
   ]
  },
  {
   "cell_type": "code",
   "execution_count": 17,
   "id": "f34f3af0",
   "metadata": {},
   "outputs": [
    {
     "name": "stdout",
     "output_type": "stream",
     "text": [
      "array completo\n",
      "[10 20 30 40 50 60]\n",
      "\n"
     ]
    }
   ],
   "source": [
    "# Concatenamos los arrays\n",
    "array_completo=np.concatenate([parte_1,parte_2])\n",
    "print(f\"array completo\\n{array_completo}\\n\")"
   ]
  },
  {
   "cell_type": "code",
   "execution_count": 21,
   "id": "cd0c1353",
   "metadata": {},
   "outputs": [
    {
     "name": "stdout",
     "output_type": "stream",
     "text": [
      "\n",
      "Matriz orginal\n",
      "matriz_a \n",
      "[[1 2]\n",
      " [3 4]]\n",
      "\n",
      "matriz_b \n",
      "[[5 6]\n",
      " [7 8]]\n",
      "\n",
      "matriz combinada en fila \n",
      "[[1 2]\n",
      " [3 4]\n",
      " [5 6]\n",
      " [7 8]]\n",
      "\n",
      "matriz combinada en fila \n",
      "[[1 2 5 6]\n",
      " [3 4 7 8]]\n",
      "\n"
     ]
    }
   ],
   "source": [
    "# Ejemplo con matrices 2D (se une por filas por defecto)\n",
    "matriz_a=np.array([[1,2],[3,4]])\n",
    "matriz_b=np.array([[5,6],[7,8]])\n",
    "print(\"\\nMatriz orginal\")\n",
    "print(f\"matriz_a \\n{matriz_a}\\n\")\n",
    "print(f\"matriz_b \\n{matriz_b}\\n\")\n",
    "# Concatenamos a lo largo del eje 0 (filas)\n",
    "matriz_combinada_filas=np.concatenate([matriz_a,matriz_b],axis=0)\n",
    "print(f\"matriz combinada en fila \\n{matriz_combinada_filas}\\n\")\n",
    "# Concatenamos a lo largo del eje 1 (columnas)\n",
    "matriz_combinada_columna=np.concatenate([matriz_a,matriz_b],axis=1)\n",
    "print(f\"matriz combinada en fila \\n{matriz_combinada_columna}\\n\")"
   ]
  },
  {
   "cell_type": "code",
   "execution_count": 1,
   "id": "f95c7bdd",
   "metadata": {},
   "outputs": [],
   "source": [
    "import numpy as np\n",
    "\n",
    "# Calificaciones de los estudiantes en dos grupos diferentes\n",
    "calificaciones_grupo_a = np.array([85, 92, 78, 65, 99])\n",
    "calificaciones_grupo_b = np.array([72, 88, 55, 90, 75])\n",
    "\n",
    "# IDs de los estudiantes\n",
    "ids_grupo_a = np.array([101, 102, 103, 104, 105])\n",
    "ids_grupo_b = np.array([201, 202, 203, 204, 205])\n",
    "\n",
    "# Lista de IDs de estudiantes que faltaron al examen\n",
    "ids_ausentes = np.array([103, 204])\n",
    "\n",
    "# Valores de un sensor que registra mediciones diarias, algunos de ellos fuera de un rango normal\n",
    "mediciones_sensor = np.array([25, -10, 45, 30, 85, 120])"
   ]
  },
  {
   "cell_type": "code",
   "execution_count": 2,
   "id": "01e9367f",
   "metadata": {},
   "outputs": [
    {
     "name": "stdout",
     "output_type": "stream",
     "text": [
      "Todos los ids \n",
      "[101 102 103 104 105 201 202 203 204 205]\n",
      "\n",
      "Los estudiantes ausentes (mascara Booleana)\n",
      "[False False  True False False False False False  True False]\n",
      "\n",
      "Lo estudiantes ausente a clases son\n",
      "[103 204]\n",
      "\n"
     ]
    }
   ],
   "source": [
    "#Ejercicio 1: 🕵️‍♀️ ¡Detectando a los Ausentes! (np.concatenate y np.isin)\n",
    "#1. Une los Grupos\n",
    "todos_los_ids=np.concatenate([ids_grupo_a,ids_grupo_b])\n",
    "print(f\"Todos los ids \\n{todos_los_ids}\\n\")\n",
    "ids_a_buscar=np.array([103,204])\n",
    "mascara=np.isin(todos_los_ids,ids_a_buscar)\n",
    "print(f\"Los estudiantes ausentes (mascara Booleana)\\n{mascara}\\n\")\n",
    "estudiante_ausentes=todos_los_ids[mascara]\n",
    "print(f\"Lo estudiantes ausente a clases son\\n{estudiante_ausentes}\\n\")"
   ]
  },
  {
   "cell_type": "code",
   "execution_count": 7,
   "id": "2ec98e97",
   "metadata": {},
   "outputs": [
    {
     "name": "stdout",
     "output_type": "stream",
     "text": [
      "Calibracion del sensor (0-100) \n",
      "[ 25   0  45  30  85 100]\n",
      "\n",
      "Calificaciones combinada Grupo a y Grupo B \n",
      "[85 92 78 65 99 72 88 55 90 75]\n",
      "\n",
      "Resultado de las calificaciones: \n",
      "['Aprobado' 'Aprobado' 'Aprobado' 'Reprobado' 'Aprobado' 'Aprobado'\n",
      " 'Aprobado' 'Reprobado' 'Aprobado' 'Aprobado']\n",
      "\n"
     ]
    }
   ],
   "source": [
    "#Ejercicio 2: 💯 ¡La Máquina de Calificaciones! (np.clip y np.where)\n",
    "#1. ¡Calibrando el sensor!\n",
    "calibracion_del_sensor=np.clip(mediciones_sensor,a_min = 0,a_max = 100)\n",
    "print(f\"Calibracion del sensor (0-100) \\n{calibracion_del_sensor}\\n\")\n",
    "#2. ¡Aprobado o Reprobado!\n",
    "combinacion_calificaciones=np.concatenate([calificaciones_grupo_a,calificaciones_grupo_b])\n",
    "print(f\"Calificaciones combinada Grupo a y Grupo B \\n{combinacion_calificaciones}\\n\")\n",
    "resultado_de_calificaciones=np.where(combinacion_calificaciones>=70, \"Aprobado\",\"Reprobado\")\n",
    "print(f\"Resultado de las calificaciones: \\n{resultado_de_calificaciones}\\n\")"
   ]
  },
  {
   "cell_type": "code",
   "execution_count": null,
   "id": "261efaff",
   "metadata": {},
   "outputs": [
    {
     "name": "stdout",
     "output_type": "stream",
     "text": [
      "razon de cambio del sensor [-35  55 -15  55  35]\n"
     ]
    }
   ],
   "source": [
    "#Ejercicio 3: 📈 ¡Analizando el Cambio! (np.diff)\n",
    "razon_de_camibio_sensor=np.diff(mediciones_sensor)\n",
    "print(f\"razon de cambio del sensor {razon_de_camibio_sensor}\")\n",
    "#2. ¡El gran descubrimiento!: Imprime el resultado y cuéntame... ¿Qué pasó entre el\n",
    "#primer y segundo día? ¿Fue un aumento o una caída dramática? 📉\n",
    "\n",
    "#En los resultados se observa que existe un aumento entre el primer dia y el segundo día\n",
    "#ya que el valor paso de -35 a 55 puntos "
   ]
  },
  {
   "cell_type": "code",
   "execution_count": 13,
   "id": "a95cc2e5",
   "metadata": {},
   "outputs": [
    {
     "name": "stdout",
     "output_type": "stream",
     "text": [
      "\n",
      "Grilla X\n",
      "[[-2. -1.  0.  1.  2.]\n",
      " [-2. -1.  0.  1.  2.]\n",
      " [-2. -1.  0.  1.  2.]\n",
      " [-2. -1.  0.  1.  2.]\n",
      " [-2. -1.  0.  1.  2.]]\n",
      "\n",
      "Grilla Y\n",
      "[[-2. -2. -2. -2. -2.]\n",
      " [-1. -1. -1. -1. -1.]\n",
      " [ 0.  0.  0.  0.  0.]\n",
      " [ 1.  1.  1.  1.  1.]\n",
      " [ 2.  2.  2.  2.  2.]]\n"
     ]
    }
   ],
   "source": [
    "#Ejercicio 4: 🪐 ¡Creando un Universo de Datos! (np.meshgrid)\n",
    "ejex=np.linspace(-2,2,5)\n",
    "ejey=np.linspace(-2,2,5)\n",
    "# Usamos meshgrid para crear una grilla de coordenadas\n",
    "X,Y=np.meshgrid(ejex,ejey)\n",
    "print(f\"\\nGrilla X\")\n",
    "print(X)\n",
    "print(f\"\\nGrilla Y\")\n",
    "print(Y)"
   ]
  },
  {
   "cell_type": "code",
   "execution_count": 14,
   "id": "38335a0f",
   "metadata": {},
   "outputs": [
    {
     "data": {
      "image/png": "[encoded data removed]",
      "text/plain": [
       "<Figure size 1000x800 with 1 Axes>"
      ]
     },
     "metadata": {},
     "output_type": "display_data"
    }
   ],
   "source": [
    "import numpy as np\n",
    "import matplotlib.pyplot as plt\n",
    "from mpl_toolkits.mplot3d import Axes3D\n",
    "\n",
    "# 1. Crear los datos para los ejes X y Y\n",
    "# Usamos np.linspace para crear 50 puntos entre -5 y 5 para cada eje.\n",
    "x = np.linspace(-5, 5, 50)\n",
    "y = np.linspace(-5, 5, 50)\n",
    "\n",
    "# 2. Generar la cuadrícula de coordenadas con meshgrid\n",
    "# Esto crea las matrices X e Y que representan todos los pares de puntos (x, y).\n",
    "X, Y = np.meshgrid(x, y)\n",
    "\n",
    "# 3. Calcular el valor de Z para cada punto de la cuadrícula\n",
    "# Aplicamos una función matemática a las matrices X e Y.\n",
    "# La función Z aquí crea una onda.\n",
    "Z = np.sin(np.sqrt(X**2 + Y**2))\n",
    "\n",
    "# 4. Crear la figura y los ejes para el gráfico 3D\n",
    "fig = plt.figure(figsize=(10, 8))\n",
    "ax = fig.add_subplot(111, projection='3d')\n",
    "\n",
    "# 5. Graficar la superficie\n",
    "# surface.plot crea una superficie en 3D usando los datos de X, Y y Z.\n",
    "ax.plot_surface(X, Y, Z, cmap='viridis')\n",
    "\n",
    "# 6. Añadir etiquetas y título\n",
    "ax.set_xlabel('Eje X')\n",
    "ax.set_ylabel('Eje Y')\n",
    "ax.set_zlabel('Eje Z')\n",
    "ax.set_title('Superficie de una función de onda')\n",
    "\n",
    "# 7. Mostrar el gráfico\n",
    "plt.show()"
   ]
  }
 ],
 "metadata": {
  "kernelspec": {
   "display_name": "Python 3",
   "language": "python",
   "name": "python3"
  },
  "language_info": {
   "codemirror_mode": {
    "name": "ipython",
    "version": 3
   },
   "file_extension": ".py",
   "mimetype": "text/x-python",
   "name": "python",
   "nbconvert_exporter": "python",
   "pygments_lexer": "ipython3",
   "version": "3.13.6"
  }
 },
 "nbformat": 4,
 "nbformat_minor": 5
}
