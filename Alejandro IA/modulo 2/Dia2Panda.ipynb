{
 "cells": [
  {
   "cell_type": "code",
   "execution_count": 22,
   "id": "3567067c",
   "metadata": {},
   "outputs": [
    {
     "name": "stdout",
     "output_type": "stream",
     "text": [
      "<class 'pandas.core.frame.DataFrame'>\n",
      "RangeIndex: 100 entries, 0 to 99\n",
      "Data columns (total 12 columns):\n",
      " #   Column             Non-Null Count  Dtype \n",
      "---  ------             --------------  ----- \n",
      " 0   Index              100 non-null    int64 \n",
      " 1   Customer Id        100 non-null    object\n",
      " 2   First Name         100 non-null    object\n",
      " 3   Last Name          100 non-null    object\n",
      " 4   Company            100 non-null    object\n",
      " 5   City               100 non-null    object\n",
      " 6   Country            100 non-null    object\n",
      " 7   Phone 1            100 non-null    object\n",
      " 8   Phone 2            100 non-null    object\n",
      " 9   Email              100 non-null    object\n",
      " 10  Subscription Date  100 non-null    object\n",
      " 11  Website            100 non-null    object\n",
      "dtypes: int64(1), object(11)\n",
      "memory usage: 9.5+ KB\n"
     ]
    }
   ],
   "source": [
    "import pandas as pd\n",
    "from IPython.display import display\n",
    "datos_originales=pd.read_csv(\"customers-100.csv\")\n",
    "df_filtrando_apellido_contry_phone_1_email=pd.read_csv(\"customers-100.csv\",index_col=\"Last Name\",usecols=[\"Last Name\",\"Country\",\"Phone 1\", \"Email\"])\n",
    "\n",
    "datos_originales.info()\n"
   ]
  },
  {
   "cell_type": "code",
   "execution_count": 1,
   "id": "08dab6de",
   "metadata": {},
   "outputs": [
    {
     "data": {
      "text/html": [
       "<div>\n",
       "<style scoped>\n",
       "    .dataframe tbody tr th:only-of-type {\n",
       "        vertical-align: middle;\n",
       "    }\n",
       "\n",
       "    .dataframe tbody tr th {\n",
       "        vertical-align: top;\n",
       "    }\n",
       "\n",
       "    .dataframe thead th {\n",
       "        text-align: right;\n",
       "    }\n",
       "</style>\n",
       "<table border=\"1\" class=\"dataframe\">\n",
       "  <thead>\n",
       "    <tr style=\"text-align: right;\">\n",
       "      <th></th>\n",
       "      <th>review_id</th>\n",
       "      <th>user_id</th>\n",
       "      <th>app_name</th>\n",
       "      <th>app_category</th>\n",
       "      <th>review_text</th>\n",
       "      <th>review_language</th>\n",
       "      <th>rating</th>\n",
       "      <th>review_date</th>\n",
       "      <th>verified_purchase</th>\n",
       "      <th>device_type</th>\n",
       "      <th>num_helpful_votes</th>\n",
       "      <th>user_age</th>\n",
       "      <th>user_country</th>\n",
       "      <th>user_gender</th>\n",
       "      <th>app_version</th>\n",
       "    </tr>\n",
       "  </thead>\n",
       "  <tbody>\n",
       "    <tr>\n",
       "      <th>0</th>\n",
       "      <td>1</td>\n",
       "      <td>1967825</td>\n",
       "      <td>MX Player</td>\n",
       "      <td>Travel &amp; Local</td>\n",
       "      <td>Qui doloribus consequuntur. Perspiciatis tempo...</td>\n",
       "      <td>no</td>\n",
       "      <td>1.3</td>\n",
       "      <td>2024-10-09 19:26:40</td>\n",
       "      <td>True</td>\n",
       "      <td>Android Tablet</td>\n",
       "      <td>65</td>\n",
       "      <td>14.0</td>\n",
       "      <td>China</td>\n",
       "      <td>Female</td>\n",
       "      <td>1.4</td>\n",
       "    </tr>\n",
       "    <tr>\n",
       "      <th>1</th>\n",
       "      <td>2</td>\n",
       "      <td>9242600</td>\n",
       "      <td>Tinder</td>\n",
       "      <td>Navigation</td>\n",
       "      <td>Great app but too many ads, consider premium v...</td>\n",
       "      <td>ru</td>\n",
       "      <td>1.6</td>\n",
       "      <td>2024-06-21 17:29:40</td>\n",
       "      <td>True</td>\n",
       "      <td>iPad</td>\n",
       "      <td>209</td>\n",
       "      <td>18.0</td>\n",
       "      <td>Germany</td>\n",
       "      <td>Male</td>\n",
       "      <td>8.9</td>\n",
       "    </tr>\n",
       "    <tr>\n",
       "      <th>2</th>\n",
       "      <td>3</td>\n",
       "      <td>7636477</td>\n",
       "      <td>Netflix</td>\n",
       "      <td>Dating</td>\n",
       "      <td>The interface could be better but overall good...</td>\n",
       "      <td>es</td>\n",
       "      <td>3.6</td>\n",
       "      <td>2024-10-31 13:47:12</td>\n",
       "      <td>True</td>\n",
       "      <td>iPad</td>\n",
       "      <td>163</td>\n",
       "      <td>67.0</td>\n",
       "      <td>Nigeria</td>\n",
       "      <td>Male</td>\n",
       "      <td>2.8.37.5926</td>\n",
       "    </tr>\n",
       "    <tr>\n",
       "      <th>3</th>\n",
       "      <td>4</td>\n",
       "      <td>209031</td>\n",
       "      <td>Venmo</td>\n",
       "      <td>Productivity</td>\n",
       "      <td>Latest update broke some features, please fix ...</td>\n",
       "      <td>vi</td>\n",
       "      <td>3.8</td>\n",
       "      <td>2025-03-12 06:16:22</td>\n",
       "      <td>True</td>\n",
       "      <td>iOS</td>\n",
       "      <td>664</td>\n",
       "      <td>66.0</td>\n",
       "      <td>India</td>\n",
       "      <td>Female</td>\n",
       "      <td>10.2</td>\n",
       "    </tr>\n",
       "    <tr>\n",
       "      <th>4</th>\n",
       "      <td>5</td>\n",
       "      <td>7190293</td>\n",
       "      <td>Google Drive</td>\n",
       "      <td>Education</td>\n",
       "      <td>Perfect for daily use, highly recommend to eve...</td>\n",
       "      <td>tl</td>\n",
       "      <td>3.2</td>\n",
       "      <td>2024-04-21 03:48:27</td>\n",
       "      <td>True</td>\n",
       "      <td>iPad</td>\n",
       "      <td>1197</td>\n",
       "      <td>40.0</td>\n",
       "      <td>South Korea</td>\n",
       "      <td>Prefer not to say</td>\n",
       "      <td>4.7</td>\n",
       "    </tr>\n",
       "  </tbody>\n",
       "</table>\n",
       "</div>"
      ],
      "text/plain": [
       "   review_id  user_id      app_name    app_category  \\\n",
       "0          1  1967825     MX Player  Travel & Local   \n",
       "1          2  9242600        Tinder      Navigation   \n",
       "2          3  7636477       Netflix          Dating   \n",
       "3          4   209031         Venmo    Productivity   \n",
       "4          5  7190293  Google Drive       Education   \n",
       "\n",
       "                                         review_text review_language  rating  \\\n",
       "0  Qui doloribus consequuntur. Perspiciatis tempo...              no     1.3   \n",
       "1  Great app but too many ads, consider premium v...              ru     1.6   \n",
       "2  The interface could be better but overall good...              es     3.6   \n",
       "3  Latest update broke some features, please fix ...              vi     3.8   \n",
       "4  Perfect for daily use, highly recommend to eve...              tl     3.2   \n",
       "\n",
       "           review_date  verified_purchase     device_type  num_helpful_votes  \\\n",
       "0  2024-10-09 19:26:40               True  Android Tablet                 65   \n",
       "1  2024-06-21 17:29:40               True            iPad                209   \n",
       "2  2024-10-31 13:47:12               True            iPad                163   \n",
       "3  2025-03-12 06:16:22               True             iOS                664   \n",
       "4  2024-04-21 03:48:27               True            iPad               1197   \n",
       "\n",
       "   user_age user_country        user_gender  app_version  \n",
       "0      14.0        China             Female          1.4  \n",
       "1      18.0      Germany               Male          8.9  \n",
       "2      67.0      Nigeria               Male  2.8.37.5926  \n",
       "3      66.0        India             Female         10.2  \n",
       "4      40.0  South Korea  Prefer not to say          4.7  "
      ]
     },
     "metadata": {},
     "output_type": "display_data"
    },
    {
     "data": {
      "text/plain": [
       "(2514, 15)"
      ]
     },
     "metadata": {},
     "output_type": "display_data"
    },
    {
     "name": "stdout",
     "output_type": "stream",
     "text": [
      "<class 'pandas.core.frame.DataFrame'>\n",
      "RangeIndex: 2514 entries, 0 to 2513\n",
      "Data columns (total 15 columns):\n",
      " #   Column             Non-Null Count  Dtype  \n",
      "---  ------             --------------  -----  \n",
      " 0   review_id          2514 non-null   int64  \n",
      " 1   user_id            2514 non-null   int64  \n",
      " 2   app_name           2514 non-null   object \n",
      " 3   app_category       2514 non-null   object \n",
      " 4   review_text        2455 non-null   object \n",
      " 5   review_language    2514 non-null   object \n",
      " 6   rating             2477 non-null   float64\n",
      " 7   review_date        2514 non-null   object \n",
      " 8   verified_purchase  2514 non-null   bool   \n",
      " 9   device_type        2514 non-null   object \n",
      " 10  num_helpful_votes  2514 non-null   int64  \n",
      " 11  user_age           2514 non-null   float64\n",
      " 12  user_country       2473 non-null   object \n",
      " 13  user_gender        1927 non-null   object \n",
      " 14  app_version        2484 non-null   object \n",
      "dtypes: bool(1), float64(2), int64(3), object(9)\n",
      "memory usage: 277.6+ KB\n"
     ]
    }
   ],
   "source": [
    "import pandas as pd\n",
    "from IPython.display import display\n",
    "df_celular=pd.read_csv(\"moviles.csv\")\n",
    "display(df_celular.head())\n",
    "display(df_celular.shape)\n",
    "df_celular.info()"
   ]
  },
  {
   "cell_type": "code",
   "execution_count": 2,
   "id": "38c57c32",
   "metadata": {},
   "outputs": [
    {
     "name": "stdout",
     "output_type": "stream",
     "text": [
      "review_id              0\n",
      "user_id                0\n",
      "app_name               0\n",
      "app_category           0\n",
      "review_text           59\n",
      "review_language        0\n",
      "rating                37\n",
      "review_date            0\n",
      "verified_purchase      0\n",
      "device_type            0\n",
      "num_helpful_votes      0\n",
      "user_age               0\n",
      "user_country          41\n",
      "user_gender          587\n",
      "app_version           30\n",
      "dtype: int64\n"
     ]
    }
   ],
   "source": [
    "#Dia 3 Tema 1: Identificando Valores Faltantes (El Primer Problema)\n",
    "#La Función Mágica: .isnull() o .isna()\n",
    "#Paso 1: df.isnull() crea un DataFrame de booleanos.\n",
    "#Paso 2: .sum() cuenta todos los True en cada columna.\n",
    "print(df_celular.isnull().sum())"
   ]
  },
  {
   "cell_type": "code",
   "execution_count": 3,
   "id": "7c0333d7",
   "metadata": {},
   "outputs": [
    {
     "data": {
      "text/plain": [
       "<Axes: title={'center': 'Valores nulos por Columna'}>"
      ]
     },
     "execution_count": 3,
     "metadata": {},
     "output_type": "execute_result"
    },
    {
     "data": {
      "image/png": "[encoded data removed]",
      "text/plain": [
       "<Figure size 640x480 with 1 Axes>"
      ]
     },
     "metadata": {},
     "output_type": "display_data"
    }
   ],
   "source": [
    "## Contar y graficar los valores nulos\n",
    "df_celular.isnull().sum().plot(kind=\"bar\",title=\"Valores nulos por Columna\")"
   ]
  },
  {
   "cell_type": "code",
   "execution_count": 4,
   "id": "50ffd2c4",
   "metadata": {},
   "outputs": [
    {
     "name": "stdout",
     "output_type": "stream",
     "text": [
      "review_id             0\n",
      "user_id               0\n",
      "app_name              0\n",
      "app_category          0\n",
      "review_text          59\n",
      "review_language       0\n",
      "rating               37\n",
      "review_date           0\n",
      "verified_purchase     0\n",
      "device_type           0\n",
      "num_helpful_votes     0\n",
      "user_age              0\n",
      "user_country         41\n",
      "user_gender           0\n",
      "app_version          30\n",
      "dtype: int64\n"
     ]
    },
    {
     "name": "stderr",
     "output_type": "stream",
     "text": [
      "C:\\Users\\Alejandro\\AppData\\Local\\Temp\\ipykernel_8784\\75073927.py:2: FutureWarning: A value is trying to be set on a copy of a DataFrame or Series through chained assignment using an inplace method.\n",
      "The behavior will change in pandas 3.0. This inplace method will never work because the intermediate object on which we are setting values always behaves as a copy.\n",
      "\n",
      "For example, when doing 'df[col].method(value, inplace=True)', try using 'df.method({col: value}, inplace=True)' or df[col] = df[col].method(value) instead, to perform the operation inplace on the original object.\n",
      "\n",
      "\n",
      "  df_celular[\"user_gender\"].fillna(\"Desconocido\",inplace=True)\n"
     ]
    }
   ],
   "source": [
    "#Opción 2: Rellenar los Valores Faltantes (.fillna())\n",
    "df_celular[\"user_gender\"].fillna(\"Desconocido\",inplace=True)\n",
    "print(df_celular.isnull().sum())"
   ]
  },
  {
   "cell_type": "code",
   "execution_count": 5,
   "id": "51a8f93e",
   "metadata": {},
   "outputs": [
    {
     "name": "stderr",
     "output_type": "stream",
     "text": [
      "C:\\Users\\Alejandro\\AppData\\Local\\Temp\\ipykernel_8784\\483449646.py:3: FutureWarning: A value is trying to be set on a copy of a DataFrame or Series through chained assignment using an inplace method.\n",
      "The behavior will change in pandas 3.0. This inplace method will never work because the intermediate object on which we are setting values always behaves as a copy.\n",
      "\n",
      "For example, when doing 'df[col].method(value, inplace=True)', try using 'df.method({col: value}, inplace=True)' or df[col] = df[col].method(value) instead, to perform the operation inplace on the original object.\n",
      "\n",
      "\n",
      "  df_celular[\"rating\"].fillna(promedio_rating,inplace=True)\n"
     ]
    }
   ],
   "source": [
    "#El promedio (.mean()) o la mediana (.median()) de la columna:\n",
    "promedio_rating=df_celular[\"rating\"].mean()\n",
    "df_celular[\"rating\"].fillna(promedio_rating,inplace=True)"
   ]
  },
  {
   "cell_type": "code",
   "execution_count": 6,
   "id": "8bb3148c",
   "metadata": {},
   "outputs": [],
   "source": [
    "# Opción 2 (recomendada por la advertencia para el método 'inplace')\n",
    "# Esta opción es más avanzada pero evita la advertencia\n",
    "df_celular.loc[:, \"rating\"] = df_celular[\"rating\"].fillna(promedio_rating)"
   ]
  },
  {
   "cell_type": "code",
   "execution_count": 34,
   "id": "802669df",
   "metadata": {},
   "outputs": [
    {
     "name": "stdout",
     "output_type": "stream",
     "text": [
      "review_id             0\n",
      "user_id               0\n",
      "app_name              0\n",
      "app_category          0\n",
      "review_text          59\n",
      "review_language       0\n",
      "rating                0\n",
      "review_date           0\n",
      "verified_purchase     0\n",
      "device_type           0\n",
      "num_helpful_votes     0\n",
      "user_age              0\n",
      "user_country         41\n",
      "user_gender           0\n",
      "app_version          30\n",
      "dtype: int64\n"
     ]
    }
   ],
   "source": [
    "print(df_celular.isnull().sum())"
   ]
  },
  {
   "cell_type": "code",
   "execution_count": 8,
   "id": "0aa4a627",
   "metadata": {},
   "outputs": [
    {
     "name": "stdout",
     "output_type": "stream",
     "text": [
      "review_id            0\n",
      "user_id              0\n",
      "app_name             0\n",
      "app_category         0\n",
      "review_text          0\n",
      "review_language      0\n",
      "rating               0\n",
      "review_date          0\n",
      "verified_purchase    0\n",
      "device_type          0\n",
      "num_helpful_votes    0\n",
      "user_age             0\n",
      "user_country         0\n",
      "user_gender          0\n",
      "app_version          0\n",
      "dtype: int64\n"
     ]
    },
    {
     "name": "stderr",
     "output_type": "stream",
     "text": [
      "C:\\Users\\Alejandro\\AppData\\Local\\Temp\\ipykernel_8784\\3598915961.py:4: FutureWarning: A value is trying to be set on a copy of a DataFrame or Series through chained assignment using an inplace method.\n",
      "The behavior will change in pandas 3.0. This inplace method will never work because the intermediate object on which we are setting values always behaves as a copy.\n",
      "\n",
      "For example, when doing 'df[col].method(value, inplace=True)', try using 'df.method({col: value}, inplace=True)' or df[col] = df[col].method(value) instead, to perform the operation inplace on the original object.\n",
      "\n",
      "\n",
      "  df_celular[\"user_country\"].fillna(\"Solicitar Datos por encuesta\",inplace=True)\n",
      "C:\\Users\\Alejandro\\AppData\\Local\\Temp\\ipykernel_8784\\3598915961.py:5: FutureWarning: A value is trying to be set on a copy of a DataFrame or Series through chained assignment using an inplace method.\n",
      "The behavior will change in pandas 3.0. This inplace method will never work because the intermediate object on which we are setting values always behaves as a copy.\n",
      "\n",
      "For example, when doing 'df[col].method(value, inplace=True)', try using 'df.method({col: value}, inplace=True)' or df[col] = df[col].method(value) instead, to perform the operation inplace on the original object.\n",
      "\n",
      "\n",
      "  df_celular[\"app_version\"].fillna(\"Version Desconocida\",inplace=True)\n"
     ]
    }
   ],
   "source": [
    "#Opción 2: Rellenar los Valores Faltantes (.fillna())\n",
    "\n",
    "df_celular[\"review_text\"].fillna(\"Falta Texto\",inplace=True)\n",
    "df_celular[\"user_country\"].fillna(\"Solicitar Datos por encuesta\",inplace=True)\n",
    "df_celular[\"app_version\"].fillna(\"Version Desconocida\",inplace=True)\n",
    "\n",
    "\n",
    "\n",
    "\n",
    "\n",
    "\n",
    "print(df_celular.isnull().sum())"
   ]
  },
  {
   "cell_type": "code",
   "execution_count": 21,
   "id": "6269a5ff",
   "metadata": {},
   "outputs": [
    {
     "data": {
      "text/html": [
       "<div>\n",
       "<style scoped>\n",
       "    .dataframe tbody tr th:only-of-type {\n",
       "        vertical-align: middle;\n",
       "    }\n",
       "\n",
       "    .dataframe tbody tr th {\n",
       "        vertical-align: top;\n",
       "    }\n",
       "\n",
       "    .dataframe thead th {\n",
       "        text-align: right;\n",
       "    }\n",
       "</style>\n",
       "<table border=\"1\" class=\"dataframe\">\n",
       "  <thead>\n",
       "    <tr style=\"text-align: right;\">\n",
       "      <th></th>\n",
       "      <th>producto</th>\n",
       "      <th>precio</th>\n",
       "      <th>unidades</th>\n",
       "    </tr>\n",
       "  </thead>\n",
       "  <tbody>\n",
       "    <tr>\n",
       "      <th>0</th>\n",
       "      <td>manzana</td>\n",
       "      <td>2.5</td>\n",
       "      <td>100.0</td>\n",
       "    </tr>\n",
       "    <tr>\n",
       "      <th>1</th>\n",
       "      <td>banana</td>\n",
       "      <td>1.8</td>\n",
       "      <td>150.0</td>\n",
       "    </tr>\n",
       "    <tr>\n",
       "      <th>2</th>\n",
       "      <td>None</td>\n",
       "      <td>NaN</td>\n",
       "      <td>80.0</td>\n",
       "    </tr>\n",
       "    <tr>\n",
       "      <th>3</th>\n",
       "      <td>naranja</td>\n",
       "      <td>3.0</td>\n",
       "      <td>NaN</td>\n",
       "    </tr>\n",
       "    <tr>\n",
       "      <th>4</th>\n",
       "      <td>mango</td>\n",
       "      <td>NaN</td>\n",
       "      <td>200.0</td>\n",
       "    </tr>\n",
       "  </tbody>\n",
       "</table>\n",
       "</div>"
      ],
      "text/plain": [
       "  producto  precio  unidades\n",
       "0  manzana     2.5     100.0\n",
       "1   banana     1.8     150.0\n",
       "2     None     NaN      80.0\n",
       "3  naranja     3.0       NaN\n",
       "4    mango     NaN     200.0"
      ]
     },
     "metadata": {},
     "output_type": "display_data"
    },
    {
     "name": "stdout",
     "output_type": "stream",
     "text": [
      "<class 'pandas.core.frame.DataFrame'>\n",
      "RangeIndex: 5 entries, 0 to 4\n",
      "Data columns (total 3 columns):\n",
      " #   Column    Non-Null Count  Dtype  \n",
      "---  ------    --------------  -----  \n",
      " 0   producto  4 non-null      object \n",
      " 1   precio    3 non-null      float64\n",
      " 2   unidades  4 non-null      float64\n",
      "dtypes: float64(2), object(1)\n",
      "memory usage: 252.0+ bytes\n",
      "producto    1\n",
      "precio      2\n",
      "unidades    1\n",
      "dtype: int64\n"
     ]
    }
   ],
   "source": [
    "#¡Problemas de Limpieza y Preparación de Datos! 🛠\n",
    "#Problema 1: Contando los nulos\n",
    "#Objetivo: Usando el siguiente DataFrame, encuentra y cuenta la cantidad total de valores\n",
    "#nulos en cada columna.\n",
    "\n",
    "import pandas as pd\n",
    "from IPython.display import display\n",
    "data={\n",
    "    \"producto\":[\"manzana\",\"banana\",None,\"naranja\",\"mango\"],\n",
    "    \"precio\":[2.5,1.8,None,3.0,None],\n",
    "    \"unidades\":[100,150,80,None,200]}\n",
    "df=pd.DataFrame(data)\n",
    "\n",
    "\n",
    "\n",
    "#Trabajaremos con una copia por seguridad\n",
    "df_copia1=df.copy()\n",
    "display(df_copia1)\n",
    "df_copia1.info() #información de los datos faltantes por Columna\n",
    "print(df_copia1.isnull().sum())\n",
    "\n",
    "\n"
   ]
  },
  {
   "cell_type": "code",
   "execution_count": 22,
   "id": "67878f3a",
   "metadata": {},
   "outputs": [
    {
     "name": "stdout",
     "output_type": "stream",
     "text": [
      "producto    0\n",
      "precio      2\n",
      "unidades    1\n",
      "dtype: int64\n"
     ]
    },
    {
     "name": "stderr",
     "output_type": "stream",
     "text": [
      "C:\\Users\\Alejandro\\AppData\\Local\\Temp\\ipykernel_8784\\1839221380.py:4: FutureWarning: A value is trying to be set on a copy of a DataFrame or Series through chained assignment using an inplace method.\n",
      "The behavior will change in pandas 3.0. This inplace method will never work because the intermediate object on which we are setting values always behaves as a copy.\n",
      "\n",
      "For example, when doing 'df[col].method(value, inplace=True)', try using 'df.method({col: value}, inplace=True)' or df[col] = df[col].method(value) instead, to perform the operation inplace on the original object.\n",
      "\n",
      "\n",
      "  df_copia1[\"producto\"].fillna(\"desconocido\",inplace=True)\n"
     ]
    }
   ],
   "source": [
    "#Problema 2: Rellenando con un valor\n",
    "# Relleno los Valores Faltantes (.fillna()\n",
    "\n",
    "df_copia1[\"producto\"].fillna(\"desconocido\",inplace=True)\n",
    "print(df_copia1.isnull().sum())"
   ]
  },
  {
   "cell_type": "code",
   "execution_count": 24,
   "id": "01dee512",
   "metadata": {},
   "outputs": [
    {
     "name": "stdout",
     "output_type": "stream",
     "text": [
      "producto    0\n",
      "precio      0\n",
      "unidades    1\n",
      "dtype: int64\n"
     ]
    },
    {
     "name": "stderr",
     "output_type": "stream",
     "text": [
      "C:\\Users\\Alejandro\\AppData\\Local\\Temp\\ipykernel_8784\\731751400.py:3: FutureWarning: A value is trying to be set on a copy of a DataFrame or Series through chained assignment using an inplace method.\n",
      "The behavior will change in pandas 3.0. This inplace method will never work because the intermediate object on which we are setting values always behaves as a copy.\n",
      "\n",
      "For example, when doing 'df[col].method(value, inplace=True)', try using 'df.method({col: value}, inplace=True)' or df[col] = df[col].method(value) instead, to perform the operation inplace on the original object.\n",
      "\n",
      "\n",
      "  df_copia1[\"precio\"].fillna(promedio_df_copia,inplace=True)\n"
     ]
    }
   ],
   "source": [
    "#Problema 3: Rellenando con un promedio\n",
    "promedio_df_copia=df_copia1[\"precio\"].mean()\n",
    "df_copia1[\"precio\"].fillna(promedio_df_copia,inplace=True)\n",
    "print(df_copia1.isnull().sum())"
   ]
  },
  {
   "cell_type": "code",
   "execution_count": 26,
   "metadata": {},
   "outputs": [
    {
     "data": {
      "text/html": [
       "<div>\n",
       "<style scoped>\n",
       "    .dataframe tbody tr th:only-of-type {\n",
       "        vertical-align: middle;\n",
       "    }\n",
       "\n",
       "    .dataframe tbody tr th {\n",
       "        vertical-align: top;\n",
       "    }\n",
       "\n",
       "    .dataframe thead th {\n",
       "        text-align: right;\n",
       "    }\n",
       "</style>\n",
       "<table border=\"1\" class=\"dataframe\">\n",
       "  <thead>\n",
       "    <tr style=\"text-align: right;\">\n",
       "      <th></th>\n",
       "      <th>producto</th>\n",
       "      <th>precio</th>\n",
       "      <th>unidades</th>\n",
       "    </tr>\n",
       "  </thead>\n",
       "  <tbody>\n",
       "    <tr>\n",
       "      <th>0</th>\n",
       "      <td>manzana</td>\n",
       "      <td>2.5</td>\n",
       "      <td>100.0</td>\n",
       "    </tr>\n",
       "    <tr>\n",
       "      <th>1</th>\n",
       "      <td>banana</td>\n",
       "      <td>1.8</td>\n",
       "      <td>150.0</td>\n",
       "    </tr>\n",
       "  </tbody>\n",
       "</table>\n",
       "</div>"
      ],
      "text/plain": [
       "  producto  precio  unidades\n",
       "0  manzana     2.5     100.0\n",
       "1   banana     1.8     150.0"
      ]
     },
     "execution_count": 26,
     "metadata": {},
     "output_type": "execute_result"
    }
   ],
   "source": [
    "#Problema 4: Eliminando filas con nulos\n",
    "df_copia2=df.copy()\n",
    "df_copia2.dropna()"
   ]
  },
  {
   "cell_type": "code",
   "execution_count": 31,
   "id": "22676dae",
   "metadata": {},
   "outputs": [
    {
     "name": "stdout",
     "output_type": "stream",
     "text": [
      "producto        0\n",
      "precio          0\n",
      "unidades        0\n",
      "total_ventas    0\n",
      "dtype: int64\n"
     ]
    },
    {
     "name": "stderr",
     "output_type": "stream",
     "text": [
      "C:\\Users\\Alejandro\\AppData\\Local\\Temp\\ipykernel_8784\\765554759.py:2: FutureWarning: A value is trying to be set on a copy of a DataFrame or Series through chained assignment using an inplace method.\n",
      "The behavior will change in pandas 3.0. This inplace method will never work because the intermediate object on which we are setting values always behaves as a copy.\n",
      "\n",
      "For example, when doing 'df[col].method(value, inplace=True)', try using 'df.method({col: value}, inplace=True)' or df[col] = df[col].method(value) instead, to perform the operation inplace on the original object.\n",
      "\n",
      "\n",
      "  df_copia1[\"unidades\"].fillna(0,inplace=True)\n"
     ]
    },
    {
     "data": {
      "text/html": [
       "<div>\n",
       "<style scoped>\n",
       "    .dataframe tbody tr th:only-of-type {\n",
       "        vertical-align: middle;\n",
       "    }\n",
       "\n",
       "    .dataframe tbody tr th {\n",
       "        vertical-align: top;\n",
       "    }\n",
       "\n",
       "    .dataframe thead th {\n",
       "        text-align: right;\n",
       "    }\n",
       "</style>\n",
       "<table border=\"1\" class=\"dataframe\">\n",
       "  <thead>\n",
       "    <tr style=\"text-align: right;\">\n",
       "      <th></th>\n",
       "      <th>producto</th>\n",
       "      <th>precio</th>\n",
       "      <th>unidades</th>\n",
       "      <th>total_ventas</th>\n",
       "    </tr>\n",
       "  </thead>\n",
       "  <tbody>\n",
       "    <tr>\n",
       "      <th>0</th>\n",
       "      <td>manzana</td>\n",
       "      <td>2.500000</td>\n",
       "      <td>100.0</td>\n",
       "      <td>250.000000</td>\n",
       "    </tr>\n",
       "    <tr>\n",
       "      <th>1</th>\n",
       "      <td>banana</td>\n",
       "      <td>1.800000</td>\n",
       "      <td>150.0</td>\n",
       "      <td>270.000000</td>\n",
       "    </tr>\n",
       "    <tr>\n",
       "      <th>2</th>\n",
       "      <td>desconocido</td>\n",
       "      <td>2.433333</td>\n",
       "      <td>80.0</td>\n",
       "      <td>194.666667</td>\n",
       "    </tr>\n",
       "    <tr>\n",
       "      <th>3</th>\n",
       "      <td>naranja</td>\n",
       "      <td>3.000000</td>\n",
       "      <td>0.0</td>\n",
       "      <td>0.000000</td>\n",
       "    </tr>\n",
       "    <tr>\n",
       "      <th>4</th>\n",
       "      <td>mango</td>\n",
       "      <td>2.433333</td>\n",
       "      <td>200.0</td>\n",
       "      <td>486.666667</td>\n",
       "    </tr>\n",
       "  </tbody>\n",
       "</table>\n",
       "</div>"
      ],
      "text/plain": [
       "      producto    precio  unidades  total_ventas\n",
       "0      manzana  2.500000     100.0    250.000000\n",
       "1       banana  1.800000     150.0    270.000000\n",
       "2  desconocido  2.433333      80.0    194.666667\n",
       "3      naranja  3.000000       0.0      0.000000\n",
       "4        mango  2.433333     200.0    486.666667"
      ]
     },
     "metadata": {},
     "output_type": "display_data"
    }
   ],
   "source": [
    "#Problema 5: Combinando limpieza y cálculo\n",
    "df_copia1[\"unidades\"].fillna(0,inplace=True)\n",
    "print(df_copia1.isnull().sum())\n",
    "\n",
    "total_ventas=df_copia1[\"precio\"]*df_copia1[\"unidades\"]\n",
    "df_copia1[\"total_ventas\"]=total_ventas\n",
    "display(df_copia1)"
   ]
  },
  {
   "cell_type": "code",
   "execution_count": null,
   "id": "2fc9bcda",
   "metadata": {},
   "outputs": [
    {
     "name": "stdout",
     "output_type": "stream",
     "text": [
      "producto        naranja\n",
      "precio              3.0\n",
      "unidades            0.0\n",
      "total_ventas        0.0\n",
      "Name: 3, dtype: object\n"
     ]
    },
    {
     "data": {
      "text/html": [
       "<div>\n",
       "<style scoped>\n",
       "    .dataframe tbody tr th:only-of-type {\n",
       "        vertical-align: middle;\n",
       "    }\n",
       "\n",
       "    .dataframe tbody tr th {\n",
       "        vertical-align: top;\n",
       "    }\n",
       "\n",
       "    .dataframe thead th {\n",
       "        text-align: right;\n",
       "    }\n",
       "</style>\n",
       "<table border=\"1\" class=\"dataframe\">\n",
       "  <thead>\n",
       "    <tr style=\"text-align: right;\">\n",
       "      <th></th>\n",
       "      <th>producto</th>\n",
       "      <th>precio</th>\n",
       "      <th>unidades</th>\n",
       "      <th>total_ventas</th>\n",
       "    </tr>\n",
       "  </thead>\n",
       "  <tbody>\n",
       "    <tr>\n",
       "      <th>0</th>\n",
       "      <td>manzana</td>\n",
       "      <td>2.500000</td>\n",
       "      <td>100.0</td>\n",
       "      <td>250.000000</td>\n",
       "    </tr>\n",
       "    <tr>\n",
       "      <th>1</th>\n",
       "      <td>banana</td>\n",
       "      <td>1.800000</td>\n",
       "      <td>150.0</td>\n",
       "      <td>270.000000</td>\n",
       "    </tr>\n",
       "    <tr>\n",
       "      <th>2</th>\n",
       "      <td>desconocido</td>\n",
       "      <td>2.433333</td>\n",
       "      <td>80.0</td>\n",
       "      <td>194.666667</td>\n",
       "    </tr>\n",
       "    <tr>\n",
       "      <th>4</th>\n",
       "      <td>mango</td>\n",
       "      <td>2.433333</td>\n",
       "      <td>200.0</td>\n",
       "      <td>486.666667</td>\n",
       "    </tr>\n",
       "  </tbody>\n",
       "</table>\n",
       "</div>"
      ],
      "text/plain": [
       "      producto    precio  unidades  total_ventas\n",
       "0      manzana  2.500000     100.0    250.000000\n",
       "1       banana  1.800000     150.0    270.000000\n",
       "2  desconocido  2.433333      80.0    194.666667\n",
       "4        mango  2.433333     200.0    486.666667"
      ]
     },
     "execution_count": 37,
     "metadata": {},
     "output_type": "execute_result"
    }
   ],
   "source": [
    "#Problema 6 (¡Extra!): Filtrando después de la limpieza\n",
    "#En el DataFrame del problema 5, identifica y elimina la fila que contenga el valor nulo en\n",
    "#la columna 'precio'\n",
    "print(df_copia1.iloc[3]) #del Data frame ya actualizado se que debo elminar esta fila pero no se como removerla\n",
    "df_copia1.drop(3) #se elimina con drop\n"
   ]
  },
  {
   "cell_type": "code",
   "execution_count": 39,
   "id": "6022e3e7",
   "metadata": {},
   "outputs": [
    {
     "data": {
      "text/html": [
       "<div>\n",
       "<style scoped>\n",
       "    .dataframe tbody tr th:only-of-type {\n",
       "        vertical-align: middle;\n",
       "    }\n",
       "\n",
       "    .dataframe tbody tr th {\n",
       "        vertical-align: top;\n",
       "    }\n",
       "\n",
       "    .dataframe thead th {\n",
       "        text-align: right;\n",
       "    }\n",
       "</style>\n",
       "<table border=\"1\" class=\"dataframe\">\n",
       "  <thead>\n",
       "    <tr style=\"text-align: right;\">\n",
       "      <th></th>\n",
       "      <th>producto</th>\n",
       "      <th>precio</th>\n",
       "      <th>unidades</th>\n",
       "      <th>total_ventas</th>\n",
       "    </tr>\n",
       "  </thead>\n",
       "  <tbody>\n",
       "    <tr>\n",
       "      <th>0</th>\n",
       "      <td>manzana</td>\n",
       "      <td>2.500000</td>\n",
       "      <td>100.0</td>\n",
       "      <td>250.000000</td>\n",
       "    </tr>\n",
       "    <tr>\n",
       "      <th>1</th>\n",
       "      <td>banana</td>\n",
       "      <td>1.800000</td>\n",
       "      <td>150.0</td>\n",
       "      <td>270.000000</td>\n",
       "    </tr>\n",
       "    <tr>\n",
       "      <th>4</th>\n",
       "      <td>mango</td>\n",
       "      <td>2.433333</td>\n",
       "      <td>200.0</td>\n",
       "      <td>486.666667</td>\n",
       "    </tr>\n",
       "  </tbody>\n",
       "</table>\n",
       "</div>"
      ],
      "text/plain": [
       "  producto    precio  unidades  total_ventas\n",
       "0  manzana  2.500000     100.0    250.000000\n",
       "1   banana  1.800000     150.0    270.000000\n",
       "4    mango  2.433333     200.0    486.666667"
      ]
     },
     "metadata": {},
     "output_type": "display_data"
    }
   ],
   "source": [
    "#Problema 6 (¡Extra!): Filtrando después de la limpieza\n",
    "mascara=df_copia1[\"total_ventas\"]>200\n",
    "df_copia1_total_ventas200=df_copia1[mascara]\n",
    "display(df_copia1_total_ventas200)"
   ]
  }
 ],
 "metadata": {
  "kernelspec": {
   "display_name": "Python 3",
   "language": "python",
   "name": "python3"
  },
  "language_info": {
   "codemirror_mode": {
    "name": "ipython",
    "version": 3
   },
   "file_extension": ".py",
   "mimetype": "text/x-python",
   "name": "python",
   "nbconvert_exporter": "python",
   "pygments_lexer": "ipython3",
   "version": "3.13.7"
  }
 },
 "nbformat": 4,
 "nbformat_minor": 5
}
