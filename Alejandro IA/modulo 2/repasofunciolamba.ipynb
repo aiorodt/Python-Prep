{
 "cells": [
  {
   "cell_type": "code",
   "execution_count": 1,
   "id": "e90797fc",
   "metadata": {},
   "outputs": [
    {
     "name": "stdout",
     "output_type": "stream",
     "text": [
      "el cuadrado del numero 7 es 49\n"
     ]
    }
   ],
   "source": [
    "#Funciones Anónimas (Lambda Functions) 🚀\n",
    "\n",
    "## 1. Lambda simple para una operación matemática\n",
    "# Equivale a: def cuadrado(x): return x * x\n",
    "numero_cuadrado= lambda x:x**2\n",
    "print(f\"el cuadrado del numero 7 es {numero_cuadrado(7)}\")"
   ]
  },
  {
   "cell_type": "code",
   "execution_count": 2,
   "id": "4fcb53b0",
   "metadata": {},
   "outputs": [
    {
     "name": "stdout",
     "output_type": "stream",
     "text": [
      "El producto de 3*2 es 6\n"
     ]
    }
   ],
   "source": [
    "# 2. Lambda con múltiples argumentos\n",
    "# Equivale a: def multiplicar(a, b): return a * b\n",
    "producto_dos_numeros= lambda a,b:a*b\n",
    "print(f\"El producto de 3*2 es {producto_dos_numeros(3,2)}\")"
   ]
  },
  {
   "cell_type": "code",
   "execution_count": 8,
   "id": "3e6c5926",
   "metadata": {},
   "outputs": [
    {
     "name": "stdout",
     "output_type": "stream",
     "text": [
      " Edades de los adolecentes [15, 18]\n"
     ]
    }
   ],
   "source": [
    "# 3. Uso de lambda con filter()\n",
    "# filter(función, iterable) -> Devuelve un iterador con los elementos para los que la\n",
    "#funcion es True\n",
    "\n",
    "edades=[20,15,39,40,18,23,55]\n",
    " #filter con numero usas list\n",
    "adolecentes=list(filter(lambda edad: edad<=19, edades))\n",
    "print(f\" Edades de los adolecentes {adolecentes}\")"
   ]
  },
  {
   "cell_type": "code",
   "execution_count": 9,
   "id": "024efb17",
   "metadata": {},
   "outputs": [
    {
     "name": "stdout",
     "output_type": "stream",
     "text": [
      "nombre en mayuscula ['ALEJANDRO', 'ELIZABETH', 'MARE']\n"
     ]
    }
   ],
   "source": [
    "# 4. Uso de lambda con map()\n",
    "# map(función, iterable) -> Aplica la función a cada elemento del iterable\n",
    "nombres=[\"alejandro\",\"elizabeth\",\"mare\"]\n",
    "nombre_mayuscula=list(map(lambda nombre:nombre.upper(), nombres))\n",
    "print(f\"nombre en mayuscula {nombre_mayuscula}\")"
   ]
  },
  {
   "cell_type": "code",
   "execution_count": 10,
   "id": "68516ee0",
   "metadata": {},
   "outputs": [
    {
     "name": "stdout",
     "output_type": "stream",
     "text": [
      "orden de productor nombre [{'nombre': 'cambur', 'precio': 5.4}, {'nombre': 'manzana', 'precio': 1.3}, {'nombre': 'pera', 'precio': 1.9}]\n"
     ]
    }
   ],
   "source": [
    "# 5. Uso de lambda con sorted() para ordenar una lista de diccionarios\n",
    "# key=lambda p: p[\"edad\"] le dice a sorted que ordene basándose en el valor de la\n",
    "#clave 'edad' de cada diccionario\n",
    "\n",
    "producto=[{\"nombre\":\"manzana\",\"precio\":1.3},\n",
    "          {\"nombre\":\"pera\",\"precio\":1.9},\n",
    "          {\"nombre\":\"cambur\",\"precio\":5.4}]\n",
    "productos_ordenados=sorted(producto,key=lambda p:p[\"nombre\"])\n",
    "print(f\"orden de productor nombre {productos_ordenados}\")\n",
    "\n"
   ]
  },
  {
   "cell_type": "code",
   "execution_count": 13,
   "id": "62439967",
   "metadata": {},
   "outputs": [
    {
     "name": "stdout",
     "output_type": "stream",
     "text": [
      "orden de palabras ['es', 'ese', 'libro', 'brillante']\n"
     ]
    }
   ],
   "source": [
    "# Otro ejemplo con lambda y sorted(), ordenando por la longitud del string\n",
    "palabras=[\"libro\",\"es\",\"brillante\",\"ese\"]\n",
    "palabras_por_longitud=sorted(palabras,key=lambda x:len(x))\n",
    "print(f\"orden de palabras {palabras_por_longitud}\")\n"
   ]
  },
  {
   "cell_type": "code",
   "execution_count": 1,
   "id": "2aa91a47",
   "metadata": {},
   "outputs": [
    {
     "name": "stdout",
     "output_type": "stream",
     "text": [
      " Los en nombres mayusculas ['JUAN', 'MARIA', 'PEDRO', 'LUIS']\n"
     ]
    }
   ],
   "source": [
    "# Reto 1: Convertir a mayúsculas con map()\n",
    "nombres=[\"juan\",\"maria\",\"pedro\",\"luis\"]\n",
    "\n",
    "nombres_mayusculas=list(map(lambda nombre:nombre.upper(),nombres))\n",
    "print(f\" Los en nombres mayusculas {nombres_mayusculas}\")"
   ]
  },
  {
   "cell_type": "code",
   "execution_count": 5,
   "id": "929698e9",
   "metadata": {},
   "outputs": [
    {
     "name": "stdout",
     "output_type": "stream",
     "text": [
      "Lista de numero pares [2, 4, 6, 8, 10]\n"
     ]
    }
   ],
   "source": [
    "#🚀 Reto 2: Filtrar números pares con filter()\n",
    "lista_de_numero=[1,2,3,4,5,6,7,8,9,10]\n",
    "solo_pares=list(filter(lambda pares:pares%2==0, lista_de_numero))\n",
    "print(f\"Lista de numero pares {solo_pares}\")"
   ]
  },
  {
   "cell_type": "code",
   "execution_count": 1,
   "id": "99f42819",
   "metadata": {},
   "outputs": [
    {
     "name": "stdout",
     "output_type": "stream",
     "text": [
      "[('Maria', 25), ('Juan', 30), ('Pedro', 35)]\n"
     ]
    }
   ],
   "source": [
    "#🏆 Reto 3: Ordenar por un campo específico con sorted()\n",
    "personas=[(\"Juan\",30),(\"Maria\",25),(\"Pedro\",35)]\n",
    "lista_persona=list(sorted(personas,key= lambda x: x[1]))\n",
    "print(lista_persona)\n"
   ]
  }
 ],
 "metadata": {
  "kernelspec": {
   "display_name": "Python 3",
   "language": "python",
   "name": "python3"
  },
  "language_info": {
   "codemirror_mode": {
    "name": "ipython",
    "version": 3
   },
   "file_extension": ".py",
   "mimetype": "text/x-python",
   "name": "python",
   "nbconvert_exporter": "python",
   "pygments_lexer": "ipython3",
   "version": "3.13.5"
  }
 },
 "nbformat": 4,
 "nbformat_minor": 5
}
