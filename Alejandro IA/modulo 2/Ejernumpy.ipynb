{
 "cells": [
  {
   "cell_type": "code",
   "execution_count": 37,
   "id": "959f0d43",
   "metadata": {},
   "outputs": [],
   "source": [
    "import numpy as np\n"
   ]
  },
  {
   "cell_type": "code",
   "execution_count": 38,
   "id": "bc8c4f80",
   "metadata": {},
   "outputs": [
    {
     "name": "stdout",
     "output_type": "stream",
     "text": [
      "matriz modificada \n",
      "[[84 48 12]\n",
      " [81 96 15]\n",
      " [48 53 41]]\n",
      "\n",
      "[[81 96 15]\n",
      " [48 53 41]]\n",
      "Elemento en la esquina inferior derecha 41\n"
     ]
    }
   ],
   "source": [
    "\n",
    "matriz_cero_3x3=np.random.randint(1,101,size=[3,3])\n",
    "print(f\"matriz modificada \\n{matriz_cero_3x3}\\n\")\n",
    "extraccion_ultima_fila=matriz_cero_3x3[1:,]\n",
    "print(extraccion_ultima_fila)\n",
    "print(f\"Elemento en la esquina inferior derecha {matriz_cero_3x3[2,2]}\")\n"
   ]
  },
  {
   "cell_type": "code",
   "execution_count": 39,
   "id": "78f475ac",
   "metadata": {},
   "outputs": [
    {
     "name": "stdout",
     "output_type": "stream",
     "text": [
      " vector original\n",
      "[0 1 2 3 4 5 6 7 8 9]\n",
      "\n",
      "multiplicacion de los elemento por 2:\n",
      "[ 0  2  4  6  8 10 12 14 16 18]\n",
      "\n",
      "suma 5 al resultado final\n",
      "[ 5  7  9 11 13 15 17 19 21 23]\n",
      "\n"
     ]
    }
   ],
   "source": [
    "#➕ Operaciones Vectorizadas en NumPy\n",
    "#Crea un array de 10 elementos que vaya de 0 a 9.\n",
    "n_10=np.arange(10)\n",
    "#Multiplica cada elemento del array por 2\n",
    "n_2x10=2*n_10\n",
    "#Suma 5 a cada elemento del array resultante\n",
    "n_suma5=5+n_2x10\n",
    "print(f\" vector original\\n{n_10}\\n\")\n",
    "print(f\"multiplicacion de los elemento por 2:\\n{n_2x10}\\n\")\n",
    "print(f\"suma 5 al resultado final\\n{n_suma5}\\n\")"
   ]
  },
  {
   "cell_type": "code",
   "execution_count": null,
   "id": "cbd5dddb",
   "metadata": {},
   "outputs": [
    {
     "name": "stdout",
     "output_type": "stream",
     "text": [
      "array originaal\n",
      "[18 15 17 16  5 15  2 12 19  5  4  9  5  8 19]\n",
      "\n",
      "numero mayores que 10 en el array \n",
      "[18 15 17 16 15 12 19 19]\n",
      "\n"
     ]
    }
   ],
   "source": [
    "#3. 🔎 Indexación Condicional con NumPy\n",
    "# Crea un array de 15 números enteros aleatorios entre 1 y 20\n",
    "n_ale_enteros=np.random.randint(1,20,size= 15)\n",
    "#Usa indexación booleana para encontrar y mostrar solo los números que sean\n",
    "#mayores que 10\n",
    "n_10=n_ale_enteros[n_ale_enteros>10]\n",
    "\n",
    "print(f\"numero mayores que 10 en el array \\n{n_10}\\n\")\n"
   ]
  },
  {
   "cell_type": "code",
   "execution_count": 50,
   "id": "1efa6e17",
   "metadata": {},
   "outputs": [
    {
     "name": "stdout",
     "output_type": "stream",
     "text": [
      "\n",
      "[[0. 0. 0.]\n",
      " [0. 0. 0.]\n",
      " [0. 0. 0.]]\n",
      "\n",
      "\n",
      "[[1. 1. 1. 1. 1.]\n",
      " [1. 1. 1. 1. 1.]\n",
      " [1. 1. 1. 1. 1.]\n",
      " [1. 1. 1. 1. 1.]\n",
      " [1. 1. 1. 1. 1.]]\n",
      "\n",
      "\n",
      "[10 11 12 13 14 15 16 17 18 19]\n",
      "\n",
      "matriz identidad \n",
      "[[1. 0. 0. 0.]\n",
      " [0. 1. 0. 0.]\n",
      " [0. 0. 1. 0.]\n",
      " [0. 0. 0. 1.]]\n",
      "\n"
     ]
    }
   ],
   "source": [
    "#Parte 1: Creación y Manipulación de Arrays ✨\n",
    "#Array de Zeros: Crea un array de 3×3 lleno de ceros\n",
    "m3x3=np.zeros((3,3)) #usar doble parentesis\n",
    "print(f\"\\n{m3x3}\\n\")\n",
    "\n",
    "#Array de Unos: Crea un array de 5×5 lleno de unos\n",
    "m5x5=np.ones((5,5))\n",
    "print(f\"\\n{m5x5}\\n\")\n",
    "\n",
    "#Array con Rango: Crea un array que contenga los números del 10 al 20,\n",
    "#excluyendo el 20\n",
    "n_10_al_20=np.arange(10,20)\n",
    "print(f\"\\n{n_10_al_20}\\n\")\n",
    "\n",
    "#Matriz Identidad: Crea una matriz identidad de 4×4.\n",
    "matriz_iden=np.identity(4)\n",
    "print(f\"matriz identidad \\n{matriz_iden}\\n\")\n"
   ]
  },
  {
   "cell_type": "code",
   "execution_count": 56,
   "id": "6cfbebd7",
   "metadata": {},
   "outputs": [
    {
     "name": "stdout",
     "output_type": "stream",
     "text": [
      "matriz aleatoria \n",
      "[[94 41 52]\n",
      " [ 7 19 87]\n",
      " [55  8 18]]\n",
      "\n",
      "[ 0  1  2  3  4  5  6  7  8  9 10 11 12 13 14]\n",
      "matriz nueva 3x5\n",
      " [[ 0  1  2  3  4]\n",
      " [ 5  6  7  8  9]\n",
      " [10 11 12 13 14]]\n",
      "\n"
     ]
    }
   ],
   "source": [
    "#Array Aleatorio: Crea un array de 3×3 con números enteros aleatorios entre 1 y\n",
    "#100.\n",
    "ale3x3=np.random.randint(1,100, size=[3,3])\n",
    "print(f\"matriz aleatoria \\n{ale3x3}\\n\")\n",
    "\n",
    "#Redimensionar: Crea un array unidimensional con 15 elementos y\n",
    "#redimensiónalo a una matriz de 3×5\n",
    "m_original=np.arange(15)\n",
    "m_3x5=m_original.reshape(3,5)\n",
    "print(m_original)\n",
    "print(f\"matriz nueva 3x5\\n {m_3x5}\\n\")"
   ]
  },
  {
   "cell_type": "code",
   "execution_count": 73,
   "id": "9bbd95fe",
   "metadata": {},
   "outputs": [
    {
     "name": "stdout",
     "output_type": "stream",
     "text": [
      "[1 2 3 4 5 6]\n",
      "[1 2 3 4 5 6]\n"
     ]
    }
   ],
   "source": [
    "#Concatenar Arrays: Crea dos arrays, y concaténalos horizontalmente\n",
    "a=np.array([1,2,3])\n",
    "b=np.array([4,5,6])\n",
    "conta=np.concatenate([a,b])\n",
    "con=np.hstack([a,b])\n",
    "print(conta)\n",
    "print(con)"
   ]
  },
  {
   "cell_type": "code",
   "execution_count": null,
   "id": "4da4b4b4",
   "metadata": {},
   "outputs": [],
   "source": [
    "#Parte 2: Indexación y Operaciones 🎯"
   ]
  }
 ],
 "metadata": {
  "kernelspec": {
   "display_name": "Python 3",
   "language": "python",
   "name": "python3"
  },
  "language_info": {
   "codemirror_mode": {
    "name": "ipython",
    "version": 3
   },
   "file_extension": ".py",
   "mimetype": "text/x-python",
   "name": "python",
   "nbconvert_exporter": "python",
   "pygments_lexer": "ipython3",
   "version": "3.13.6"
  }
 },
 "nbformat": 4,
 "nbformat_minor": 5
}
