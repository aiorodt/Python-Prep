{
 "cells": [
  {
   "cell_type": "code",
   "execution_count": 1,
   "id": "959f0d43",
   "metadata": {},
   "outputs": [],
   "source": [
    "import numpy as np\n"
   ]
  },
  {
   "cell_type": "code",
   "execution_count": 2,
   "id": "bc8c4f80",
   "metadata": {},
   "outputs": [
    {
     "name": "stdout",
     "output_type": "stream",
     "text": [
      "matriz modificada \n",
      "[[19 99 83]\n",
      " [83 65 70]\n",
      " [71 84 22]]\n",
      "\n",
      "[[83 65 70]\n",
      " [71 84 22]]\n",
      "Elemento en la esquina inferior derecha 22\n"
     ]
    }
   ],
   "source": [
    "\n",
    "matriz_cero_3x3=np.random.randint(1,101,size=[3,3])\n",
    "print(f\"matriz modificada \\n{matriz_cero_3x3}\\n\")\n",
    "extraccion_ultima_fila=matriz_cero_3x3[1:,]\n",
    "print(extraccion_ultima_fila)\n",
    "print(f\"Elemento en la esquina inferior derecha {matriz_cero_3x3[2,2]}\")\n"
   ]
  },
  {
   "cell_type": "code",
   "execution_count": 3,
   "id": "78f475ac",
   "metadata": {},
   "outputs": [
    {
     "name": "stdout",
     "output_type": "stream",
     "text": [
      " vector original\n",
      "[0 1 2 3 4 5 6 7 8 9]\n",
      "\n",
      "multiplicacion de los elemento por 2:\n",
      "[ 0  2  4  6  8 10 12 14 16 18]\n",
      "\n",
      "suma 5 al resultado final\n",
      "[ 5  7  9 11 13 15 17 19 21 23]\n",
      "\n"
     ]
    }
   ],
   "source": [
    "#➕ Operaciones Vectorizadas en NumPy\n",
    "#Crea un array de 10 elementos que vaya de 0 a 9.\n",
    "n_10=np.arange(10)\n",
    "#Multiplica cada elemento del array por 2\n",
    "n_2x10=2*n_10\n",
    "#Suma 5 a cada elemento del array resultante\n",
    "n_suma5=5+n_2x10\n",
    "print(f\" vector original\\n{n_10}\\n\")\n",
    "print(f\"multiplicacion de los elemento por 2:\\n{n_2x10}\\n\")\n",
    "print(f\"suma 5 al resultado final\\n{n_suma5}\\n\")"
   ]
  },
  {
   "cell_type": "code",
   "execution_count": 4,
   "id": "cbd5dddb",
   "metadata": {},
   "outputs": [
    {
     "name": "stdout",
     "output_type": "stream",
     "text": [
      "numero mayores que 10 en el array \n",
      "[17 18 19 11 14]\n",
      "\n"
     ]
    }
   ],
   "source": [
    "#3. 🔎 Indexación Condicional con NumPy\n",
    "# Crea un array de 15 números enteros aleatorios entre 1 y 20\n",
    "n_ale_enteros=np.random.randint(1,20,size= 15)\n",
    "#Usa indexación booleana para encontrar y mostrar solo los números que sean\n",
    "#mayores que 10\n",
    "n_10=n_ale_enteros[n_ale_enteros>10]\n",
    "\n",
    "print(f\"numero mayores que 10 en el array \\n{n_10}\\n\")\n"
   ]
  },
  {
   "cell_type": "code",
   "execution_count": 5,
   "id": "1efa6e17",
   "metadata": {},
   "outputs": [
    {
     "name": "stdout",
     "output_type": "stream",
     "text": [
      "\n",
      "[[0. 0. 0.]\n",
      " [0. 0. 0.]\n",
      " [0. 0. 0.]]\n",
      "\n",
      "\n",
      "[[1. 1. 1. 1. 1.]\n",
      " [1. 1. 1. 1. 1.]\n",
      " [1. 1. 1. 1. 1.]\n",
      " [1. 1. 1. 1. 1.]\n",
      " [1. 1. 1. 1. 1.]]\n",
      "\n",
      "\n",
      "[10 11 12 13 14 15 16 17 18 19]\n",
      "\n",
      "matriz identidad \n",
      "[[1. 0. 0. 0.]\n",
      " [0. 1. 0. 0.]\n",
      " [0. 0. 1. 0.]\n",
      " [0. 0. 0. 1.]]\n",
      "\n"
     ]
    }
   ],
   "source": [
    "#Parte 1: Creación y Manipulación de Arrays ✨\n",
    "#Array de Zeros: Crea un array de 3×3 lleno de ceros\n",
    "m3x3=np.zeros((3,3)) #usar doble parentesis\n",
    "print(f\"\\n{m3x3}\\n\")\n",
    "\n",
    "#Array de Unos: Crea un array de 5×5 lleno de unos\n",
    "m5x5=np.ones((5,5))\n",
    "print(f\"\\n{m5x5}\\n\")\n",
    "\n",
    "#Array con Rango: Crea un array que contenga los números del 10 al 20,\n",
    "#excluyendo el 20\n",
    "n_10_al_20=np.arange(10,20)\n",
    "print(f\"\\n{n_10_al_20}\\n\")\n",
    "\n",
    "#Matriz Identidad: Crea una matriz identidad de 4×4.\n",
    "matriz_iden=np.identity(4)\n",
    "print(f\"matriz identidad \\n{matriz_iden}\\n\")\n"
   ]
  },
  {
   "cell_type": "code",
   "execution_count": 6,
   "id": "6cfbebd7",
   "metadata": {},
   "outputs": [
    {
     "name": "stdout",
     "output_type": "stream",
     "text": [
      "matriz aleatoria \n",
      "[[33 29 64]\n",
      " [58 68 42]\n",
      " [92 10 30]]\n",
      "\n",
      "[ 0  1  2  3  4  5  6  7  8  9 10 11 12 13 14]\n",
      "matriz nueva 3x5\n",
      " [[ 0  1  2  3  4]\n",
      " [ 5  6  7  8  9]\n",
      " [10 11 12 13 14]]\n",
      "\n"
     ]
    }
   ],
   "source": [
    "#Array Aleatorio: Crea un array de 3×3 con números enteros aleatorios entre 1 y\n",
    "#100.\n",
    "ale3x3=np.random.randint(1,100, size=[3,3])\n",
    "print(f\"matriz aleatoria \\n{ale3x3}\\n\")\n",
    "\n",
    "#Redimensionar: Crea un array unidimensional con 15 elementos y\n",
    "#redimensiónalo a una matriz de 3×5\n",
    "m_original=np.arange(15)\n",
    "m_3x5=m_original.reshape(3,5)\n",
    "print(m_original)\n",
    "print(f\"matriz nueva 3x5\\n {m_3x5}\\n\")"
   ]
  },
  {
   "cell_type": "code",
   "execution_count": 7,
   "id": "9bbd95fe",
   "metadata": {},
   "outputs": [
    {
     "name": "stdout",
     "output_type": "stream",
     "text": [
      "[1 2 3 4 5 6]\n",
      "[1 2 3 4 5 6]\n"
     ]
    }
   ],
   "source": [
    "#Concatenar Arrays: Crea dos arrays, y concaténalos horizontalmente\n",
    "a=np.array([1,2,3])\n",
    "b=np.array([4,5,6])\n",
    "conta=np.concatenate([a,b])\n",
    "con=np.hstack([a,b])\n",
    "print(conta)\n",
    "print(con)"
   ]
  },
  {
   "cell_type": "code",
   "execution_count": 28,
   "id": "4da4b4b4",
   "metadata": {},
   "outputs": [
    {
     "name": "stdout",
     "output_type": "stream",
     "text": [
      "matriz inicial\n",
      "[[ 1  2  3  4  5]\n",
      " [ 6  7  8  9 10]\n",
      " [11 12 13 14 15]\n",
      " [16 17 18 19 20]\n",
      " [21 22 23 24 25]]\n",
      "\n",
      "selecionala la tecera fila \n",
      "[11 12 13 14 15]\n",
      "\n",
      "selecionala la cuarta columna \n",
      "[ 4  9 14 19 24]\n",
      "\n"
     ]
    }
   ],
   "source": [
    "#Parte 2: Indexación y Operaciones 🎯\n",
    "#8. Selección de Fila y Columna:\"\n",
    "#Dada la matriz matriz = np.arange(1,26).reshape(5, 5), selecciona la tercera fila completa y la cuarta columna\n",
    "matriz_matriz=np.arange(1,26).reshape(5,5)\n",
    "print(f\"matriz inicial\\n{matriz_matriz}\\n\")\n",
    "print(f\"selecionala la tecera fila \\n{matriz_matriz[2]}\\n\")\n",
    "print(f\"selecionala la cuarta columna \\n{matriz_matriz[:,3]}\\n\")\n"
   ]
  },
  {
   "cell_type": "code",
   "execution_count": 36,
   "id": "e5158c34",
   "metadata": {},
   "outputs": [
    {
     "name": "stdout",
     "output_type": "stream",
     "text": [
      "matriz inicial\n",
      "[[ 1  2  3  4  5]\n",
      " [ 6  7  8  9 10]\n",
      " [11 12 13 14 15]\n",
      " [16 17 18 19 20]\n",
      " [21 22 23 24 25]]\n",
      "\n",
      "de \n",
      "[[ 7  8  9]\n",
      " [12 13 14]\n",
      " [17 18 19]]\n",
      "\n"
     ]
    }
   ],
   "source": [
    "#9 Selección con Slicing\n",
    "#De la misma matriz, selecciona el subconjunto de datos\n",
    "#que va de la segunda a la cuarta fila y de la segunda a la cuarta columna\n",
    "matriz_matriz=np.arange(1,26).reshape(5,5)\n",
    "sub_matriz=matriz_matriz[1:4,1:4]\n",
    "print(f\"matriz inicial\\n{matriz_matriz}\\n\")\n",
    "print(f\"de \\n{sub_matriz}\\n\")\n"
   ]
  },
  {
   "cell_type": "code",
   "execution_count": 37,
   "id": "d0ba06ae",
   "metadata": {},
   "outputs": [
    {
     "name": "stdout",
     "output_type": "stream",
     "text": [
      "matrizz mayot que 15\n",
      "[16 17 18 19 20 21 22 23 24 25]\n",
      "\n"
     ]
    }
   ],
   "source": [
    "#10. Indexación Booleana: De la matriz, selecciona todos los elementos que sean\n",
    "#mayores que 15\n",
    "mayor_que15=matriz_matriz[matriz_matriz>15]\n",
    "print(f\"matrizz mayot que 15\\n{mayor_que15}\\n\")"
   ]
  },
  {
   "cell_type": "code",
   "execution_count": null,
   "id": "3201769a",
   "metadata": {},
   "outputs": [
    {
     "name": "stdout",
     "output_type": "stream",
     "text": [
      "suma de la fila de la matriz 15\n",
      "suma de la fila de la matriz 40\n",
      "suma de la fila de la matriz 65\n",
      "suma de la fila de la matriz 90\n",
      "suma de la fila de la matriz 115\n",
      "suma de la fila de la matriz\n",
      " [ 15  40  65  90 115] \n",
      "\n"
     ]
    }
   ],
   "source": [
    "#Suma de Filas: Calcula la suma de cada fila de la matriz.\n",
    "print(f\"suma de la fila de la matriz {sum(matriz_matriz[0])}\")\n",
    "print(f\"suma de la fila de la matriz {sum(matriz_matriz[1])}\")\n",
    "print(f\"suma de la fila de la matriz {sum(matriz_matriz[2])}\")\n",
    "print(f\"suma de la fila de la matriz {sum(matriz_matriz[3])}\")\n",
    "print(f\"suma de la fila de la matriz {sum(matriz_matriz[4])}\")\n",
    "\n",
    "print(f\"suma de la fila de la matriz\\n {matriz_matriz.sum(axis=1)} \\n\") #suma fila axis =1"
   ]
  },
  {
   "cell_type": "code",
   "execution_count": null,
   "id": "2a4c95d4",
   "metadata": {},
   "outputs": [
    {
     "name": "stdout",
     "output_type": "stream",
     "text": [
      "suma columna \n",
      "[55 60 65 70 75]\n"
     ]
    }
   ],
   "source": [
    "#12. Suma de Columnas: Calcula la suma de cada columna de la matriz.\n",
    "print(f\"suma columna \\n{matriz_matriz.sum(axis=0)}\") #suma columna"
   ]
  },
  {
   "cell_type": "code",
   "execution_count": 55,
   "id": "86d41c24",
   "metadata": {},
   "outputs": [
    {
     "name": "stdout",
     "output_type": "stream",
     "text": [
      "multiplicacion de la matriz [    120   30240  360360 1860480 6375600]\n"
     ]
    }
   ],
   "source": [
    "#Producto de Elementos: Calcula el producto de todos los elementos de la\n",
    "#matriz.\n",
    "producto_toda_la_matriz=matriz_matriz.prod(axis=1)\n",
    "print(f\"multiplicacion de la matriz {producto_toda_la_matriz}\")"
   ]
  },
  {
   "cell_type": "code",
   "execution_count": 66,
   "id": "af8ce1a6",
   "metadata": {},
   "outputs": [
    {
     "name": "stdout",
     "output_type": "stream",
     "text": [
      "-+--+--+--+--+--+--+--+--+--+--+--+--+--+--+--+--+--+--+--+-\n",
      "[[ True False  True False  True]\n",
      " [False  True False  True False]\n",
      " [ True False  True False  True]\n",
      " [False  True False  True False]\n",
      " [ True False  True False  True]]\n",
      "matriz con numero -1\n",
      "[[-1  2 -1  4 -1]\n",
      " [ 6 -1  8 -1 10]\n",
      " [-1 12 -1 14 -1]\n",
      " [16 -1 18 -1 20]\n",
      " [-1 22 -1 24 -1]]\n",
      "\n"
     ]
    }
   ],
   "source": [
    "#14  Sustitución de Valores: Reemplaza todos los números impares de la matriz por\n",
    "#el valor -\n",
    "print(\"-+-\" * 20)\n",
    "# --- Paso 1: Crear la máscara booleana ---\n",
    "# La condición \"es impar\" se puede expresar como \"el resto de la división por 2 es diferente de cero\".\n",
    "# Esto crea una nueva matriz del mismo tamaño, con 'True' donde el número es impar.\n",
    "numero_impares=matriz_matriz % 2 !=0\n",
    "print(numero_impares)\n",
    "\n",
    "#Paso 2: Usar la máscara para sustituir valores ---\n",
    "# Ahora usamos la máscara para seleccionar todos los elementos donde el valor es 'True'\n",
    "# y les asignamos el nuevo valor, que en este caso es -1.\n",
    "matriz_matriz[numero_impares]=-1\n",
    "print(f\"matriz con numero -1\\n{matriz_matriz}\\n\")"
   ]
  },
  {
   "cell_type": "code",
   "execution_count": 70,
   "id": "c6d3b8f4",
   "metadata": {},
   "outputs": [
    {
     "name": "stdout",
     "output_type": "stream",
     "text": [
      "maximo valor 24\n",
      "maximo valor -1\n"
     ]
    }
   ],
   "source": [
    "#Parte 3: Funciones Estadísticas y Avanzadas 📈\n",
    "#15. Valor Máximo y Mínimo: Encuentra el valor máximo y mínimo de la matriz\n",
    "print(f\"maximo valor {matriz_matriz.max()}\")\n",
    "print(f\"maximo valor {matriz_matriz.min()}\")"
   ]
  },
  {
   "cell_type": "code",
   "execution_count": 72,
   "id": "bf2c5f72",
   "metadata": {},
   "outputs": [
    {
     "name": "stdout",
     "output_type": "stream",
     "text": [
      " la media es 5.72\n",
      "desviacion standar 8.473582477323273\n"
     ]
    }
   ],
   "source": [
    "#16. Media y Desviación Estándar: Calcula la media y la desviación estándar de la\n",
    "#matriz\n",
    "print(f\" la media es {matriz_matriz.mean()}\")\n",
    "print(f\"desviacion standar {matriz_matriz.std()}\")"
   ]
  },
  {
   "cell_type": "code",
   "execution_count": 73,
   "id": "d657d6f4",
   "metadata": {},
   "outputs": [
    {
     "name": "stdout",
     "output_type": "stream",
     "text": [
      "elemento unicoss \n",
      "[-1  2  4  6  8 10 12 14 16 18 20 22 24]\n"
     ]
    }
   ],
   "source": [
    "#Array Único: Dado el array arr = np.array([1, 2, 1, 3, 4, 3, 5]), encuentra los\n",
    "#elementos únicos. con unique(\n",
    "unicos=np.unique(matriz_matriz)\n",
    "print(f\"elemento unicoss \\n{unicos}\")\n"
   ]
  },
  {
   "cell_type": "code",
   "execution_count": null,
   "id": "aee51fc8",
   "metadata": {},
   "outputs": [
    {
     "name": "stdout",
     "output_type": "stream",
     "text": [
      "orden de numero[1 4 4 4 5 6 6 7 7 9]\n"
     ]
    }
   ],
   "source": [
    "#18. Ordenar Array: Crea un array de 10 números aleatorios y ordénalo de menor a\n",
    "#mayor\n",
    "bien =np.random.randint(1,10,size=10)\n",
    "orden=np.sort(bien)\n",
    "print(f\"orden de numero{orden}\")\n",
    "# Puedes invertir el array ordenado usando la sintaxis [::-1]."
   ]
  },
  {
   "cell_type": "code",
   "execution_count": 91,
   "id": "4082e3ef",
   "metadata": {},
   "outputs": [
    {
     "name": "stdout",
     "output_type": "stream",
     "text": [
      "matriz original\n",
      "[[5 1 7 4]\n",
      " [1 6 7 5]\n",
      " [5 2 1 1]]\n",
      "\n",
      "matriz transpuesta\n",
      " [[5 1 5]\n",
      " [1 6 2]\n",
      " [7 7 1]\n",
      " [4 5 1]]\n",
      "\n"
     ]
    }
   ],
   "source": [
    "#19. Transponer Matriz: Transpón la matriz\n",
    "matrizU=np.random.randint(1,10,size=[3,4])\n",
    "print(f\"matriz original\\n{matrizU}\\n\")\n",
    "tran=matrizU.T\n",
    "print(f\"matriz transpuesta\\n {tran}\\n\")"
   ]
  },
  {
   "cell_type": "code",
   "execution_count": 96,
   "id": "de3e3a99",
   "metadata": {},
   "outputs": [
    {
     "name": "stdout",
     "output_type": "stream",
     "text": [
      "[ 5 32  1 27 19 26  9 43 46 32]\n",
      " La normalizacion de la desviacion estandar -0.65\n",
      " La normalizacion de la desviacion estandar 0.00\n"
     ]
    }
   ],
   "source": [
    "#20. Normalización (Z-Score): Crea un array de 10 números aleatorios y normaliza\n",
    "#sus valores usando la fórmula Z=(X−μ)/σ\n",
    "n10=np.random.randint(1,50,size=10)\n",
    "print(n10)\n",
    "\n",
    "# 2. Calcula la media (μ) y la desviación estándar (σ) del array.\n",
    "# np.mean() calcula el promedio de todos los elementos.\n",
    "\n",
    "media=np.mean(n10)\n",
    "desviacion_estandar=np.std(n10)\n",
    "#normalizacion de la desviacion standar \n",
    "Z_estandar=(desviacion_estandar-media)/desviacion_estandar\n",
    "print(f\" La normalizacion de la desviacion estandar {Z_estandar:.2f}\")\n",
    "Z_media=(media-media)/desviacion_estandar\n",
    "print(f\" La normalizacion de la desviacion estandar {Z_media:.2f}\")\n",
    "\n"
   ]
  }
 ],
 "metadata": {
  "kernelspec": {
   "display_name": "Python 3",
   "language": "python",
   "name": "python3"
  },
  "language_info": {
   "codemirror_mode": {
    "name": "ipython",
    "version": 3
   },
   "file_extension": ".py",
   "mimetype": "text/x-python",
   "name": "python",
   "nbconvert_exporter": "python",
   "pygments_lexer": "ipython3",
   "version": "3.13.6"
  }
 },
 "nbformat": 4,
 "nbformat_minor": 5
}
