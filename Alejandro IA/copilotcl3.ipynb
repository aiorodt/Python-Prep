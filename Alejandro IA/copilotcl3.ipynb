{
 "cells": [
  {
   "cell_type": "code",
   "execution_count": 41,
   "id": "a2ffaa35",
   "metadata": {},
   "outputs": [
    {
     "name": "stdout",
     "output_type": "stream",
     "text": [
      "         dia  cliente    metodo_pago  precio_unit  vendidas\n",
      "0      lunes    Local       Efectibo          2.0        25\n",
      "1     martes  turista       efectivo          2.0        30\n",
      "2  miercoles    Local  Transferencia          2.0        40\n",
      "3    juesves  TuRISTa       efectivo          NaN        35\n",
      "4    viernes  TuRista       efectivo          2.0        28\n",
      "5     Sabado    LOCAL       Efectivo          2.0        80\n",
      "6     martes  TuRISTo        EFECTIV          2.0        30\n",
      "\n",
      "------------------------------------------\n",
      "dia             object\n",
      "cliente         object\n",
      "metodo_pago     object\n",
      "precio_unit    float64\n",
      "vendidas         int64\n",
      "total_venta    float64\n",
      "dtype: object\n",
      "       dia  cliente metodo_pago  precio_unit  vendidas  total_venta\n",
      "1  domingo  turista    efectivo          2.0        30         60.0\n",
      "6  domingo  turisto    efectivo          2.0        30         60.0\n",
      "         dia  cliente    metodo_pago  precio_unit  vendidas  total_venta\n",
      "0      lunes    local       efectivo          2.0        25         50.0\n",
      "1     martes  turista       efectivo          2.0        30         60.0\n",
      "2  miercoles    local  transferencia          2.0        40         80.0\n",
      "3    juesves  turista       efectivo          2.0        35         70.0\n",
      "4    viernes  turista       efectivo          2.0        28         56.0\n",
      "5     sabado    local       efectivo          2.0        80        160.0\n",
      "6    domingo  turisto       efectivo          2.0        30         60.0\n"
     ]
    }
   ],
   "source": [
    "import pandas as pd\n",
    "datos={\n",
    "    \"dia\":[\"lunes\",\"martes\",\"miercoles\",\"juesves\",\"viernes\",\"Sabado\",\"martes\"],\n",
    "    \"cliente\":[\"Local\",\"turista\",\"Local\",\"TuRISTa\",\"TuRista\",\"LOCAL\",\"TuRISTo\"],\n",
    "    \"metodo_pago\":[\"Efectibo\",\"efectivo\",\"Transferencia\",\"efectivo\",\"efectivo\",\"Efectivo\",\"EFECTIV\"],\n",
    "    \"precio_unit\":[2.0,2.0,2.0,None,2.0,2.0,2.0],\n",
    "    \"vendidas\":[25,30,40,35,28,80,30]\n",
    "}\n",
    "df=pd.DataFrame(datos)\n",
    "print(df)\n",
    "print(f\"\\n------------------------------------------\")\n",
    "# 1.Limpiesa de Texto\n",
    "df[\"cliente\"] = df[\"cliente\"].str.strip().str.lower()\n",
    "\n",
    "\n",
    "df[\"metodo_pago\"] = df[\"metodo_pago\"].str.strip().str.lower()\n",
    "df[\"dia\"] = df[\"dia\"].str.strip().str.lower()\n",
    "\n",
    "\n",
    "#------------------------\n",
    "#Rellenar Valores nulos \n",
    "df[\"precio_unit\"]=df[\"precio_unit\"].fillna(2.0)\n",
    "\n",
    "#Calcular columna nueva\n",
    "df[\"total_venta\"]=df[\"precio_unit\"]*df[\"vendidas\"]\n",
    "\n",
    "#elimina duplicados \n",
    "df=df.drop_duplicates()\n",
    "\n",
    "\n",
    "df[\"metodo_pago\"]=df[\"metodo_pago\"].replace({\n",
    "    \"efectibo\":\"efectivo\",\n",
    "    \"efectiv\":\"efectivo\"\n",
    "})\n",
    "\n",
    "print(df.dtypes)  #tipos de datos\n",
    "### detector de duplicados\n",
    "#duplicados=df.drop_duplicates()\n",
    "\n",
    "\n",
    "#corregir un valor experifico lo reemplaza\n",
    "df[\"dia\"]=df[\"dia\"].replace(\"martes\",\"domingo\")\n",
    "\n",
    "###¿No sabes en qué fila está?\n",
    "print(df[df[\"dia\"]==\"domingo\"])\n",
    "\n",
    "#Cambiar por posición (con .loc[])\n",
    "df.loc[1,\"dia\"]=\"martes\"\n",
    "\n",
    "print(df)"
   ]
  }
 ],
 "metadata": {
  "kernelspec": {
   "display_name": "Python 3",
   "language": "python",
   "name": "python3"
  },
  "language_info": {
   "codemirror_mode": {
    "name": "ipython",
    "version": 3
   },
   "file_extension": ".py",
   "mimetype": "text/x-python",
   "name": "python",
   "nbconvert_exporter": "python",
   "pygments_lexer": "ipython3",
   "version": "3.13.5"
  }
 },
 "nbformat": 4,
 "nbformat_minor": 5
}
