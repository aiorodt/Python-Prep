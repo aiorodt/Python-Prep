{
 "cells": [
  {
   "cell_type": "code",
   "execution_count": 1,
   "id": "21ec6a13",
   "metadata": {},
   "outputs": [
    {
     "name": "stdout",
     "output_type": "stream",
     "text": [
      "Hola Alejandro, estás comenzando tu viaje en ciencia de datos\n"
     ]
    }
   ],
   "source": [
    "print(\"Hola Alejandro, estás comenzando tu viaje en ciencia de datos\")"
   ]
  },
  {
   "cell_type": "code",
   "execution_count": 3,
   "id": "030d86d5",
   "metadata": {},
   "outputs": [
    {
     "name": "stdout",
     "output_type": "stream",
     "text": [
      "              Ruta  boletos vendidos    mes\n",
      "0   Caracas-Madrid               120  Julio\n",
      "1     Caracas-Lima                80  Julio\n",
      "2  Caracas - miami               150  Julio\n",
      "              Ruta  boletos vendidos    mes\n",
      "0   Caracas-Madrid               120  Julio\n",
      "1     Caracas-Lima                80  Julio\n",
      "2  Caracas - Miami               150  Julio\n"
     ]
    }
   ],
   "source": [
    "import pandas as pd\n",
    "\n",
    "#crear un dataset sencillo de rutas aereas\n",
    "datos ={\n",
    "    \"Ruta\":[\"Caracas-Madrid\",\"Caracas-Lima\",\"Caracas - miami\"],\"boletos vendidos\":[ 120,80,150],\"mes\":[\"Julio\",\"Julio\",\"Julio\"]\n",
    "    }\n",
    "df=pd.DataFrame(datos)\n",
    "print(df)\n",
    "df[\"Ruta\"] = df[\"Ruta\"].str.title()  # Pone en mayúscula inicial cada palabra\n",
    "print(df)\n"
   ]
  },
  {
   "cell_type": "code",
   "execution_count": 8,
   "id": "1d4c7ca8",
   "metadata": {},
   "outputs": [
    {
     "name": "stdout",
     "output_type": "stream",
     "text": [
      "         Dia  Cachapas_Vendidas Clientes Metodo de pago\n",
      "0      lunes                 25  Turista       Efectivo\n",
      "1     martes                 30    Local  Transferencia\n",
      "2  miercoles                 40    Local       Efectivo\n",
      "3     jueves                 35  Turista       Efectivo\n",
      "4    viernes                 28    Local  Transferencia\n",
      "-------------------------------------------------------------\n",
      "Clientes\n",
      "Local      98\n",
      "Turista    60\n",
      "Name: Cachapas_Vendidas, dtype: int64\n",
      "--------------------------------------------------------------\n",
      "Metodo de pago\n",
      "Efectivo         100\n",
      "Transferencia     58\n",
      "Name: Cachapas_Vendidas, dtype: int64\n",
      "--------------------------------------------------------------\n",
      "Dia\n",
      "jueves       35\n",
      "lunes        25\n",
      "martes       30\n",
      "miercoles    40\n",
      "viernes      28\n",
      "Name: Cachapas_Vendidas, dtype: int64\n"
     ]
    }
   ],
   "source": [
    "import pandas as pd\n",
    "ventas={\"Dia\":[\"lunes\",\"martes\",\"miercoles\",\"jueves\",\"viernes\"],\n",
    "        \"Cachapas_Vendidas\":[25,30,40,35,28],\"Clientes\":[\"Turista\",\"Local\",\"Local\",\"Turista\",\"Local\"],\n",
    "\"Metodo de pago\":[\"Efectivo\",\"Transferencia\",\"Efectivo\",\"Efectivo\",\"Transferencia\"]}\n",
    "df=pd.DataFrame(ventas)\n",
    "print(df)\n",
    "\n",
    "print(\"-------------------------------------------------------------\")\n",
    "\n",
    "ventas_por_clientes=df.groupby(\"Clientes\")[\"Cachapas_Vendidas\"].sum()\n",
    "print(ventas_por_clientes)\n",
    "\n",
    "print(\"--------------------------------------------------------------\")\n",
    "\n",
    "ventas_metodo_pagos=df.groupby(\"Metodo de pago\")[\"Cachapas_Vendidas\"].sum()\n",
    "print(ventas_metodo_pagos)\n",
    "\n",
    "print(\"--------------------------------------------------------------\")\n",
    "ventas_por_dias=df.groupby(\"Dia\")[\"Cachapas_Vendidas\"].sum()\n",
    "print(ventas_por_dias)"
   ]
  },
  {
   "cell_type": "code",
   "execution_count": null,
   "id": "a85e4a03",
   "metadata": {},
   "outputs": [],
   "source": []
  }
 ],
 "metadata": {
  "kernelspec": {
   "display_name": "Python 3",
   "language": "python",
   "name": "python3"
  },
  "language_info": {
   "codemirror_mode": {
    "name": "ipython",
    "version": 3
   },
   "file_extension": ".py",
   "mimetype": "text/x-python",
   "name": "python",
   "nbconvert_exporter": "python",
   "pygments_lexer": "ipython3",
   "version": "3.13.5"
  }
 },
 "nbformat": 4,
 "nbformat_minor": 5
}
