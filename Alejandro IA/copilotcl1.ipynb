{
 "cells": [
  {
   "cell_type": "code",
   "execution_count": 1,
   "id": "21ec6a13",
   "metadata": {},
   "outputs": [
    {
     "name": "stdout",
     "output_type": "stream",
     "text": [
      "Hola Alejandro, estás comenzando tu viaje en ciencia de datos\n"
     ]
    }
   ],
   "source": [
    "print(\"Hola Alejandro, estás comenzando tu viaje en ciencia de datos\")"
   ]
  },
  {
   "cell_type": "code",
   "execution_count": 3,
   "id": "030d86d5",
   "metadata": {},
   "outputs": [
    {
     "name": "stdout",
     "output_type": "stream",
     "text": [
      "              Ruta  boletos vendidos    mes\n",
      "0   Caracas-Madrid               120  Julio\n",
      "1     Caracas-Lima                80  Julio\n",
      "2  Caracas - miami               150  Julio\n",
      "              Ruta  boletos vendidos    mes\n",
      "0   Caracas-Madrid               120  Julio\n",
      "1     Caracas-Lima                80  Julio\n",
      "2  Caracas - Miami               150  Julio\n"
     ]
    }
   ],
   "source": [
    "import pandas as pd\n",
    "\n",
    "#crear un dataset sencillo de rutas aereas\n",
    "datos ={\n",
    "    \"Ruta\":[\"Caracas-Madrid\",\"Caracas-Lima\",\"Caracas - miami\"],\"boletos vendidos\":[ 120,80,150],\"mes\":[\"Julio\",\"Julio\",\"Julio\"]\n",
    "    }\n",
    "df=pd.DataFrame(datos)\n",
    "print(df)\n",
    "df[\"Ruta\"] = df[\"Ruta\"].str.title()  # Pone en mayúscula inicial cada palabra\n",
    "print(df)\n"
   ]
  },
  {
   "cell_type": "code",
   "execution_count": 9,
   "id": "1d4c7ca8",
   "metadata": {},
   "outputs": [
    {
     "name": "stdout",
     "output_type": "stream",
     "text": [
      "         Dia  Cachapas_Vendidas Clientes Metodo de pago\n",
      "0      lunes                 25  Turista       Efectivo\n",
      "1     martes                 30    Local  Transferencia\n",
      "2  miercoles                 40    Local       Efectivo\n",
      "3     jueves                 35  Turista       Efectivo\n",
      "4    viernes                 28    Local  Transferencia\n",
      "-------------------------------------------------------------\n",
      "Clientes\n",
      "Local      98\n",
      "Turista    60\n",
      "Name: Cachapas_Vendidas, dtype: int64\n",
      "--------------------------------------------------------------\n",
      "Metodo de pago\n",
      "Efectivo         100\n",
      "Transferencia     58\n",
      "Name: Cachapas_Vendidas, dtype: int64\n",
      "--------------------------------------------------------------\n",
      "Dia\n",
      "jueves       35\n",
      "lunes        25\n",
      "martes       30\n",
      "miercoles    40\n",
      "viernes      28\n",
      "Name: Cachapas_Vendidas, dtype: int64\n",
      "++++++++++++++++++++++++++++++++++++++++++++++++++++++++++++++++\n",
      "++++++++++++++++++++++++++++++++++++++++++++++++++++++++++++++++\n"
     ]
    },
    {
     "data": {
      "image/png": "[encoded data removed]",
      "text/plain": [
       "<Figure size 640x480 with 1 Axes>"
      ]
     },
     "metadata": {},
     "output_type": "display_data"
    }
   ],
   "source": [
    "import pandas as pd\n",
    "ventas={\"Dia\":[\"lunes\",\"martes\",\"miercoles\",\"jueves\",\"viernes\"],\n",
    "        \"Cachapas_Vendidas\":[25,30,40,35,28],\"Clientes\":[\"Turista\",\"Local\",\"Local\",\"Turista\",\"Local\"],\n",
    "\"Metodo de pago\":[\"Efectivo\",\"Transferencia\",\"Efectivo\",\"Efectivo\",\"Transferencia\"]}\n",
    "df=pd.DataFrame(ventas)\n",
    "print(df)\n",
    "\n",
    "print(\"-------------------------------------------------------------\")\n",
    "\n",
    "ventas_por_clientes=df.groupby(\"Clientes\")[\"Cachapas_Vendidas\"].sum()\n",
    "print(ventas_por_clientes)\n",
    "\n",
    "print(\"--------------------------------------------------------------\")\n",
    "\n",
    "ventas_metodo_pagos=df.groupby(\"Metodo de pago\")[\"Cachapas_Vendidas\"].sum()\n",
    "print(ventas_metodo_pagos)\n",
    "\n",
    "print(\"--------------------------------------------------------------\")\n",
    "ventas_por_dias=df.groupby(\"Dia\")[\"Cachapas_Vendidas\"].sum()\n",
    "print(ventas_por_dias)\n",
    "\n",
    "print(\"++++++++++++++++++++++++++++++++++++++++++++++++++++++++++++++++\")\n",
    "print(\"++++++++++++++++++++++++++++++++++++++++++++++++++++++++++++++++\")\n",
    "import matplotlib.pyplot as plt\n",
    "ventas_por_clientes.plot(kind=\"bar\", color=\"orange\")\n",
    "plt.title(\"Cachapas Vendidas por Tipos de Clientes\")\n",
    "plt.ylabel(\"Cantidad de Cachapas\")\n",
    "plt.xlabel(\"Clientes\")\n",
    "plt.show()"
   ]
  },
  {
   "cell_type": "code",
   "execution_count": 17,
   "id": "5f0160a0",
   "metadata": {},
   "outputs": [
    {
     "name": "stdout",
     "output_type": "stream",
     "text": [
      "PROMEDIO DIARIO DE VENTAS: 31.6\n",
      "--------------------------------------------------------------\n"
     ]
    },
    {
     "data": {
      "image/png": "[encoded data removed]",
      "text/plain": [
       "<Figure size 600x600 with 1 Axes>"
      ]
     },
     "metadata": {},
     "output_type": "display_data"
    },
    {
     "name": "stdout",
     "output_type": "stream",
     "text": [
      "Promedio diario de ventas: 31.60 cachapas\n",
      "Mayor venta del dia 40\n",
      "Menor venta del dia 25\n"
     ]
    }
   ],
   "source": [
    "promedio_de_ventas=df[\"Cachapas_Vendidas\"].mean()\n",
    "print(\"PROMEDIO DIARIO DE VENTAS:\", promedio_de_ventas)\n",
    "\n",
    "print(\"--------------------------------------------------------------\")\n",
    "ventas_metodo_pagos.plot(kind=\"pie\", autopct=\"%1.1f%%\" ,figsize=(6,6))\n",
    "plt.title(\"Disribucion por metodo de pago\")\n",
    "plt.ylabel(\"\") #opcional quitar el eje y\n",
    "plt.show()\n",
    "\n",
    "promedio = df[\"Cachapas_Vendidas\"].mean()\n",
    "print(f\"Promedio diario de ventas: {promedio:.2f} cachapas\")\n",
    "\n",
    "maximo=df[\"Cachapas_Vendidas\"].max()\n",
    "minimo=df[\"Cachapas_Vendidas\"].min()\n",
    "print(f\"Mayor venta del dia {maximo}\")\n",
    "print(f\"Menor venta del dia {minimo}\")"
   ]
  },
  {
   "cell_type": "code",
   "execution_count": 60,
   "id": "a00a1c88",
   "metadata": {},
   "outputs": [
    {
     "name": "stdout",
     "output_type": "stream",
     "text": [
      "------------------------------------------------------------------\n",
      "------------------------CACHAPAS GIPSAY---------------------------\n",
      "        dias  Cachapas vendidas Clientes Metodo de pago  Precio unitario  \\\n",
      "0      Lunes                 40  Turista       Efectivo                2   \n",
      "1     Martes                 25    Local       Efectivo                2   \n",
      "2  Miercoles                 30  Turista       Efectivo                2   \n",
      "3     Jueves                 47    Local  Transferencia                2   \n",
      "4    Viernes                 42    Local       Efectivo                2   \n",
      "5     Sabado                 80    Local       Efectivo                2   \n",
      "\n",
      "   Total ventas  \n",
      "0            80  \n",
      "1            50  \n",
      "2            60  \n",
      "3            94  \n",
      "4            84  \n",
      "5           160  \n",
      "************************************************************************\n",
      "Clientes\n",
      "Local      388\n",
      "Turista    140\n",
      "Name: Total ventas, dtype: int64\n",
      "Metodo de pago\n",
      "Efectivo         434\n",
      "Transferencia     94\n",
      "Name: Total ventas, dtype: int64\n",
      "******************************************************************************\n"
     ]
    }
   ],
   "source": [
    "import pandas as pd\n",
    "\n",
    "print(\"------------------------------------------------------------------\")\n",
    "print(\"------------------------CACHAPAS GIPSAY---------------------------\")\n",
    "ventas= {\"dias\":[\"Lunes\",\"Martes\",\"Miercoles\",\"Jueves\",\"Viernes\",\"Sabado\"],\"Cachapas vendidas\":[40,25,30,47,42,80],\"Clientes\":[\"Turista\",\"Local\",\"Turista\",\"Local\",\"Local\",\"Local\"],\"Metodo de pago\":[\"Efectivo\",\"Efectivo\",\"Efectivo\",\"Transferencia\",\"Efectivo\",\"Efectivo\"],\"Precio unitario\":[2,2,2,2,2,2],\"Total ventas\":[80,50,60,94,84,160]}\n",
    "df=pd.DataFrame(ventas)\n",
    "print(df)\n",
    "\n",
    "print(\"************************************************************************\")\n",
    "\n",
    "ventas_clientes=df.groupby(\"Clientes\")[\"Total ventas\"].sum()\n",
    "print(ventas_clientes)\n",
    "ventas_metodos=df.groupby(\"Metodo de pago\")[\"Total ventas\"].sum()\n",
    "print(ventas_metodos)\n",
    "\n",
    "print(\"******************************************************************************\")\n",
    "maximo=df[\"Total ventas\"].max()\n",
    "minimo=df[\"Total ventas\"].min()\n",
    "\n"
   ]
  },
  {
   "cell_type": "code",
   "execution_count": 66,
   "id": "40ddc372",
   "metadata": {},
   "outputs": [
    {
     "name": "stdout",
     "output_type": "stream",
     "text": [
      "160\n",
      "50\n",
      "Segun los datos obtenido en las tablas de datos podemos observar que el dia sabado se vendieron un total de 80 cachapas obteniendo un total de dolares  160 de ganancia\n",
      "¿Que tipo de cliente genero mas ingreso\n",
      "Respuesta: Como se observa en el grafico hubo una mayor cantidad de compras de cachapas en tipo de cliente local en comparacion con los cliente turista\n",
      "fue mucho mas rentable las ventas por efectivo que por tranferenca, ya que segun los datos obtenido se obtubo un monto de 434 dolares por ventas en efectico contra solamente 94 dolares por transferencia\n"
     ]
    },
    {
     "data": {
      "image/png": "[encoded data removed]",
      "text/plain": [
       "<Figure size 640x480 with 1 Axes>"
      ]
     },
     "metadata": {},
     "output_type": "display_data"
    }
   ],
   "source": [
    "print(maximo)\n",
    "print(minimo)\n",
    "print(\"Segun los datos obtenido en las tablas de datos podemos observar que el dia sabado se vendieron un total de 80 cachapas obteniendo un total de dolares  160 de ganancia\")\n",
    "ventas_clientes.plot(kind=\"bar\", color=\"yellow\")\n",
    "\n",
    "\n",
    "print(\"¿Que tipo de cliente genero mas ingreso\")\n",
    "print(\"Respuesta: Como se observa en el grafico hubo una mayor cantidad de compras de cachapas en tipo de cliente local en comparacion con los cliente turista\")\n",
    "print(\"fue mucho mas rentable las ventas por efectivo que por tranferenca, ya que segun los datos obtenido se obtubo un monto de 434 dolares por ventas en efectico contra solamente 94 dolares por transferencia\")"
   ]
  },
  {
   "cell_type": "code",
   "execution_count": 67,
   "id": "6187b506",
   "metadata": {},
   "outputs": [
    {
     "name": "stdout",
     "output_type": "stream",
     "text": [
      "------------------------------------------------------------------\n",
      "------------------------CACHAPAS GIPSAY---------------------------\n",
      "        dias  Cachapas vendidas Clientes Metodo de pago  Precio unitario  \\\n",
      "0      Lunes                 40  Turista       Efectivo                2   \n",
      "1     Martes                 25    Local       Efectivo                2   \n",
      "2  Miercoles                 30  Turista       Efectivo                2   \n",
      "3     Jueves                 47    Local  Transferencia                2   \n",
      "4    Viernes                 42    Local       Efectivo                2   \n",
      "5     Sabado                 80    Local       Efectivo                2   \n",
      "\n",
      "   Total ventas  \n",
      "0            80  \n",
      "1            50  \n",
      "2            60  \n",
      "3            94  \n",
      "4            84  \n",
      "5           160  \n",
      "************************************************************************\n",
      "Clientes\n",
      "Local      388\n",
      "Turista    140\n",
      "Name: Total ventas, dtype: int64\n",
      "Metodo de pago\n",
      "Efectivo         434\n",
      "Transferencia     94\n",
      "Name: Total ventas, dtype: int64\n",
      "******************************************************************************\n",
      "160\n",
      "50\n",
      "Segun los datos obtenido en las tablas de datos podemos observar que el dia sabado se vendieron un total de 80 cachapas obteniendo un total de dolares  160 de ganancia\n",
      "¿Que tipo de cliente genero mas ingreso\n",
      "Respuesta: Como se observa en el grafico hubo una mayor cantidad de compras de cachapas en tipo de cliente local en comparacion con los cliente turista\n",
      "fue mucho mas rentable las ventas por efectivo que por tranferenca, ya que segun los datos obtenido se obtubo un monto de 434 dolares por ventas en efectico contra solamente 94 dolares por transferencia\n"
     ]
    },
    {
     "data": {
      "image/png": "[encoded data removed]",
      "text/plain": [
       "<Figure size 640x480 with 1 Axes>"
      ]
     },
     "metadata": {},
     "output_type": "display_data"
    }
   ],
   "source": [
    "#Entrega de la tarea \n",
    "import pandas as pd\n",
    "\n",
    "print(\"------------------------------------------------------------------\")\n",
    "print(\"------------------------CACHAPAS GIPSAY---------------------------\")\n",
    "ventas= {\"dias\":[\"Lunes\",\"Martes\",\"Miercoles\",\"Jueves\",\"Viernes\",\"Sabado\"],\"Cachapas vendidas\":[40,25,30,47,42,80],\"Clientes\":[\"Turista\",\"Local\",\"Turista\",\"Local\",\"Local\",\"Local\"],\"Metodo de pago\":[\"Efectivo\",\"Efectivo\",\"Efectivo\",\"Transferencia\",\"Efectivo\",\"Efectivo\"],\"Precio unitario\":[2,2,2,2,2,2],\"Total ventas\":[80,50,60,94,84,160]}\n",
    "df=pd.DataFrame(ventas)\n",
    "print(df)\n",
    "\n",
    "print(\"************************************************************************\")\n",
    "\n",
    "ventas_clientes=df.groupby(\"Clientes\")[\"Total ventas\"].sum()\n",
    "print(ventas_clientes)\n",
    "ventas_metodos=df.groupby(\"Metodo de pago\")[\"Total ventas\"].sum()\n",
    "print(ventas_metodos)\n",
    "\n",
    "print(\"******************************************************************************\")\n",
    "maximo=df[\"Total ventas\"].max()\n",
    "minimo=df[\"Total ventas\"].min()\n",
    "\n",
    "print(maximo)\n",
    "print(minimo)\n",
    "print(\"Segun los datos obtenido en las tablas de datos podemos observar que el dia sabado se vendieron un total de 80 cachapas obteniendo un total de dolares  160 de ganancia\")\n",
    "ventas_clientes.plot(kind=\"bar\", color=\"yellow\")\n",
    "\n",
    "\n",
    "print(\"¿Que tipo de cliente genero mas ingreso\")\n",
    "print(\"Respuesta: Como se observa en el grafico hubo una mayor cantidad de compras de cachapas en tipo de cliente local en comparacion con los cliente turista\")\n",
    "print(\"fue mucho mas rentable las ventas por efectivo que por tranferenca, ya que segun los datos obtenido se obtubo un monto de 434 dolares por ventas en efectico contra solamente 94 dolares por transferencia\")"
   ]
  },
  {
   "cell_type": "code",
   "execution_count": 69,
   "id": "b941212b",
   "metadata": {},
   "outputs": [
    {
     "name": "stdout",
     "output_type": "stream",
     "text": [
      "        dias  Cachapas vendidas Clientes Metodo de pago  Precio unitario  \\\n",
      "0      Lunes                 40  Turista       Efectivo                2   \n",
      "1     Martes                 25    Local       Efectivo                2   \n",
      "2  Miercoles                 30  Turista       Efectivo                2   \n",
      "3     Jueves                 47    Local  Transferencia                2   \n",
      "4    Viernes                 42    Local       Efectivo                2   \n",
      "5     Sabado                 80    Local       Efectivo                2   \n",
      "\n",
      "   Total ventas  Total_Venta  \n",
      "0            80           80  \n",
      "1            50           50  \n",
      "2            60           60  \n",
      "3            94           94  \n",
      "4            84           84  \n",
      "5           160          160  \n"
     ]
    }
   ],
   "source": [
    "df[\"Total_Venta\"] = df[\"Cachapas vendidas\"] * df[\"Precio unitario\"]\n",
    "\n",
    "print(df)\n",
    "\n",
    "\n",
    "df[\"Cachapas vendidas\"] = pd.to_numeric(df[\"Cachapas vendidas\"], errors='coerce')\n",
    "df[\"Precio unitario\"] = pd.to_numeric(df[\"Precio unitario\"], errors='coerce')\n"
   ]
  },
  {
   "cell_type": "code",
   "execution_count": 3,
   "id": "4764a994",
   "metadata": {},
   "outputs": [
    {
     "name": "stdout",
     "output_type": "stream",
     "text": [
      "         Dia   Cachapas_Vendidas  Clientes  Metodo_De_Pagos   Precio_Unitario\n",
      "0      Lunes                  40   Turista         Efectivo                 2\n",
      "1     Martes                  25     Local         Efectivo                 2\n",
      "2  Miércoles                  30   Turista         Efectivo                 2\n",
      "3     Jueves                  47     Local    Transferencia                 2\n",
      "4    Viernes                  42     Local         Efectivo                 2\n",
      "5     Sabado                  80     Local         Efectivo                 2\n",
      "Dia                   object\n",
      " Cachapas_Vendidas     int64\n",
      " Clientes             object\n",
      " Metodo_De_Pagos      object\n",
      " Precio_Unitario       int64\n",
      "dtype: object\n"
     ]
    }
   ],
   "source": [
    "import pandas as pd\n",
    "df=pd.read_csv(\"ventas_cachapas.csv\")\n",
    "print(df)\n",
    "print(df.dtypes)"
   ]
  },
  {
   "cell_type": "code",
   "execution_count": 24,
   "id": "8caba186",
   "metadata": {},
   "outputs": [
    {
     "name": "stdout",
     "output_type": "stream",
     "text": [
      "     Dia   Cachapas_Vendidas   Clientes   Metodo_De_Pagos   Precio_Unitario\n",
      "0  False               False      False             False             False\n",
      "1  False               False      False             False             False\n",
      "2  False               False      False              True             False\n",
      "3  False               False      False             False             False\n",
      "4  False               False      False             False             False\n",
      "5  False               False      False             False             False\n",
      "6  False               False      False             False             False\n",
      "7  False               False      False             False              True\n",
      "Dia                   0\n",
      " Cachapas_Vendidas    0\n",
      " Clientes             0\n",
      " Metodo_De_Pagos      1\n",
      " Precio_Unitario      1\n",
      "dtype: int64\n",
      "Index(['Dia', ' Cachapas_Vendidas', ' Clientes', ' Metodo_De_Pagos',\n",
      "       ' Precio_Unitario'],\n",
      "      dtype='object')\n"
     ]
    }
   ],
   "source": [
    "import pandas as pd\n",
    "df=pd.read_csv(\"ventas_cachapas2.csv\")\n",
    "\n",
    "\n",
    "#Detencion de datos nulos\n",
    "print(df.isnull())\n",
    "print(df.isnull().sum())\n",
    "\n",
    "#Eliminar NaN\n",
    "df=df.dropna()\n",
    "\n",
    "#Verificacion de nombres\n",
    "print(df.columns)\n",
    "#agregacion manual de elementos\n",
    "#df[\" Precio_Unitario \"]=2.0\n",
    "#print(df)\n"
   ]
  },
  {
   "cell_type": "code",
   "execution_count": 29,
   "id": "54df87a0",
   "metadata": {},
   "outputs": [
    {
     "name": "stdout",
     "output_type": "stream",
     "text": [
      "      Dia Cachapas_Vendidas Clientes Metodo_De_Pagos  Precio_Unitario\n",
      "0   Lunes                    Turista        efectivo              2.0\n",
      "1  martes                25    Local          Ectivo              2.0\n",
      "3  Jueves                47    Local   Transferencia              2.0\n",
      "4   Viees                42    Local        Efectivo              2.0\n",
      "5  Sabado                80    Local        Efectivo              2.0\n",
      "6  Jueves                47    Local   Transferencia              2.0\n"
     ]
    }
   ],
   "source": [
    "#La columna existe pero tiene espacios ocultos\n",
    "df.columns=df.columns.str.strip()\n",
    "print(df)\n"
   ]
  }
 ],
 "metadata": {
  "kernelspec": {
   "display_name": "Python 3",
   "language": "python",
   "name": "python3"
  },
  "language_info": {
   "codemirror_mode": {
    "name": "ipython",
    "version": 3
   },
   "file_extension": ".py",
   "mimetype": "text/x-python",
   "name": "python",
   "nbconvert_exporter": "python",
   "pygments_lexer": "ipython3",
   "version": "3.13.5"
  }
 },
 "nbformat": 4,
 "nbformat_minor": 5
}
