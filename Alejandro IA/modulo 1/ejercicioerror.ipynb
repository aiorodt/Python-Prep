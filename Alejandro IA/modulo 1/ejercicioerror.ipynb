{
 "cells": [
  {
   "cell_type": "code",
   "execution_count": null,
   "id": "816c09bd",
   "metadata": {},
   "outputs": [
    {
     "name": "stdout",
     "output_type": "stream",
     "text": [
      "lo siento entrada invalidad...Ingrese un número entero\n",
      "lo siento entrada invalidad...Ingrese un número entero\n",
      "El numero ingresado es: 20\n"
     ]
    }
   ],
   "source": [
    "#Ejercicio 1: Conversión de Entrada Numérica Segura\n",
    "while True:\n",
    "    try:\n",
    "        numero=int(input(\"ingrese un numero entero\"))\n",
    "        \n",
    "    except ValueError:\n",
    "        print(f\"lo siento entrada invalidad...Ingrese un número entero\")\n",
    "        continue\n",
    "    else:\n",
    "        print(f\"Excelente el numero ingresado es: {numero}\")\n",
    "        break"
   ]
  },
  {
   "cell_type": "code",
   "execution_count": 1,
   "id": "db248afd",
   "metadata": {},
   "outputs": [
    {
     "name": "stdout",
     "output_type": "stream",
     "text": [
      "Error el denominador tiene que ser distinto de cero\n",
      "Error el denominador tiene que ser distinto de cero\n",
      "Division exitosa el resultado es 0.60\n"
     ]
    }
   ],
   "source": [
    "#Ejercicio 2: División Segura con Múltiples Errores\n",
    "while True:\n",
    "    try:\n",
    "        num1=int(input(\"ingrese numero entero para el numerador\"))\n",
    "        num2=int(input(\"ingrese numero entero para el denominador\"))\n",
    "        division=num1/num2\n",
    "    except ValueError:\n",
    "        print(\"entrada invalida Ingrese numero entero\")\n",
    "        continue\n",
    "    except ZeroDivisionError:\n",
    "        print(\"Error el denominador tiene que ser distinto de cero\")\n",
    "        continue\n",
    "    else:\n",
    "        print(f\"Division exitosa el resultado es {division:.2f}\")\n",
    "        break\n"
   ]
  },
  {
   "cell_type": "code",
   "execution_count": 6,
   "id": "3ec81660",
   "metadata": {},
   "outputs": [
    {
     "name": "stdout",
     "output_type": "stream",
     "text": [
      "Entrada invalida debe ingresar un numero entero\n",
      "acceso exitoso la fruta es pera\n"
     ]
    }
   ],
   "source": [
    "#Ejercicio 3: Acceso Seguro a Elementos de una Lista\n",
    "lista_fruta=[\"mango\",\"pera\",\"patilla\",\"melon\",\"cambur\"]\n",
    "while True:\n",
    "    try:\n",
    "        n=int(input(\"Ingrese un numero entero\"))\n",
    "    \n",
    "        lista_fruta[n]\n",
    "    except IndexError:\n",
    "        print(f\"Entrada invalida el rango de nuero entero es 0 a {len(lista_fruta)-1}\" )\n",
    "        continue\n",
    "    except ValueError:\n",
    "        print(\"Entrada invalida debe ingresar un numero entero\")\n",
    "        continue\n",
    "    else:\n",
    "        print(f\"acceso exitoso la fruta es {lista_fruta[n]}\")\n",
    "        break\n",
    "\n",
    "    \n",
    "    "
   ]
  },
  {
   "cell_type": "code",
   "execution_count": 6,
   "id": "2a8cd0a4",
   "metadata": {},
   "outputs": [
    {
     "name": "stdout",
     "output_type": "stream",
     "text": [
      "--- Gestión de Números Favoritos ---\n",
      " 1. Añadir un número \n",
      " 2. Eliminar un número \n",
      " 3. Ver mis números \n",
      " 4. Salir \n",
      " ------------------------------------ \n",
      "No se encontro el numero 155 por lo tanto no se pudo eliminar\n",
      "--- Gestión de Números Favoritos ---\n",
      " 1. Añadir un número \n",
      " 2. Eliminar un número \n",
      " 3. Ver mis números \n",
      " 4. Salir \n",
      " ------------------------------------ \n",
      "Numero 45 Añadido a la lista de Favorito \n",
      "--- Gestión de Números Favoritos ---\n",
      " 1. Añadir un número \n",
      " 2. Eliminar un número \n",
      " 3. Ver mis números \n",
      " 4. Salir \n",
      " ------------------------------------ \n",
      "No se encontro el numero 66 por lo tanto no se pudo eliminar\n",
      "--- Gestión de Números Favoritos ---\n",
      " 1. Añadir un número \n",
      " 2. Eliminar un número \n",
      " 3. Ver mis números \n",
      " 4. Salir \n",
      " ------------------------------------ \n",
      "Tus numero favoritos\n",
      "[45]\n",
      "--- Gestión de Números Favoritos ---\n",
      " 1. Añadir un número \n",
      " 2. Eliminar un número \n",
      " 3. Ver mis números \n",
      " 4. Salir \n",
      " ------------------------------------ \n",
      "Tus numero favoritos\n",
      "[45]\n",
      "--- Gestión de Números Favoritos ---\n",
      " 1. Añadir un número \n",
      " 2. Eliminar un número \n",
      " 3. Ver mis números \n",
      " 4. Salir \n",
      " ------------------------------------ \n",
      "Tus numero favoritos\n",
      "[45]\n",
      "--- Gestión de Números Favoritos ---\n",
      " 1. Añadir un número \n",
      " 2. Eliminar un número \n",
      " 3. Ver mis números \n",
      " 4. Salir \n",
      " ------------------------------------ \n",
      "Hasta Luego. Gracias\n"
     ]
    }
   ],
   "source": [
    "numero_favorito=[]\n",
    "#--- Gestión de Números Favoritos ---\n",
    "#1. Añadir un número\n",
    "#2. Eliminar un número\n",
    "#3. Ver mis números\n",
    "#4. Salir\n",
    "#------------------------------------\n",
    "while True:\n",
    "    print(\"--- Gestión de Números Favoritos ---\")\n",
    "    print(\" 1. Añadir un número \")\n",
    "    print(\" 2. Eliminar un número \")\n",
    "    print(\" 3. Ver mis números \")\n",
    "    print(\" 4. Salir \")\n",
    "    print(\" ------------------------------------ \")\n",
    "    \n",
    "    try:\n",
    "        opcion=int(input(\"Ingrese un numero entero segun la tarea que desea realizar del menu\"))\n",
    "    except ValueError:\n",
    "        print(\"Error. ingrese un numero entero entre 1 y 4\")\n",
    "        continue\n",
    "    if opcion < 0 or opcion > 4:\n",
    "        print(\"Opción inválida. Por favor, ingrese un número del 1 al 4\")\n",
    "        continue\n",
    "    elif opcion==1:\n",
    "        try:\n",
    "            n_añadir=int(input(\"Añada un numero entero favorito\"))\n",
    "        except ValueError:\n",
    "            print(\"ERROR, Ingrese unicamente numeros enteros\")\n",
    "            continue\n",
    "        else:\n",
    "            numero_favorito.append(n_añadir)\n",
    "            print(f\"Numero {n_añadir} Añadido a la lista de Favorito \")\n",
    "            \n",
    "    elif opcion==2:\n",
    "        try:\n",
    "            n_eliminar=int(input(\"Ingrese el numero favorito a eliminar\"))\n",
    "        except ValueError:\n",
    "            print(\"ERROR, Ingrese unicamente numeros enteros\")\n",
    "            continue\n",
    "        if  n_eliminar in numero_favorito:\n",
    "            print(f\"El numero {n_eliminar} esta en la lista\")\n",
    "            numero_favorito.remove(n_eliminar)\n",
    "            print(f\"El numero {n_eliminar} ha sido eliminado de Numeros favorito\")\n",
    "        else:\n",
    "            print (f\"No se encontro el numero {n_eliminar} por lo tanto no se pudo eliminar\")\n",
    "           \n",
    "    elif opcion==3:\n",
    "        if not numero_favorito:\n",
    "            print(\"Tu lista de números favoritos esta vacia\")\n",
    "        else:\n",
    "            print(\"Tus numero favoritos\")\n",
    "            print(numero_favorito)\n",
    "    else:\n",
    "        print(\"Hasta Luego. Gracias\")\n",
    "        break\n",
    "            \n",
    "            \n",
    "\n",
    "\n",
    "\n",
    "\n",
    "\n"
   ]
  }
 ],
 "metadata": {
  "kernelspec": {
   "display_name": "Python 3",
   "language": "python",
   "name": "python3"
  },
  "language_info": {
   "codemirror_mode": {
    "name": "ipython",
    "version": 3
   },
   "file_extension": ".py",
   "mimetype": "text/x-python",
   "name": "python",
   "nbconvert_exporter": "python",
   "pygments_lexer": "ipython3",
   "version": "3.13.5"
  }
 },
 "nbformat": 4,
 "nbformat_minor": 5
}
