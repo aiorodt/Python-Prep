{
 "cells": [
  {
   "cell_type": "code",
   "execution_count": null,
   "id": "23a87e76",
   "metadata": {},
   "outputs": [
    {
     "name": "stdout",
     "output_type": "stream",
     "text": [
      "ale@gmail.com\n",
      "cruce_don_bosco\n",
      "paola@twiteer.com\n",
      "412787899897\n",
      "{'twitter': 'paola@twiteer.com', 'likedin': 'paola_moronta', 'instagram': 'alejandro'}\n"
     ]
    }
   ],
   "source": [
    "#Ejercicio 1: Gestión de Información de Contacto (Diccionarios y Tuplas)\n",
    "contacto={\n",
    "\"nombre\":\"paola\",\n",
    "\"telefono\":4127377433,\n",
    "\"email\":\"ale@gmail.com\",\n",
    "\"direcciones\":(\"calle_ricaurte\",\"cruce_don_bosco\"),\n",
    "\"redes_sociales\":{\"twitter\": \"paola@twiteer.com\",\n",
    "                    \"likedin\":\"paola_moronta\"}}\n",
    "print(contacto[\"email\"])\n",
    "dir1,dir2 = contacto[\"direcciones\"]\n",
    "print(dir2)\n",
    "print(contacto[\"redes_sociales\"][\"twitter\"])\n",
    "contacto[\"telefono\"]=412787899897\n",
    "\n",
    "contacto[\"redes_sociales\"][\"instagram\"]=\"alejandro\"\n",
    "\n",
    "print(contacto)"
   ]
  },
  {
   "cell_type": "code",
   "execution_count": 9,
   "id": "5a17274f",
   "metadata": {},
   "outputs": [
    {
     "name": "stdout",
     "output_type": "stream",
     "text": [
      "---------Informacion de la peliculoa-----------\n",
      "Titulo: romeo_y_julieta\n",
      "Director: leonardo\n",
      "Año de lanzamiento:1998\n",
      "Genero: -- romance\n",
      "Genero: -- accion\n",
      "Duracion:150\n"
     ]
    }
   ],
   "source": [
    "#Ejercicio 2: Perfil de Película (Diccionarios y Tuplas\n",
    "pelicula={\n",
    "\"titulo\":\"romeo_y_julieta\",\n",
    "\"director\":\"leonardo\",\n",
    "\"año_lanzamiento\":1998,\n",
    "\"genero\":(\"romance\",\"accion\"),\n",
    "\"duracion_minuto\":150}\n",
    "print(\"---------Informacion de la peliculoa-----------\")\n",
    "print(f\"Titulo: {pelicula['titulo']}\")\n",
    "print(f\"Director: {pelicula[\"director\"]}\")\n",
    "print(f\"Año de lanzamiento:{pelicula['año_lanzamiento']}\")\n",
    "for gene in pelicula[\"genero\"]:\n",
    "    print(f\"Genero: -- {gene}\")\n",
    "print(f\"Duracion:{pelicula['duracion_minuto']}\")"
   ]
  },
  {
   "cell_type": "code",
   "execution_count": null,
   "id": "ec304008",
   "metadata": {},
   "outputs": [
    {
     "name": "stdout",
     "output_type": "stream",
     "text": [
      "------Bienvenido al sistema de gestion de inventario de Frutas--------\n",
      " 1. Muestra el Invetario\n",
      " 2. Añade una fruta nueva\n",
      " 3. Actualizar el stock \n",
      " 4. Inventario final\n",
      " 5. Salir del Sistema\n",
      "Selecciones una de las opciones que aparece en pantalla\n",
      "\n",
      "Añade una fruta\n",
      "{'mango': (1.2, 20), 'pera': (1.1, 30), 'melon': (6, 20), 'leo': (15.0, 20)}\n",
      "Selecciones una de las opciones que aparece en pantalla\n",
      "\n",
      "Inventario actual\n",
      "Mango precio: $ 1.20/kg stock 20 kg\n",
      "Pera precio: $ 1.10/kg stock 30 kg\n",
      "Melon precio: $ 6.00/kg stock 20 kg\n",
      "Leo precio: $ 15.00/kg stock 20 kg\n",
      "Selecciones una de las opciones que aparece en pantalla\n"
     ]
    }
   ],
   "source": [
    "#Ejercicio 3: Inventario de Frutas con Precios y Stock (Diccionarios y Tuplas)\n",
    "invetario_frutas={\n",
    "\"mango\":(1.2,20),\n",
    "\"pera\":(1.1,30),\n",
    "\"melon\":(6,20)}\n",
    "print(\"------Bienvenido al sistema de gestion de inventario de Frutas--------\")\n",
    "print(\" 1. Muestra el Invetario\")\n",
    "print(\" 2. Añade una fruta nueva\")\n",
    "print(\" 3. Actualizar el stock \")\n",
    "print(\" 4. Inventario final\")\n",
    "print(\" 5. Salir del Sistema\")\n",
    "\n",
    "while True:\n",
    "    try:\n",
    "        print(\"Selecciones una de las opciones que aparece en pantalla\")\n",
    "        opcion=int(input(\"Ingrese una de las opciones que parece en el sistema de gestion\"))\n",
    "    except ValueError:\n",
    "        print(\" Error ingrese unicamente numeros enteros\")\n",
    "        continue\n",
    "    if opcion<1 or opcion>5:\n",
    "        print(\"Error ingrese unicamente valores del 1 al 5\")\n",
    "    elif opcion==1: #muestra el inventario\n",
    "        print(\"\\nInventario actual\")\n",
    "        for fruta, datos in invetario_frutas.items():\n",
    "            precio=datos[0]\n",
    "            stock=datos[1]\n",
    "            print(f\"{fruta.capitalize()} precio: $ {precio:.2f}/kg stock {stock} kg\")\n",
    "##capitalize() coloca primera letra en mayuscula\n",
    "    elif opcion==2:\n",
    "        print(\"\\nAñade una fruta\")\n",
    "        añadir_fruta=input(\"ingrese el nombre de la fruta\")\n",
    "        if añadir_fruta in invetario_frutas:\n",
    "            print(\"La fruta Existe en el sistema, Ingrese nueva fruta o eliga la opcion 3 actualizar stock\")\n",
    "        else:\n",
    "            try:\n",
    "                precio_fruta_añadida=float(input(\"Ingrese el precio de la fruta\"))\n",
    "            except ValueError:\n",
    "                print(\"Error, no debe usar texto. Ingrese unicamente digitos enteros o decimales\")\n",
    "                continue\n",
    "            try:\n",
    "                stock_fruta_añadida=int(input(\"Ingrese el stock de la fruta\"))\n",
    "            except ValueError:\n",
    "                print(\"Error, Ingrese unicamente digitos enteros\")\n",
    "                continue\n",
    "            invetario_frutas[añadir_fruta]=precio_fruta_añadida,stock_fruta_añadida\n",
    "            print(f\"La Fruta {añadir_fruta} se agrego correctamente en el inventario\")\n",
    "    elif opcion==3:\n",
    "    \n",
    "\n",
    "\n",
    "\n"
   ]
  },
  {
   "cell_type": "code",
   "execution_count": null,
   "id": "4a6e4ad5",
   "metadata": {},
   "outputs": [],
   "source": []
  }
 ],
 "metadata": {
  "kernelspec": {
   "display_name": "Python 3",
   "language": "python",
   "name": "python3"
  },
  "language_info": {
   "codemirror_mode": {
    "name": "ipython",
    "version": 3
   },
   "file_extension": ".py",
   "mimetype": "text/x-python",
   "name": "python",
   "nbconvert_exporter": "python",
   "pygments_lexer": "ipython3",
   "version": "3.13.5"
  }
 },
 "nbformat": 4,
 "nbformat_minor": 5
}
