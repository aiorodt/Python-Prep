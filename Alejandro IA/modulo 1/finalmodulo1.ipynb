{
 "cells": [
  {
   "cell_type": "code",
   "execution_count": null,
   "id": "23a87e76",
   "metadata": {},
   "outputs": [
    {
     "name": "stdout",
     "output_type": "stream",
     "text": [
      "ale@gmail.com\n",
      "cruce_don_bosco\n",
      "paola@twiteer.com\n",
      "412787899897\n",
      "{'twitter': 'paola@twiteer.com', 'likedin': 'paola_moronta', 'instagram': 'alejandro'}\n"
     ]
    }
   ],
   "source": [
    "#Ejercicio 1: Gestión de Información de Contacto (Diccionarios y Tuplas)\n",
    "contacto={\n",
    "\"nombre\":\"paola\",\n",
    "\"telefono\":4127377433,\n",
    "\"email\":\"ale@gmail.com\",\n",
    "\"direcciones\":(\"calle_ricaurte\",\"cruce_don_bosco\"),\n",
    "\"redes_sociales\":{\"twitter\": \"paola@twiteer.com\",\n",
    "                    \"likedin\":\"paola_moronta\"}}\n",
    "print(contacto[\"email\"])\n",
    "dir1,dir2 = contacto[\"direcciones\"]\n",
    "print(dir2)\n",
    "print(contacto[\"redes_sociales\"][\"twitter\"])\n",
    "contacto[\"telefono\"]=412787899897\n",
    "\n",
    "contacto[\"redes_sociales\"][\"instagram\"]=\"alejandro\"\n",
    "\n",
    "print(contacto)"
   ]
  },
  {
   "cell_type": "code",
   "execution_count": 9,
   "id": "5a17274f",
   "metadata": {},
   "outputs": [
    {
     "name": "stdout",
     "output_type": "stream",
     "text": [
      "---------Informacion de la peliculoa-----------\n",
      "Titulo: romeo_y_julieta\n",
      "Director: leonardo\n",
      "Año de lanzamiento:1998\n",
      "Genero: -- romance\n",
      "Genero: -- accion\n",
      "Duracion:150\n"
     ]
    }
   ],
   "source": [
    "#Ejercicio 2: Perfil de Película (Diccionarios y Tuplas\n",
    "pelicula={\n",
    "\"titulo\":\"romeo_y_julieta\",\n",
    "\"director\":\"leonardo\",\n",
    "\"año_lanzamiento\":1998,\n",
    "\"genero\":(\"romance\",\"accion\"),\n",
    "\"duracion_minuto\":150}\n",
    "print(\"---------Informacion de la peliculoa-----------\")\n",
    "print(f\"Titulo: {pelicula['titulo']}\")\n",
    "print(f\"Director: {pelicula[\"director\"]}\")\n",
    "print(f\"Año de lanzamiento:{pelicula['año_lanzamiento']}\")\n",
    "for gene in pelicula[\"genero\"]:\n",
    "    print(f\"Genero: -- {gene}\")\n",
    "print(f\"Duracion:{pelicula['duracion_minuto']}\")"
   ]
  },
  {
   "cell_type": "code",
   "execution_count": null,
   "id": "ec304008",
   "metadata": {},
   "outputs": [
    {
     "name": "stdout",
     "output_type": "stream",
     "text": [
      "------Bienvenido al sistema de gestion de inventario de Frutas--------\n",
      " 1. Muestra el Invetario\n",
      " 2. Añade una fruta nueva\n",
      " 3. Actualizar el stock \n",
      " 4. Inventario final\n",
      " 5. Salir del Sistema\n",
      "Selecciones una de las opciones que aparece en pantalla\n",
      "\n",
      "Inventario Final\n",
      "Mango precio: $ 1.20/kg stock 20 kg\n",
      "Pera precio: $ 1.10/kg stock 30 kg\n",
      "Melon precio: $ 6.00/kg stock 20 kg\n",
      "Selecciones una de las opciones que aparece en pantalla\n",
      "\n",
      "Actualizar Stock\n",
      "La fruta Melon existe y su stock es 20 kg\n",
      "El stock de la fruta Melon actualizado es: 40 kg\n",
      "Selecciones una de las opciones que aparece en pantalla\n",
      "\n",
      "Inventario Final\n",
      "Mango precio: $ 1.20/kg stock 20 kg\n",
      "Pera precio: $ 1.10/kg stock 30 kg\n",
      "Melon precio: $ 6.00/kg stock 40 kg\n",
      "Selecciones una de las opciones que aparece en pantalla\n",
      "\n",
      "Añade una fruta\n",
      "La Fruta piña se agrego correctamente en el inventario\n",
      "Selecciones una de las opciones que aparece en pantalla\n",
      "\n",
      "Inventario Final\n",
      "Mango precio: $ 1.20/kg stock 20 kg\n",
      "Pera precio: $ 1.10/kg stock 30 kg\n",
      "Melon precio: $ 6.00/kg stock 40 kg\n",
      "Piña precio: $ 14.00/kg stock 30 kg\n",
      "Selecciones una de las opciones que aparece en pantalla\n",
      "GRACIAS POR SU VISITA HASTA PRONTO\n"
     ]
    }
   ],
   "source": [
    "#Ejercicio 3: Inventario de Frutas con Precios y Stock (Diccionarios y Tuplas)\n",
    "invetario_frutas={\n",
    "\"mango\":(1.2,20),\n",
    "\"pera\":(1.1,30),\n",
    "\"melon\":(6,20)}\n",
    "\n",
    "\n",
    "while True:\n",
    "    print(\"------Bienvenido al sistema de gestion de inventario de Frutas--------\")\n",
    "    print(\" 1. Muestra el Invetario\")\n",
    "    print(\" 2. Añade una fruta nueva\")\n",
    "    print(\" 3. Actualizar el stock \")\n",
    "    print(\" 4. Inventario final\")\n",
    "    print(\" 5. Salir del Sistema\")\n",
    "\n",
    "    try:\n",
    "        print(\"Selecciones una de las opciones que aparece en pantalla\")\n",
    "        opcion=int(input(\"Ingrese una de las opciones que parece en el sistema de gestion\"))\n",
    "    except ValueError:\n",
    "        print(\" Error ingrese unicamente numeros enteros\")\n",
    "        continue\n",
    "    if opcion<1 or opcion>5:\n",
    "        print(\"Error ingrese unicamente valores del 1 al 5\")\n",
    "    elif opcion==1: #muestra el inventario\n",
    "        print(\"\\nInventario actual\")\n",
    "        for fruta, datos in invetario_frutas.items():\n",
    "            precio=datos[0]\n",
    "            stock=datos[1]\n",
    "            print(f\"{fruta.capitalize()} precio: $ {precio:.2f}/kg stock {stock} kg\")\n",
    "##capitalize() coloca primera letra en mayuscula\n",
    "    elif opcion==2:\n",
    "        print(\"\\nAñade una fruta\")\n",
    "        añadir_fruta=input(\"ingrese el nombre de la fruta\").lower()\n",
    "        if añadir_fruta in invetario_frutas:\n",
    "            print(\"La fruta Existe en el sistema, Ingrese nueva fruta o eliga la opcion 3 actualizar stock\")\n",
    "        else:\n",
    "            try:\n",
    "                precio_fruta_añadida=float(input(\"Ingrese el precio de la fruta\"))\n",
    "                if precio_fruta_añadida<0:\n",
    "                    print(\"ERROR EL PRECIO NO PUEDE SER NEGATIVO .INGRESE UNICAMENTE VALORES POSITIVOS Y MAYORES QUE CERO\")\n",
    "                    continue\n",
    "            except ValueError:\n",
    "                print(\"Error, no debe usar texto. Ingrese unicamente digitos enteros o decimales\")\n",
    "                continue\n",
    "            try:\n",
    "                stock_fruta_añadida=int(input(\"Ingrese el stock de la fruta\"))\n",
    "                if stock_fruta_añadida<0:\n",
    "                    print(\"ERROR EL STOCK NO PUEDE SER NEGATIVO .INGRESE UNICAMENTE VALORES POSITIVOS Y MAYORES QUE CERO\")\n",
    "            except ValueError:\n",
    "                print(\"Error, Ingrese unicamente digitos enteros\")\n",
    "                continue\n",
    "            invetario_frutas[añadir_fruta]=precio_fruta_añadida,stock_fruta_añadida\n",
    "            print(f\"La Fruta {añadir_fruta} se agrego correctamente en el inventario\")\n",
    "    elif opcion==3:\n",
    "        print(\"\\nActualizar Stock\")\n",
    "        nombre_fruta_Actualizar=input(\"Indique la nombra de la fruta actualizar\").lower()\n",
    "\n",
    "        if not nombre_fruta_Actualizar in invetario_frutas:\n",
    "            print(f\"La fruta {nombre_fruta_Actualizar.capitalize()} no fue encontrada. Por favor, agregue la fruta usando la opción 2 del menú\")\n",
    "        else:\n",
    "            print (f\"La fruta {nombre_fruta_Actualizar.capitalize()} existe y su stock es {invetario_frutas[nombre_fruta_Actualizar][1]} kg\" )\n",
    "            try:\n",
    "                stock_nuevo=int(input(\"Ingrese la cantidad de stock a sumar o restar (+/-)\"))\n",
    "            except ValueError:\n",
    "                print(\"Error ingrese solo numeros enteros\")\n",
    "                continue\n",
    "            precio_actual,stock_actual=invetario_frutas[nombre_fruta_Actualizar]\n",
    "            total_stock=stock_actual+stock_nuevo\n",
    "            if total_stock<0:\n",
    "                print(\"ERROR STOCK INSUFICIENTE\")\n",
    "            else:\n",
    "                tupla_nueva_stock=(precio_actual,total_stock)\n",
    "                invetario_frutas[nombre_fruta_Actualizar]=tupla_nueva_stock\n",
    "                print(f\"El stock de la fruta {nombre_fruta_Actualizar.capitalize()} actualizado es: {total_stock} kg\")\n",
    "\n",
    "    elif opcion==4:\n",
    "        print(\"\\nInventario Final\")\n",
    "        for fruta1, datos1 in invetario_frutas.items():\n",
    "            precio1=datos1[0]\n",
    "            stock1=datos1[1]\n",
    "            print(f\"{fruta1.capitalize()} precio: $ {precio1:.2f}/kg stock {stock1} kg\")\n",
    "    elif opcion==5:\n",
    "        print(\"GRACIAS POR SU VISITA HASTA PRONTO\")\n",
    "        break\n",
    "\n",
    "\n",
    "\n"
   ]
  },
  {
   "cell_type": "code",
   "execution_count": 12,
   "id": "4a6e4ad5",
   "metadata": {},
   "outputs": [
    {
     "name": "stdout",
     "output_type": "stream",
     "text": [
      "30\n"
     ]
    }
   ],
   "source": [
    "#Ejercicio 4: Suma de Elementos Pares en una Lista (Listas y Bucles)\n",
    "numero=[1,2,3,4,5,6,7,8,9,10]\n",
    "suma_pares=0\n",
    "for n in numero:\n",
    "    if n%2==0:\n",
    "        suma_pares+=n\n",
    "print(suma_pares)"
   ]
  },
  {
   "cell_type": "code",
   "execution_count": null,
   "id": "9c56c62b",
   "metadata": {},
   "outputs": [
    {
     "name": "stdout",
     "output_type": "stream",
     "text": [
      "Error. Ingrese solo numeros enteros\n",
      "Pin Incorrecto. Intento restantes 2 \n",
      "Error. Ingrese solo numeros enteros\n",
      "Pin Incorrecto. Intento restantes 1 \n",
      "CUENTA BLOQUEADA. Demasiados intento\n"
     ]
    }
   ],
   "source": [
    "#Ejercicio 5: Validación de PIN con Intentos Limitados (Bucles y Condicionales\n",
    "pin_correcto=1986\n",
    "max_intento=3\n",
    "intento_restantes=max_intento\n",
    "\n",
    "while intento_restantes>0:\n",
    "    try:\n",
    "        pin=int(input(\"Ingrese Numero Pin\"))\n",
    "    except ValueError:\n",
    "        print(\"Error. Ingrese solo numeros enteros\")\n",
    "    if pin==pin_correcto:\n",
    "        print(\"PIN CORRECTO ACCESO PERMITIDO\")\n",
    "    else:\n",
    "        intento_restantes-=1\n",
    "        if intento_restantes>0:\n",
    "            print(f\"Pin Incorrecto. Intento restantes {intento_restantes} \")\n",
    "        else:\n",
    "            print(\"CUENTA BLOQUEADA. Demasiados intento\")\n",
    "\n",
    "    \n",
    "    "
   ]
  },
  {
   "cell_type": "code",
   "execution_count": 58,
   "id": "1247e2a0",
   "metadata": {},
   "outputs": [
    {
     "name": "stdout",
     "output_type": "stream",
     "text": [
      "[1, 2, 3, 4, 5, 69, 7, 8, 6, 12, 55]\n"
     ]
    }
   ],
   "source": [
    "#Ejercicio 6: Eliminación de Duplicados de una Lista (Listas y Conjuntos)\n",
    "lista_duplicada=[1,2,5,4,8,5,7,4,1,1,1,1,1,2,5,69,5,8,5,12,1,5,5,55,6,1,1,2,2,3,5,4]\n",
    "lista_unica=[]\n",
    "\n",
    "set1=set(lista_duplicada)\n",
    "lista_unica=list(set1)\n",
    "print(lista_unica)\n",
    "\n",
    "        "
   ]
  },
  {
   "cell_type": "code",
   "execution_count": 16,
   "id": "2abc02d9",
   "metadata": {},
   "outputs": [
    {
     "name": "stdout",
     "output_type": "stream",
     "text": [
      "hasta luego\n"
     ]
    }
   ],
   "source": [
    "#Ejercicio 7: Calculadora de Promedio de Notas (Bucles y Listas)\n",
    "lista_de_notas=[]\n",
    "suma_notas=0\n",
    "while True:\n",
    "    try:\n",
    "        nota=int(input(\"Ingrese Notas de 0 a 100\"))\n",
    "    except ValueError:\n",
    "        print(\"Debe ingresas solo numeros enteros\")\n",
    "        continue\n",
    "\n",
    "    if nota<-1 or nota>100:\n",
    "        print(f\"Error Ingrese valores de notas entre 0 y 100 \")\n",
    "        continue\n",
    "    elif not nota ==-1:\n",
    "        print(f\"La nota {nota} fue asignada a la lista de nota\")\n",
    "        lista_de_notas.append(nota)\n",
    "        suma_notas+=nota\n",
    "    elif nota==-1:\n",
    "        try:\n",
    "            print(f\"El promedio de nota {suma_notas/len(lista_de_notas):.2f}\")\n",
    "            break\n",
    "        except ZeroDivisionError:\n",
    "            print(\"hasta luego\")\n",
    "            break\n",
    "\n",
    "    "
   ]
  },
  {
   "cell_type": "code",
   "execution_count": null,
   "id": "94932d7c",
   "metadata": {},
   "outputs": [
    {
     "name": "stdout",
     "output_type": "stream",
     "text": [
      "Error debe ingresar unicamente digitos enteros\n",
      "Error debe ingresar unicamente digitos enteros\n",
      "Error debe ingresar unicamente digitos enteros\n",
      "Error unicamente debe ingresar numero del 0 al 100\n",
      "Error unicamente debe ingresar numero del 0 al 100\n",
      "Error unicamente debe ingresar numero del 0 al 100\n",
      "Tu numero es Demasiado bajo\n",
      "Tu numero es Demasiado bajo\n",
      "Tú numero es Demasiado alto\n",
      "Tú numero es Demasiado alto\n",
      "Tú numero es Demasiado alto\n",
      "Tú numero es Demasiado alto\n",
      "Tú numero es Demasiado alto\n",
      "Tú numero es Demasiado alto\n",
      "Tu numero es Demasiado bajo\n",
      "Tu numero es Demasiado bajo\n",
      "Tu numero es Demasiado bajo\n",
      "Tu numero es Demasiado bajo\n",
      "Felicidades Adivinaste el numero... Intentos realizados 19\n"
     ]
    }
   ],
   "source": [
    "#Ejercicio 8: Juego de Adivinar el Número (Módulos, Bucles y Condicionales\n",
    "import random \n",
    "numero_aletorio=random.randint(0,100)\n",
    "n_intentos=0\n",
    "while True:\n",
    "    n_intentos+=1\n",
    "    try:\n",
    "        numero_adivinado=int(input(\"Ingreso un numero de 0 al 100\"))\n",
    "    except ValueError:\n",
    "        print(\"Error debe ingresar unicamente digitos enteros\")\n",
    "        continue\n",
    "    if numero_adivinado<0 or numero_adivinado>100:\n",
    "        print(\"Error unicamente debe ingresar numero del 0 al 100\")\n",
    "    \n",
    "    elif numero_adivinado>numero_aletorio:\n",
    "        print(\"Tú numero es Demasiado alto\")\n",
    "        \n",
    "    elif numero_adivinado<numero_aletorio:\n",
    "        print(\"Tu numero es Demasiado bajo\")\n",
    "        \n",
    "    elif numero_adivinado==numero_aletorio:\n",
    "        suma_intento=n_intentos\n",
    "        print(f\"Felicidades Adivinaste el numero... Intentos realizados {suma_intento}\")\n",
    "        break\n",
    "        \n"
   ]
  },
  {
   "cell_type": "code",
   "execution_count": 60,
   "id": "c04387a5",
   "metadata": {},
   "outputs": [
    {
     "name": "stdout",
     "output_type": "stream",
     "text": [
      "------ Calculadora de Matriz Transpuesta ------\n",
      "Matriz Original:\n",
      "[1, 2, 3]\n",
      "[4, 5, 6]\n",
      "\n",
      "Matriz Transpuesta:\n",
      "[1, 4]\n",
      "[2, 5]\n",
      "[3, 6]\n"
     ]
    }
   ],
   "source": [
    "# Ejercicio 9: Matriz Transpuesta (Matrices/Listas Anidadas)\n",
    "\n",
    "# 1. Define una matriz de ejemplo (representada como una lista de listas).\n",
    "# Esta matriz tiene 2 filas y 3 columnas.\n",
    "matriz_original = [\n",
    "    [1, 2, 3],\n",
    "    [4, 5, 6]\n",
    "]\n",
    "\n",
    "print(\"------ Calculadora de Matriz Transpuesta ------\")\n",
    "print(\"Matriz Original:\")\n",
    "for fila in matriz_original:\n",
    "    print(fila)\n",
    "\n",
    "# 2. Determinar las dimensiones de la matriz original.\n",
    "# 'filas_original' será el número de filas (longitud de la lista principal).\n",
    "# 'columnas_original' será el número de columnas (longitud de la primera fila).\n",
    "filas_original = len(matriz_original)\n",
    "columnas_original = len(matriz_original[0]) # Asume que la matriz no está vacía y es rectangular\n",
    "\n",
    "# 3. Inicializa una lista vacía para almacenar la matriz transpuesta.\n",
    "matriz_transpuesta = []\n",
    "\n",
    "# 4. Construye la matriz transpuesta.\n",
    "# La transpuesta tendrá 'columnas_original' filas y 'filas_original' columnas.\n",
    "# Recorremos la matriz original \"por columnas\" para construir las filas de la transpuesta.\n",
    "for j in range(columnas_original): # 'j' ahora representa los índices de las columnas de la original\n",
    "    # Para cada columna de la original, creamos una nueva fila para la transpuesta.\n",
    "    nueva_fila_transpuesta = []\n",
    "    \n",
    "    # Recorremos todas las filas de la matriz original para tomar el elemento en la columna 'j'.\n",
    "    for i in range(filas_original): # 'i' ahora representa los índices de las filas de la original\n",
    "        # El elemento en [i][j] de la original se convierte en el elemento en [j][i] de la transpuesta.\n",
    "        nueva_fila_transpuesta.append(matriz_original[i][j])\n",
    "    \n",
    "    # Añade la fila recién construida a la matriz transpuesta.\n",
    "    matriz_transpuesta.append(nueva_fila_transpuesta)\n",
    "\n",
    "# 5. Imprime la matriz transpuesta.\n",
    "print(\"\\nMatriz Transpuesta:\")\n",
    "for fila in matriz_transpuesta:\n",
    "    print(fila)\n",
    "     \n",
    "        \n",
    "       \n",
    "        \n",
    "     \n",
    "        \n",
    "    \n"
   ]
  },
  {
   "cell_type": "code",
   "execution_count": 77,
   "id": "82c53a5e",
   "metadata": {},
   "outputs": [
    {
     "name": "stdout",
     "output_type": "stream",
     "text": [
      "['bogado', 'moronta', 'jose', 'alejandro']\n",
      "bogado moronta jose alejandro\n"
     ]
    }
   ],
   "source": [
    "#Ejercicio 10: Invertir Palabras en una Frase (Cadenas y Listas)\n",
    "frase_ingresada=input(\"Ingrese una frase\").lower()\n",
    "frase_lista=frase_ingresada.split() #divide las frases en lista\n",
    "frase_lista.reverse() #lista invertidad resultado none \n",
    "print(frase_lista)\n",
    "\n",
    "varibale_invertida=\" \".join(frase_lista)#pasa de lista a cadena de texto\n",
    "print(varibale_invertida)\n",
    "\n"
   ]
  }
 ],
 "metadata": {
  "kernelspec": {
   "display_name": "Python 3",
   "language": "python",
   "name": "python3"
  },
  "language_info": {
   "codemirror_mode": {
    "name": "ipython",
    "version": 3
   },
   "file_extension": ".py",
   "mimetype": "text/x-python",
   "name": "python",
   "nbconvert_exporter": "python",
   "pygments_lexer": "ipython3",
   "version": "3.13.5"
  }
 },
 "nbformat": 4,
 "nbformat_minor": 5
}
