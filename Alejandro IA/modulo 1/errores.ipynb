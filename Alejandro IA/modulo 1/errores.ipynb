{
 "cells": [
  {
   "cell_type": "code",
   "execution_count": null,
   "id": "8f012abe",
   "metadata": {},
   "outputs": [
    {
     "name": "stdout",
     "output_type": "stream",
     "text": [
      "el numero ingresado es 0\n",
      "¡Error! No se puede dividir por cero.\n"
     ]
    }
   ],
   "source": [
    "#manejo de errores try except\n",
    "# Intento de convertir una entrada a número\n",
    "try:\n",
    "    numero=int(input(\"ingrese numero\"))\n",
    "    print(f\"el numero ingresado es {numero}\")\n",
    "except ValueError:\n",
    "    print(\"¡Error! Eso no es un número entero válido. Por favor, intente de nuevo.\")\n",
    "    print(\"El programa continúa después del intento de conversión.\")\n",
    "\n",
    "#3. Capturar Múltiples Excepcione\n",
    "try:\n",
    "    num1=int(input(\"ingrese numero\"))\n",
    "    num2=int(input(\"ingrese numero\"))\n",
    "    l=num1/num2\n",
    "    print(f\"la division es {l}\")\n",
    "except ValueError:\n",
    "    print(\"¡Error! Eso no es un número entero válido. Por favor, intente de nuevo.\")\n",
    "except ZeroDivisionError:\n",
    "    print(\"¡Error! No se puede dividir por cero.\")\n",
    "except Exception as e: # Captura cualquier otro tipo de excepción no especificada\n",
    "# 'e' es una variable que contiene el objeto de la excepción,\n",
    "# lo que permite acceder al mensaje de error original.\n",
    "    print(f\"Ocurrió un error inesperado: {e}\")\n",
    "       "
   ]
  },
  {
   "cell_type": "code",
   "execution_count": 11,
   "id": "d9b9e113",
   "metadata": {},
   "outputs": [
    {
     "name": "stdout",
     "output_type": "stream",
     "text": [
      "entrada invalida\n"
     ]
    }
   ],
   "source": [
    "#Bloques Opcionales: else y finally\n",
    "#a El Bloque else\n",
    "try:\n",
    "    n=int(input(\"ingrese un numeoro\"))\n",
    "except ValueError:\n",
    "    print(\"entrada invalida\")\n",
    "else:\n",
    "    print(f\"El número ingresado correctamente es: {n}\")\n",
    "    print(\"¡No hubo errores en la entrada!\")"
   ]
  },
  {
   "cell_type": "code",
   "execution_count": 12,
   "id": "c7ea41ce",
   "metadata": {},
   "outputs": [
    {
     "name": "stdout",
     "output_type": "stream",
     "text": [
      "El archivo no fue encontrado.\n",
      "Archivo cerrado.\n",
      "Operación de archivo finalizada.\n"
     ]
    }
   ],
   "source": [
    "# El Bloque finally\n",
    "archivo = None # Inicializamos la variable fuera del try\n",
    "try:\n",
    "    archivo = open(\"mi_archivo.txt\", \"r\") # Intenta abrir un archivo (podría dar\n",
    "    #FileNotFoundError)\n",
    "    contenido = archivo.read()\n",
    "    print(f\"Contenido del archivo: {contenido}\")\n",
    "except FileNotFoundError:\n",
    "    print(\"El archivo no fue encontrado.\")\n",
    "finally:\n",
    "# Este bloque SIEMPRE se ejecuta.\n",
    "# Aseguramos que el archivo se cierre si se llegó a abrir.\n",
    "    if archivo: # Verificamos si 'archivo' no es None (es decir, si se abrió)\n",
    "        archivo.close()\n",
    "    print(\"Archivo cerrado.\")\n",
    "    print(\"Operación de archivo finalizada.\")"
   ]
  }
 ],
 "metadata": {
  "kernelspec": {
   "display_name": "Python 3",
   "language": "python",
   "name": "python3"
  },
  "language_info": {
   "codemirror_mode": {
    "name": "ipython",
    "version": 3
   },
   "file_extension": ".py",
   "mimetype": "text/x-python",
   "name": "python",
   "nbconvert_exporter": "python",
   "pygments_lexer": "ipython3",
   "version": "3.13.5"
  }
 },
 "nbformat": 4,
 "nbformat_minor": 5
}
