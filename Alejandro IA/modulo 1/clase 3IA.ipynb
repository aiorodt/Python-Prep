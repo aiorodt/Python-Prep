{
 "cells": [
  {
   "cell_type": "code",
   "execution_count": 2,
   "id": "954d467c",
   "metadata": {},
   "outputs": [
    {
     "name": "stdout",
     "output_type": "stream",
     "text": [
      "mi tupla es ('lunes', 'martes', 'miercoles', 'jueves', 'viernes') y el tipo de datos <class 'tuple'>\n",
      "('17-08 cumple alejandro', '28-03 cumple mi esposa')\n",
      "viernes\n",
      "('martes', 'miercoles')\n",
      "{'edad': 30, 'nombre': 'alejandro', 'ciudad': 'caracas', 'activo': False}\n",
      "30\n",
      "None\n",
      "la personas existe\n",
      "{'edad': 50, 'nombre': 'alejandro', 'activo': False, 'profesion': 'ingeniero'}\n",
      "{'edad': 50, 'nombre': 'alejandro', 'activo': False, 'profesion': 'ingeniero'}\n"
     ]
    }
   ],
   "source": [
    "# Tumplas son inmutables\n",
    "#como se crean (\"a\",2) usar parentesis y comas\n",
    "mi_tupla=(\"lunes\",\"martes\",\"miercoles\",\"jueves\",\"viernes\")\n",
    "print(f\"mi tupla es {mi_tupla} y el tipo de datos {type(mi_tupla)}\")\n",
    "\n",
    "#cumpleaños important\n",
    "cupleaños=(\"17-08 cumple alejandro\",\"28-03 cumple mi esposa\")\n",
    "print(cupleaños)\n",
    "#Acesso a la tupla\n",
    "print(mi_tupla[-1])\n",
    "print(mi_tupla[1:3])\n",
    "############\n",
    "##Diccionario Los diccionarios son colecciones no ordenadas de pares clave: valor\n",
    "##Cada clave es única dentro de un diccionario y sirve como un identificador para\n",
    "#acceder a su valor asociado. se crean con { } { }\n",
    "persona={\"edad\":30,\"nombre\":\"alejandro\",\"ciudad\":\"caracas\",\"activo\":False}\n",
    "print(persona)\n",
    "precios_de_fruta={\"manzana\":2,\"pera\":1,\"limon\":1.5}\n",
    "configuración_juegos={\"dificulta\":\"alta\",\"sonido\":\"activado\",\"puntuacion maxima\":1000}\n",
    "\n",
    "#acesso al dicionario\n",
    "#puedo usa [] o get()\n",
    "#Para verificar si una clave existe en un diccionario, puedes usar el operador\n",
    "# in: if 'nombre' in persona: print('La clave nombre existe') \n",
    "\n",
    "print(persona[\"edad\"])\n",
    "print(precios_de_fruta.get(\"luna\"))\n",
    "if \"nombre\" in persona:\n",
    "    print(\"la personas existe\")\n",
    "\n",
    "##Modificacion de diccionario ya que son mutables\n",
    "persona[\"profesion\"]=\"ingeniero\" #agrego valor y clave\n",
    "\n",
    "persona[\"edad\"]=50   #si el edad valor existe actualiza la clave\n",
    "\n",
    "del persona[\"ciudad\"]   #elimina valor y clave\n",
    "print(persona)\n",
    "\n",
    "#Metodos utiles \n",
    "# keys() Devuelve una vista de todas las claves del diccionario.\n",
    "#values()Devuelve una vista de todos los valores del diccionario.\n",
    "#items(): Devuelve una vista de todos los pares (clave, valor) como tuplas\n",
    "#update() Para fusionar un diccionario con otro, añadiendo o actualizando pares.\n",
    "print(persona)\n"
   ]
  },
  {
   "cell_type": "code",
   "execution_count": null,
   "id": "dd485dc7",
   "metadata": {},
   "outputs": [],
   "source": []
  },
  {
   "cell_type": "code",
   "execution_count": 1,
   "id": "163b0b25",
   "metadata": {},
   "outputs": [
    {
     "name": "stdout",
     "output_type": "stream",
     "text": [
      "--- Inventario de Productos Inicial ---\n",
      "\n",
      "ID: 101\n",
      "  Nombre: Laptop Pro\n",
      "  Categoría: Electrónica\n",
      "  Precio: $1200.00\n",
      "  Stock: 15 unidades\n",
      "  Dimensiones (Largo x Ancho x Alto): 35x25x2 cm\n",
      "  Especificaciones: Intel i7, 16GB RAM, 512GB SSD\n",
      "\n",
      "ID: 102\n",
      "  Nombre: Teclado Mecánico\n",
      "  Categoría: Periféricos\n",
      "  Precio: $85.50\n",
      "  Stock: 50 unidades\n",
      "  Dimensiones (Largo x Ancho x Alto): 45x15x3 cm\n",
      "  Especificaciones: RGB, Switches Azules\n",
      "\n",
      "ID: 103\n",
      "  Nombre: Monitor Curvo 27'\n",
      "  Categoría: Electrónica\n",
      "  Precio: $350.00\n",
      "  Stock: 10 unidades\n",
      "  Dimensiones (Largo x Ancho x Alto): 60x40x5 cm\n",
      "  Especificaciones: 144Hz, QHD\n",
      "\n",
      "--- Añadiendo un Nuevo Producto ---\n",
      "Producto con ID 104 añadido: Ratón Ergonómico\n",
      "\n",
      "--- Actualizando Stock de Laptop Pro ---\n",
      "Stock de 'Laptop Pro' actualizado a: 10\n",
      "\n",
      "--- Eliminando Teclado Mecánico ---\n",
      "Producto 'Teclado Mecánico' (ID: 102) eliminado del inventario.\n",
      "\n",
      "--- Inventario Final ---\n",
      "\n",
      "ID: 101\n",
      "  Nombre: Laptop Pro\n",
      "  Categoría: Electrónica\n",
      "  Precio: $1200.00\n",
      "  Stock: 10 unidades\n",
      "  Dimensiones: (35, 25, 2)\n",
      "  Especificaciones: Intel i7, 16GB RAM, 512GB SSD\n",
      "\n",
      "ID: 103\n",
      "  Nombre: Monitor Curvo 27'\n",
      "  Categoría: Electrónica\n",
      "  Precio: $350.00\n",
      "  Stock: 10 unidades\n",
      "  Dimensiones: (60, 40, 5)\n",
      "  Especificaciones: 144Hz, QHD\n",
      "\n",
      "ID: 104\n",
      "  Nombre: Ratón Ergonómico\n",
      "  Categoría: Periféricos\n",
      "  Precio: $45.00\n",
      "  Stock: 30 unidades\n",
      "  Dimensiones: (12, 8, 4)\n",
      "  Especificaciones: Inalámbrico, DPI Ajustable\n"
     ]
    }
   ],
   "source": [
    "# Ejemplo: Gestión de Productos con Diccionarios y Tuplas\n",
    "\n",
    "# Este programa demuestra cómo usar diccionarios para almacenar información estructurada\n",
    "# y tuplas para representar datos inmutables dentro de esos diccionarios.\n",
    "\n",
    "# 1. Definición de un diccionario para el inventario de productos.\n",
    "# La clave será el ID del producto (un número), y el valor será otro diccionario\n",
    "# que contendrá los detalles del producto.\n",
    "# Usaremos tuplas para los atributos que no deberían cambiar, como las dimensiones.\n",
    "inventario_productos = {\n",
    "    101: {\n",
    "        \"nombre\": \"Laptop Pro\",\n",
    "        \"categoria\": \"Electrónica\",\n",
    "        \"precio\": 1200.00,\n",
    "        \"stock\": 15,\n",
    "        \"dimensiones\": (35, 25, 2), # Tupla: (largo, ancho, alto) en cm\n",
    "        \"especificaciones_clave\": (\"Intel i7\", \"16GB RAM\", \"512GB SSD\") # Tupla de especificaciones\n",
    "    },\n",
    "    102: {\n",
    "        \"nombre\": \"Teclado Mecánico\",\n",
    "        \"categoria\": \"Periféricos\",\n",
    "        \"precio\": 85.50,\n",
    "        \"stock\": 50,\n",
    "        \"dimensiones\": (45, 15, 3),\n",
    "        \"especificaciones_clave\": (\"RGB\", \"Switches Azules\")\n",
    "    },\n",
    "    103: {\n",
    "        \"nombre\": \"Monitor Curvo 27'\",\n",
    "        \"categoria\": \"Electrónica\",\n",
    "        \"precio\": 350.00,\n",
    "        \"stock\": 10,\n",
    "        \"dimensiones\": (60, 40, 5),\n",
    "        \"especificaciones_clave\": (\"144Hz\", \"QHD\")\n",
    "    }\n",
    "}\n",
    "\n",
    "print(\"--- Inventario de Productos Inicial ---\")\n",
    "# Iterar sobre los ítems del diccionario para mostrar la información.\n",
    "# .items() devuelve pares (clave, valor). Aquí, clave es 'id_producto' y valor es 'detalles'.\n",
    "for id_producto, detalles in inventario_productos.items():\n",
    "    print(f\"\\nID: {id_producto}\")\n",
    "    \n",
    "    print(f\"  Nombre: {detalles['nombre']}\")\n",
    "    print(f\"  Categoría: {detalles['categoria']}\")\n",
    "    print(f\"  Precio: ${detalles['precio']:.2f}\") # Formato a 2 decimales\n",
    "    print(f\"  Stock: {detalles['stock']} unidades\")\n",
    "    # Accediendo a los elementos de la tupla 'dimensiones'\n",
    "    print(f\"  Dimensiones (Largo x Ancho x Alto): {detalles['dimensiones'][0]}x{detalles['dimensiones'][1]}x{detalles['dimensiones'][2]} cm\")\n",
    "    print(f\"  Especificaciones: {', '.join(detalles['especificaciones_clave'])}\") # Unir elementos de la tupla en una cadena\n",
    "\n",
    "# 2. Añadir un nuevo producto al inventario.\n",
    "print(\"\\n--- Añadiendo un Nuevo Producto ---\")\n",
    "nuevo_id = 104\n",
    "inventario_productos[nuevo_id] = {\n",
    "    \"nombre\": \"Ratón Ergonómico\",\n",
    "    \"categoria\": \"Periféricos\",\n",
    "    \"precio\": 45.00,\n",
    "    \"stock\": 30,\n",
    "    \"dimensiones\": (12, 8, 4),\n",
    "    \"especificaciones_clave\": (\"Inalámbrico\", \"DPI Ajustable\")\n",
    "}\n",
    "print(f\"Producto con ID {nuevo_id} añadido: {inventario_productos[nuevo_id]['nombre']}\")\n",
    "\n",
    "# 3. Acceder y modificar información de un producto existente.\n",
    "print(\"\\n--- Actualizando Stock de Laptop Pro ---\")\n",
    "id_a_actualizar = 101\n",
    "if id_a_actualizar in inventario_productos:\n",
    "    # Modificar el stock (un valor mutable dentro del diccionario del producto)\n",
    "    inventario_productos[id_a_actualizar][\"stock\"] -= 5\n",
    "    print(f\"Stock de '{inventario_productos[id_a_actualizar]['nombre']}' actualizado a: {inventario_productos[id_a_actualizar]['stock']}\")\n",
    "else:\n",
    "    print(f\"Producto con ID {id_a_actualizar} no encontrado.\")\n",
    "\n",
    "# Intentar modificar una tupla (esto causaría un error, ya que las tuplas son inmutables)\n",
    "# Si intentaras hacer esto:\n",
    "# inventario_productos[101][\"dimensiones\"][0] = 40\n",
    "# Obtendrías un TypeError: 'tuple' object does not support item assignment\n",
    "\n",
    "# 4. Eliminar un producto del inventario.\n",
    "print(\"\\n--- Eliminando Teclado Mecánico ---\")\n",
    "id_a_eliminar = 102\n",
    "if id_a_eliminar in inventario_productos:\n",
    "    nombre_eliminado = inventario_productos[id_a_eliminar][\"nombre\"]\n",
    "    del inventario_productos[id_a_eliminar]\n",
    "    print(f\"Producto '{nombre_eliminado}' (ID: {id_a_eliminar}) eliminado del inventario.\")\n",
    "else:\n",
    "    print(f\"Producto con ID {id_a_eliminar} no encontrado.\")\n",
    "\n",
    "# 5. Volver a mostrar el inventario actualizado para verificar los cambios.\n",
    "print(\"\\n--- Inventario Final ---\")\n",
    "if not inventario_productos:\n",
    "    print(\"El inventario está vacío.\")\n",
    "else:\n",
    "    for id_producto, detalles in inventario_productos.items():\n",
    "        print(f\"\\nID: {id_producto}\")\n",
    "        print(f\"  Nombre: {detalles['nombre']}\")\n",
    "        print(f\"  Categoría: {detalles['categoria']}\")\n",
    "        print(f\"  Precio: ${detalles['precio']:.2f}\")\n",
    "        print(f\"  Stock: {detalles['stock']} unidades\")\n",
    "        print(f\"  Dimensiones: {detalles['dimensiones']}\")\n",
    "        print(f\"  Especificaciones: {', '.join(detalles['especificaciones_clave'])}\")"
   ]
  },
  {
   "cell_type": "code",
   "execution_count": null,
   "id": "8c91769f",
   "metadata": {},
   "outputs": [
    {
     "name": "stdout",
     "output_type": "stream",
     "text": [
      "{1, 2, 3, 4, 5}\n",
      "{'d', 'm', 'i', 'n', 'g', 'o'}\n",
      "{1, 3, 4, 5, 6}\n",
      "Union {1, 2, 3, 4, 5, 6, 7, 8, 9}\n",
      "inteseccion {4, 5}\n",
      "diferencia (set1-set2): {8, 9, 6, 7}\n",
      "¿set1 es conjunto de set2 False\n"
     ]
    }
   ],
   "source": [
    "#conjuntos o (set)\n",
    "#creacion de conjuntos\n",
    "mi_conjunto={1,2,1,1,1,2,3,4,5,3,3,3,3,3,3,3}\n",
    "ale=set(\"domingo\")\n",
    "print(mi_conjunto)\n",
    "print(ale)\n",
    "\n",
    "#modificacion de conjuntos \n",
    "mi_conjunto.add(6) #añade\n",
    "mi_conjunto.remove(2) # elimina\n",
    "print(mi_conjunto)\n",
    "\n",
    "# Operaciones matematica de la teoria de conjunto\n",
    "#union interseccion diferencia etc\n",
    "\n",
    "set1={1,2,3,4,5}\n",
    "set2={4,5,6,7,8,9}\n",
    "print(f\"Union {set1.union(set2)}\") #union de conjunto\n",
    "\n",
    "print(f\"inteseccion {set1.intersection(set2)}\") #interseccion elemento comunes\n",
    "\n",
    "print(f\"diferencia (set1-set2): {set2.difference(set1)}\") #muestra la difencia de un conjunto con respecto a otro\n",
    "\n",
    "print(f\"¿set1 es conjunto de set2 {set1.issubset(set2)}\") #pregunta si el conjunto 1 es un sub conjunto 2\n",
    "\n",
    "\n",
    "\n"
   ]
  },
  {
   "cell_type": "code",
   "execution_count": 31,
   "id": "f5474a23",
   "metadata": {},
   "outputs": [
    {
     "name": "stdout",
     "output_type": "stream",
     "text": [
      "hola leo\n",
      "leo\n",
      "la suma es 7\n",
      "luis,30 años, de la ciudad de desconocida\n",
      "mare,15 años, de la ciudad de turmero\n"
     ]
    }
   ],
   "source": [
    "#Funcion\n",
    "\n",
    "def saludar(nombre): # la funcion es saludar el parametro es nombre\n",
    "    print(f\"hola {nombre}\")\n",
    "    return f\"{nombre}\"\n",
    "print(saludar(\"leo\"))\n",
    "\n",
    "#funcion suma\n",
    "def suma(a,b): # a y b son parametros\n",
    "    resultado=a+b \n",
    "    return resultado # la funcion devuelve el valor resultado\n",
    "\n",
    "#ejemplo\n",
    "\n",
    "suma_total= suma(2,5)\n",
    "print(f\"la suma es {suma_total}\")\n",
    "\n",
    "#2ejemplo\n",
    "def obtener_inf_personal(nombre,edad,ciudad=\"desconocida\"):\n",
    "    return f\"{nombre},{edad} años, de la ciudad de {ciudad}\"\n",
    "print(obtener_inf_personal(\"luis\",30))\n",
    "print(obtener_inf_personal(\"mare\",15,\"turmero\"))\n"
   ]
  },
  {
   "cell_type": "code",
   "execution_count": null,
   "id": "4c02ac0d",
   "metadata": {},
   "outputs": [
    {
     "name": "stdout",
     "output_type": "stream",
     "text": [
      "0.4\n",
      "<class 'list'>\n",
      "[('letras', 1), ('pizarra', 2), ('yerno', 3)]\n",
      "los numero pares son [1, 3, 5, 7, 9, 11, 13]\n"
     ]
    }
   ],
   "source": [
    "#funcion lambda\n",
    "\n",
    "multiplicar=lambda x,y,t: x*y/t\n",
    "print(multiplicar(1,2,5))\n",
    "\n",
    "# ejmplo sorted y lambda \n",
    "list_item=[(\"pizarra\",2),(\"letras\",1),(\"yerno\",3)] #ordena lista con tuplas\n",
    "print(type(list_item))\n",
    "\n",
    "lista_ordenada=sorted(list_item, key=lambda item:item[1]) #funcion key llave con sorted\n",
    "print(lista_ordenada)\n",
    "\n",
    "# Ejemplo con filter() y lambda para filtrar números pares\n",
    "numero=[1,2,3,4,5,6,7,8,9,10,11,12,13]\n",
    "pares=list(filter(lambda x:x%2==0,numero))\n",
    "print(f\"los numero pares son {pares}\")"
   ]
  },
  {
   "cell_type": "code",
   "execution_count": 4,
   "id": "1c719e31",
   "metadata": {},
   "outputs": [
    {
     "name": "stdout",
     "output_type": "stream",
     "text": [
      "\n",
      "Informacion del libro\n",
      "\n",
      "Titulo: MECANICA\n",
      "Autor: Alejandro\n",
      "Año de publicacion: 2025\n",
      "Genero: Ciencia Naturalez\n"
     ]
    }
   ],
   "source": [
    "#modulo o paquetes\n",
    "#Ejercicio 1: Gestión de Información de un Libro (Tuplas)\n",
    "\n",
    "# libro=(\"titulo\",\"autor\",\"año de publicacion\",\"genero\")\n",
    "libro=(\"MECANICA\",\"Alejandro\",\"2025\",\"Ciencia Naturalez\")\n",
    "print(f\"\\nInformacion del libro\")\n",
    "print(f\"\\nTitulo:\", libro[0])\n",
    "print(f\"Autor:\", libro[1])\n",
    "print(f\"Año de publicacion:\", libro[2])\n",
    "print(f\"Genero:\", libro[3])"
   ]
  },
  {
   "cell_type": "code",
   "execution_count": 51,
   "id": "d06dc8a5",
   "metadata": {},
   "outputs": [
    {
     "name": "stdout",
     "output_type": "stream",
     "text": [
      " Nombre de la materia:Metodologia nota 20 puntos\n",
      " Nombre de la materia:Ingles nota 19 puntos\n",
      " Nombre de la materia:Física nota 15 puntos\n",
      " Nombre de la materia:Historia nota 20 puntos\n",
      " Nombre de la materia:Mecanica nota 10 puntos\n",
      " Nombre de la materia:Electronina nota 14 puntos\n",
      " Nombre de la materia:Psicologia nota 15 puntos\n",
      "promedio de nota del estudiantes es: 16.14 puntos\n"
     ]
    }
   ],
   "source": [
    "#Ejercicio 2: Registro de Calificaciones de Estudiantes 8diccionario)[]\n",
    "\n",
    "estudiante_calificación={\n",
    "    \"Metodologia\":20,\n",
    "    \"Ingles\":19,\n",
    "    \"Física\":15,\n",
    "    \"Historia\":20,\n",
    "    \"Mecanica\":10,\n",
    "    \"Electronina\":14,\n",
    "    \"Psicologia\":15}\n",
    "numero_de_materias=len(estudiante_calificación)\n",
    "suma_notas=sum(estudiante_calificación.values())\n",
    "for materias,notas in estudiante_calificación.items():\n",
    "    print(f\" Nombre de la materia:{materias} nota {notas} puntos\")\n",
    "print(f\"promedio de nota del estudiantes es: {suma_notas/numero_de_materias:.2f} puntos\")\n",
    "  \n"
   ]
  },
  {
   "cell_type": "code",
   "execution_count": null,
   "id": "619150dc",
   "metadata": {},
   "outputs": [
    {
     "name": "stdout",
     "output_type": "stream",
     "text": [
      "lista de numero duplicados [1, 2, 4, 7, 1, 4, 7, 5, 9, 9, 7, 5, 1, 5, 15, 1, 5, 15, 4, 5, 1, 1, 5, 4, 9, 3, 36, 5]\n",
      "lista sin duplicado [1, 2, 3, 4, 5, 36, 7, 9, 15]\n"
     ]
    }
   ],
   "source": [
    "#Ejercicio 3: Eliminación de Duplicados (Conjuntos)\n",
    "numero_con_duplicados=[1,2,4,7,1,4,7,5,9,9,7,5,1,5,15,1,5,15,4,5,1,1,5,4,9,3,36,5]\n",
    "conjunto=set(numero_con_duplicados)\n",
    "print(f\"lista de numero duplicados {numero_con_duplicados}\")\n",
    "print(f\"lista sin duplicado {list(conjunto)}\") #list tranformja conjunto en lista\n"
   ]
  },
  {
   "cell_type": "code",
   "execution_count": 74,
   "id": "d73727e8",
   "metadata": {},
   "outputs": [
    {
     "name": "stdout",
     "output_type": "stream",
     "text": [
      "['manzana', 'pera', 'piña', 'cereza', 'limon']\n",
      "['uva', 'manon', 'lechoza', 'piña', 'patilla', 'manzana']\n",
      "las frutas comunes son ['manzana', 'piña']\n"
     ]
    }
   ],
   "source": [
    "#Ejercicio 4: Elementos Comunes entre Listas (Conjuntos)\n",
    "lista_A=[\"manzana\",\"pera\",\"piña\",\"cereza\",\"limon\"]\n",
    "lista_B=[\"uva\",\"manon\",\"lechoza\",\"piña\",\"patilla\",\"manzana\"]\n",
    "\n",
    "lista_AC= set(lista_A)\n",
    "lista_BC= set(lista_B)\n",
    "frutas_comunes=list(lista_AC.intersection(lista_BC))\n",
    "print (lista_A)\n",
    "print(lista_B)\n",
    "print(f\"las frutas comunes son {frutas_comunes}\")\n",
    "\n"
   ]
  },
  {
   "cell_type": "code",
   "execution_count": null,
   "id": "95f6b738",
   "metadata": {},
   "outputs": [
    {
     "name": "stdout",
     "output_type": "stream",
     "text": [
      " el area del circulo dee es 10.0 es 314.16\n"
     ]
    }
   ],
   "source": [
    "#Ejercicio 5: Función para Calcular el Área de un Círculo (Funciones)\n",
    "import math\n",
    "def calculo_area(radio):\n",
    "    area_circulo=math.pi*radio**2\n",
    "    return area_circulo\n",
    "radio=float(input(\"ingrese el radio de la circuferencia\"))\n",
    "print(f\" el area del circulo de es {radio} es { calculo_area(radio):.2f}\")"
   ]
  },
  {
   "cell_type": "code",
   "execution_count": 105,
   "id": "bc045d57",
   "metadata": {},
   "outputs": [
    {
     "name": "stdout",
     "output_type": "stream",
     "text": [
      "frase original 3321\n",
      "frase invetidad 1233\n"
     ]
    }
   ],
   "source": [
    "#Ejercicio 6: Función para Invertir una Cadena (Funciones)\n",
    "def frase_ingresada(palabra):\n",
    "    frase_invertida=palabra[::-1]\n",
    "    return frase_invertida\n",
    "try:\n",
    "    palabra=input(\"ingrese palabra\")\n",
    "    print(f\"frase original {palabra}\")\n",
    "    print(f\"frase invetidad {frase_ingresada(palabra)}\")\n",
    "except Exception as e: # Captura cualquier error general que pueda ocurrir\n",
    "    print(f\"Ocurrió un error: {e}. Por favor, inténtelo de nuevo.\")"
   ]
  },
  {
   "cell_type": "code",
   "execution_count": null,
   "id": "1c3458e5",
   "metadata": {},
   "outputs": [
    {
     "name": "stdout",
     "output_type": "stream",
     "text": [
      "3.4641016151377544\n",
      "153.93804002589985\n"
     ]
    }
   ],
   "source": [
    "#Ejercicio 1: Uso Básico del Módulo math\n",
    "import math\n",
    "\n",
    "numero_i=int(input(\"ingrese un numero\"))\n",
    "raiz_cuadrada=math.sqrt(numero_i)\n",
    "print(raiz_cuadrada)\n",
    "\n",
    "area_circulo=math.pi*(7**2)\n",
    "print(f\"{area_circulo:.2f}\")"
   ]
  },
  {
   "cell_type": "code",
   "execution_count": 171,
   "id": "4b2fcd6e",
   "metadata": {},
   "outputs": [
    {
     "name": "stdout",
     "output_type": "stream",
     "text": [
      "23\n",
      "luna\n"
     ]
    }
   ],
   "source": [
    "#Ejercicio 2: Uso Básico del Módulo random\n",
    "import random\n",
    "\n",
    "\n",
    "#random.randint(1, 10) usan siempre randint\n",
    "\n",
    "numero_aletorio=random.randint(0,101)\n",
    "print(numero_aletorio)\n",
    "\n",
    "lista_pelicula=[\"mario\",\"dragon ball\",\"bella\",\"america\",\"luna\"]\n",
    "azar_peli=random.choice(lista_pelicula)\n",
    "print(azar_peli)"
   ]
  }
 ],
 "metadata": {
  "kernelspec": {
   "display_name": "Python 3",
   "language": "python",
   "name": "python3"
  },
  "language_info": {
   "codemirror_mode": {
    "name": "ipython",
    "version": 3
   },
   "file_extension": ".py",
   "mimetype": "text/x-python",
   "name": "python",
   "nbconvert_exporter": "python",
   "pygments_lexer": "ipython3",
   "version": "3.13.5"
  }
 },
 "nbformat": 4,
 "nbformat_minor": 5
}
