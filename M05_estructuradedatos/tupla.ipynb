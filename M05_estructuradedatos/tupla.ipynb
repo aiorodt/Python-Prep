{
 "cells": [
  {
   "cell_type": "code",
   "execution_count": 2,
   "id": "96af776f",
   "metadata": {},
   "outputs": [
    {
     "name": "stdout",
     "output_type": "stream",
     "text": [
      "(1, 2, 3, 4, 5, 6),<class 'tuple'>\n"
     ]
    }
   ],
   "source": [
    "mi_tupla=(1,2,3,4,5,6)\n",
    "print(f\"{mi_tupla},{type(mi_tupla)}\")"
   ]
  },
  {
   "cell_type": "code",
   "execution_count": 4,
   "id": "16cfab56",
   "metadata": {},
   "outputs": [
    {
     "name": "stdout",
     "output_type": "stream",
     "text": [
      "marte\n"
     ]
    }
   ],
   "source": [
    "mi_dia=(\"lunes\",\"marte\",\"miercoles\",\"jueves\",\"viernes\")\n",
    "print(mi_dia[1])"
   ]
  },
  {
   "cell_type": "code",
   "execution_count": 5,
   "id": "9ce8c25c",
   "metadata": {},
   "outputs": [
    {
     "data": {
      "text/plain": [
       "True"
      ]
     },
     "execution_count": 5,
     "metadata": {},
     "output_type": "execute_result"
    }
   ],
   "source": [
    "\"viernes\" in mi_dia"
   ]
  },
  {
   "cell_type": "code",
   "execution_count": 7,
   "id": "a98819ed",
   "metadata": {},
   "outputs": [
    {
     "data": {
      "text/plain": [
       "1"
      ]
     },
     "execution_count": 7,
     "metadata": {},
     "output_type": "execute_result"
    }
   ],
   "source": [
    "mi_dia.count(\"marte\")"
   ]
  },
  {
   "cell_type": "code",
   "execution_count": 27,
   "id": "4d99e109",
   "metadata": {},
   "outputs": [
    {
     "name": "stdout",
     "output_type": "stream",
     "text": [
      "tipe alejandro <class 'tuple'> y mare<class 'str'>\n"
     ]
    }
   ],
   "source": [
    "#tupla vs cadena\n",
    "tuplas=(\"alejandro\",)\n",
    "cadena=(\"mare\")\n",
    "print(f\"tipe alejandro {type(tupla)} y mare{type(cadena)}\")\n",
    "\n",
    "\n",
    "\n"
   ]
  },
  {
   "cell_type": "code",
   "execution_count": 10,
   "id": "4dce4771",
   "metadata": {},
   "outputs": [
    {
     "data": {
      "text/plain": [
       "('marte', 'miercoles', 'jueves')"
      ]
     },
     "execution_count": 10,
     "metadata": {},
     "output_type": "execute_result"
    }
   ],
   "source": [
    "mi_dia[1:4]"
   ]
  },
  {
   "cell_type": "code",
   "execution_count": 13,
   "id": "5d6fe5c3",
   "metadata": {},
   "outputs": [
    {
     "name": "stdout",
     "output_type": "stream",
     "text": [
      "(10, 20, 'alejandro')\n",
      "<class 'tuple'>\n"
     ]
    }
   ],
   "source": [
    "#Empaquetado de tupla\n",
    "x=10\n",
    "y=20\n",
    "z=\"alejandro\"\n",
    "\n",
    "mi_tupla=x,y,z\n",
    "print(mi_tupla)\n",
    "print(type(mi_tupla))"
   ]
  },
  {
   "cell_type": "code",
   "execution_count": 14,
   "id": "4726622c",
   "metadata": {},
   "outputs": [
    {
     "name": "stdout",
     "output_type": "stream",
     "text": [
      "17\n",
      "agosto\n",
      "1986\n"
     ]
    }
   ],
   "source": [
    "#desempaquetado de tupla al modificar un elemento n\n",
    "\n",
    "date=(17,\"agosto\",1986)#tupla\n",
    "uno,dos,tres=date #desacoplo tupla segun el orde\n",
    "print(uno)\n",
    "print(dos)\n",
    "print(tres)"
   ]
  },
  {
   "cell_type": "code",
   "execution_count": 15,
   "id": "d764b3a0",
   "metadata": {},
   "outputs": [
    {
     "name": "stdout",
     "output_type": "stream",
     "text": [
      "1\n",
      "4\n"
     ]
    }
   ],
   "source": [
    "tu_numero=(1,2,3,4,5,6,7,8,9)\n",
    "primero=tu_numero[0]\n",
    "cuarto=tu_numero[3]\n",
    "print(primero)\n",
    "print(cuarto)"
   ]
  },
  {
   "cell_type": "code",
   "execution_count": 22,
   "id": "27e39e93",
   "metadata": {},
   "outputs": [
    {
     "data": {
      "text/plain": [
       "(',', ',', ',cuarto,quinto=tu_numero')"
      ]
     },
     "execution_count": 22,
     "metadata": {},
     "output_type": "execute_result"
    }
   ],
   "source": [
    "#desenpaqueta con guion bajo\n",
    ", , , ,cuarto,quinto=tu_numero\n"
   ]
  },
  {
   "cell_type": "code",
   "execution_count": 25,
   "id": "19c9ad24",
   "metadata": {},
   "outputs": [
    {
     "name": "stdout",
     "output_type": "stream",
     "text": [
      "[1, 2, 3, 4, 5, 6, 7, 8, 9]\n",
      "<class 'list'>\n"
     ]
    }
   ],
   "source": [
    "lista_numero=list(tu_numero)\n",
    "print(lista_numero)\n",
    "print(type(lista_numero))"
   ]
  },
  {
   "cell_type": "code",
   "execution_count": 29,
   "id": "f6f3939d",
   "metadata": {},
   "outputs": [
    {
     "name": "stdout",
     "output_type": "stream",
     "text": [
      "<class 'tuple'> (1, 2, 3, 4, 5, 6, 7, 8, 9)\n"
     ]
    }
   ],
   "source": [
    "tuplee=tuple(lista_numero)\n",
    "print(type(tuplee),tuplee)"
   ]
  },
  {
   "cell_type": "code",
   "execution_count": 32,
   "id": "0b91eb97",
   "metadata": {},
   "outputs": [
    {
     "name": "stdout",
     "output_type": "stream",
     "text": [
      "{} <class 'dict'>\n"
     ]
    }
   ],
   "source": [
    "#Dicionario tiene clave y apunta a un valor\n",
    "#par clave valor y elemento\n",
    "#funcion Dict\n",
    "\n",
    "primer_dicionario=dict()\n",
    "print(primer_dicionario,type(primer_dicionario))\n"
   ]
  },
  {
   "cell_type": "code",
   "execution_count": 36,
   "id": "d24c3dea",
   "metadata": {},
   "outputs": [
    {
     "name": "stdout",
     "output_type": "stream",
     "text": [
      "{'primero': 'uno', 'segundo': 'dos', 'mare': 40}\n",
      "{'primero': 'uno', 'segundo': 'dos', 'mare': 40}\n"
     ]
    }
   ],
   "source": [
    "#asigancion de valores\n",
    "primer_dicionario[\"primero\"]=\"uno\"\n",
    "print(primer_dicionario)\n",
    "primer_dicionario[\"segundo\"]=\"dos\"\n",
    "primer_dicionario[\"mare\"]=40\n",
    "\n",
    "print(primer_dicionario)"
   ]
  },
  {
   "cell_type": "code",
   "execution_count": 37,
   "id": "709459b7",
   "metadata": {},
   "outputs": [
    {
     "name": "stdout",
     "output_type": "stream",
     "text": [
      "{'perro': 'grandanez', 'gato': 'matador', 'tigre': 'chamaco'}\n"
     ]
    }
   ],
   "source": [
    "segundo_diccionario={\n",
    "    \"perro\": \"grandanez\",\n",
    "    \"gato\":\"matador\",\n",
    "    \"tigre\":\"chamaco\"\n",
    "}\n",
    "print(segundo_diccionario)"
   ]
  },
  {
   "cell_type": "code",
   "execution_count": 38,
   "id": "ab1d36a6",
   "metadata": {},
   "outputs": [
    {
     "data": {
      "text/plain": [
       "'grandanez'"
      ]
     },
     "execution_count": 38,
     "metadata": {},
     "output_type": "execute_result"
    }
   ],
   "source": [
    "#buscar en el diccionario valor por clave\n",
    "segundo_diccionario[\"perro\"]"
   ]
  },
  {
   "cell_type": "code",
   "execution_count": 40,
   "id": "bc4e7ea7",
   "metadata": {},
   "outputs": [
    {
     "name": "stdout",
     "output_type": "stream",
     "text": [
      "{'color_primario': ['amarillo', 'azul', 'rojo'], 'colores_secunadrio': ['naranja', 'violeta', 'rasado'], 'clave': 10, 'clave4': False}\n"
     ]
    }
   ],
   "source": [
    "mi_diccionario={\n",
    "    \"color_primario\":[\"amarillo\",\"azul\",\"rojo\"],\n",
    "    \"colores_secunadrio\":[\"naranja\",\"violeta\",\"rasado\"],\n",
    "    \"clave\":10,\n",
    "    \"clave4\":False\n",
    "}\n",
    "print(mi_diccionario)"
   ]
  },
  {
   "cell_type": "code",
   "execution_count": 41,
   "id": "39b67be9",
   "metadata": {},
   "outputs": [
    {
     "name": "stdout",
     "output_type": "stream",
     "text": [
      "{'color_primario': ['amarillo', 'azul', 'rojo'], 'colores_secunadrio': ['naranja', 'violeta', 'rasado'], 'clave': 10}\n"
     ]
    }
   ],
   "source": [
    "#eliminar elemento\n",
    "del mi_diccionario[\"clave4\"]\n",
    "print(mi_diccionario)"
   ]
  },
  {
   "cell_type": "code",
   "execution_count": 43,
   "id": "c724cfd1",
   "metadata": {},
   "outputs": [
    {
     "name": "stdout",
     "output_type": "stream",
     "text": [
      "{'argentina': 'buenos_aires', 'peru': 'lima', 'venezuela': 'caracas'}\n"
     ]
    }
   ],
   "source": [
    "#tupla como clave de un diccionario\n",
    "mi_tupla=(\"argentina\",\"peru\",\"venezuela\")\n",
    "mi_diceonario2={\n",
    "    mi_tupla[0]:\"buenos_aires\",\n",
    "    mi_tupla[1]:\"lima\",\n",
    "    mi_tupla[2]:\"caracas\"\n",
    "}\n",
    "print(mi_diceonario2)"
   ]
  },
  {
   "cell_type": "code",
   "execution_count": 45,
   "id": "f1bbe49d",
   "metadata": {},
   "outputs": [
    {
     "name": "stdout",
     "output_type": "stream",
     "text": [
      "{'clave': (1, 2, 3, 4, 5, 6, 7)}\n"
     ]
    }
   ],
   "source": [
    "#tupla dento de diccionario\n",
    "diceonarios={\n",
    " \"clave\":\"valor\",\n",
    " \"clave\":(1,2,3,4,5,6,7)\n",
    "\n",
    "}\n",
    "print(diceonarios)"
   ]
  },
  {
   "cell_type": "code",
   "execution_count": 47,
   "id": "c6561660",
   "metadata": {},
   "outputs": [
    {
     "name": "stdout",
     "output_type": "stream",
     "text": [
      "{'lista de fruta': ['mago', 'pera', 'tomate']}\n"
     ]
    }
   ],
   "source": [
    "#lista en diccionario\n",
    "dicionario={\n",
    "\"lista de fruta\":[\"mago\",\"pera\",\"tomate\"]\n",
    "\n",
    "}\n",
    "print(dicionario)"
   ]
  },
  {
   "cell_type": "code",
   "execution_count": 49,
   "id": "29968e2a",
   "metadata": {},
   "outputs": [
    {
     "name": "stdout",
     "output_type": "stream",
     "text": [
      "{'valor': 20, 'otro': {'dicionario': [11, 2, 3, 4, 5, 6]}}\n"
     ]
    }
   ],
   "source": [
    "#dicionario dentro de otro\n",
    "dic1={\n",
    "\"valor\":20,\n",
    "\"otro\":{\"dicionario\":[11,2,3,4,5,6]}\n",
    "\n",
    "\n",
    "}\n",
    "print(dic1)"
   ]
  },
  {
   "cell_type": "code",
   "execution_count": 50,
   "id": "b0a3ab47",
   "metadata": {},
   "outputs": [
    {
     "data": {
      "text/plain": [
       "dict_keys(['color_primario', 'colores_secunadrio', 'clave'])"
      ]
     },
     "execution_count": 50,
     "metadata": {},
     "output_type": "execute_result"
    }
   ],
   "source": [
    "mi_diccionario.keys()"
   ]
  },
  {
   "cell_type": "code",
   "execution_count": 51,
   "id": "913d1f48",
   "metadata": {},
   "outputs": [
    {
     "data": {
      "text/plain": [
       "dict_values([['amarillo', 'azul', 'rojo'], ['naranja', 'violeta', 'rasado'], 10])"
      ]
     },
     "execution_count": 51,
     "metadata": {},
     "output_type": "execute_result"
    }
   ],
   "source": [
    "mi_diccionario.values()"
   ]
  },
  {
   "cell_type": "code",
   "execution_count": 52,
   "id": "49f7b133",
   "metadata": {},
   "outputs": [
    {
     "data": {
      "text/plain": [
       "3"
      ]
     },
     "execution_count": 52,
     "metadata": {},
     "output_type": "execute_result"
    }
   ],
   "source": [
    "len(mi_diccionario)"
   ]
  }
 ],
 "metadata": {
  "kernelspec": {
   "display_name": "Python 3",
   "language": "python",
   "name": "python3"
  },
  "language_info": {
   "codemirror_mode": {
    "name": "ipython",
    "version": 3
   },
   "file_extension": ".py",
   "mimetype": "text/x-python",
   "name": "python",
   "nbconvert_exporter": "python",
   "pygments_lexer": "ipython3",
   "version": "3.13.5"
  }
 },
 "nbformat": 4,
 "nbformat_minor": 5
}
