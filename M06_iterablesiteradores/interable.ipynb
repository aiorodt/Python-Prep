{
 "cells": [
  {
   "cell_type": "code",
   "execution_count": 5,
   "id": "94f8ceb9",
   "metadata": {},
   "outputs": [
    {
     "name": "stdout",
     "output_type": "stream",
     "text": [
      "1\n",
      "2\n",
      "3\n",
      "4\n"
     ]
    }
   ],
   "source": [
    "lista=[1,2,3,4]\n",
    "i=0\n",
    "while i<len(lista):\n",
    "    elemento=lista[i]\n",
    "    print(elemento)\n",
    "    i+=1"
   ]
  },
  {
   "cell_type": "code",
   "execution_count": 7,
   "id": "589bc0c9",
   "metadata": {},
   "outputs": [
    {
     "name": "stdout",
     "output_type": "stream",
     "text": [
      "1\n",
      "2\n",
      "3\n",
      "4\n"
     ]
    }
   ],
   "source": [
    "lista=[1,2,3,4]\n",
    "for i in lista:\n",
    "    print(i)"
   ]
  },
  {
   "cell_type": "code",
   "execution_count": 8,
   "id": "21d6c33f",
   "metadata": {},
   "outputs": [
    {
     "name": "stdout",
     "output_type": "stream",
     "text": [
      "h\n",
      "e\n",
      "n\n",
      "r\n",
      "y\n"
     ]
    }
   ],
   "source": [
    "cadena=\"henry\"\n",
    "for n in cadena:\n",
    "    print(n)"
   ]
  },
  {
   "cell_type": "code",
   "execution_count": null,
   "id": "f68c9909",
   "metadata": {},
   "outputs": [
    {
     "name": "stdout",
     "output_type": "stream",
     "text": [
      "(0, 'h')\n",
      "(1, 'e')\n",
      "(2, 'n')\n",
      "(3, 'r')\n",
      "(4, 'y')\n"
     ]
    }
   ],
   "source": [
    "cadena=\"henry\"\n",
    "for n in enumerate(cadena):\n",
    "    print(n)  #Inprime una tupla con indice y elemento de la tupla"
   ]
  },
  {
   "cell_type": "code",
   "execution_count": 10,
   "id": "39310b99",
   "metadata": {},
   "outputs": [],
   "source": [
    "#para saber si iterable o no\n",
    "#consultar documento de pyhton \n",
    "#ver si hereda iterable metodo insintein \n",
    "from collections.abc import Iterable\n",
    "cadena=\"Henry\"\n",
    "numero=9"
   ]
  },
  {
   "cell_type": "code",
   "execution_count": 12,
   "id": "5eee6d75",
   "metadata": {},
   "outputs": [
    {
     "data": {
      "text/plain": [
       "False"
      ]
     },
     "execution_count": 12,
     "metadata": {},
     "output_type": "execute_result"
    }
   ],
   "source": [
    "isinstance(cadena,Iterable)\n",
    "isinstance(numero,Iterable)"
   ]
  },
  {
   "cell_type": "code",
   "execution_count": 13,
   "id": "c559b447",
   "metadata": {},
   "outputs": [
    {
     "name": "stdout",
     "output_type": "stream",
     "text": [
      "['m', 'a', 'r', 'i', 'a']\n"
     ]
    }
   ],
   "source": [
    "# convierte una cadena str a lista clase iterable \n",
    "print(list(\"maria\"))"
   ]
  },
  {
   "cell_type": "code",
   "execution_count": 31,
   "metadata": {},
   "outputs": [
    {
     "name": "stdout",
     "output_type": "stream",
     "text": [
      "14\n"
     ]
    }
   ],
   "source": [
    "# sum es una funcion iterable, que suma los elementos de la lisa\n",
    "print(sum([2,5,2,5]))\n"
   ]
  },
  {
   "cell_type": "code",
   "execution_count": null,
   "id": "fb54b457",
   "metadata": {},
   "outputs": [
    {
     "name": "stdout",
     "output_type": "stream",
     "text": [
      "f-+e-+o\n"
     ]
    }
   ],
   "source": [
    "#join es un elemento que transfroma las cosas es cadena str\n",
    "#sistaxi print(\"-\".join(\"feo\"))\n",
    "print(\"-\".join(\"feo\"))"
   ]
  },
  {
   "cell_type": "code",
   "execution_count": 29,
   "id": "e8b17b39",
   "metadata": {},
   "outputs": [
    {
     "name": "stdout",
     "output_type": "stream",
     "text": [
      "a = 1\n",
      "b = 2\n",
      "c = 3\n",
      "True\n"
     ]
    }
   ],
   "source": [
    "my_dic={\n",
    "    \"a\":1,\n",
    "    \"b\":2,\n",
    "    \"c\":3\n",
    "}\n",
    "for i,y in my_dic.items():\n",
    "    print(i,\"=\",y)\n",
    "print(isinstance(my_dic,Iterable))#saber si es iterable"
   ]
  }
 ],
 "metadata": {
  "kernelspec": {
   "display_name": "Python 3",
   "language": "python",
   "name": "python3"
  },
  "language_info": {
   "codemirror_mode": {
    "name": "ipython",
    "version": 3
   },
   "file_extension": ".py",
   "mimetype": "text/x-python",
   "name": "python",
   "nbconvert_exporter": "python",
   "pygments_lexer": "ipython3",
   "version": "3.13.5"
  }
 },
 "nbformat": 4,
 "nbformat_minor": 5
}
